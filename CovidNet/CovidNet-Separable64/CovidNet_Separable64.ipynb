{
  "metadata": {
    "accelerator": "GPU",
    "colab": {
      "provenance": []
    },
    "gpuClass": "standard",
    "kernelspec": {
      "display_name": "Python 3",
      "language": "python",
      "name": "python3"
    },
    "language_info": {
      "codemirror_mode": {
        "name": "ipython",
        "version": 3
      },
      "file_extension": ".py",
      "mimetype": "text/x-python",
      "name": "python",
      "nbconvert_exporter": "python",
      "pygments_lexer": "ipython3",
      "version": "3.7.12"
    }
  },
  "nbformat_minor": 0,
  "nbformat": 4,
  "cells": [
    {
      "cell_type": "code",
      "source": [
        "import pandas as pd\n",
        "import numpy as np\n",
        "import tensorflow as tf\n",
        "import matplotlib.pyplot as plt\n",
        "import matplotlib.image as mpimg\n",
        "import seaborn as sns\n",
        "import pathlib\n",
        "import random\n",
        "import os\n",
        "import h5py\n",
        "\n",
        "import tensorflow.keras as keras\n",
        "from tensorflow.keras.preprocessing import image_dataset_from_directory\n",
        "from tensorflow.keras.layers.experimental import preprocessing\n",
        "from tensorflow.keras.applications.vgg16 import VGG16\n",
        "from tensorflow.keras.applications.resnet50 import ResNet50\n",
        "from tensorflow.keras.applications.resnet import ResNet101\n",
        "from tensorflow.keras.applications.efficientnet import EfficientNetB0\n",
        "from tensorflow.keras.applications.densenet import DenseNet121\n",
        "from tensorflow.keras.optimizers import Adam\n",
        "from sklearn.metrics import accuracy_score, precision_score, recall_score, f1_score, cohen_kappa_score, roc_auc_score, confusion_matrix\n",
        "from sklearn.metrics import classification_report\n",
        "from keras.layers import Dense, Dropout, Activation, Flatten, BatchNormalization, Conv2D, MaxPool2D, MaxPooling2D, DepthwiseConv2D, SeparableConv2D, Input\n",
        "from tensorflow.keras.callbacks import ReduceLROnPlateau, ModelCheckpoint, EarlyStopping\n",
        "from tensorflow.keras import Model\n",
        "from tensorflow.keras.layers import Dense, GlobalAveragePooling2D\n",
        "from tensorflow.keras import datasets, layers, models\n",
        "\n",
        "#Suppressing Warnings\n",
        "os.environ['TF_CPP_MIN_LOG_LEVEL'] = '3'\n",
        "\n",
        "tf.keras.backend.clear_session()\n",
        "\n",
        "# pre-processing\n",
        "train_path = '../input/covid19-image-dataset/Covid19-dataset/train'\n",
        "test_path = '../input/covid19-image-dataset/Covid19-dataset/test'\n",
        "\n",
        "img_size = 224\n",
        "batch = 16\n",
        "\n",
        "# Image loader\n",
        "from tensorflow.keras.preprocessing.image import ImageDataGenerator\n",
        "\n",
        "def generate_data(DIR):\n",
        "    datagen = ImageDataGenerator(rescale=1./255.)\n",
        "    \n",
        "    generator = datagen.flow_from_directory(\n",
        "        DIR,\n",
        "        batch_size=batch,\n",
        "        shuffle=True,\n",
        "        seed=42,\n",
        "        class_mode='categorical',\n",
        "        target_size=(img_size, img_size),\n",
        "        classes={'Normal': 0, 'Viral Pneumonia': 1,'Covid': 2}\n",
        "    )\n",
        "    return generator\n",
        "\n",
        "\n",
        "train_generator = generate_data(train_path)\n",
        "test_generator = generate_data(test_path)"
      ],
      "metadata": {
        "execution": {
          "iopub.status.busy": "2022-11-23T23:24:12.036314Z",
          "iopub.execute_input": "2022-11-23T23:24:12.036808Z",
          "iopub.status.idle": "2022-11-23T23:24:12.277327Z",
          "shell.execute_reply.started": "2022-11-23T23:24:12.036769Z",
          "shell.execute_reply": "2022-11-23T23:24:12.276274Z"
        },
        "trusted": true,
        "id": "R_cMbCo9G4kh",
        "outputId": "654b3bd0-9a4f-4d17-a560-195612f15259"
      },
      "execution_count": null,
      "outputs": [
        {
          "name": "stdout",
          "text": "Found 251 images belonging to 3 classes.\nFound 66 images belonging to 3 classes.\n",
          "output_type": "stream"
        }
      ]
    },
    {
      "cell_type": "markdown",
      "source": [
        "# Modelling"
      ],
      "metadata": {
        "id": "EO0BFF5oxraf"
      }
    },
    {
      "cell_type": "code",
      "source": [
        "    \n",
        "def build_model(input_shape):\n",
        "    input_img = Input(shape=input_shape, name='ImageInput')\n",
        "    x = Conv2D(32, (3,3), activation='relu', padding='same')(input_img)\n",
        "    x = MaxPooling2D((2,2))(x)\n",
        "    \n",
        "    x = SeparableConv2D(32, (3,3), activation='relu', padding='same')(x)\n",
        "    x = MaxPooling2D((2,2))(x)\n",
        "    \n",
        "    \n",
        "    x = SeparableConv2D(64, (3,3), activation='relu', padding='same')(x)\n",
        "    x = MaxPooling2D((2,2))(x)\n",
        "    \n",
        "    x = Flatten(name='flatten')(x)\n",
        "    x = Dense(512, activation='relu')(x)\n",
        "    x = Dense(128, activation='relu')(x)\n",
        "    x = Dense(3, activation='softmax')(x)\n",
        "    \n",
        "    model = Model(inputs=input_img, outputs=x)\n",
        "    return model\n",
        "\n",
        "model = build_model(input_shape=(img_size, img_size, 3))\n",
        "\n",
        "# def COVID_NET(input_shape=(32, 32, 3)):\n",
        "#     model = models.Sequential()\n",
        "#     model.add(Conv2D(32, (3,3), activation='relu', input_shape=input_shape, padding=\"same\"))\n",
        "#     model.add(MaxPool2D(2, 2))\n",
        "#     model.add(Conv2D(32, (3,3), activation='relu', padding=\"same\"))\n",
        "#     model.add(MaxPool2D(2, 2))\n",
        "#     model.add(Conv2D(64, (3,3), activation='relu', padding=\"same\"))\n",
        "#     model.add(MaxPool2D(2, 2))\n",
        "#     model.add(Dropout(0.3))\n",
        "#     model.add(Flatten())\n",
        "#     model.add(Dense(1024, activation='relu'))\n",
        "#     model.add(Dense(512, activation='relu'))\n",
        "#     model.add(Dense(128, activation='relu'))\n",
        "#     model.add(Dense(3, activation='softmax'))\n",
        "#     return model\n",
        "# model = COVID_NET(input_shape=(img_size, img_size, 3))\n",
        "\n",
        "model.summary()    "
      ],
      "metadata": {
        "execution": {
          "iopub.status.busy": "2022-11-23T23:25:44.676518Z",
          "iopub.execute_input": "2022-11-23T23:25:44.676964Z",
          "iopub.status.idle": "2022-11-23T23:25:44.861379Z",
          "shell.execute_reply.started": "2022-11-23T23:25:44.676919Z",
          "shell.execute_reply": "2022-11-23T23:25:44.860000Z"
        },
        "trusted": true,
        "id": "I_dXUsQtG4kj",
        "outputId": "f8bb9e84-1b4b-4c84-d0b8-d3d123a75846"
      },
      "execution_count": null,
      "outputs": [
        {
          "name": "stdout",
          "text": "Model: \"model_4\"\n_________________________________________________________________\nLayer (type)                 Output Shape              Param #   \n=================================================================\nImageInput (InputLayer)      [(None, 224, 224, 3)]     0         \n_________________________________________________________________\nconv2d_10 (Conv2D)           (None, 224, 224, 32)      896       \n_________________________________________________________________\nmax_pooling2d_18 (MaxPooling (None, 112, 112, 32)      0         \n_________________________________________________________________\nseparable_conv2d_8 (Separabl (None, 112, 112, 32)      1344      \n_________________________________________________________________\nmax_pooling2d_19 (MaxPooling (None, 56, 56, 32)        0         \n_________________________________________________________________\nseparable_conv2d_9 (Separabl (None, 56, 56, 64)        2400      \n_________________________________________________________________\nmax_pooling2d_20 (MaxPooling (None, 28, 28, 64)        0         \n_________________________________________________________________\nflatten (Flatten)            (None, 50176)             0         \n_________________________________________________________________\ndense_18 (Dense)             (None, 512)               25690624  \n_________________________________________________________________\ndense_19 (Dense)             (None, 128)               65664     \n_________________________________________________________________\ndense_20 (Dense)             (None, 3)                 387       \n=================================================================\nTotal params: 25,761,315\nTrainable params: 25,761,315\nNon-trainable params: 0\n_________________________________________________________________\n",
          "output_type": "stream"
        }
      ]
    },
    {
      "cell_type": "markdown",
      "source": [
        "## Save our best model during training"
      ],
      "metadata": {
        "id": "BmVdvwBzxrag"
      }
    },
    {
      "cell_type": "code",
      "source": [
        "class myCallback(tf.keras.callbacks.Callback):\n",
        "  def on_epoch_end(self, epoch, logs={}):\n",
        "\n",
        "    if(logs.get('accuracy') > 0.91):\n",
        "      print(\"\\nReached 93% accuracy, canceling training\")\n",
        "      self.model.stop_training = True\n",
        "\n",
        "callbacks = [myCallback(), ModelCheckpoint('model.hdf5', save_best_only=True)]\n",
        "\n",
        "callbacks = [EarlyStopping(monitor='val_loss', patience=5, verbose=1),\n",
        "                ModelCheckpoint('model.hdf5',\n",
        "                                 save_best_only=True)]\n",
        "\n",
        "opt = Adam(learning_rate=0.0001, decay=1e-5)\n",
        "model.compile(\n",
        "  loss='categorical_crossentropy',\n",
        "  optimizer=opt,\n",
        "  metrics=['accuracy']\n",
        ")"
      ],
      "metadata": {
        "id": "d3h5C6IIxrag",
        "execution": {
          "iopub.status.busy": "2022-11-23T23:25:47.539344Z",
          "iopub.execute_input": "2022-11-23T23:25:47.540228Z",
          "iopub.status.idle": "2022-11-23T23:25:47.555024Z",
          "shell.execute_reply.started": "2022-11-23T23:25:47.540187Z",
          "shell.execute_reply": "2022-11-23T23:25:47.554097Z"
        },
        "trusted": true
      },
      "execution_count": null,
      "outputs": []
    },
    {
      "cell_type": "markdown",
      "source": [
        "# Training the Model"
      ],
      "metadata": {
        "id": "EqBnFD56xrah"
      }
    },
    {
      "cell_type": "code",
      "source": [
        "history = model.fit(train_generator,\n",
        "                    epochs = 100,\n",
        "                    validation_data = test_generator,\n",
        "                    verbose = True,\n",
        "                   callbacks=callbacks)"
      ],
      "metadata": {
        "colab": {
          "base_uri": "https://localhost:8080/"
        },
        "id": "WR13a2HDxrah",
        "outputId": "0edaf6e7-3e66-4af9-ee29-224207437b69",
        "execution": {
          "iopub.status.busy": "2022-11-23T23:25:51.091354Z",
          "iopub.execute_input": "2022-11-23T23:25:51.092546Z",
          "iopub.status.idle": "2022-11-23T23:35:38.101579Z",
          "shell.execute_reply.started": "2022-11-23T23:25:51.092502Z",
          "shell.execute_reply": "2022-11-23T23:35:38.100375Z"
        },
        "trusted": true
      },
      "execution_count": null,
      "outputs": [
        {
          "name": "stdout",
          "text": "Epoch 1/100\n16/16 [==============================] - 17s 1s/step - loss: 1.0765 - accuracy: 0.4622 - val_loss: 1.0538 - val_accuracy: 0.3939\nEpoch 2/100\n16/16 [==============================] - 16s 996ms/step - loss: 0.9871 - accuracy: 0.4661 - val_loss: 0.9517 - val_accuracy: 0.6515\nEpoch 3/100\n16/16 [==============================] - 16s 975ms/step - loss: 0.8328 - accuracy: 0.7251 - val_loss: 0.7943 - val_accuracy: 0.6667\nEpoch 4/100\n16/16 [==============================] - 16s 955ms/step - loss: 0.6306 - accuracy: 0.8446 - val_loss: 0.6651 - val_accuracy: 0.6970\nEpoch 5/100\n16/16 [==============================] - 16s 980ms/step - loss: 0.4475 - accuracy: 0.8805 - val_loss: 0.5978 - val_accuracy: 0.7121\nEpoch 6/100\n16/16 [==============================] - 16s 985ms/step - loss: 0.3566 - accuracy: 0.8725 - val_loss: 0.5750 - val_accuracy: 0.7273\nEpoch 7/100\n16/16 [==============================] - 16s 969ms/step - loss: 0.2957 - accuracy: 0.8924 - val_loss: 0.5517 - val_accuracy: 0.7879\nEpoch 8/100\n16/16 [==============================] - 16s 971ms/step - loss: 0.2612 - accuracy: 0.9124 - val_loss: 0.5126 - val_accuracy: 0.7424\nEpoch 9/100\n16/16 [==============================] - 16s 999ms/step - loss: 0.2327 - accuracy: 0.9402 - val_loss: 0.5659 - val_accuracy: 0.6667\nEpoch 10/100\n16/16 [==============================] - 16s 972ms/step - loss: 0.2213 - accuracy: 0.9323 - val_loss: 0.5111 - val_accuracy: 0.6970\nEpoch 11/100\n16/16 [==============================] - 16s 1s/step - loss: 0.1851 - accuracy: 0.9323 - val_loss: 0.4869 - val_accuracy: 0.8485\nEpoch 12/100\n16/16 [==============================] - 16s 981ms/step - loss: 0.1762 - accuracy: 0.9363 - val_loss: 0.4473 - val_accuracy: 0.8182\nEpoch 13/100\n16/16 [==============================] - 16s 988ms/step - loss: 0.1528 - accuracy: 0.9402 - val_loss: 0.4411 - val_accuracy: 0.8485\nEpoch 14/100\n16/16 [==============================] - 16s 965ms/step - loss: 0.1486 - accuracy: 0.9442 - val_loss: 0.3990 - val_accuracy: 0.8333\nEpoch 15/100\n16/16 [==============================] - 16s 1s/step - loss: 0.1401 - accuracy: 0.9522 - val_loss: 0.4118 - val_accuracy: 0.8333\nEpoch 16/100\n16/16 [==============================] - 16s 987ms/step - loss: 0.1290 - accuracy: 0.9522 - val_loss: 0.4174 - val_accuracy: 0.8485\nEpoch 17/100\n16/16 [==============================] - 16s 984ms/step - loss: 0.1355 - accuracy: 0.9482 - val_loss: 0.4853 - val_accuracy: 0.8030\nEpoch 18/100\n16/16 [==============================] - 16s 972ms/step - loss: 0.1257 - accuracy: 0.9522 - val_loss: 0.3542 - val_accuracy: 0.8788\nEpoch 19/100\n16/16 [==============================] - 16s 985ms/step - loss: 0.0925 - accuracy: 0.9641 - val_loss: 0.4033 - val_accuracy: 0.8939\nEpoch 20/100\n16/16 [==============================] - 16s 1s/step - loss: 0.1052 - accuracy: 0.9522 - val_loss: 0.3389 - val_accuracy: 0.8788\nEpoch 21/100\n16/16 [==============================] - 16s 994ms/step - loss: 0.1026 - accuracy: 0.9641 - val_loss: 0.3420 - val_accuracy: 0.8788\nEpoch 22/100\n16/16 [==============================] - 16s 966ms/step - loss: 0.0719 - accuracy: 0.9721 - val_loss: 0.3345 - val_accuracy: 0.9091\nEpoch 23/100\n16/16 [==============================] - 16s 988ms/step - loss: 0.0699 - accuracy: 0.9801 - val_loss: 0.3233 - val_accuracy: 0.9091\nEpoch 24/100\n16/16 [==============================] - 16s 984ms/step - loss: 0.0698 - accuracy: 0.9841 - val_loss: 0.3492 - val_accuracy: 0.9091\nEpoch 25/100\n16/16 [==============================] - 16s 1s/step - loss: 0.0503 - accuracy: 0.9920 - val_loss: 0.3134 - val_accuracy: 0.9091\nEpoch 26/100\n16/16 [==============================] - 16s 964ms/step - loss: 0.0495 - accuracy: 0.9880 - val_loss: 0.3447 - val_accuracy: 0.8788\nEpoch 27/100\n16/16 [==============================] - 16s 983ms/step - loss: 0.0397 - accuracy: 0.9960 - val_loss: 0.3303 - val_accuracy: 0.9091\nEpoch 28/100\n16/16 [==============================] - 16s 974ms/step - loss: 0.0357 - accuracy: 0.9960 - val_loss: 0.3268 - val_accuracy: 0.9091\nEpoch 29/100\n16/16 [==============================] - 16s 980ms/step - loss: 0.0438 - accuracy: 0.9880 - val_loss: 0.2939 - val_accuracy: 0.9242\nEpoch 30/100\n16/16 [==============================] - 16s 994ms/step - loss: 0.0317 - accuracy: 0.9920 - val_loss: 0.2937 - val_accuracy: 0.9242\nEpoch 31/100\n16/16 [==============================] - 16s 975ms/step - loss: 0.0316 - accuracy: 0.9960 - val_loss: 0.3787 - val_accuracy: 0.9091\nEpoch 32/100\n16/16 [==============================] - 16s 1s/step - loss: 0.0245 - accuracy: 1.0000 - val_loss: 0.3166 - val_accuracy: 0.8788\nEpoch 33/100\n16/16 [==============================] - 16s 980ms/step - loss: 0.0276 - accuracy: 0.9960 - val_loss: 0.3081 - val_accuracy: 0.8939\nEpoch 34/100\n16/16 [==============================] - 16s 986ms/step - loss: 0.0244 - accuracy: 1.0000 - val_loss: 0.3458 - val_accuracy: 0.9091\nEpoch 35/100\n16/16 [==============================] - 16s 998ms/step - loss: 0.0187 - accuracy: 1.0000 - val_loss: 0.3085 - val_accuracy: 0.9091\nEpoch 00035: early stopping\n",
          "output_type": "stream"
        }
      ]
    },
    {
      "cell_type": "markdown",
      "source": [
        "# Evaluation"
      ],
      "metadata": {
        "id": "69o9jZOExrah"
      }
    },
    {
      "cell_type": "code",
      "source": [
        "from tensorflow.keras.models import load_model\n",
        "import pandas as pd\n",
        "\n",
        "# convert the history.history dict to a pandas DataFrame:     \n",
        "hist_df = pd.DataFrame(history.history) \n",
        "\n",
        "# or save to csv: \n",
        "hist_csv_file = 'history.csv'\n",
        "with open(hist_csv_file, mode='w') as f:\n",
        "    hist_df.to_csv(f)\n",
        "\n",
        "model = load_model('./model.hdf5')\n",
        "\n",
        "def learning_curve(model_fit, key='accuracy', ylim=(0, 1.01)):\n",
        "    plt.figure(figsize=(12,6))\n",
        "    plt.plot(model_fit.history[key])\n",
        "    plt.plot(model_fit.history['val_' + key])\n",
        "    plt.title('Learning Curve')\n",
        "    plt.ylabel(key.title())\n",
        "    plt.xlabel('Epoch')\n",
        "    plt.ylim(ylim)\n",
        "    plt.legend(['train', 'val'], loc='best')\n",
        "    plt.show()"
      ],
      "metadata": {
        "id": "A_evITN6xrah",
        "execution": {
          "iopub.status.busy": "2022-11-23T23:35:46.556204Z",
          "iopub.execute_input": "2022-11-23T23:35:46.556639Z",
          "iopub.status.idle": "2022-11-23T23:36:03.990679Z",
          "shell.execute_reply.started": "2022-11-23T23:35:46.556605Z",
          "shell.execute_reply": "2022-11-23T23:36:03.989470Z"
        },
        "trusted": true
      },
      "execution_count": null,
      "outputs": []
    },
    {
      "cell_type": "markdown",
      "source": [
        "### Loading our best model"
      ],
      "metadata": {
        "id": "4tNBBRMFxrah"
      }
    },
    {
      "cell_type": "code",
      "source": [
        "learning_curve(history,'loss', ylim=(0,2))\n",
        "learning_curve(history, 'accuracy', ylim=(0,1))"
      ],
      "metadata": {
        "colab": {
          "base_uri": "https://localhost:8080/",
          "height": 791
        },
        "id": "Z0-SV05rxrai",
        "outputId": "1354b05b-aa1e-4aeb-ead7-3b4623938265",
        "execution": {
          "iopub.status.busy": "2022-11-23T23:36:09.647171Z",
          "iopub.execute_input": "2022-11-23T23:36:09.647925Z",
          "iopub.status.idle": "2022-11-23T23:36:10.135250Z",
          "shell.execute_reply.started": "2022-11-23T23:36:09.647886Z",
          "shell.execute_reply": "2022-11-23T23:36:10.134344Z"
        },
        "trusted": true
      },
      "execution_count": null,
      "outputs": [
        {
          "output_type": "display_data",
          "data": {
            "text/plain": "<Figure size 864x432 with 1 Axes>",
            "image/png": "[encoded data removed]"
          },
          "metadata": {
            "needs_background": "light"
          }
        },
        {
          "output_type": "display_data",
          "data": {
            "text/plain": "<Figure size 864x432 with 1 Axes>",
            "image/png": "[encoded data removed]"
          },
          "metadata": {
            "needs_background": "light"
          }
        }
      ]
    },
    {
      "cell_type": "code",
      "source": [
        "test_loss, test_acc = model.evaluate(test_generator, steps=len(test_generator), verbose=1)\n",
        "print('Loss: %.3f' % (test_loss * 100.0))\n",
        "print('Accuracy: %.3f' % (test_acc * 100.0)) "
      ],
      "metadata": {
        "colab": {
          "base_uri": "https://localhost:8080/"
        },
        "id": "DbETeiNVxrai",
        "outputId": "760d2c0a-ff11-467d-c2e7-f7852f85f8e8",
        "execution": {
          "iopub.status.busy": "2022-11-23T23:36:13.834206Z",
          "iopub.execute_input": "2022-11-23T23:36:13.834683Z",
          "iopub.status.idle": "2022-11-23T23:36:16.357961Z",
          "shell.execute_reply.started": "2022-11-23T23:36:13.834644Z",
          "shell.execute_reply": "2022-11-23T23:36:16.356525Z"
        },
        "trusted": true
      },
      "execution_count": null,
      "outputs": [
        {
          "name": "stdout",
          "text": "5/5 [==============================] - 2s 328ms/step - loss: 0.2937 - accuracy: 0.9242\nLoss: 29.366\nAccuracy: 92.424\n",
          "output_type": "stream"
        }
      ]
    }
  ]
}