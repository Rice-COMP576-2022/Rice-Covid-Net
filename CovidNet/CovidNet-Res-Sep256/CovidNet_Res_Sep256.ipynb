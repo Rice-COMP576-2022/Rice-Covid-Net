{
  "metadata": {
    "accelerator": "GPU",
    "colab": {
      "provenance": []
    },
    "gpuClass": "standard",
    "kernelspec": {
      "display_name": "Python 3",
      "language": "python",
      "name": "python3"
    },
    "language_info": {
      "codemirror_mode": {
        "name": "ipython",
        "version": 3
      },
      "file_extension": ".py",
      "mimetype": "text/x-python",
      "name": "python",
      "nbconvert_exporter": "python",
      "pygments_lexer": "ipython3",
      "version": "3.7.12"
    }
  },
  "nbformat_minor": 0,
  "nbformat": 4,
  "cells": [
    {
      "cell_type": "code",
      "source": [
        "import pandas as pd\n",
        "import numpy as np\n",
        "import tensorflow as tf\n",
        "import matplotlib.pyplot as plt\n",
        "import matplotlib.image as mpimg\n",
        "import seaborn as sns\n",
        "import pathlib\n",
        "import random\n",
        "import os\n",
        "import h5py\n",
        "\n",
        "import tensorflow.keras as keras\n",
        "from tensorflow.keras.preprocessing import image_dataset_from_directory\n",
        "from tensorflow.keras.layers.experimental import preprocessing\n",
        "from tensorflow.keras.applications.vgg16 import VGG16\n",
        "from tensorflow.keras.applications.resnet50 import ResNet50\n",
        "from tensorflow.keras.applications.resnet import ResNet101\n",
        "from tensorflow.keras.applications.efficientnet import EfficientNetB0\n",
        "from tensorflow.keras.applications.densenet import DenseNet121\n",
        "from tensorflow.keras.optimizers import Adam\n",
        "from sklearn.metrics import accuracy_score, precision_score, recall_score, f1_score, cohen_kappa_score, roc_auc_score, confusion_matrix\n",
        "from sklearn.metrics import classification_report\n",
        "from keras.layers import Dense, Dropout, Activation, Flatten, BatchNormalization, Conv2D, MaxPool2D, MaxPooling2D, DepthwiseConv2D, SeparableConv2D, Input, add, ZeroPadding2D\n",
        "from tensorflow.keras.callbacks import ReduceLROnPlateau, ModelCheckpoint, EarlyStopping\n",
        "from tensorflow.keras import Model\n",
        "from tensorflow.keras.layers import Dense, GlobalAveragePooling2D\n",
        "from tensorflow.keras import datasets, layers, models\n",
        "\n",
        "#Suppressing Warnings\n",
        "os.environ['TF_CPP_MIN_LOG_LEVEL'] = '3'\n",
        "\n",
        "tf.keras.backend.clear_session()\n",
        "\n",
        "# pre-processing\n",
        "train_path = '../input/covid19-image-dataset/Covid19-dataset/train'\n",
        "test_path = '../input/covid19-image-dataset/Covid19-dataset/test'\n",
        "\n",
        "img_size = 224\n",
        "batch = 16\n",
        "\n",
        "# Image loader\n",
        "from tensorflow.keras.preprocessing.image import ImageDataGenerator\n",
        "\n",
        "def generate_data(DIR):\n",
        "    datagen = ImageDataGenerator(rescale=1./255.)\n",
        "    \n",
        "    generator = datagen.flow_from_directory(\n",
        "        DIR,\n",
        "        batch_size=batch,\n",
        "        shuffle=True,\n",
        "        seed=42,\n",
        "        class_mode='categorical',\n",
        "        target_size=(img_size, img_size),\n",
        "        classes={'Normal': 0, 'Viral Pneumonia': 1,'Covid': 2}\n",
        "    )\n",
        "    return generator\n",
        "\n",
        "\n",
        "train_generator = generate_data(train_path)\n",
        "test_generator = generate_data(test_path)"
      ],
      "metadata": {
        "execution": {
          "iopub.status.busy": "2022-11-24T03:34:58.058841Z",
          "iopub.execute_input": "2022-11-24T03:34:58.059449Z",
          "iopub.status.idle": "2022-11-24T03:34:58.296610Z",
          "shell.execute_reply.started": "2022-11-24T03:34:58.059412Z",
          "shell.execute_reply": "2022-11-24T03:34:58.295663Z"
        },
        "trusted": true,
        "id": "OS1ewfkCFs0i",
        "outputId": "68ef8056-195a-494a-9eb6-b1bb0e810f4b"
      },
      "execution_count": null,
      "outputs": [
        {
          "name": "stdout",
          "text": "Found 251 images belonging to 3 classes.\nFound 66 images belonging to 3 classes.\n",
          "output_type": "stream"
        }
      ]
    },
    {
      "cell_type": "markdown",
      "source": [
        "# Modelling"
      ],
      "metadata": {
        "id": "EO0BFF5oxraf"
      }
    },
    {
      "cell_type": "code",
      "source": [
        "# base_model = ResNet50(weights='imagenet', include_top=False,\n",
        "#                             input_shape=(img_size, img_size,3))\n",
        "\n",
        "# # freeze extraction layers\n",
        "# base_model.trainable = False\n",
        "\n",
        "# # add custom top layers\n",
        "# x = base_model.output\n",
        "# x = GlobalAveragePooling2D()(x)\n",
        "# x = Dense(512 , activation='relu')(x)\n",
        "# predictions = Dense(3, activation='softmax')(x)\n",
        "# model = Model(inputs=base_model.input, outputs=predictions)\n",
        "\n",
        "# # confirm unfrozen layers\n",
        "# for layer in model.layers:\n",
        "#     if layer.trainable==True:\n",
        "#         print(layer)\n"
      ],
      "metadata": {
        "execution": {
          "iopub.status.busy": "2022-11-24T03:21:19.486082Z",
          "iopub.execute_input": "2022-11-24T03:21:19.486700Z",
          "iopub.status.idle": "2022-11-24T03:21:19.491086Z",
          "shell.execute_reply.started": "2022-11-24T03:21:19.486668Z",
          "shell.execute_reply": "2022-11-24T03:21:19.489983Z"
        },
        "trusted": true,
        "id": "sDPaQBX0Fs0m"
      },
      "execution_count": null,
      "outputs": []
    },
    {
      "cell_type": "code",
      "source": [
        "def conv_block(input_tensor,\n",
        "               filters,\n",
        "               kernel_size,\n",
        "               strides=(2,2)):\n",
        "    filter_1, filter_2 = filters\n",
        "    x = SeparableConv2D(filters=filter_1, kernel_size=kernel_size, strides=(1, 1), activation='relu', padding='same')(input_tensor)\n",
        "    x = BatchNormalization()(x)\n",
        "    x = SeparableConv2D(filters=filter_2, kernel_size=kernel_size, strides=strides, activation='relu', padding='same')(x)\n",
        "#     x = BatchNormalization()(x)\n",
        "#     x = SeparableConv2D(filters=filter_3, kernel_size=kernel_size, strides=strides, padding='same')(x)\n",
        "    shortcut = SeparableConv2D(filters=filter_2, kernel_size=kernel_size, strides=strides, padding='same')(input_tensor)\n",
        "    x = add([x, shortcut])\n",
        "    return Activation('relu')(x)\n",
        "\n",
        "def identity_block(input_tensor,\n",
        "               filters,\n",
        "               kernel_size):\n",
        "    filter_1, filter_2 = filters\n",
        "    strides = (1, 1)\n",
        "    x = SeparableConv2D(filters=filter_1, kernel_size=kernel_size, strides=strides, activation='relu', padding='same')(input_tensor)\n",
        "    x = BatchNormalization()(x)\n",
        "    x = SeparableConv2D(filters=filter_2, kernel_size=kernel_size, strides=strides, activation='relu', padding='same')(x)\n",
        "#     x = BatchNormalization()(x)\n",
        "#     x = SeparableConv2D(filters=filter_3, kernel_size=kernel_size, strides=strides, padding='same')(x)\n",
        "    x = add([x, input_tensor])\n",
        "    return Activation('relu')(x)\n",
        "\n",
        "def build_model(input_shape):\n",
        "    input_img = Input(shape=input_shape, name='ImageInput')\n",
        "    x = Conv2D(32, 3, padding='same', kernel_initializer='he_normal')(input_img)\n",
        "    x = BatchNormalization()(x)\n",
        "    x = Activation('relu')(x)\n",
        "    x = MaxPooling2D((2, 2))(x)\n",
        "    \n",
        "    x = conv_block(x, filters=[32, 128], kernel_size=3, strides=(1,1))\n",
        "    x = identity_block(x, filters=[32, 128], kernel_size=3)\n",
        "    x = MaxPooling2D((2, 2))(x)\n",
        "    \n",
        "    x = conv_block(x, filters=[64, 256], kernel_size=3)\n",
        "    x = identity_block(x, filters=[64, 256], kernel_size=3)\n",
        "    \n",
        "    x = MaxPooling2D((4, 4))(x)\n",
        "    x = Flatten()(x)\n",
        "    #     x = identity_block(x, filters=[64, 256], kernel_size=3)\n",
        "    \n",
        "#     x = conv_block(x, filters=[128, 256], kernel_size=3)\n",
        "#     x = identity_block(x, filters=[64, 256], kernel_size=3)\n",
        "#     x = layers.GlobalMaxPooling2D()(x)\n",
        "\n",
        "    x = Dense(512, activation='relu')(x)\n",
        "    x = Dropout(0.5)(x)\n",
        "    x = Dense(128, activation='relu')(x)\n",
        "    x = Dense(3, activation='softmax')(x)\n",
        "    \n",
        "    model = Model(inputs=input_img, outputs=x)\n",
        "    return model\n",
        "\n",
        "model = build_model(input_shape=(img_size, img_size, 3))\n",
        "\n",
        "model.summary()    "
      ],
      "metadata": {
        "execution": {
          "iopub.status.busy": "2022-11-24T03:56:51.667247Z",
          "iopub.execute_input": "2022-11-24T03:56:51.668209Z",
          "iopub.status.idle": "2022-11-24T03:56:51.919231Z",
          "shell.execute_reply.started": "2022-11-24T03:56:51.668174Z",
          "shell.execute_reply": "2022-11-24T03:56:51.918399Z"
        },
        "trusted": true,
        "id": "JlaU7YtOFs0m",
        "outputId": "809fa8ea-f3af-4b48-a5df-6052d6e986a6"
      },
      "execution_count": null,
      "outputs": [
        {
          "name": "stdout",
          "text": "Model: \"model_12\"\n__________________________________________________________________________________________________\nLayer (type)                    Output Shape         Param #     Connected to                     \n==================================================================================================\nImageInput (InputLayer)         [(None, 224, 224, 3) 0                                            \n__________________________________________________________________________________________________\nconv2d_12 (Conv2D)              (None, 224, 224, 32) 896         ImageInput[0][0]                 \n__________________________________________________________________________________________________\nbatch_normalization_54 (BatchNo (None, 224, 224, 32) 128         conv2d_12[0][0]                  \n__________________________________________________________________________________________________\nactivation_54 (Activation)      (None, 224, 224, 32) 0           batch_normalization_54[0][0]     \n__________________________________________________________________________________________________\nmax_pooling2d_28 (MaxPooling2D) (None, 112, 112, 32) 0           activation_54[0][0]              \n__________________________________________________________________________________________________\nseparable_conv2d_109 (Separable (None, 112, 112, 32) 1344        max_pooling2d_28[0][0]           \n__________________________________________________________________________________________________\nbatch_normalization_55 (BatchNo (None, 112, 112, 32) 128         separable_conv2d_109[0][0]       \n__________________________________________________________________________________________________\nseparable_conv2d_110 (Separable (None, 112, 112, 128 4512        batch_normalization_55[0][0]     \n__________________________________________________________________________________________________\nseparable_conv2d_111 (Separable (None, 112, 112, 128 4512        max_pooling2d_28[0][0]           \n__________________________________________________________________________________________________\nadd_42 (Add)                    (None, 112, 112, 128 0           separable_conv2d_110[0][0]       \n                                                                 separable_conv2d_111[0][0]       \n__________________________________________________________________________________________________\nactivation_55 (Activation)      (None, 112, 112, 128 0           add_42[0][0]                     \n__________________________________________________________________________________________________\nseparable_conv2d_112 (Separable (None, 112, 112, 32) 5280        activation_55[0][0]              \n__________________________________________________________________________________________________\nbatch_normalization_56 (BatchNo (None, 112, 112, 32) 128         separable_conv2d_112[0][0]       \n__________________________________________________________________________________________________\nseparable_conv2d_113 (Separable (None, 112, 112, 128 4512        batch_normalization_56[0][0]     \n__________________________________________________________________________________________________\nadd_43 (Add)                    (None, 112, 112, 128 0           separable_conv2d_113[0][0]       \n                                                                 activation_55[0][0]              \n__________________________________________________________________________________________________\nactivation_56 (Activation)      (None, 112, 112, 128 0           add_43[0][0]                     \n__________________________________________________________________________________________________\nmax_pooling2d_29 (MaxPooling2D) (None, 56, 56, 128)  0           activation_56[0][0]              \n__________________________________________________________________________________________________\nseparable_conv2d_114 (Separable (None, 56, 56, 64)   9408        max_pooling2d_29[0][0]           \n__________________________________________________________________________________________________\nbatch_normalization_57 (BatchNo (None, 56, 56, 64)   256         separable_conv2d_114[0][0]       \n__________________________________________________________________________________________________\nseparable_conv2d_115 (Separable (None, 28, 28, 256)  17216       batch_normalization_57[0][0]     \n__________________________________________________________________________________________________\nseparable_conv2d_116 (Separable (None, 28, 28, 256)  34176       max_pooling2d_29[0][0]           \n__________________________________________________________________________________________________\nadd_44 (Add)                    (None, 28, 28, 256)  0           separable_conv2d_115[0][0]       \n                                                                 separable_conv2d_116[0][0]       \n__________________________________________________________________________________________________\nactivation_57 (Activation)      (None, 28, 28, 256)  0           add_44[0][0]                     \n__________________________________________________________________________________________________\nseparable_conv2d_117 (Separable (None, 28, 28, 64)   18752       activation_57[0][0]              \n__________________________________________________________________________________________________\nbatch_normalization_58 (BatchNo (None, 28, 28, 64)   256         separable_conv2d_117[0][0]       \n__________________________________________________________________________________________________\nseparable_conv2d_118 (Separable (None, 28, 28, 256)  17216       batch_normalization_58[0][0]     \n__________________________________________________________________________________________________\nadd_45 (Add)                    (None, 28, 28, 256)  0           separable_conv2d_118[0][0]       \n                                                                 activation_57[0][0]              \n__________________________________________________________________________________________________\nactivation_58 (Activation)      (None, 28, 28, 256)  0           add_45[0][0]                     \n__________________________________________________________________________________________________\nmax_pooling2d_30 (MaxPooling2D) (None, 7, 7, 256)    0           activation_58[0][0]              \n__________________________________________________________________________________________________\nflatten_10 (Flatten)            (None, 12544)        0           max_pooling2d_30[0][0]           \n__________________________________________________________________________________________________\ndense_25 (Dense)                (None, 512)          6423040     flatten_10[0][0]                 \n__________________________________________________________________________________________________\ndropout_4 (Dropout)             (None, 512)          0           dense_25[0][0]                   \n__________________________________________________________________________________________________\ndense_26 (Dense)                (None, 128)          65664       dropout_4[0][0]                  \n__________________________________________________________________________________________________\ndense_27 (Dense)                (None, 3)            387         dense_26[0][0]                   \n==================================================================================================\nTotal params: 6,607,811\nTrainable params: 6,607,363\nNon-trainable params: 448\n__________________________________________________________________________________________________\n",
          "output_type": "stream"
        }
      ]
    },
    {
      "cell_type": "markdown",
      "source": [
        "## Save our best model during training"
      ],
      "metadata": {
        "id": "BmVdvwBzxrag"
      }
    },
    {
      "cell_type": "code",
      "source": [
        "callbacks = [EarlyStopping(monitor='val_loss', patience=5, verbose=1),\n",
        "                ModelCheckpoint('model.hdf5',\n",
        "                                 save_best_only=True)]\n",
        "\n",
        "opt = Adam(learning_rate=0.0001, decay=1e-5)\n",
        "model.compile(\n",
        "  loss='categorical_crossentropy',\n",
        "  optimizer=opt,\n",
        "  metrics=['accuracy']\n",
        ")"
      ],
      "metadata": {
        "id": "d3h5C6IIxrag",
        "execution": {
          "iopub.status.busy": "2022-11-24T03:57:04.054377Z",
          "iopub.execute_input": "2022-11-24T03:57:04.055408Z",
          "iopub.status.idle": "2022-11-24T03:57:04.066970Z",
          "shell.execute_reply.started": "2022-11-24T03:57:04.055360Z",
          "shell.execute_reply": "2022-11-24T03:57:04.065328Z"
        },
        "trusted": true
      },
      "execution_count": null,
      "outputs": []
    },
    {
      "cell_type": "markdown",
      "source": [
        "# Training the Model"
      ],
      "metadata": {
        "id": "EqBnFD56xrah"
      }
    },
    {
      "cell_type": "code",
      "source": [
        "history = model.fit(train_generator,\n",
        "                    epochs = 100,\n",
        "                    validation_data = test_generator,\n",
        "                    verbose = True,\n",
        "                   callbacks=callbacks)"
      ],
      "metadata": {
        "colab": {
          "base_uri": "https://localhost:8080/"
        },
        "id": "WR13a2HDxrah",
        "outputId": "0edaf6e7-3e66-4af9-ee29-224207437b69",
        "execution": {
          "iopub.status.busy": "2022-11-24T03:57:05.777417Z",
          "iopub.execute_input": "2022-11-24T03:57:05.778415Z",
          "iopub.status.idle": "2022-11-24T04:11:27.322402Z",
          "shell.execute_reply.started": "2022-11-24T03:57:05.778371Z",
          "shell.execute_reply": "2022-11-24T04:11:27.321576Z"
        },
        "trusted": true
      },
      "execution_count": null,
      "outputs": [
        {
          "name": "stdout",
          "text": "Epoch 1/100\n16/16 [==============================] - 21s 1s/step - loss: 1.0194 - accuracy: 0.5737 - val_loss: 1.0957 - val_accuracy: 0.3939\nEpoch 2/100\n16/16 [==============================] - 19s 1s/step - loss: 0.7234 - accuracy: 0.7689 - val_loss: 1.0906 - val_accuracy: 0.3939\nEpoch 3/100\n16/16 [==============================] - 19s 1s/step - loss: 0.4227 - accuracy: 0.8725 - val_loss: 1.0791 - val_accuracy: 0.3939\nEpoch 4/100\n16/16 [==============================] - 19s 1s/step - loss: 0.3313 - accuracy: 0.8765 - val_loss: 1.0718 - val_accuracy: 0.3939\nEpoch 5/100\n16/16 [==============================] - 19s 1s/step - loss: 0.2719 - accuracy: 0.8924 - val_loss: 1.0606 - val_accuracy: 0.3939\nEpoch 6/100\n16/16 [==============================] - 22s 1s/step - loss: 0.2297 - accuracy: 0.9044 - val_loss: 1.0660 - val_accuracy: 0.3939\nEpoch 7/100\n16/16 [==============================] - 23s 1s/step - loss: 0.2100 - accuracy: 0.9084 - val_loss: 1.0574 - val_accuracy: 0.3939\nEpoch 8/100\n16/16 [==============================] - 20s 1s/step - loss: 0.1452 - accuracy: 0.9522 - val_loss: 1.0314 - val_accuracy: 0.3939\nEpoch 9/100\n16/16 [==============================] - 19s 1s/step - loss: 0.1486 - accuracy: 0.9482 - val_loss: 1.0410 - val_accuracy: 0.3939\nEpoch 10/100\n16/16 [==============================] - 22s 1s/step - loss: 0.1275 - accuracy: 0.9562 - val_loss: 1.0318 - val_accuracy: 0.3939\nEpoch 11/100\n16/16 [==============================] - 20s 1s/step - loss: 0.1086 - accuracy: 0.9681 - val_loss: 1.0080 - val_accuracy: 0.3939\nEpoch 12/100\n16/16 [==============================] - 21s 1s/step - loss: 0.1254 - accuracy: 0.9482 - val_loss: 1.0355 - val_accuracy: 0.3939\nEpoch 13/100\n16/16 [==============================] - 20s 1s/step - loss: 0.1071 - accuracy: 0.9602 - val_loss: 0.9900 - val_accuracy: 0.3939\nEpoch 14/100\n16/16 [==============================] - 20s 1s/step - loss: 0.1005 - accuracy: 0.9721 - val_loss: 0.9849 - val_accuracy: 0.3939\nEpoch 15/100\n16/16 [==============================] - 20s 1s/step - loss: 0.0816 - accuracy: 0.9602 - val_loss: 0.9757 - val_accuracy: 0.3939\nEpoch 16/100\n16/16 [==============================] - 20s 1s/step - loss: 0.1221 - accuracy: 0.9402 - val_loss: 1.0006 - val_accuracy: 0.3939\nEpoch 17/100\n16/16 [==============================] - 20s 1s/step - loss: 0.0685 - accuracy: 0.9761 - val_loss: 0.9692 - val_accuracy: 0.4091\nEpoch 18/100\n16/16 [==============================] - 20s 1s/step - loss: 0.0669 - accuracy: 0.9681 - val_loss: 0.9489 - val_accuracy: 0.4091\nEpoch 19/100\n16/16 [==============================] - 20s 1s/step - loss: 0.0740 - accuracy: 0.9721 - val_loss: 0.9245 - val_accuracy: 0.4091\nEpoch 20/100\n16/16 [==============================] - 19s 1s/step - loss: 0.0716 - accuracy: 0.9681 - val_loss: 0.9301 - val_accuracy: 0.4242\nEpoch 21/100\n16/16 [==============================] - 20s 1s/step - loss: 0.0466 - accuracy: 0.9841 - val_loss: 0.8580 - val_accuracy: 0.4697\nEpoch 22/100\n16/16 [==============================] - 20s 1s/step - loss: 0.0455 - accuracy: 0.9880 - val_loss: 0.8597 - val_accuracy: 0.4848\nEpoch 23/100\n16/16 [==============================] - 19s 1s/step - loss: 0.0402 - accuracy: 0.9880 - val_loss: 0.7361 - val_accuracy: 0.6818\nEpoch 24/100\n16/16 [==============================] - 19s 1s/step - loss: 0.0477 - accuracy: 0.9880 - val_loss: 0.7045 - val_accuracy: 0.6970\nEpoch 25/100\n16/16 [==============================] - 20s 1s/step - loss: 0.0393 - accuracy: 0.9880 - val_loss: 0.7144 - val_accuracy: 0.6667\nEpoch 26/100\n16/16 [==============================] - 19s 1s/step - loss: 0.0237 - accuracy: 0.9960 - val_loss: 0.6226 - val_accuracy: 0.7424\nEpoch 27/100\n16/16 [==============================] - 19s 1s/step - loss: 0.0238 - accuracy: 0.9960 - val_loss: 0.5672 - val_accuracy: 0.7727\nEpoch 28/100\n16/16 [==============================] - 19s 1s/step - loss: 0.0152 - accuracy: 1.0000 - val_loss: 0.5596 - val_accuracy: 0.7727\nEpoch 29/100\n16/16 [==============================] - 19s 1s/step - loss: 0.0234 - accuracy: 0.9960 - val_loss: 0.4944 - val_accuracy: 0.7727\nEpoch 30/100\n16/16 [==============================] - 20s 1s/step - loss: 0.0198 - accuracy: 0.9960 - val_loss: 0.4518 - val_accuracy: 0.7879\nEpoch 31/100\n16/16 [==============================] - 19s 1s/step - loss: 0.0168 - accuracy: 1.0000 - val_loss: 0.4309 - val_accuracy: 0.8182\nEpoch 32/100\n16/16 [==============================] - 19s 1s/step - loss: 0.0201 - accuracy: 1.0000 - val_loss: 0.2821 - val_accuracy: 0.9394\nEpoch 33/100\n16/16 [==============================] - 20s 1s/step - loss: 0.0292 - accuracy: 0.9880 - val_loss: 0.3330 - val_accuracy: 0.8788\nEpoch 34/100\n16/16 [==============================] - 19s 1s/step - loss: 0.0138 - accuracy: 1.0000 - val_loss: 0.2320 - val_accuracy: 0.9394\nEpoch 35/100\n16/16 [==============================] - 19s 1s/step - loss: 0.0105 - accuracy: 1.0000 - val_loss: 0.2606 - val_accuracy: 0.9242\nEpoch 36/100\n16/16 [==============================] - 19s 1s/step - loss: 0.0128 - accuracy: 1.0000 - val_loss: 0.2526 - val_accuracy: 0.9394\nEpoch 37/100\n16/16 [==============================] - 19s 1s/step - loss: 0.0143 - accuracy: 1.0000 - val_loss: 0.1968 - val_accuracy: 0.9242\nEpoch 38/100\n16/16 [==============================] - 20s 1s/step - loss: 0.0096 - accuracy: 1.0000 - val_loss: 0.1964 - val_accuracy: 0.9394\nEpoch 39/100\n16/16 [==============================] - 21s 1s/step - loss: 0.0307 - accuracy: 0.9920 - val_loss: 0.1976 - val_accuracy: 0.9394\nEpoch 40/100\n16/16 [==============================] - 20s 1s/step - loss: 0.0137 - accuracy: 0.9960 - val_loss: 0.2812 - val_accuracy: 0.8939\nEpoch 41/100\n16/16 [==============================] - 20s 1s/step - loss: 0.0096 - accuracy: 1.0000 - val_loss: 0.2298 - val_accuracy: 0.9242\nEpoch 42/100\n16/16 [==============================] - 20s 1s/step - loss: 0.0111 - accuracy: 1.0000 - val_loss: 0.2215 - val_accuracy: 0.9091\nEpoch 43/100\n16/16 [==============================] - 20s 1s/step - loss: 0.0095 - accuracy: 1.0000 - val_loss: 0.2072 - val_accuracy: 0.9394\nEpoch 00043: early stopping\n",
          "output_type": "stream"
        }
      ]
    },
    {
      "cell_type": "markdown",
      "source": [
        "# Evaluation"
      ],
      "metadata": {
        "id": "69o9jZOExrah"
      }
    },
    {
      "cell_type": "code",
      "source": [
        "from tensorflow.keras.models import load_model\n",
        "import pandas as pd\n",
        "\n",
        "# convert the history.history dict to a pandas DataFrame:     \n",
        "hist_df = pd.DataFrame(history.history) \n",
        "\n",
        "# or save to csv: \n",
        "hist_csv_file = 'history.csv'\n",
        "with open(hist_csv_file, mode='w') as f:\n",
        "    hist_df.to_csv(f)\n",
        "\n",
        "model = load_model('./model.hdf5')\n",
        "\n",
        "def learning_curve(model_fit, key='accuracy', ylim=(0, 1.01)):\n",
        "    plt.figure(figsize=(12,6))\n",
        "    plt.plot(model_fit.history[key])\n",
        "    plt.plot(model_fit.history['val_' + key])\n",
        "    plt.title('Learning Curve')\n",
        "    plt.ylabel(key.title())\n",
        "    plt.xlabel('Epoch')\n",
        "    plt.ylim(ylim)\n",
        "    plt.legend(['train', 'val'], loc='best')\n",
        "    plt.show()"
      ],
      "metadata": {
        "id": "A_evITN6xrah",
        "execution": {
          "iopub.status.busy": "2022-11-24T04:11:32.401287Z",
          "iopub.execute_input": "2022-11-24T04:11:32.402007Z",
          "iopub.status.idle": "2022-11-24T04:11:32.807897Z",
          "shell.execute_reply.started": "2022-11-24T04:11:32.401934Z",
          "shell.execute_reply": "2022-11-24T04:11:32.806025Z"
        },
        "trusted": true
      },
      "execution_count": null,
      "outputs": []
    },
    {
      "cell_type": "markdown",
      "source": [
        "### Loading best model"
      ],
      "metadata": {
        "id": "4tNBBRMFxrah"
      }
    },
    {
      "cell_type": "code",
      "source": [
        "learning_curve(history,'loss', ylim=(0,2))\n",
        "learning_curve(history, 'accuracy', ylim=(0,1))"
      ],
      "metadata": {
        "colab": {
          "base_uri": "https://localhost:8080/",
          "height": 791
        },
        "id": "Z0-SV05rxrai",
        "outputId": "1354b05b-aa1e-4aeb-ead7-3b4623938265",
        "execution": {
          "iopub.status.busy": "2022-11-24T04:11:35.349848Z",
          "iopub.execute_input": "2022-11-24T04:11:35.350270Z",
          "iopub.status.idle": "2022-11-24T04:11:35.680988Z",
          "shell.execute_reply.started": "2022-11-24T04:11:35.350237Z",
          "shell.execute_reply": "2022-11-24T04:11:35.679723Z"
        },
        "trusted": true
      },
      "execution_count": null,
      "outputs": [
        {
          "output_type": "display_data",
          "data": {
            "text/plain": "<Figure size 864x432 with 1 Axes>",
            "image/png": "[encoded data removed]"
          },
          "metadata": {
            "needs_background": "light"
          }
        },
        {
          "output_type": "display_data",
          "data": {
            "text/plain": "<Figure size 864x432 with 1 Axes>",
            "image/png": "[encoded data removed]"
          },
          "metadata": {
            "needs_background": "light"
          }
        }
      ]
    },
    {
      "cell_type": "code",
      "source": [
        "test_loss, test_acc = model.evaluate(test_generator, steps=len(test_generator), verbose=1)\n",
        "print('Loss: %.3f' % (test_loss * 100.0))\n",
        "print('Accuracy: %.3f' % (test_acc * 100.0)) "
      ],
      "metadata": {
        "colab": {
          "base_uri": "https://localhost:8080/"
        },
        "id": "DbETeiNVxrai",
        "outputId": "760d2c0a-ff11-467d-c2e7-f7852f85f8e8",
        "execution": {
          "iopub.status.busy": "2022-11-24T04:11:38.992185Z",
          "iopub.execute_input": "2022-11-24T04:11:38.993560Z",
          "iopub.status.idle": "2022-11-24T04:11:41.674113Z",
          "shell.execute_reply.started": "2022-11-24T04:11:38.993497Z",
          "shell.execute_reply": "2022-11-24T04:11:41.673133Z"
        },
        "trusted": true
      },
      "execution_count": null,
      "outputs": [
        {
          "name": "stdout",
          "text": "5/5 [==============================] - 2s 344ms/step - loss: 0.1964 - accuracy: 0.9394\nLoss: 19.643\nAccuracy: 93.939\n",
          "output_type": "stream"
        }
      ]
    }
  ]
}