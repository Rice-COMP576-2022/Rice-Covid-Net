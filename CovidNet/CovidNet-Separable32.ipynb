{
 "cells": [
  {
   "cell_type": "markdown",
   "metadata": {
    "id": "upPcfbxbxraY"
   },
   "source": [
    "# Installing Libraries"
   ]
  },
  {
   "cell_type": "code",
   "execution_count": 2,
   "metadata": {
    "execution": {
     "iopub.execute_input": "2022-11-23T23:24:12.036808Z",
     "iopub.status.busy": "2022-11-23T23:24:12.036314Z",
     "iopub.status.idle": "2022-11-23T23:24:12.277327Z",
     "shell.execute_reply": "2022-11-23T23:24:12.276274Z",
     "shell.execute_reply.started": "2022-11-23T23:24:12.036769Z"
    }
   },
   "outputs": [
    {
     "name": "stdout",
     "output_type": "stream",
     "text": [
      "Found 251 images belonging to 3 classes.\n",
      "Found 66 images belonging to 3 classes.\n"
     ]
    }
   ],
   "source": [
    "import pandas as pd\n",
    "import numpy as np\n",
    "import tensorflow as tf\n",
    "import matplotlib.pyplot as plt\n",
    "import matplotlib.image as mpimg\n",
    "import seaborn as sns\n",
    "import pathlib\n",
    "import random\n",
    "import os\n",
    "import h5py\n",
    "\n",
    "import tensorflow.keras as keras\n",
    "from tensorflow.keras.preprocessing import image_dataset_from_directory\n",
    "from tensorflow.keras.layers.experimental import preprocessing\n",
    "from tensorflow.keras.applications.vgg16 import VGG16\n",
    "from tensorflow.keras.applications.resnet50 import ResNet50\n",
    "from tensorflow.keras.applications.resnet import ResNet101\n",
    "from tensorflow.keras.applications.efficientnet import EfficientNetB0\n",
    "from tensorflow.keras.applications.densenet import DenseNet121\n",
    "from tensorflow.keras.optimizers.legacy import Adam\n",
    "from sklearn.metrics import accuracy_score, precision_score, recall_score, f1_score, cohen_kappa_score, roc_auc_score, confusion_matrix\n",
    "from sklearn.metrics import classification_report\n",
    "from keras.layers import Dense, Dropout, Activation, Flatten, BatchNormalization, Conv2D, MaxPool2D, MaxPooling2D, DepthwiseConv2D, SeparableConv2D, Input\n",
    "from tensorflow.keras.callbacks import ReduceLROnPlateau, ModelCheckpoint, EarlyStopping\n",
    "from tensorflow.keras import Model\n",
    "from tensorflow.keras.layers import Dense, GlobalAveragePooling2D\n",
    "from tensorflow.keras import datasets, layers, models\n",
    "\n",
    "#Suppressing Warnings\n",
    "os.environ['TF_CPP_MIN_LOG_LEVEL'] = '3'\n",
    "\n",
    "tf.keras.backend.clear_session()\n",
    "\n",
    "# pre-processing\n",
    "train_path = '../Covid19-dataset/train'\n",
    "test_path = '../Covid19-dataset/test'\n",
    "\n",
    "img_size = 224\n",
    "batch = 16\n",
    "\n",
    "# Image loader\n",
    "from tensorflow.keras.preprocessing.image import ImageDataGenerator\n",
    "\n",
    "def generate_data(DIR):\n",
    "    datagen = ImageDataGenerator(rescale=1./255.)\n",
    "    \n",
    "    generator = datagen.flow_from_directory(\n",
    "        DIR,\n",
    "        batch_size=batch,\n",
    "        shuffle=True,\n",
    "        seed=42,\n",
    "        class_mode='categorical',\n",
    "        target_size=(img_size, img_size),\n",
    "        classes={'Normal': 0, 'Viral Pneumonia': 1,'Covid': 2}\n",
    "    )\n",
    "    return generator\n",
    "\n",
    "\n",
    "train_generator = generate_data(train_path)\n",
    "test_generator = generate_data(test_path)"
   ]
  },
  {
   "cell_type": "markdown",
   "metadata": {
    "id": "EO0BFF5oxraf"
   },
   "source": [
    "# Modelling"
   ]
  },
  {
   "cell_type": "code",
   "execution_count": 3,
   "metadata": {
    "execution": {
     "iopub.execute_input": "2022-11-23T23:25:44.676964Z",
     "iopub.status.busy": "2022-11-23T23:25:44.676518Z",
     "iopub.status.idle": "2022-11-23T23:25:44.861379Z",
     "shell.execute_reply": "2022-11-23T23:25:44.860000Z",
     "shell.execute_reply.started": "2022-11-23T23:25:44.676919Z"
    }
   },
   "outputs": [
    {
     "name": "stdout",
     "output_type": "stream",
     "text": [
      "Model: \"model\"\n",
      "_________________________________________________________________\n",
      " Layer (type)                Output Shape              Param #   \n",
      "=================================================================\n",
      " ImageInput (InputLayer)     [(None, 224, 224, 3)]     0         \n",
      "                                                                 \n",
      " conv2d (Conv2D)             (None, 224, 224, 32)      896       \n",
      "                                                                 \n",
      " max_pooling2d (MaxPooling2D  (None, 112, 112, 32)     0         \n",
      " )                                                               \n",
      "                                                                 \n",
      " separable_conv2d (Separable  (None, 112, 112, 32)     1344      \n",
      " Conv2D)                                                         \n",
      "                                                                 \n",
      " max_pooling2d_1 (MaxPooling  (None, 56, 56, 32)       0         \n",
      " 2D)                                                             \n",
      "                                                                 \n",
      " flatten (Flatten)           (None, 100352)            0         \n",
      "                                                                 \n",
      " dense (Dense)               (None, 512)               51380736  \n",
      "                                                                 \n",
      " dropout (Dropout)           (None, 512)               0         \n",
      "                                                                 \n",
      " dense_1 (Dense)             (None, 128)               65664     \n",
      "                                                                 \n",
      " dense_2 (Dense)             (None, 3)                 387       \n",
      "                                                                 \n",
      "=================================================================\n",
      "Total params: 51,449,027\n",
      "Trainable params: 51,449,027\n",
      "Non-trainable params: 0\n",
      "_________________________________________________________________\n"
     ]
    }
   ],
   "source": [
    "    \n",
    "def build_model(input_shape):\n",
    "    input_img = Input(shape=input_shape, name='ImageInput')\n",
    "    x = Conv2D(32, (3,3), activation='relu', padding='same')(input_img)\n",
    "    x = MaxPooling2D((2,2))(x)\n",
    "    \n",
    "    x = SeparableConv2D(32, (3,3), activation='relu', padding='same')(x)\n",
    "    x = MaxPooling2D((2,2))(x)\n",
    "    \n",
    "#     x = SeparableConv2D(64, (3,3), activation='relu', padding='same')(x)\n",
    "#     x = MaxPooling2D((2,2))(x)\n",
    "    \n",
    "    x = Flatten(name='flatten')(x)\n",
    "    x = Dense(512, activation='relu')(x)\n",
    "    x = Dropout(0.5)(x)\n",
    "    x = Dense(128, activation='relu')(x)\n",
    "    x = Dense(3, activation='softmax')(x)\n",
    "    \n",
    "    model = Model(inputs=input_img, outputs=x)\n",
    "    return model\n",
    "\n",
    "model = build_model(input_shape=(img_size, img_size, 3))\n",
    "\n",
    "# def COVID_NET(input_shape=(32, 32, 3)):\n",
    "#     model = models.Sequential()\n",
    "#     model.add(Conv2D(32, (3,3), activation='relu', input_shape=input_shape, padding=\"same\"))\n",
    "#     model.add(MaxPool2D(2, 2))\n",
    "#     model.add(Conv2D(32, (3,3), activation='relu', padding=\"same\"))\n",
    "#     model.add(MaxPool2D(2, 2))\n",
    "#     model.add(Conv2D(64, (3,3), activation='relu', padding=\"same\"))\n",
    "#     model.add(MaxPool2D(2, 2))\n",
    "#     model.add(Dropout(0.3))\n",
    "#     model.add(Flatten())\n",
    "#     model.add(Dense(1024, activation='relu'))\n",
    "#     model.add(Dense(512, activation='relu'))\n",
    "#     model.add(Dense(128, activation='relu'))\n",
    "#     model.add(Dense(3, activation='softmax'))\n",
    "#     return model\n",
    "# model = COVID_NET(input_shape=(img_size, img_size, 3))\n",
    "\n",
    "model.summary()    "
   ]
  },
  {
   "cell_type": "markdown",
   "metadata": {
    "id": "BmVdvwBzxrag"
   },
   "source": [
    "## Callback to save our best model during training"
   ]
  },
  {
   "cell_type": "code",
   "execution_count": 4,
   "metadata": {
    "execution": {
     "iopub.execute_input": "2022-11-23T23:25:47.540228Z",
     "iopub.status.busy": "2022-11-23T23:25:47.539344Z",
     "iopub.status.idle": "2022-11-23T23:25:47.555024Z",
     "shell.execute_reply": "2022-11-23T23:25:47.554097Z",
     "shell.execute_reply.started": "2022-11-23T23:25:47.540187Z"
    },
    "id": "d3h5C6IIxrag"
   },
   "outputs": [],
   "source": [
    "class myCallback(tf.keras.callbacks.Callback):\n",
    "  def on_epoch_end(self, epoch, logs={}):\n",
    "\n",
    "    if(logs.get('accuracy') > 0.91):\n",
    "      print(\"\\nReached 93% accuracy, canceling training\")\n",
    "      self.model.stop_training = True\n",
    "\n",
    "callbacks = [myCallback(), ModelCheckpoint('model.hdf5', save_best_only=True)]\n",
    "\n",
    "callbacks = [EarlyStopping(monitor='val_loss', patience=5, verbose=1),\n",
    "                ModelCheckpoint('model.hdf5',\n",
    "                                 save_best_only=True)]\n",
    "\n",
    "opt = Adam(learning_rate=0.0001, decay=1e-5)\n",
    "model.compile(\n",
    "  loss='categorical_crossentropy',\n",
    "  optimizer=opt,\n",
    "  metrics=['accuracy']\n",
    ")"
   ]
  },
  {
   "cell_type": "markdown",
   "metadata": {
    "id": "EqBnFD56xrah"
   },
   "source": [
    "# Training the Model"
   ]
  },
  {
   "cell_type": "code",
   "execution_count": null,
   "metadata": {
    "colab": {
     "base_uri": "https://localhost:8080/"
    },
    "execution": {
     "iopub.execute_input": "2022-11-23T23:25:51.092546Z",
     "iopub.status.busy": "2022-11-23T23:25:51.091354Z",
     "iopub.status.idle": "2022-11-23T23:35:38.101579Z",
     "shell.execute_reply": "2022-11-23T23:35:38.100375Z",
     "shell.execute_reply.started": "2022-11-23T23:25:51.092502Z"
    },
    "id": "WR13a2HDxrah",
    "outputId": "0edaf6e7-3e66-4af9-ee29-224207437b69"
   },
   "outputs": [
    {
     "name": "stdout",
     "output_type": "stream",
     "text": [
      "Epoch 1/100\n",
      "16/16 [==============================] - 17s 1s/step - loss: 0.9924 - accuracy: 0.5657 - val_loss: 0.8927 - val_accuracy: 0.6970\n",
      "Epoch 2/100\n",
      "16/16 [==============================] - 16s 974ms/step - loss: 0.6889 - accuracy: 0.7450 - val_loss: 0.6989 - val_accuracy: 0.7727\n",
      "Epoch 3/100\n",
      "16/16 [==============================] - 16s 1s/step - loss: 0.4659 - accuracy: 0.8606 - val_loss: 0.5841 - val_accuracy: 0.7879\n",
      "Epoch 4/100\n",
      "16/16 [==============================] - 16s 987ms/step - loss: 0.4119 - accuracy: 0.8526 - val_loss: 0.4829 - val_accuracy: 0.8182\n",
      "Epoch 5/100\n",
      "16/16 [==============================] - 16s 1s/step - loss: 0.2997 - accuracy: 0.8805 - val_loss: 0.4583 - val_accuracy: 0.8333\n",
      "Epoch 6/100\n",
      "16/16 [==============================] - 16s 994ms/step - loss: 0.2591 - accuracy: 0.9004 - val_loss: 0.4337 - val_accuracy: 0.8182\n",
      "Epoch 7/100\n",
      "16/16 [==============================] - 16s 968ms/step - loss: 0.2055 - accuracy: 0.9482 - val_loss: 0.3838 - val_accuracy: 0.8788\n",
      "Epoch 8/100\n",
      "16/16 [==============================] - 16s 1s/step - loss: 0.2265 - accuracy: 0.9163 - val_loss: 0.3674 - val_accuracy: 0.8485\n",
      "Epoch 9/100\n",
      "16/16 [==============================] - 16s 979ms/step - loss: 0.1999 - accuracy: 0.9203 - val_loss: 0.4234 - val_accuracy: 0.8636\n",
      "Epoch 10/100\n",
      "16/16 [==============================] - 16s 995ms/step - loss: 0.1704 - accuracy: 0.9482 - val_loss: 0.3355 - val_accuracy: 0.8939\n",
      "Epoch 11/100\n",
      "16/16 [==============================] - 13s 806ms/step - loss: 0.1676 - accuracy: 0.9323 - val_loss: 0.3530 - val_accuracy: 0.8939\n",
      "Epoch 12/100\n",
      "16/16 [==============================] - 11s 684ms/step - loss: 0.1654 - accuracy: 0.9402 - val_loss: 0.3272 - val_accuracy: 0.8939\n",
      "Epoch 13/100\n",
      "16/16 [==============================] - 11s 673ms/step - loss: 0.1177 - accuracy: 0.9641 - val_loss: 0.2958 - val_accuracy: 0.8939\n",
      "Epoch 14/100\n",
      "16/16 [==============================] - 10s 636ms/step - loss: 0.1002 - accuracy: 0.9721 - val_loss: 0.3395 - val_accuracy: 0.8939\n",
      "Epoch 15/100\n",
      "16/16 [==============================] - 11s 660ms/step - loss: 0.1134 - accuracy: 0.9641 - val_loss: 0.2696 - val_accuracy: 0.9091\n",
      "Epoch 16/100\n",
      "16/16 [==============================] - 10s 630ms/step - loss: 0.0952 - accuracy: 0.9681 - val_loss: 0.2931 - val_accuracy: 0.9091\n",
      "Epoch 17/100\n",
      "16/16 [==============================] - 11s 668ms/step - loss: 0.0685 - accuracy: 0.9801 - val_loss: 0.2373 - val_accuracy: 0.9394\n",
      "Epoch 18/100\n",
      "16/16 [==============================] - 11s 654ms/step - loss: 0.0441 - accuracy: 0.9960 - val_loss: 0.2279 - val_accuracy: 0.9394\n",
      "Epoch 19/100\n",
      "16/16 [==============================] - 11s 646ms/step - loss: 0.0577 - accuracy: 0.9841 - val_loss: 0.2267 - val_accuracy: 0.9394\n",
      "Epoch 20/100\n",
      "16/16 [==============================] - 10s 622ms/step - loss: 0.0382 - accuracy: 0.9960 - val_loss: 0.2660 - val_accuracy: 0.9091\n",
      "Epoch 21/100\n",
      "16/16 [==============================] - 10s 592ms/step - loss: 0.0455 - accuracy: 0.9880 - val_loss: 0.2313 - val_accuracy: 0.9242\n",
      "Epoch 22/100\n",
      "16/16 [==============================] - 10s 624ms/step - loss: 0.0423 - accuracy: 0.9880 - val_loss: 0.2817 - val_accuracy: 0.8939\n",
      "Epoch 23/100\n",
      "16/16 [==============================] - 11s 670ms/step - loss: 0.0363 - accuracy: 0.9960 - val_loss: 0.2191 - val_accuracy: 0.9242\n",
      "Epoch 24/100\n",
      "16/16 [==============================] - 10s 632ms/step - loss: 0.0426 - accuracy: 0.9880 - val_loss: 0.3026 - val_accuracy: 0.8939\n",
      "Epoch 25/100\n",
      "16/16 [==============================] - 10s 631ms/step - loss: 0.0384 - accuracy: 0.9880 - val_loss: 0.2490 - val_accuracy: 0.9242\n",
      "Epoch 26/100\n",
      "16/16 [==============================] - 10s 626ms/step - loss: 0.0222 - accuracy: 0.9960 - val_loss: 0.2630 - val_accuracy: 0.9091\n",
      "Epoch 27/100\n",
      "12/16 [=====================>........] - ETA: 2s - loss: 0.0212 - accuracy: 1.0000"
     ]
    }
   ],
   "source": [
    "history = model.fit(train_generator,\n",
    "                    epochs = 100,\n",
    "                    validation_data = test_generator,\n",
    "                    verbose = True,\n",
    "                   callbacks=callbacks)"
   ]
  },
  {
   "cell_type": "markdown",
   "metadata": {
    "id": "69o9jZOExrah"
   },
   "source": [
    "# Evaluation"
   ]
  },
  {
   "cell_type": "code",
   "execution_count": 96,
   "metadata": {
    "execution": {
     "iopub.execute_input": "2022-11-23T23:35:46.556639Z",
     "iopub.status.busy": "2022-11-23T23:35:46.556204Z",
     "iopub.status.idle": "2022-11-23T23:36:03.990679Z",
     "shell.execute_reply": "2022-11-23T23:36:03.989470Z",
     "shell.execute_reply.started": "2022-11-23T23:35:46.556605Z"
    },
    "id": "A_evITN6xrah"
   },
   "outputs": [],
   "source": [
    "from tensorflow.keras.models import load_model\n",
    "import pandas as pd\n",
    "\n",
    "# convert the history.history dict to a pandas DataFrame:     \n",
    "hist_df = pd.DataFrame(history.history) \n",
    "\n",
    "# or save to csv: \n",
    "hist_csv_file = 'history_32.csv'\n",
    "with open(hist_csv_file, mode='w') as f:\n",
    "    hist_df.to_csv(f)\n",
    "\n",
    "model = load_model('./model.hdf5')\n",
    "\n",
    "def learning_curve(model_fit, key='accuracy', ylim=(0, 1.01)):\n",
    "    plt.figure(figsize=(12,6))\n",
    "    plt.plot(model_fit.history[key])\n",
    "    plt.plot(model_fit.history['val_' + key])\n",
    "    plt.title('Learning Curve')\n",
    "    plt.ylabel(key.title())\n",
    "    plt.xlabel('Epoch')\n",
    "    plt.ylim(ylim)\n",
    "    plt.legend(['train', 'val'], loc='best')\n",
    "    plt.show()"
   ]
  },
  {
   "cell_type": "markdown",
   "metadata": {
    "id": "4tNBBRMFxrah"
   },
   "source": [
    "### Loading our best model"
   ]
  },
  {
   "cell_type": "code",
   "execution_count": 97,
   "metadata": {
    "colab": {
     "base_uri": "https://localhost:8080/",
     "height": 791
    },
    "execution": {
     "iopub.execute_input": "2022-11-23T23:36:09.647925Z",
     "iopub.status.busy": "2022-11-23T23:36:09.647171Z",
     "iopub.status.idle": "2022-11-23T23:36:10.135250Z",
     "shell.execute_reply": "2022-11-23T23:36:10.134344Z",
     "shell.execute_reply.started": "2022-11-23T23:36:09.647886Z"
    },
    "id": "Z0-SV05rxrai",
    "outputId": "1354b05b-aa1e-4aeb-ead7-3b4623938265"
   },
   "outputs": [
    {
     "data": {
      "image/png": "[encoded data removed]",
      "text/plain": [
       "<Figure size 1200x600 with 1 Axes>"
      ]
     },
     "metadata": {},
     "output_type": "display_data"
    },
    {
     "data": {
      "image/png": "[encoded data removed]",
      "text/plain": [
       "<Figure size 1200x600 with 1 Axes>"
      ]
     },
     "metadata": {},
     "output_type": "display_data"
    }
   ],
   "source": [
    "learning_curve(history,'loss', ylim=(0,2))\n",
    "learning_curve(history, 'accuracy', ylim=(0,1))"
   ]
  },
  {
   "cell_type": "code",
   "execution_count": 98,
   "metadata": {
    "colab": {
     "base_uri": "https://localhost:8080/"
    },
    "execution": {
     "iopub.execute_input": "2022-11-23T23:36:13.834683Z",
     "iopub.status.busy": "2022-11-23T23:36:13.834206Z",
     "iopub.status.idle": "2022-11-23T23:36:16.357961Z",
     "shell.execute_reply": "2022-11-23T23:36:16.356525Z",
     "shell.execute_reply.started": "2022-11-23T23:36:13.834644Z"
    },
    "id": "DbETeiNVxrai",
    "outputId": "760d2c0a-ff11-467d-c2e7-f7852f85f8e8"
   },
   "outputs": [
    {
     "name": "stdout",
     "output_type": "stream",
     "text": [
      "5/5 [==============================] - 2s 199ms/step - loss: 0.2610 - accuracy: 0.8939\n",
      "Loss: 26.100\n",
      "Accuracy: 89.394\n"
     ]
    }
   ],
   "source": [
    "test_loss, test_acc = model.evaluate(test_generator, steps=len(test_generator), verbose=1)\n",
    "print('Loss: %.3f' % (test_loss * 100.0))\n",
    "print('Accuracy: %.3f' % (test_acc * 100.0)) "
   ]
  },
  {
   "cell_type": "markdown",
   "metadata": {
    "id": "6G4wfP85xrai"
   },
   "source": [
    "**We got a good model with an accuracry of 95%**"
   ]
  },
  {
   "cell_type": "code",
   "execution_count": 80,
   "metadata": {
    "colab": {
     "base_uri": "https://localhost:8080/"
    },
    "execution": {
     "iopub.execute_input": "2022-11-23T23:36:41.852633Z",
     "iopub.status.busy": "2022-11-23T23:36:41.852217Z",
     "iopub.status.idle": "2022-11-23T23:36:44.161000Z",
     "shell.execute_reply": "2022-11-23T23:36:44.159789Z",
     "shell.execute_reply.started": "2022-11-23T23:36:41.852599Z"
    },
    "id": "atXhmOsZxrai",
    "outputId": "2a78d7ae-5e9c-48a1-fe0d-a9a6caa056a5"
   },
   "outputs": [
    {
     "name": "stdout",
     "output_type": "stream",
     "text": [
      "5/5 [==============================] - 1s 202ms/step\n"
     ]
    },
    {
     "data": {
      "text/plain": [
       "(array([2, 0, 0, 1, 2, 1, 2, 1, 2, 1, 0, 2, 0, 2, 2, 0, 0, 2, 2, 0, 0, 2,\n",
       "        1, 2, 2, 0, 0, 2, 0, 1, 0, 1, 2, 1, 2, 0, 2, 2, 0, 2, 1, 0, 1, 1,\n",
       "        0, 2, 2, 0, 1, 0, 1, 2, 1, 2, 2, 2, 2, 2, 1, 0, 1, 0, 2, 1, 2, 0]),\n",
       " array([0, 0, 0, 0, 0, 0, 0, 0, 0, 0, 0, 0, 0, 0, 0, 0, 0, 0, 0, 0, 1, 1,\n",
       "        1, 1, 1, 1, 1, 1, 1, 1, 1, 1, 1, 1, 1, 1, 1, 1, 1, 1, 2, 2, 2, 2,\n",
       "        2, 2, 2, 2, 2, 2, 2, 2, 2, 2, 2, 2, 2, 2, 2, 2, 2, 2, 2, 2, 2, 2],\n",
       "       dtype=int32))"
      ]
     },
     "execution_count": 80,
     "metadata": {},
     "output_type": "execute_result"
    }
   ],
   "source": [
    "predictions = np.argmax(model.predict(test_generator),axis=1)\n",
    "labels = test_generator.classes\n",
    "predictions , labels"
   ]
  },
  {
   "cell_type": "code",
   "execution_count": 81,
   "metadata": {
    "colab": {
     "base_uri": "https://localhost:8080/"
    },
    "execution": {
     "iopub.execute_input": "2022-11-23T23:36:46.338070Z",
     "iopub.status.busy": "2022-11-23T23:36:46.337594Z",
     "iopub.status.idle": "2022-11-23T23:36:46.347191Z",
     "shell.execute_reply": "2022-11-23T23:36:46.345636Z",
     "shell.execute_reply.started": "2022-11-23T23:36:46.338018Z"
    },
    "id": "6e2s9WG5xrai",
    "outputId": "9ce7d45b-86f1-4d8f-b096-43321774ac8e"
   },
   "outputs": [
    {
     "data": {
      "text/plain": [
       "['Viral Pneumonia', 'Normal', 'Covid']"
      ]
     },
     "execution_count": 81,
     "metadata": {},
     "output_type": "execute_result"
    }
   ],
   "source": [
    "classes = []\n",
    "for i in os.listdir(test_path):\n",
    "    classes+=[i]\n",
    "\n",
    "classes"
   ]
  },
  {
   "cell_type": "markdown",
   "metadata": {
    "id": "IIHft9UFxraj"
   },
   "source": [
    "### Function To Calculate F1-Score"
   ]
  },
  {
   "cell_type": "code",
   "execution_count": 82,
   "metadata": {
    "execution": {
     "iopub.execute_input": "2022-11-23T23:36:48.865307Z",
     "iopub.status.busy": "2022-11-23T23:36:48.864890Z",
     "iopub.status.idle": "2022-11-23T23:36:48.874802Z",
     "shell.execute_reply": "2022-11-23T23:36:48.873322Z",
     "shell.execute_reply.started": "2022-11-23T23:36:48.865271Z"
    },
    "id": "TDmQZICTxraj"
   },
   "outputs": [],
   "source": [
    "def fbeta(y_true, y_pred, threshold_shift=0):\n",
    "    beta_squared = 4\n",
    "\n",
    "    y_pred = K.clip(y_pred, 0, 1)\n",
    " \n",
    "    y_pred_bin = K.round(y_pred + threshold_shift)\n",
    " \n",
    "    tp = K.sum(K.round(y_true * y_pred_bin)) + K.epsilon()\n",
    "    fp = K.sum(K.round(K.clip(y_pred_bin - y_true, 0, 1)))\n",
    "    fn = K.sum(K.round(K.clip(y_true - y_pred, 0, 1)))\n",
    " \n",
    "    precision = tp / (tp + fp)\n",
    "    recall = tp / (tp + fn)\n",
    " \n",
    "    return (beta_squared + 1) * (precision * recall) / (beta_squared * precision + recall + K.epsilon())"
   ]
  },
  {
   "cell_type": "markdown",
   "metadata": {
    "id": "Pj8pAI1zxraj"
   },
   "source": [
    "### Function To Plot Confusion Matrix"
   ]
  },
  {
   "cell_type": "code",
   "execution_count": 83,
   "metadata": {
    "execution": {
     "iopub.execute_input": "2022-11-23T23:36:51.798861Z",
     "iopub.status.busy": "2022-11-23T23:36:51.798385Z",
     "iopub.status.idle": "2022-11-23T23:36:51.806582Z",
     "shell.execute_reply": "2022-11-23T23:36:51.805287Z",
     "shell.execute_reply.started": "2022-11-23T23:36:51.798814Z"
    },
    "id": "dyXYCMUrxraj"
   },
   "outputs": [],
   "source": [
    "def confusion_matrix_plot(matrix):\n",
    "    plt.figure(figsize=(12,10))\n",
    "    cmap = \"YlGnBu\"\n",
    "    ax= plt.subplot()\n",
    "    sns.heatmap(matrix, annot=True, fmt='g', ax=ax, cmap=cmap);  #annot=True to annotate cells, ftm='g' to disable scientific notation\n",
    "    plt.savefig('./img1.png')\n",
    "    # labels, title and ticks\n",
    "    ax.set_xlabel('Predicted labels');\n",
    "    ax.set_ylabel('True labels'); \n",
    "    ax.set_title('Confusion Matrix'); \n",
    "    ax.xaxis.set_ticklabels(classes); \n",
    "    ax.yaxis.set_ticklabels(classes[::-1]);\n",
    "    plt.show()"
   ]
  },
  {
   "cell_type": "markdown",
   "metadata": {
    "id": "geITsQMfxraj"
   },
   "source": [
    "### Function To Calculate Confusion Matrix"
   ]
  },
  {
   "cell_type": "code",
   "execution_count": 84,
   "metadata": {
    "execution": {
     "iopub.execute_input": "2022-11-23T23:36:55.120158Z",
     "iopub.status.busy": "2022-11-23T23:36:55.119694Z",
     "iopub.status.idle": "2022-11-23T23:36:55.127309Z",
     "shell.execute_reply": "2022-11-23T23:36:55.125935Z",
     "shell.execute_reply.started": "2022-11-23T23:36:55.120119Z"
    },
    "id": "S8AksiP8xraj"
   },
   "outputs": [],
   "source": [
    "def cal_score(model, key):\n",
    "    matrix = confusion_matrix(predictions, labels)\n",
    "    print(matrix)\n",
    "    print('\\n')\n",
    "\n",
    "    f1 = f1_score(predictions, labels, average='weighted')\n",
    "    print(f'F1 Score: {f1}')\n",
    "    print('\\n')\n",
    "    \n",
    "    print(classification_report(predictions, labels, target_names=classes))\n",
    "    \n",
    "    if key==1:\n",
    "        confusion_matrix_plot(matrix)"
   ]
  },
  {
   "cell_type": "code",
   "execution_count": 85,
   "metadata": {
    "colab": {
     "base_uri": "https://localhost:8080/"
    },
    "execution": {
     "iopub.execute_input": "2022-11-23T23:36:57.864885Z",
     "iopub.status.busy": "2022-11-23T23:36:57.864451Z",
     "iopub.status.idle": "2022-11-23T23:36:58.275725Z",
     "shell.execute_reply": "2022-11-23T23:36:58.274203Z",
     "shell.execute_reply.started": "2022-11-23T23:36:57.864848Z"
    },
    "id": "8-QO4H0exrak",
    "outputId": "bb125730-ee48-4f0f-ef24-5d3f90bc35aa"
   },
   "outputs": [
    {
     "name": "stdout",
     "output_type": "stream",
     "text": [
      "[[ 7  7  7]\n",
      " [ 4  4  9]\n",
      " [ 9  9 10]]\n",
      "\n",
      "\n",
      "F1 Score: 0.32146632959641086\n",
      "\n",
      "\n",
      "                 precision    recall  f1-score   support\n",
      "\n",
      "Viral Pneumonia       0.35      0.33      0.34        21\n",
      "         Normal       0.20      0.24      0.22        17\n",
      "          Covid       0.38      0.36      0.37        28\n",
      "\n",
      "       accuracy                           0.32        66\n",
      "      macro avg       0.31      0.31      0.31        66\n",
      "   weighted avg       0.33      0.32      0.32        66\n",
      "\n"
     ]
    },
    {
     "data": {
      "image/png": "[encoded data removed]",
      "text/plain": [
       "<Figure size 1200x1000 with 2 Axes>"
      ]
     },
     "metadata": {},
     "output_type": "display_data"
    }
   ],
   "source": [
    "cal_score(model, 1)"
   ]
  },
  {
   "cell_type": "code",
   "execution_count": null,
   "metadata": {},
   "outputs": [],
   "source": []
  }
 ],
 "metadata": {
  "accelerator": "GPU",
  "colab": {
   "provenance": []
  },
  "gpuClass": "standard",
  "kernelspec": {
   "display_name": "Python 3 (ipykernel)",
   "language": "python",
   "name": "python3"
  },
  "language_info": {
   "codemirror_mode": {
    "name": "ipython",
    "version": 3
   },
   "file_extension": ".py",
   "mimetype": "text/x-python",
   "name": "python",
   "nbconvert_exporter": "python",
   "pygments_lexer": "ipython3",
   "version": "3.9.6"
  }
 },
 "nbformat": 4,
 "nbformat_minor": 4
}
