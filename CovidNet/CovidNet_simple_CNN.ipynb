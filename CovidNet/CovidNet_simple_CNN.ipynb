{
  "metadata": {
    "accelerator": "GPU",
    "colab": {
      "provenance": []
    },
    "gpuClass": "standard",
    "kernelspec": {
      "display_name": "Python 3",
      "language": "python",
      "name": "python3"
    },
    "language_info": {
      "codemirror_mode": {
        "name": "ipython",
        "version": 3
      },
      "file_extension": ".py",
      "mimetype": "text/x-python",
      "name": "python",
      "nbconvert_exporter": "python",
      "pygments_lexer": "ipython3",
      "version": "3.7.12"
    }
  },
  "nbformat_minor": 0,
  "nbformat": 4,
  "cells": [
    {
      "cell_type": "code",
      "source": [
        "import pandas as pd\n",
        "import numpy as np\n",
        "import tensorflow as tf\n",
        "import matplotlib.pyplot as plt\n",
        "import matplotlib.image as mpimg\n",
        "import seaborn as sns\n",
        "import pathlib\n",
        "import random\n",
        "import os\n",
        "\n",
        "import tensorflow.keras as keras\n",
        "from tensorflow.keras.preprocessing import image_dataset_from_directory\n",
        "from tensorflow.keras.layers.experimental import preprocessing\n",
        "from tensorflow.keras.applications.vgg16 import VGG16\n",
        "from tensorflow.keras.applications.resnet50 import ResNet50\n",
        "from tensorflow.keras.applications.resnet import ResNet101\n",
        "from tensorflow.keras.applications.efficientnet import EfficientNetB0\n",
        "from tensorflow.keras.applications.densenet import DenseNet121\n",
        "from tensorflow.keras.optimizers import Adam\n",
        "from sklearn.metrics import accuracy_score, precision_score, recall_score, f1_score, cohen_kappa_score, roc_auc_score, confusion_matrix\n",
        "from sklearn.metrics import classification_report\n",
        "from keras.layers import Dense, Dropout, Activation, Flatten, BatchNormalization, Conv2D, MaxPool2D, MaxPooling2D\n",
        "from tensorflow.keras.callbacks import ReduceLROnPlateau, ModelCheckpoint, EarlyStopping\n",
        "from tensorflow.keras import Model\n",
        "from tensorflow.keras.layers import Dense, GlobalAveragePooling2D\n",
        "from tensorflow.keras import datasets, layers, models\n",
        "\n",
        "#Suppressing Warnings\n",
        "os.environ['TF_CPP_MIN_LOG_LEVEL'] = '3'"
      ],
      "metadata": {
        "id": "ezs0rh7exraZ",
        "execution": {
          "iopub.status.busy": "2022-11-22T04:58:24.993006Z",
          "iopub.execute_input": "2022-11-22T04:58:24.993668Z",
          "iopub.status.idle": "2022-11-22T04:58:25.007718Z",
          "shell.execute_reply.started": "2022-11-22T04:58:24.993630Z",
          "shell.execute_reply": "2022-11-22T04:58:25.006268Z"
        },
        "trusted": true
      },
      "execution_count": null,
      "outputs": []
    },
    {
      "cell_type": "code",
      "source": [
        "tf.keras.backend.clear_session()"
      ],
      "metadata": {
        "id": "pTIMSWToxrab",
        "execution": {
          "iopub.status.busy": "2022-11-22T04:58:27.695578Z",
          "iopub.execute_input": "2022-11-22T04:58:27.696296Z",
          "iopub.status.idle": "2022-11-22T04:58:27.718371Z",
          "shell.execute_reply.started": "2022-11-22T04:58:27.696232Z",
          "shell.execute_reply": "2022-11-22T04:58:27.717428Z"
        },
        "trusted": true
      },
      "execution_count": null,
      "outputs": []
    },
    {
      "cell_type": "markdown",
      "source": [
        "# Preprocessing"
      ],
      "metadata": {
        "id": "K6ROmrXXxrab"
      }
    },
    {
      "cell_type": "code",
      "source": [
        "train_path = '../input/covid19-image-dataset/Covid19-dataset/train'\n",
        "test_path = '../input/covid19-image-dataset/Covid19-dataset/test'"
      ],
      "metadata": {
        "id": "OjG5W-7Nxrab",
        "execution": {
          "iopub.status.busy": "2022-11-22T04:58:30.492165Z",
          "iopub.execute_input": "2022-11-22T04:58:30.492627Z",
          "iopub.status.idle": "2022-11-22T04:58:30.498655Z",
          "shell.execute_reply.started": "2022-11-22T04:58:30.492589Z",
          "shell.execute_reply": "2022-11-22T04:58:30.497187Z"
        },
        "trusted": true
      },
      "execution_count": null,
      "outputs": []
    },
    {
      "cell_type": "code",
      "source": [
        "img_size = 224\n",
        "batch = 16"
      ],
      "metadata": {
        "id": "7A5QSHl_xrae",
        "execution": {
          "iopub.status.busy": "2022-11-22T04:58:33.071451Z",
          "iopub.execute_input": "2022-11-22T04:58:33.071936Z",
          "iopub.status.idle": "2022-11-22T04:58:33.077829Z",
          "shell.execute_reply.started": "2022-11-22T04:58:33.071901Z",
          "shell.execute_reply": "2022-11-22T04:58:33.076974Z"
        },
        "trusted": true
      },
      "execution_count": null,
      "outputs": []
    },
    {
      "cell_type": "markdown",
      "source": [
        "# Image Loader"
      ],
      "metadata": {
        "id": "tIP6r3YPxrae"
      }
    },
    {
      "cell_type": "code",
      "source": [
        "from tensorflow.keras.preprocessing.image import ImageDataGenerator"
      ],
      "metadata": {
        "id": "ru6jLhDKxrae",
        "execution": {
          "iopub.status.busy": "2022-11-22T04:58:35.527015Z",
          "iopub.execute_input": "2022-11-22T04:58:35.527523Z",
          "iopub.status.idle": "2022-11-22T04:58:35.534763Z",
          "shell.execute_reply.started": "2022-11-22T04:58:35.527481Z",
          "shell.execute_reply": "2022-11-22T04:58:35.533711Z"
        },
        "trusted": true
      },
      "execution_count": null,
      "outputs": []
    },
    {
      "cell_type": "code",
      "source": [
        "def generate_data(DIR):\n",
        "    datagen = ImageDataGenerator(rescale=1./255.)\n",
        "    \n",
        "    generator = datagen.flow_from_directory(\n",
        "        DIR,\n",
        "        batch_size=batch,\n",
        "        shuffle=True,\n",
        "        seed=42,\n",
        "        class_mode='categorical',\n",
        "        target_size=(img_size, img_size),\n",
        "        classes={'Normal': 0, 'Viral Pneumonia': 1,'Covid': 2}\n",
        "    )\n",
        "    return generator"
      ],
      "metadata": {
        "id": "ID6_CIp34mEg",
        "execution": {
          "iopub.status.busy": "2022-11-22T04:58:37.608584Z",
          "iopub.execute_input": "2022-11-22T04:58:37.609109Z",
          "iopub.status.idle": "2022-11-22T04:58:37.616852Z",
          "shell.execute_reply.started": "2022-11-22T04:58:37.609063Z",
          "shell.execute_reply": "2022-11-22T04:58:37.615497Z"
        },
        "trusted": true
      },
      "execution_count": null,
      "outputs": []
    },
    {
      "cell_type": "code",
      "source": [
        "train_generator = generate_data(train_path)\n",
        "\n",
        "test_generator = generate_data(test_path)"
      ],
      "metadata": {
        "colab": {
          "base_uri": "https://localhost:8080/"
        },
        "id": "j4QPh7Ogxrae",
        "outputId": "542cb9e1-1382-4e9a-a425-3f472b1c3235",
        "execution": {
          "iopub.status.busy": "2022-11-22T04:58:40.213556Z",
          "iopub.execute_input": "2022-11-22T04:58:40.214065Z",
          "iopub.status.idle": "2022-11-22T04:58:40.427433Z",
          "shell.execute_reply.started": "2022-11-22T04:58:40.214025Z",
          "shell.execute_reply": "2022-11-22T04:58:40.426490Z"
        },
        "trusted": true
      },
      "execution_count": null,
      "outputs": [
        {
          "name": "stdout",
          "text": "Found 251 images belonging to 3 classes.\nFound 66 images belonging to 3 classes.\n",
          "output_type": "stream"
        }
      ]
    },
    {
      "cell_type": "markdown",
      "source": [
        "# Modelling"
      ],
      "metadata": {
        "id": "EO0BFF5oxraf"
      }
    },
    {
      "cell_type": "code",
      "source": [
        "# ref: https://www.kaggle.com/code/vishnukmenon/covid-19-cnn\n",
        "def COVID_NET(input_shape=(32, 32, 3)):\n",
        "    model = models.Sequential()\n",
        "    model.add(Conv2D(32, (3,3), activation='relu', input_shape=input_shape, padding=\"same\"))\n",
        "    model.add(MaxPool2D(2, 2))\n",
        "    model.add(Conv2D(32, (3,3), activation='relu', padding=\"same\"))\n",
        "    model.add(MaxPool2D(2, 2))\n",
        "    model.add(Conv2D(64, (3,3), activation='relu', padding=\"same\"))\n",
        "    model.add(MaxPool2D(2, 2))\n",
        "    model.add(Dropout(0.3))\n",
        "    model.add(Flatten())\n",
        "    model.add(Dense(1024, activation='relu'))\n",
        "    model.add(Dense(512, activation='relu'))\n",
        "    model.add(Dense(128, activation='relu'))\n",
        "    model.add(Dense(3, activation='softmax'))\n",
        "    return model\n",
        "model = COVID_NET(input_shape=(img_size, img_size, 3))"
      ],
      "metadata": {
        "execution": {
          "iopub.status.busy": "2022-11-22T04:58:43.085444Z",
          "iopub.execute_input": "2022-11-22T04:58:43.086024Z",
          "iopub.status.idle": "2022-11-22T04:58:43.813032Z",
          "shell.execute_reply.started": "2022-11-22T04:58:43.085978Z",
          "shell.execute_reply": "2022-11-22T04:58:43.811798Z"
        },
        "trusted": true,
        "id": "gR7Z7prmJWXZ"
      },
      "execution_count": null,
      "outputs": []
    },
    {
      "cell_type": "markdown",
      "source": [
        "## Save our best model during training"
      ],
      "metadata": {
        "id": "BmVdvwBzxrag"
      }
    },
    {
      "cell_type": "code",
      "source": [
        "callbacks = [EarlyStopping(monitor='val_loss', patience=5, verbose=1),\n",
        "                ModelCheckpoint('model.hdf5',\n",
        "                                 save_best_only=True)]"
      ],
      "metadata": {
        "id": "d3h5C6IIxrag",
        "execution": {
          "iopub.status.busy": "2022-11-22T04:58:47.830335Z",
          "iopub.execute_input": "2022-11-22T04:58:47.831287Z",
          "iopub.status.idle": "2022-11-22T04:58:47.837489Z",
          "shell.execute_reply.started": "2022-11-22T04:58:47.831235Z",
          "shell.execute_reply": "2022-11-22T04:58:47.836059Z"
        },
        "trusted": true
      },
      "execution_count": null,
      "outputs": []
    },
    {
      "cell_type": "code",
      "source": [
        "opt = Adam(learning_rate=0.001)\n",
        "model.compile(\n",
        "  loss='categorical_crossentropy',\n",
        "  optimizer=opt,\n",
        "  metrics=['accuracy']\n",
        ")"
      ],
      "metadata": {
        "id": "XUZysSETxrag",
        "execution": {
          "iopub.status.busy": "2022-11-22T04:58:50.312740Z",
          "iopub.execute_input": "2022-11-22T04:58:50.313560Z",
          "iopub.status.idle": "2022-11-22T04:58:50.332997Z",
          "shell.execute_reply.started": "2022-11-22T04:58:50.313512Z",
          "shell.execute_reply": "2022-11-22T04:58:50.331624Z"
        },
        "trusted": true
      },
      "execution_count": null,
      "outputs": []
    },
    {
      "cell_type": "markdown",
      "source": [
        "# Training the Model"
      ],
      "metadata": {
        "id": "EqBnFD56xrah"
      }
    },
    {
      "cell_type": "code",
      "source": [
        "history = model.fit(train_generator,\n",
        "                    epochs = 100,\n",
        "                    validation_data = test_generator,\n",
        "                    verbose = True,\n",
        "                   callbacks=callbacks)"
      ],
      "metadata": {
        "colab": {
          "base_uri": "https://localhost:8080/"
        },
        "id": "WR13a2HDxrah",
        "outputId": "0edaf6e7-3e66-4af9-ee29-224207437b69",
        "execution": {
          "iopub.status.busy": "2022-11-22T04:58:52.626904Z",
          "iopub.execute_input": "2022-11-22T04:58:52.627847Z",
          "iopub.status.idle": "2022-11-22T05:03:37.000701Z",
          "shell.execute_reply.started": "2022-11-22T04:58:52.627803Z",
          "shell.execute_reply": "2022-11-22T05:03:36.999472Z"
        },
        "trusted": true
      },
      "execution_count": null,
      "outputs": [
        {
          "name": "stdout",
          "text": "Epoch 1/100\n16/16 [==============================] - 24s 1s/step - loss: 1.5952 - accuracy: 0.5060 - val_loss: 0.9596 - val_accuracy: 0.4394\nEpoch 2/100\n16/16 [==============================] - 19s 1s/step - loss: 0.5314 - accuracy: 0.8167 - val_loss: 0.9979 - val_accuracy: 0.6818\nEpoch 3/100\n16/16 [==============================] - 19s 1s/step - loss: 0.3589 - accuracy: 0.8685 - val_loss: 0.3646 - val_accuracy: 0.8485\nEpoch 4/100\n16/16 [==============================] - 19s 1s/step - loss: 0.2181 - accuracy: 0.9004 - val_loss: 0.3993 - val_accuracy: 0.7879\nEpoch 5/100\n16/16 [==============================] - 19s 1s/step - loss: 0.1208 - accuracy: 0.9602 - val_loss: 0.3421 - val_accuracy: 0.8485\nEpoch 6/100\n16/16 [==============================] - 19s 1s/step - loss: 0.1025 - accuracy: 0.9721 - val_loss: 0.2540 - val_accuracy: 0.9091\nEpoch 7/100\n16/16 [==============================] - 19s 1s/step - loss: 0.0292 - accuracy: 0.9960 - val_loss: 0.3577 - val_accuracy: 0.8485\nEpoch 8/100\n16/16 [==============================] - 19s 1s/step - loss: 0.0805 - accuracy: 0.9761 - val_loss: 0.3886 - val_accuracy: 0.8485\nEpoch 9/100\n16/16 [==============================] - 19s 1s/step - loss: 0.1341 - accuracy: 0.9562 - val_loss: 1.1477 - val_accuracy: 0.7273\nEpoch 10/100\n16/16 [==============================] - 19s 1s/step - loss: 0.1388 - accuracy: 0.9442 - val_loss: 0.8172 - val_accuracy: 0.7576\nEpoch 11/100\n16/16 [==============================] - 19s 1s/step - loss: 0.0972 - accuracy: 0.9641 - val_loss: 0.5238 - val_accuracy: 0.8333\nEpoch 00011: early stopping\n",
          "output_type": "stream"
        }
      ]
    },
    {
      "cell_type": "markdown",
      "source": [
        "# Evaluation"
      ],
      "metadata": {
        "id": "69o9jZOExrah"
      }
    },
    {
      "cell_type": "code",
      "source": [
        "from tensorflow.keras.models import load_model"
      ],
      "metadata": {
        "id": "A_evITN6xrah",
        "execution": {
          "iopub.status.busy": "2022-11-22T05:03:41.949093Z",
          "iopub.execute_input": "2022-11-22T05:03:41.949582Z",
          "iopub.status.idle": "2022-11-22T05:03:41.957856Z",
          "shell.execute_reply.started": "2022-11-22T05:03:41.949545Z",
          "shell.execute_reply": "2022-11-22T05:03:41.956269Z"
        },
        "trusted": true
      },
      "execution_count": null,
      "outputs": []
    },
    {
      "cell_type": "code",
      "source": [
        "import pandas as pd\n",
        "\n",
        "# convert the history.history dict to a pandas DataFrame:     \n",
        "hist_df = pd.DataFrame(history.history) \n",
        "\n",
        "# or save to csv: \n",
        "hist_csv_file = 'history.csv'\n",
        "with open(hist_csv_file, mode='w') as f:\n",
        "    hist_df.to_csv(f)"
      ],
      "metadata": {
        "id": "25608KkWB1K7",
        "execution": {
          "iopub.status.busy": "2022-11-22T05:03:44.955969Z",
          "iopub.execute_input": "2022-11-22T05:03:44.956524Z",
          "iopub.status.idle": "2022-11-22T05:03:44.983209Z",
          "shell.execute_reply.started": "2022-11-22T05:03:44.956473Z",
          "shell.execute_reply": "2022-11-22T05:03:44.980780Z"
        },
        "trusted": true
      },
      "execution_count": null,
      "outputs": []
    },
    {
      "cell_type": "markdown",
      "source": [
        "### Loading best model"
      ],
      "metadata": {
        "id": "4tNBBRMFxrah"
      }
    },
    {
      "cell_type": "code",
      "source": [
        "model = load_model('./model.hdf5')"
      ],
      "metadata": {
        "id": "9uwIimXGxrah",
        "execution": {
          "iopub.status.busy": "2022-11-22T05:03:52.208329Z",
          "iopub.execute_input": "2022-11-22T05:03:52.208708Z",
          "iopub.status.idle": "2022-11-22T05:03:53.452201Z",
          "shell.execute_reply.started": "2022-11-22T05:03:52.208678Z",
          "shell.execute_reply": "2022-11-22T05:03:53.450810Z"
        },
        "trusted": true
      },
      "execution_count": null,
      "outputs": []
    },
    {
      "cell_type": "code",
      "source": [
        "def learning_curve(model_fit, key='accuracy', ylim=(0, 1.01)):\n",
        "    plt.figure(figsize=(12,6))\n",
        "    plt.plot(model_fit.history[key])\n",
        "    plt.plot(model_fit.history['val_' + key])\n",
        "    plt.title('Learning Curve')\n",
        "    plt.ylabel(key.title())\n",
        "    plt.xlabel('Epoch')\n",
        "    plt.ylim(ylim)\n",
        "    plt.legend(['train', 'val'], loc='best')\n",
        "    plt.show()"
      ],
      "metadata": {
        "id": "zLzKB5KIxrai",
        "execution": {
          "iopub.status.busy": "2022-11-22T05:03:56.704962Z",
          "iopub.execute_input": "2022-11-22T05:03:56.705377Z",
          "iopub.status.idle": "2022-11-22T05:03:56.713653Z",
          "shell.execute_reply.started": "2022-11-22T05:03:56.705342Z",
          "shell.execute_reply": "2022-11-22T05:03:56.712162Z"
        },
        "trusted": true
      },
      "execution_count": null,
      "outputs": []
    },
    {
      "cell_type": "code",
      "source": [
        "learning_curve(history,'loss', ylim=(0,2))\n",
        "learning_curve(history, 'accuracy', ylim=(0,1))"
      ],
      "metadata": {
        "colab": {
          "base_uri": "https://localhost:8080/",
          "height": 791
        },
        "id": "Z0-SV05rxrai",
        "outputId": "1354b05b-aa1e-4aeb-ead7-3b4623938265",
        "execution": {
          "iopub.status.busy": "2022-11-22T05:04:05.050636Z",
          "iopub.execute_input": "2022-11-22T05:04:05.051161Z",
          "iopub.status.idle": "2022-11-22T05:04:05.411694Z",
          "shell.execute_reply.started": "2022-11-22T05:04:05.051115Z",
          "shell.execute_reply": "2022-11-22T05:04:05.410288Z"
        },
        "trusted": true
      },
      "execution_count": null,
      "outputs": [
        {
          "output_type": "display_data",
          "data": {
            "text/plain": "<Figure size 864x432 with 1 Axes>",
            "image/png": "[encoded data removed]"
          },
          "metadata": {
            "needs_background": "light"
          }
        },
        {
          "output_type": "display_data",
          "data": {
            "text/plain": "<Figure size 864x432 with 1 Axes>",
            "image/png": "[encoded data removed]"
          },
          "metadata": {
            "needs_background": "light"
          }
        }
      ]
    },
    {
      "cell_type": "code",
      "source": [
        "test_loss, test_acc = model.evaluate(test_generator, steps=len(test_generator), verbose=1)\n",
        "print('Loss: %.3f' % (test_loss * 100.0))\n",
        "print('Accuracy: %.3f' % (test_acc * 100.0)) "
      ],
      "metadata": {
        "colab": {
          "base_uri": "https://localhost:8080/"
        },
        "id": "DbETeiNVxrai",
        "outputId": "760d2c0a-ff11-467d-c2e7-f7852f85f8e8",
        "execution": {
          "iopub.status.busy": "2022-11-22T05:04:08.609276Z",
          "iopub.execute_input": "2022-11-22T05:04:08.609673Z",
          "iopub.status.idle": "2022-11-22T05:04:11.237709Z",
          "shell.execute_reply.started": "2022-11-22T05:04:08.609639Z",
          "shell.execute_reply": "2022-11-22T05:04:11.236767Z"
        },
        "trusted": true
      },
      "execution_count": null,
      "outputs": [
        {
          "name": "stdout",
          "text": "5/5 [==============================] - 2s 356ms/step - loss: 0.2540 - accuracy: 0.9091\nLoss: 25.397\nAccuracy: 90.909\n",
          "output_type": "stream"
        }
      ]
    }
  ]
}