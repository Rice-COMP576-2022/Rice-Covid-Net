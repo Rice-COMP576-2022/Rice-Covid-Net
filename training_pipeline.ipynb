{
  "cells": [
    {
      "cell_type": "markdown",
      "metadata": {
        "id": "upPcfbxbxraY"
      },
      "source": [
        "# Installing Libraries"
      ]
    },
    {
      "cell_type": "code",
      "execution_count": null,
      "metadata": {
        "execution": {
          "iopub.execute_input": "2022-11-19T21:13:58.950402Z",
          "iopub.status.busy": "2022-11-19T21:13:58.948547Z",
          "iopub.status.idle": "2022-11-19T21:14:05.013396Z",
          "shell.execute_reply": "2022-11-19T21:14:05.012568Z",
          "shell.execute_reply.started": "2022-11-19T21:13:58.950315Z"
        },
        "id": "ezs0rh7exraZ",
        "trusted": true
      },
      "outputs": [],
      "source": [
        "import pandas as pd\n",
        "import numpy as np\n",
        "import tensorflow as tf\n",
        "import matplotlib.pyplot as plt\n",
        "import matplotlib.image as mpimg\n",
        "import seaborn as sns\n",
        "import pathlib\n",
        "import random\n",
        "import os\n",
        "\n",
        "from tensorflow.keras.preprocessing import image_dataset_from_directory\n",
        "from tensorflow.keras.layers.experimental import preprocessing\n",
        "from tensorflow.keras.applications.vgg16 import VGG16\n",
        "from tensorflow.keras.applications.resnet50 import ResNet50\n",
        "from tensorflow.keras.optimizers import Adam\n",
        "from sklearn.metrics import accuracy_score, precision_score, recall_score, f1_score, cohen_kappa_score, roc_auc_score, confusion_matrix\n",
        "from sklearn.metrics import classification_report\n",
        "from keras.layers import Dense, Dropout, Activation, Flatten, BatchNormalization, Conv2D, MaxPool2D, MaxPooling2D\n",
        "from tensorflow.keras.callbacks import ReduceLROnPlateau, ModelCheckpoint, EarlyStopping\n",
        "from tensorflow.keras import Model\n",
        "from tensorflow.keras.layers import Dense, GlobalAveragePooling2D\n",
        "\n",
        "#Suppressing Warnings\n",
        "os.environ['TF_CPP_MIN_LOG_LEVEL'] = '3'"
      ]
    },
    {
      "cell_type": "code",
      "execution_count": null,
      "metadata": {
        "execution": {
          "iopub.execute_input": "2022-11-19T21:14:05.017293Z",
          "iopub.status.busy": "2022-11-19T21:14:05.016475Z",
          "iopub.status.idle": "2022-11-19T21:14:05.039031Z",
          "shell.execute_reply": "2022-11-19T21:14:05.038245Z",
          "shell.execute_reply.started": "2022-11-19T21:14:05.017251Z"
        },
        "id": "pTIMSWToxrab",
        "trusted": true
      },
      "outputs": [],
      "source": [
        "tf.keras.backend.clear_session()"
      ]
    },
    {
      "cell_type": "markdown",
      "metadata": {
        "id": "K6ROmrXXxrab"
      },
      "source": [
        "# Preprocessing"
      ]
    },
    {
      "cell_type": "markdown",
      "metadata": {
        "id": "oC7iyZuHxrab"
      },
      "source": [
        "**Our Train and Test Path**"
      ]
    },
    {
      "cell_type": "code",
      "execution_count": null,
      "metadata": {
        "execution": {
          "iopub.execute_input": "2022-11-19T21:14:05.040815Z",
          "iopub.status.busy": "2022-11-19T21:14:05.040351Z",
          "iopub.status.idle": "2022-11-19T21:14:05.044832Z",
          "shell.execute_reply": "2022-11-19T21:14:05.043969Z",
          "shell.execute_reply.started": "2022-11-19T21:14:05.040777Z"
        },
        "id": "OjG5W-7Nxrab",
        "trusted": true
      },
      "outputs": [],
      "source": [
        "train_path = '/content/Covid19-dataset/train'\n",
        "test_path = '/content/Covid19-dataset/test'"
      ]
    },
    {
      "cell_type": "markdown",
      "metadata": {
        "id": "f_vIuqifxrac"
      },
      "source": [
        "**Getting the labels of the data**"
      ]
    },
    {
      "cell_type": "markdown",
      "metadata": {
        "id": "LP4RBSnKxrad"
      },
      "source": [
        "**Our images are of varying sizes but all of them are greater than (512,512) so I have used 512,512 as the size for training our model**"
      ]
    },
    {
      "cell_type": "code",
      "execution_count": null,
      "metadata": {
        "execution": {
          "iopub.execute_input": "2022-11-19T21:14:10.078754Z",
          "iopub.status.busy": "2022-11-19T21:14:10.078419Z",
          "iopub.status.idle": "2022-11-19T21:14:10.082678Z",
          "shell.execute_reply": "2022-11-19T21:14:10.082012Z",
          "shell.execute_reply.started": "2022-11-19T21:14:10.078720Z"
        },
        "id": "7A5QSHl_xrae",
        "trusted": true
      },
      "outputs": [],
      "source": [
        "img_size = 224\n",
        "batch = 16"
      ]
    },
    {
      "cell_type": "markdown",
      "metadata": {
        "id": "tIP6r3YPxrae"
      },
      "source": [
        "# Image Loader"
      ]
    },
    {
      "cell_type": "code",
      "execution_count": null,
      "metadata": {
        "execution": {
          "iopub.execute_input": "2022-11-19T21:14:10.084560Z",
          "iopub.status.busy": "2022-11-19T21:14:10.083757Z",
          "iopub.status.idle": "2022-11-19T21:14:10.093006Z",
          "shell.execute_reply": "2022-11-19T21:14:10.092226Z",
          "shell.execute_reply.started": "2022-11-19T21:14:10.084522Z"
        },
        "id": "ru6jLhDKxrae",
        "trusted": true
      },
      "outputs": [],
      "source": [
        "from tensorflow.keras.preprocessing.image import ImageDataGenerator"
      ]
    },
    {
      "cell_type": "code",
      "execution_count": null,
      "metadata": {
        "id": "ID6_CIp34mEg"
      },
      "outputs": [],
      "source": [
        "def generate_data(DIR):\n",
        "    datagen = ImageDataGenerator(rescale=1./255.)\n",
        "    \n",
        "    generator = datagen.flow_from_directory(\n",
        "        DIR,\n",
        "        batch_size=batch,\n",
        "        shuffle=True,\n",
        "        seed=42,\n",
        "        class_mode='categorical',\n",
        "        target_size=(img_size, img_size),\n",
        "        classes={'Normal': 0, 'Viral Pneumonia': 1,'Covid': 2}\n",
        "    )\n",
        "    return generator"
      ]
    },
    {
      "cell_type": "code",
      "execution_count": null,
      "metadata": {
        "colab": {
          "base_uri": "https://localhost:8080/"
        },
        "execution": {
          "iopub.execute_input": "2022-11-19T21:14:10.094795Z",
          "iopub.status.busy": "2022-11-19T21:14:10.094494Z",
          "iopub.status.idle": "2022-11-19T21:14:10.102525Z",
          "shell.execute_reply": "2022-11-19T21:14:10.101692Z",
          "shell.execute_reply.started": "2022-11-19T21:14:10.094761Z"
        },
        "id": "j4QPh7Ogxrae",
        "outputId": "542cb9e1-1382-4e9a-a425-3f472b1c3235",
        "trusted": true
      },
      "outputs": [
        {
          "name": "stdout",
          "output_type": "stream",
          "text": [
            "Found 251 images belonging to 3 classes.\n",
            "Found 66 images belonging to 3 classes.\n"
          ]
        }
      ],
      "source": [
        "train_generator = generate_data(train_path)\n",
        "\n",
        "test_generator = generate_data(test_path)"
      ]
    },
    {
      "cell_type": "markdown",
      "metadata": {
        "id": "EO0BFF5oxraf"
      },
      "source": [
        "# Modelling"
      ]
    },
    {
      "cell_type": "code",
      "execution_count": null,
      "metadata": {
        "colab": {
          "base_uri": "https://localhost:8080/"
        },
        "execution": {
          "iopub.execute_input": "2022-11-19T21:14:10.333089Z",
          "iopub.status.busy": "2022-11-19T21:14:10.332845Z",
          "iopub.status.idle": "2022-11-19T21:14:15.434630Z",
          "shell.execute_reply": "2022-11-19T21:14:15.433780Z",
          "shell.execute_reply.started": "2022-11-19T21:14:10.333057Z"
        },
        "id": "U_PBcB-xxraf",
        "outputId": "ea576563-eece-436b-dc71-a67587a8aa3e",
        "trusted": true
      },
      "outputs": [
        {
          "name": "stdout",
          "output_type": "stream",
          "text": [
            "<keras.layers.pooling.global_average_pooling2d.GlobalAveragePooling2D object at 0x7fa947fc3cd0>\n",
            "<keras.layers.core.dense.Dense object at 0x7fa944509090>\n",
            "<keras.layers.core.dense.Dense object at 0x7fa9500a8590>\n"
          ]
        }
      ],
      "source": [
        "base_model = VGG16(weights='imagenet', include_top=False,\n",
        "                            input_shape=(img_size, img_size,3))\n",
        "\n",
        "# freeze extraction layers\n",
        "base_model.trainable = False\n",
        "\n",
        "# add custom top layers\n",
        "x = base_model.output\n",
        "x = GlobalAveragePooling2D()(x)\n",
        "x = Dense(512 , activation='relu')(x)\n",
        "predictions = Dense(3, activation='softmax')(x)\n",
        "model = Model(inputs=base_model.input, outputs=predictions)\n",
        "\n",
        "# confirm unfrozen layers\n",
        "for layer in model.layers:\n",
        "    if layer.trainable==True:\n",
        "        print(layer)"
      ]
    },
    {
      "cell_type": "markdown",
      "metadata": {
        "id": "ekXubcUVxrag"
      },
      "source": [
        "### Overview of our entire model"
      ]
    },
    {
      "cell_type": "code",
      "execution_count": null,
      "metadata": {
        "execution": {
          "iopub.execute_input": "2022-11-19T21:14:15.436002Z",
          "iopub.status.busy": "2022-11-19T21:14:15.435759Z",
          "iopub.status.idle": "2022-11-19T21:14:16.454915Z",
          "shell.execute_reply": "2022-11-19T21:14:16.454172Z",
          "shell.execute_reply.started": "2022-11-19T21:14:15.435969Z"
        },
        "id": "QhWdu_tBxrag",
        "trusted": true
      },
      "outputs": [],
      "source": [
        "# from tensorflow.keras.utils import plot_model\n",
        "# from IPython.display import Image\n",
        "# plot_model(model, to_file='convnet.png', show_shapes=True,show_layer_names=True)\n",
        "# Image(filename='convnet.png') "
      ]
    },
    {
      "cell_type": "markdown",
      "metadata": {
        "id": "BmVdvwBzxrag"
      },
      "source": [
        "## Callback to save our best model during training"
      ]
    },
    {
      "cell_type": "code",
      "execution_count": null,
      "metadata": {
        "execution": {
          "iopub.execute_input": "2022-11-19T21:14:16.457408Z",
          "iopub.status.busy": "2022-11-19T21:14:16.456553Z",
          "iopub.status.idle": "2022-11-19T21:14:16.462389Z",
          "shell.execute_reply": "2022-11-19T21:14:16.461802Z",
          "shell.execute_reply.started": "2022-11-19T21:14:16.457361Z"
        },
        "id": "d3h5C6IIxrag",
        "trusted": true
      },
      "outputs": [],
      "source": [
        "callbacks = [EarlyStopping(monitor='val_loss', patience=5, verbose=1),\n",
        "                ModelCheckpoint('model.hdf5',\n",
        "                                 save_best_only=True)]"
      ]
    },
    {
      "cell_type": "code",
      "execution_count": null,
      "metadata": {
        "execution": {
          "iopub.execute_input": "2022-11-19T21:14:16.465696Z",
          "iopub.status.busy": "2022-11-19T21:14:16.465182Z",
          "iopub.status.idle": "2022-11-19T21:14:16.498717Z",
          "shell.execute_reply": "2022-11-19T21:14:16.497551Z",
          "shell.execute_reply.started": "2022-11-19T21:14:16.465660Z"
        },
        "id": "XUZysSETxrag",
        "trusted": true
      },
      "outputs": [],
      "source": [
        "opt = Adam(learning_rate=0.001)\n",
        "model.compile(\n",
        "  loss='categorical_crossentropy',\n",
        "  optimizer=opt,\n",
        "  metrics=['accuracy']\n",
        ")"
      ]
    },
    {
      "cell_type": "markdown",
      "metadata": {
        "id": "EqBnFD56xrah"
      },
      "source": [
        "# Training the Model"
      ]
    },
    {
      "cell_type": "code",
      "execution_count": null,
      "metadata": {
        "colab": {
          "base_uri": "https://localhost:8080/"
        },
        "execution": {
          "iopub.execute_input": "2022-11-19T21:14:16.506309Z",
          "iopub.status.busy": "2022-11-19T21:14:16.500538Z",
          "iopub.status.idle": "2022-11-19T21:21:46.638924Z",
          "shell.execute_reply": "2022-11-19T21:21:46.638140Z",
          "shell.execute_reply.started": "2022-11-19T21:14:16.506259Z"
        },
        "id": "WR13a2HDxrah",
        "outputId": "0edaf6e7-3e66-4af9-ee29-224207437b69",
        "trusted": true
      },
      "outputs": [
        {
          "name": "stdout",
          "output_type": "stream",
          "text": [
            "Epoch 1/100\n",
            "16/16 [==============================] - 23s 861ms/step - loss: 1.0729 - accuracy: 0.4900 - val_loss: 0.8452 - val_accuracy: 0.5758\n",
            "Epoch 2/100\n",
            "16/16 [==============================] - 12s 726ms/step - loss: 0.6963 - accuracy: 0.7331 - val_loss: 0.6151 - val_accuracy: 0.8030\n",
            "Epoch 3/100\n",
            "16/16 [==============================] - 11s 712ms/step - loss: 0.5448 - accuracy: 0.8207 - val_loss: 0.5058 - val_accuracy: 0.8333\n",
            "Epoch 4/100\n",
            "16/16 [==============================] - 11s 715ms/step - loss: 0.4493 - accuracy: 0.8446 - val_loss: 0.4954 - val_accuracy: 0.7879\n",
            "Epoch 5/100\n",
            "16/16 [==============================] - 11s 691ms/step - loss: 0.4023 - accuracy: 0.8606 - val_loss: 0.4320 - val_accuracy: 0.8636\n",
            "Epoch 6/100\n",
            "16/16 [==============================] - 11s 708ms/step - loss: 0.3484 - accuracy: 0.8805 - val_loss: 0.3376 - val_accuracy: 0.9394\n",
            "Epoch 7/100\n",
            "16/16 [==============================] - 11s 703ms/step - loss: 0.2943 - accuracy: 0.9044 - val_loss: 0.3186 - val_accuracy: 0.8939\n",
            "Epoch 8/100\n",
            "16/16 [==============================] - 11s 721ms/step - loss: 0.2625 - accuracy: 0.9283 - val_loss: 0.2852 - val_accuracy: 0.9091\n",
            "Epoch 9/100\n",
            "16/16 [==============================] - 11s 702ms/step - loss: 0.2261 - accuracy: 0.9363 - val_loss: 0.4966 - val_accuracy: 0.7576\n",
            "Epoch 10/100\n",
            "16/16 [==============================] - 11s 702ms/step - loss: 0.2461 - accuracy: 0.9283 - val_loss: 0.2402 - val_accuracy: 0.9545\n",
            "Epoch 11/100\n",
            "16/16 [==============================] - 12s 772ms/step - loss: 0.2019 - accuracy: 0.9283 - val_loss: 0.2433 - val_accuracy: 0.9545\n",
            "Epoch 12/100\n",
            "16/16 [==============================] - 11s 706ms/step - loss: 0.1958 - accuracy: 0.9363 - val_loss: 0.2317 - val_accuracy: 0.9091\n",
            "Epoch 13/100\n",
            "16/16 [==============================] - 11s 703ms/step - loss: 0.1764 - accuracy: 0.9442 - val_loss: 0.2299 - val_accuracy: 0.9091\n",
            "Epoch 14/100\n",
            "16/16 [==============================] - 11s 711ms/step - loss: 0.1615 - accuracy: 0.9522 - val_loss: 0.2089 - val_accuracy: 0.9394\n",
            "Epoch 15/100\n",
            "16/16 [==============================] - 11s 712ms/step - loss: 0.1545 - accuracy: 0.9562 - val_loss: 0.2274 - val_accuracy: 0.8939\n",
            "Epoch 16/100\n",
            "16/16 [==============================] - 11s 706ms/step - loss: 0.1354 - accuracy: 0.9641 - val_loss: 0.3509 - val_accuracy: 0.8333\n",
            "Epoch 17/100\n",
            "16/16 [==============================] - 11s 676ms/step - loss: 0.1379 - accuracy: 0.9681 - val_loss: 0.2699 - val_accuracy: 0.8636\n",
            "Epoch 18/100\n",
            "16/16 [==============================] - 11s 702ms/step - loss: 0.1210 - accuracy: 0.9761 - val_loss: 0.1723 - val_accuracy: 0.9545\n",
            "Epoch 19/100\n",
            "16/16 [==============================] - 11s 695ms/step - loss: 0.1134 - accuracy: 0.9721 - val_loss: 0.2118 - val_accuracy: 0.9091\n",
            "Epoch 20/100\n",
            "16/16 [==============================] - 11s 706ms/step - loss: 0.1187 - accuracy: 0.9681 - val_loss: 0.1757 - val_accuracy: 0.9545\n",
            "Epoch 21/100\n",
            "16/16 [==============================] - 11s 697ms/step - loss: 0.1013 - accuracy: 0.9721 - val_loss: 0.2510 - val_accuracy: 0.8636\n",
            "Epoch 22/100\n",
            "16/16 [==============================] - 12s 766ms/step - loss: 0.1056 - accuracy: 0.9721 - val_loss: 0.2206 - val_accuracy: 0.8788\n",
            "Epoch 23/100\n",
            "16/16 [==============================] - 11s 700ms/step - loss: 0.1036 - accuracy: 0.9641 - val_loss: 0.1485 - val_accuracy: 0.9697\n",
            "Epoch 24/100\n",
            "16/16 [==============================] - 11s 697ms/step - loss: 0.0850 - accuracy: 0.9801 - val_loss: 0.1589 - val_accuracy: 0.9545\n",
            "Epoch 25/100\n",
            "16/16 [==============================] - 11s 693ms/step - loss: 0.0750 - accuracy: 0.9880 - val_loss: 0.1907 - val_accuracy: 0.9091\n",
            "Epoch 26/100\n",
            "16/16 [==============================] - 11s 678ms/step - loss: 0.0788 - accuracy: 0.9841 - val_loss: 0.2117 - val_accuracy: 0.8939\n",
            "Epoch 27/100\n",
            "16/16 [==============================] - 11s 711ms/step - loss: 0.0719 - accuracy: 0.9841 - val_loss: 0.1443 - val_accuracy: 0.9697\n",
            "Epoch 28/100\n",
            "16/16 [==============================] - 11s 700ms/step - loss: 0.0648 - accuracy: 0.9841 - val_loss: 0.1460 - val_accuracy: 0.9697\n",
            "Epoch 29/100\n",
            "16/16 [==============================] - 11s 717ms/step - loss: 0.0683 - accuracy: 0.9761 - val_loss: 0.1355 - val_accuracy: 0.9697\n",
            "Epoch 30/100\n",
            "16/16 [==============================] - 11s 707ms/step - loss: 0.0600 - accuracy: 0.9880 - val_loss: 0.1358 - val_accuracy: 0.9697\n",
            "Epoch 31/100\n",
            "16/16 [==============================] - 11s 692ms/step - loss: 0.0612 - accuracy: 0.9880 - val_loss: 0.2156 - val_accuracy: 0.8939\n",
            "Epoch 32/100\n",
            "16/16 [==============================] - 12s 762ms/step - loss: 0.0706 - accuracy: 0.9681 - val_loss: 0.2283 - val_accuracy: 0.8939\n",
            "Epoch 33/100\n",
            "16/16 [==============================] - 11s 722ms/step - loss: 0.0567 - accuracy: 0.9920 - val_loss: 0.1233 - val_accuracy: 0.9697\n",
            "Epoch 34/100\n",
            "16/16 [==============================] - 11s 696ms/step - loss: 0.0499 - accuracy: 0.9920 - val_loss: 0.1231 - val_accuracy: 0.9697\n",
            "Epoch 35/100\n",
            "16/16 [==============================] - 11s 696ms/step - loss: 0.0493 - accuracy: 0.9801 - val_loss: 0.1621 - val_accuracy: 0.9394\n",
            "Epoch 36/100\n",
            "16/16 [==============================] - 11s 711ms/step - loss: 0.0501 - accuracy: 0.9880 - val_loss: 0.1958 - val_accuracy: 0.9091\n",
            "Epoch 37/100\n",
            "16/16 [==============================] - 11s 712ms/step - loss: 0.0486 - accuracy: 0.9880 - val_loss: 0.2487 - val_accuracy: 0.8636\n",
            "Epoch 38/100\n",
            "16/16 [==============================] - 11s 694ms/step - loss: 0.0453 - accuracy: 0.9880 - val_loss: 0.2465 - val_accuracy: 0.8636\n",
            "Epoch 39/100\n",
            "16/16 [==============================] - 11s 682ms/step - loss: 0.0679 - accuracy: 0.9761 - val_loss: 0.1744 - val_accuracy: 0.9242\n",
            "Epoch 39: early stopping\n"
          ]
        }
      ],
      "source": [
        "history = model.fit(train_generator,\n",
        "                    epochs = 100,\n",
        "                    validation_data = test_generator,\n",
        "                    verbose = True,\n",
        "                   callbacks=callbacks)"
      ]
    },
    {
      "cell_type": "markdown",
      "metadata": {
        "id": "69o9jZOExrah"
      },
      "source": [
        "# Evaluation"
      ]
    },
    {
      "cell_type": "code",
      "execution_count": null,
      "metadata": {
        "execution": {
          "iopub.execute_input": "2022-11-19T21:21:46.640885Z",
          "iopub.status.busy": "2022-11-19T21:21:46.640578Z",
          "iopub.status.idle": "2022-11-19T21:21:46.647836Z",
          "shell.execute_reply": "2022-11-19T21:21:46.647035Z",
          "shell.execute_reply.started": "2022-11-19T21:21:46.640845Z"
        },
        "id": "A_evITN6xrah",
        "trusted": true
      },
      "outputs": [],
      "source": [
        "from tensorflow.keras.models import load_model"
      ]
    },
    {
      "cell_type": "code",
      "execution_count": null,
      "metadata": {
        "id": "25608KkWB1K7"
      },
      "outputs": [],
      "source": [
        "import pandas as pd\n",
        "\n",
        "# convert the history.history dict to a pandas DataFrame:     \n",
        "hist_df = pd.DataFrame(history.history) \n",
        "\n",
        "# or save to csv: \n",
        "hist_csv_file = 'history.csv'\n",
        "with open(hist_csv_file, mode='w') as f:\n",
        "    hist_df.to_csv(f)"
      ]
    },
    {
      "cell_type": "markdown",
      "metadata": {
        "id": "4tNBBRMFxrah"
      },
      "source": [
        "### Loading our best model"
      ]
    },
    {
      "cell_type": "code",
      "execution_count": null,
      "metadata": {
        "execution": {
          "iopub.execute_input": "2022-11-19T21:21:46.649424Z",
          "iopub.status.busy": "2022-11-19T21:21:46.649018Z",
          "iopub.status.idle": "2022-11-19T21:21:46.943167Z",
          "shell.execute_reply": "2022-11-19T21:21:46.942354Z",
          "shell.execute_reply.started": "2022-11-19T21:21:46.649384Z"
        },
        "id": "9uwIimXGxrah",
        "trusted": true
      },
      "outputs": [],
      "source": [
        "model = load_model('./model.hdf5')"
      ]
    },
    {
      "cell_type": "code",
      "execution_count": null,
      "metadata": {
        "execution": {
          "iopub.execute_input": "2022-11-19T21:21:46.944762Z",
          "iopub.status.busy": "2022-11-19T21:21:46.944489Z",
          "iopub.status.idle": "2022-11-19T21:21:46.950906Z",
          "shell.execute_reply": "2022-11-19T21:21:46.950199Z",
          "shell.execute_reply.started": "2022-11-19T21:21:46.944720Z"
        },
        "id": "zLzKB5KIxrai",
        "trusted": true
      },
      "outputs": [],
      "source": [
        "def learning_curve(model_fit, key='accuracy', ylim=(0, 1.01)):\n",
        "    plt.figure(figsize=(12,6))\n",
        "    plt.plot(model_fit.history[key])\n",
        "    plt.plot(model_fit.history['val_' + key])\n",
        "    plt.title('Learning Curve')\n",
        "    plt.ylabel(key.title())\n",
        "    plt.xlabel('Epoch')\n",
        "    plt.ylim(ylim)\n",
        "    plt.legend(['train', 'val'], loc='best')\n",
        "    plt.show()"
      ]
    },
    {
      "cell_type": "code",
      "execution_count": null,
      "metadata": {
        "colab": {
          "base_uri": "https://localhost:8080/",
          "height": 791
        },
        "execution": {
          "iopub.execute_input": "2022-11-19T21:21:46.952952Z",
          "iopub.status.busy": "2022-11-19T21:21:46.952427Z",
          "iopub.status.idle": "2022-11-19T21:21:47.387000Z",
          "shell.execute_reply": "2022-11-19T21:21:47.386303Z",
          "shell.execute_reply.started": "2022-11-19T21:21:46.952914Z"
        },
        "id": "Z0-SV05rxrai",
        "outputId": "1354b05b-aa1e-4aeb-ead7-3b4623938265",
        "trusted": true
      },
      "outputs": [
        {
          "data": {
            "image/png": "[encoded data removed]",
            "text/plain": [
              "<Figure size 864x432 with 1 Axes>"
            ]
          },
          "metadata": {
            "needs_background": "light"
          },
          "output_type": "display_data"
        },
        {
          "data": {
            "image/png": "[encoded data removed]",
            "text/plain": [
              "<Figure size 864x432 with 1 Axes>"
            ]
          },
          "metadata": {
            "needs_background": "light"
          },
          "output_type": "display_data"
        }
      ],
      "source": [
        "learning_curve(history,'loss', ylim=(0,1))\n",
        "learning_curve(history, 'accuracy', ylim=(0,1))"
      ]
    },
    {
      "cell_type": "code",
      "execution_count": null,
      "metadata": {
        "colab": {
          "base_uri": "https://localhost:8080/"
        },
        "execution": {
          "iopub.execute_input": "2022-11-19T21:21:47.388774Z",
          "iopub.status.busy": "2022-11-19T21:21:47.388183Z",
          "iopub.status.idle": "2022-11-19T21:21:49.902781Z",
          "shell.execute_reply": "2022-11-19T21:21:49.902017Z",
          "shell.execute_reply.started": "2022-11-19T21:21:47.388732Z"
        },
        "id": "DbETeiNVxrai",
        "outputId": "760d2c0a-ff11-467d-c2e7-f7852f85f8e8",
        "trusted": true
      },
      "outputs": [
        {
          "name": "stdout",
          "output_type": "stream",
          "text": [
            "5/5 [==============================] - 2s 269ms/step - loss: 0.1231 - accuracy: 0.9697\n",
            "Loss: 12.314\n",
            "Accuracy: 96.970\n"
          ]
        }
      ],
      "source": [
        "test_loss, test_acc = model.evaluate(test_generator, steps=len(test_generator), verbose=1)\n",
        "print('Loss: %.3f' % (test_loss * 100.0))\n",
        "print('Accuracy: %.3f' % (test_acc * 100.0)) "
      ]
    },
    {
      "cell_type": "markdown",
      "metadata": {
        "id": "6G4wfP85xrai"
      },
      "source": [
        "**We got a good model with an accuracry of 95%**"
      ]
    },
    {
      "cell_type": "code",
      "execution_count": null,
      "metadata": {
        "colab": {
          "base_uri": "https://localhost:8080/"
        },
        "execution": {
          "iopub.execute_input": "2022-11-19T21:21:49.904505Z",
          "iopub.status.busy": "2022-11-19T21:21:49.904147Z",
          "iopub.status.idle": "2022-11-19T21:21:51.719657Z",
          "shell.execute_reply": "2022-11-19T21:21:51.718937Z",
          "shell.execute_reply.started": "2022-11-19T21:21:49.904465Z"
        },
        "id": "atXhmOsZxrai",
        "outputId": "2a78d7ae-5e9c-48a1-fe0d-a9a6caa056a5",
        "trusted": true
      },
      "outputs": [
        {
          "name": "stdout",
          "output_type": "stream",
          "text": [
            "5/5 [==============================] - 2s 268ms/step\n"
          ]
        },
        {
          "data": {
            "text/plain": [
              "(array([1, 2, 0, 0, 1, 2, 2, 2, 2, 1, 0, 1, 0, 1, 2, 0, 0, 0, 2, 2, 2, 2,\n",
              "        1, 1, 2, 0, 1, 2, 1, 2, 2, 2, 1, 1, 2, 2, 0, 1, 1, 2, 1, 2, 2, 2,\n",
              "        2, 0, 2, 0, 0, 1, 0, 0, 1, 0, 1, 0, 2, 2, 0, 0, 0, 1, 1, 1, 0, 2]),\n",
              " array([0, 0, 0, 0, 0, 0, 0, 0, 0, 0, 0, 0, 0, 0, 0, 0, 0, 0, 0, 0, 1, 1,\n",
              "        1, 1, 1, 1, 1, 1, 1, 1, 1, 1, 1, 1, 1, 1, 1, 1, 1, 1, 2, 2, 2, 2,\n",
              "        2, 2, 2, 2, 2, 2, 2, 2, 2, 2, 2, 2, 2, 2, 2, 2, 2, 2, 2, 2, 2, 2],\n",
              "       dtype=int32))"
            ]
          },
          "execution_count": 44,
          "metadata": {},
          "output_type": "execute_result"
        }
      ],
      "source": [
        "predictions = np.argmax(model.predict(test_generator),axis=1)\n",
        "labels = test_generator.classes\n",
        "predictions , labels"
      ]
    },
    {
      "cell_type": "code",
      "execution_count": null,
      "metadata": {
        "colab": {
          "base_uri": "https://localhost:8080/"
        },
        "execution": {
          "iopub.execute_input": "2022-11-19T21:21:51.721411Z",
          "iopub.status.busy": "2022-11-19T21:21:51.720994Z",
          "iopub.status.idle": "2022-11-19T21:21:51.728215Z",
          "shell.execute_reply": "2022-11-19T21:21:51.727467Z",
          "shell.execute_reply.started": "2022-11-19T21:21:51.721372Z"
        },
        "id": "6e2s9WG5xrai",
        "outputId": "9ce7d45b-86f1-4d8f-b096-43321774ac8e",
        "trusted": true
      },
      "outputs": [
        {
          "data": {
            "text/plain": [
              "['Normal', 'Viral Pneumonia', 'Covid']"
            ]
          },
          "execution_count": 45,
          "metadata": {},
          "output_type": "execute_result"
        }
      ],
      "source": [
        "classes = []\n",
        "for i in os.listdir(test_path):\n",
        "    classes+=[i]\n",
        "\n",
        "classes"
      ]
    },
    {
      "cell_type": "markdown",
      "metadata": {
        "id": "IIHft9UFxraj"
      },
      "source": [
        "### Function To Calculate F1-Score"
      ]
    },
    {
      "cell_type": "code",
      "execution_count": null,
      "metadata": {
        "execution": {
          "iopub.execute_input": "2022-11-19T21:21:51.729892Z",
          "iopub.status.busy": "2022-11-19T21:21:51.729488Z",
          "iopub.status.idle": "2022-11-19T21:21:51.736884Z",
          "shell.execute_reply": "2022-11-19T21:21:51.736061Z",
          "shell.execute_reply.started": "2022-11-19T21:21:51.729858Z"
        },
        "id": "TDmQZICTxraj",
        "trusted": true
      },
      "outputs": [],
      "source": [
        "def fbeta(y_true, y_pred, threshold_shift=0):\n",
        "    beta_squared = 4\n",
        "\n",
        "    y_pred = K.clip(y_pred, 0, 1)\n",
        " \n",
        "    y_pred_bin = K.round(y_pred + threshold_shift)\n",
        " \n",
        "    tp = K.sum(K.round(y_true * y_pred_bin)) + K.epsilon()\n",
        "    fp = K.sum(K.round(K.clip(y_pred_bin - y_true, 0, 1)))\n",
        "    fn = K.sum(K.round(K.clip(y_true - y_pred, 0, 1)))\n",
        " \n",
        "    precision = tp / (tp + fp)\n",
        "    recall = tp / (tp + fn)\n",
        " \n",
        "    return (beta_squared + 1) * (precision * recall) / (beta_squared * precision + recall + K.epsilon())"
      ]
    },
    {
      "cell_type": "markdown",
      "metadata": {
        "id": "Pj8pAI1zxraj"
      },
      "source": [
        "### Function To Plot Confusion Matrix"
      ]
    },
    {
      "cell_type": "code",
      "execution_count": null,
      "metadata": {
        "execution": {
          "iopub.execute_input": "2022-11-19T21:21:51.740758Z",
          "iopub.status.busy": "2022-11-19T21:21:51.740174Z",
          "iopub.status.idle": "2022-11-19T21:21:51.747217Z",
          "shell.execute_reply": "2022-11-19T21:21:51.746520Z",
          "shell.execute_reply.started": "2022-11-19T21:21:51.740722Z"
        },
        "id": "dyXYCMUrxraj",
        "trusted": true
      },
      "outputs": [],
      "source": [
        "def confusion_matrix_plot(matrix):\n",
        "    plt.figure(figsize=(12,10))\n",
        "    cmap = \"YlGnBu\"\n",
        "    ax= plt.subplot()\n",
        "    sns.heatmap(matrix, annot=True, fmt='g', ax=ax, cmap=cmap);  #annot=True to annotate cells, ftm='g' to disable scientific notation\n",
        "    plt.savefig('./img1.png')\n",
        "    # labels, title and ticks\n",
        "    ax.set_xlabel('Predicted labels');\n",
        "    ax.set_ylabel('True labels'); \n",
        "    ax.set_title('Confusion Matrix'); \n",
        "    ax.xaxis.set_ticklabels(classes); \n",
        "    ax.yaxis.set_ticklabels(classes[::-1]);\n",
        "    plt.show()"
      ]
    },
    {
      "cell_type": "markdown",
      "metadata": {
        "id": "geITsQMfxraj"
      },
      "source": [
        "### Function To Calculate Confusion Matrix"
      ]
    },
    {
      "cell_type": "code",
      "execution_count": null,
      "metadata": {
        "execution": {
          "iopub.execute_input": "2022-11-19T21:21:51.750086Z",
          "iopub.status.busy": "2022-11-19T21:21:51.749885Z",
          "iopub.status.idle": "2022-11-19T21:21:51.757454Z",
          "shell.execute_reply": "2022-11-19T21:21:51.756808Z",
          "shell.execute_reply.started": "2022-11-19T21:21:51.750062Z"
        },
        "id": "S8AksiP8xraj",
        "trusted": true
      },
      "outputs": [],
      "source": [
        "def cal_score(model, key):\n",
        "    matrix = confusion_matrix(predictions, labels)\n",
        "    print(matrix)\n",
        "    print('\\n')\n",
        "\n",
        "    f1 = f1_score(predictions, labels, average='weighted')\n",
        "    print(f'F1 Score: {f1}')\n",
        "    print('\\n')\n",
        "    \n",
        "    print(classification_report(predictions, labels, target_names=classes))\n",
        "    \n",
        "    if key==1:\n",
        "        confusion_matrix_plot(matrix)"
      ]
    },
    {
      "cell_type": "code",
      "execution_count": null,
      "metadata": {
        "colab": {
          "base_uri": "https://localhost:8080/"
        },
        "execution": {
          "iopub.execute_input": "2022-11-19T21:21:51.761730Z",
          "iopub.status.busy": "2022-11-19T21:21:51.759849Z",
          "iopub.status.idle": "2022-11-19T21:21:52.085988Z",
          "shell.execute_reply": "2022-11-19T21:21:52.085299Z",
          "shell.execute_reply.started": "2022-11-19T21:21:51.761701Z"
        },
        "id": "8-QO4H0exrak",
        "outputId": "bb125730-ee48-4f0f-ef24-5d3f90bc35aa",
        "trusted": true
      },
      "outputs": [
        {
          "name": "stdout",
          "output_type": "stream",
          "text": [
            "[[ 7  2 11]\n",
            " [ 5  8  7]\n",
            " [ 8 10  8]]\n",
            "\n",
            "\n",
            "F1 Score: 0.3484848484848485\n",
            "\n",
            "\n",
            "                 precision    recall  f1-score   support\n",
            "\n",
            "         Normal       0.35      0.35      0.35        20\n",
            "Viral Pneumonia       0.40      0.40      0.40        20\n",
            "          Covid       0.31      0.31      0.31        26\n",
            "\n",
            "       accuracy                           0.35        66\n",
            "      macro avg       0.35      0.35      0.35        66\n",
            "   weighted avg       0.35      0.35      0.35        66\n",
            "\n"
          ]
        },
        {
          "data": {
            "image/png": "[encoded data removed]",
            "text/plain": [
              "<Figure size 864x720 with 2 Axes>"
            ]
          },
          "metadata": {
            "needs_background": "light"
          },
          "output_type": "display_data"
        }
      ],
      "source": [
        "cal_score(model, 1)"
      ]
    }
  ],
  "metadata": {
    "accelerator": "GPU",
    "colab": {
      "provenance": []
    },
    "gpuClass": "standard",
    "kernelspec": {
      "display_name": "Python 3",
      "language": "python",
      "name": "python3"
    },
    "language_info": {
      "codemirror_mode": {
        "name": "ipython",
        "version": 3
      },
      "file_extension": ".py",
      "mimetype": "text/x-python",
      "name": "python",
      "nbconvert_exporter": "python",
      "pygments_lexer": "ipython3",
      "version": "3.7.12"
    }
  },
  "nbformat": 4,
  "nbformat_minor": 0
}
