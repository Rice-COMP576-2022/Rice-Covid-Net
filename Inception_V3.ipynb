{
  "cells": [
    {
      "cell_type": "code",
      "execution_count": null,
      "metadata": {
        "execution": {
          "iopub.execute_input": "2022-11-20T23:35:34.854770Z",
          "iopub.status.busy": "2022-11-20T23:35:34.854404Z",
          "iopub.status.idle": "2022-11-20T23:35:34.866725Z",
          "shell.execute_reply": "2022-11-20T23:35:34.865077Z",
          "shell.execute_reply.started": "2022-11-20T23:35:34.854745Z"
        },
        "id": "ezs0rh7exraZ",
        "outputId": "95195214-18fe-4622-b5f4-b1b90f757edb"
      },
      "outputs": [
        {
          "name": "stderr",
          "output_type": "stream",
          "text": [
            "2022-11-21 15:18:29.444645: I tensorflow/core/platform/cpu_feature_guard.cc:193] This TensorFlow binary is optimized with oneAPI Deep Neural Network Library (oneDNN) to use the following CPU instructions in performance-critical operations:  AVX2 FMA\n",
            "To enable them in other operations, rebuild TensorFlow with the appropriate compiler flags.\n"
          ]
        }
      ],
      "source": [
        "import pandas as pd\n",
        "import numpy as np\n",
        "import tensorflow as tf\n",
        "import matplotlib.pyplot as plt\n",
        "import matplotlib.image as mpimg\n",
        "import seaborn as sns\n",
        "import pathlib\n",
        "import random\n",
        "import os\n",
        "\n",
        "import tensorflow.keras as keras\n",
        "from tensorflow.keras.preprocessing import image_dataset_from_directory\n",
        "from tensorflow.keras.layers.experimental import preprocessing\n",
        "from tensorflow.keras.applications.vgg16 import VGG16\n",
        "from tensorflow.keras.applications.resnet50 import ResNet50\n",
        "from tensorflow.keras.applications.resnet import ResNet101\n",
        "from tensorflow.keras.applications.efficientnet import EfficientNetB0\n",
        "from tensorflow.keras.applications.densenet import DenseNet121\n",
        "from tensorflow.keras.applications.inception_v3 import InceptionV3\n",
        "from tensorflow.keras.optimizers import Adam\n",
        "from tensorflow.keras.layers import Input\n",
        "from sklearn.metrics import accuracy_score, precision_score, recall_score, f1_score, cohen_kappa_score, roc_auc_score, confusion_matrix\n",
        "from sklearn.metrics import classification_report\n",
        "from keras.layers import Dense, Dropout, Activation, Flatten, BatchNormalization, Conv2D, MaxPool2D, MaxPooling2D\n",
        "from tensorflow.keras.callbacks import ReduceLROnPlateau, ModelCheckpoint, EarlyStopping\n",
        "from tensorflow.keras import Model\n",
        "from tensorflow.keras.layers import Dense, GlobalAveragePooling2D\n",
        "from tensorflow.keras import datasets, layers, models\n",
        "\n",
        "#Suppressing Warnings\n",
        "os.environ['TF_CPP_MIN_LOG_LEVEL'] = '3'"
      ]
    },
    {
      "cell_type": "code",
      "execution_count": null,
      "metadata": {
        "execution": {
          "iopub.execute_input": "2022-11-20T23:28:00.662173Z",
          "iopub.status.busy": "2022-11-20T23:28:00.661769Z",
          "iopub.status.idle": "2022-11-20T23:28:00.670009Z",
          "shell.execute_reply": "2022-11-20T23:28:00.668990Z",
          "shell.execute_reply.started": "2022-11-20T23:28:00.662141Z"
        },
        "id": "pTIMSWToxrab"
      },
      "outputs": [],
      "source": [
        "tf.keras.backend.clear_session()"
      ]
    },
    {
      "cell_type": "markdown",
      "metadata": {
        "id": "K6ROmrXXxrab"
      },
      "source": [
        "# Preprocessing"
      ]
    },
    {
      "cell_type": "code",
      "execution_count": null,
      "metadata": {
        "execution": {
          "iopub.execute_input": "2022-11-20T23:28:22.590550Z",
          "iopub.status.busy": "2022-11-20T23:28:22.590186Z",
          "iopub.status.idle": "2022-11-20T23:28:22.595746Z",
          "shell.execute_reply": "2022-11-20T23:28:22.594671Z",
          "shell.execute_reply.started": "2022-11-20T23:28:22.590519Z"
        },
        "id": "OjG5W-7Nxrab"
      },
      "outputs": [],
      "source": [
        "train_path = './Covid19-dataset/train'\n",
        "test_path = './Covid19-dataset/test'"
      ]
    },
    {
      "cell_type": "code",
      "execution_count": null,
      "metadata": {
        "execution": {
          "iopub.execute_input": "2022-11-20T23:28:24.411630Z",
          "iopub.status.busy": "2022-11-20T23:28:24.410992Z",
          "iopub.status.idle": "2022-11-20T23:28:24.415949Z",
          "shell.execute_reply": "2022-11-20T23:28:24.414520Z",
          "shell.execute_reply.started": "2022-11-20T23:28:24.411602Z"
        },
        "id": "7A5QSHl_xrae"
      },
      "outputs": [],
      "source": [
        "img_size = 224\n",
        "batch = 16"
      ]
    },
    {
      "cell_type": "markdown",
      "metadata": {
        "id": "tIP6r3YPxrae"
      },
      "source": [
        "# Image Loader"
      ]
    },
    {
      "cell_type": "code",
      "execution_count": null,
      "metadata": {
        "execution": {
          "iopub.execute_input": "2022-11-20T23:28:29.773296Z",
          "iopub.status.busy": "2022-11-20T23:28:29.772916Z",
          "iopub.status.idle": "2022-11-20T23:28:29.777605Z",
          "shell.execute_reply": "2022-11-20T23:28:29.776997Z",
          "shell.execute_reply.started": "2022-11-20T23:28:29.773271Z"
        },
        "id": "ru6jLhDKxrae"
      },
      "outputs": [],
      "source": [
        "from tensorflow.keras.preprocessing.image import ImageDataGenerator"
      ]
    },
    {
      "cell_type": "code",
      "execution_count": null,
      "metadata": {
        "execution": {
          "iopub.execute_input": "2022-11-20T23:28:32.033358Z",
          "iopub.status.busy": "2022-11-20T23:28:32.032970Z",
          "iopub.status.idle": "2022-11-20T23:28:32.041315Z",
          "shell.execute_reply": "2022-11-20T23:28:32.039747Z",
          "shell.execute_reply.started": "2022-11-20T23:28:32.033329Z"
        },
        "id": "ID6_CIp34mEg"
      },
      "outputs": [],
      "source": [
        "def generate_data(DIR):\n",
        "    datagen = ImageDataGenerator(rescale=1./255.)\n",
        "    \n",
        "    generator = datagen.flow_from_directory(\n",
        "        DIR,\n",
        "        batch_size=batch,\n",
        "        shuffle=True,\n",
        "        seed=42,\n",
        "        class_mode='categorical',\n",
        "        target_size=(img_size, img_size),\n",
        "        classes={'Normal': 0, 'Viral Pneumonia': 1,'Covid': 2}\n",
        "    )\n",
        "    return generator"
      ]
    },
    {
      "cell_type": "code",
      "execution_count": null,
      "metadata": {
        "colab": {
          "base_uri": "https://localhost:8080/"
        },
        "execution": {
          "iopub.execute_input": "2022-11-20T23:28:33.671375Z",
          "iopub.status.busy": "2022-11-20T23:28:33.670984Z",
          "iopub.status.idle": "2022-11-20T23:28:33.884934Z",
          "shell.execute_reply": "2022-11-20T23:28:33.883842Z",
          "shell.execute_reply.started": "2022-11-20T23:28:33.671346Z"
        },
        "id": "j4QPh7Ogxrae",
        "outputId": "542cb9e1-1382-4e9a-a425-3f472b1c3235"
      },
      "outputs": [
        {
          "name": "stdout",
          "output_type": "stream",
          "text": [
            "Found 251 images belonging to 3 classes.\n",
            "Found 66 images belonging to 3 classes.\n"
          ]
        }
      ],
      "source": [
        "train_generator = generate_data(train_path)\n",
        "\n",
        "test_generator = generate_data(test_path)"
      ]
    },
    {
      "cell_type": "markdown",
      "metadata": {
        "id": "EO0BFF5oxraf"
      },
      "source": [
        "# Modelling"
      ]
    },
    {
      "cell_type": "code",
      "execution_count": null,
      "metadata": {
        "execution": {
          "iopub.execute_input": "2022-11-20T23:35:56.827704Z",
          "iopub.status.busy": "2022-11-20T23:35:56.827365Z",
          "iopub.status.idle": "2022-11-20T23:35:57.097174Z",
          "shell.execute_reply": "2022-11-20T23:35:57.096105Z",
          "shell.execute_reply.started": "2022-11-20T23:35:56.827680Z"
        },
        "id": "gXO77KTdEFhl",
        "outputId": "734909d3-4ca6-4027-d87d-54cfa59e8ffb"
      },
      "outputs": [
        {
          "name": "stdout",
          "output_type": "stream",
          "text": [
            "<keras.layers.pooling.global_average_pooling2d.GlobalAveragePooling2D object at 0x12f8256a0>\n",
            "<keras.layers.core.dense.Dense object at 0x1303a4e20>\n",
            "<keras.layers.core.dense.Dense object at 0x12fe09160>\n"
          ]
        }
      ],
      "source": [
        "# def InceptionV3(input_shape=(32, 32, 3)):\n",
        "# #     vgg16\n",
        "#     model = models.Sequential()\n",
        "#     model.add()\n",
        "#     return model\n",
        "\n",
        "base_model = InceptionV3(weights='imagenet', include_top=False)\n",
        "\n",
        "# freeze extraction layers\n",
        "base_model.trainable = False\n",
        "\n",
        "# add custom top layers\n",
        "x = base_model.output\n",
        "x = GlobalAveragePooling2D()(x)\n",
        "x = Dense(512 , activation='relu')(x)\n",
        "predictions = Dense(3, activation='softmax')(x)\n",
        "model = Model(inputs=base_model.input, outputs=predictions)\n",
        "\n",
        "# confirm unfrozen layers\n",
        "for layer in model.layers:\n",
        "    if layer.trainable==True:\n",
        "        print(layer)"
      ]
    },
    {
      "cell_type": "markdown",
      "metadata": {
        "id": "BmVdvwBzxrag"
      },
      "source": [
        "## Save our best model during training"
      ]
    },
    {
      "cell_type": "code",
      "execution_count": null,
      "metadata": {
        "execution": {
          "iopub.execute_input": "2022-11-20T23:28:59.865752Z",
          "iopub.status.busy": "2022-11-20T23:28:59.865361Z",
          "iopub.status.idle": "2022-11-20T23:28:59.871532Z",
          "shell.execute_reply": "2022-11-20T23:28:59.870604Z",
          "shell.execute_reply.started": "2022-11-20T23:28:59.865719Z"
        },
        "id": "d3h5C6IIxrag"
      },
      "outputs": [],
      "source": [
        "callbacks = [EarlyStopping(monitor='val_loss', patience=5, verbose=1),\n",
        "                ModelCheckpoint('model.hdf5',\n",
        "                                 save_best_only=True)]"
      ]
    },
    {
      "cell_type": "code",
      "execution_count": null,
      "metadata": {
        "execution": {
          "iopub.execute_input": "2022-11-20T23:36:03.970439Z",
          "iopub.status.busy": "2022-11-20T23:36:03.970081Z",
          "iopub.status.idle": "2022-11-20T23:36:03.980970Z",
          "shell.execute_reply": "2022-11-20T23:36:03.979431Z",
          "shell.execute_reply.started": "2022-11-20T23:36:03.970413Z"
        },
        "id": "XUZysSETxrag"
      },
      "outputs": [],
      "source": [
        "# opt = Adam(learning_rate=0.001)\n",
        "model.compile(\n",
        "  loss='categorical_crossentropy',\n",
        "  optimizer='rmsprop',\n",
        "  metrics=['accuracy']\n",
        ")"
      ]
    },
    {
      "cell_type": "markdown",
      "metadata": {
        "id": "EqBnFD56xrah"
      },
      "source": [
        "# Training the Model"
      ]
    },
    {
      "cell_type": "code",
      "execution_count": null,
      "metadata": {
        "colab": {
          "base_uri": "https://localhost:8080/"
        },
        "execution": {
          "iopub.execute_input": "2022-11-20T23:36:09.574518Z",
          "iopub.status.busy": "2022-11-20T23:36:09.574162Z",
          "iopub.status.idle": "2022-11-20T23:56:33.011870Z",
          "shell.execute_reply": "2022-11-20T23:56:33.011249Z",
          "shell.execute_reply.started": "2022-11-20T23:36:09.574488Z"
        },
        "id": "WR13a2HDxrah",
        "outputId": "0edaf6e7-3e66-4af9-ee29-224207437b69"
      },
      "outputs": [
        {
          "name": "stdout",
          "output_type": "stream",
          "text": [
            "Epoch 1/100\n",
            "16/16 [==============================] - 16s 812ms/step - loss: 5.4071 - accuracy: 0.4701 - val_loss: 0.5608 - val_accuracy: 0.7273\n",
            "Epoch 2/100\n",
            "16/16 [==============================] - 12s 752ms/step - loss: 0.6383 - accuracy: 0.7888 - val_loss: 1.1117 - val_accuracy: 0.5909\n",
            "Epoch 3/100\n",
            "16/16 [==============================] - 12s 759ms/step - loss: 0.6853 - accuracy: 0.7849 - val_loss: 1.6972 - val_accuracy: 0.5758\n",
            "Epoch 4/100\n",
            "16/16 [==============================] - 13s 771ms/step - loss: 0.5231 - accuracy: 0.8088 - val_loss: 0.3876 - val_accuracy: 0.8182\n",
            "Epoch 5/100\n",
            "16/16 [==============================] - 12s 760ms/step - loss: 0.5612 - accuracy: 0.7968 - val_loss: 0.4554 - val_accuracy: 0.8182\n",
            "Epoch 6/100\n",
            "16/16 [==============================] - 12s 769ms/step - loss: 0.2046 - accuracy: 0.9163 - val_loss: 0.8204 - val_accuracy: 0.7273\n",
            "Epoch 7/100\n",
            "16/16 [==============================] - 12s 768ms/step - loss: 0.4212 - accuracy: 0.8566 - val_loss: 0.7564 - val_accuracy: 0.7727\n",
            "Epoch 8/100\n",
            "16/16 [==============================] - 12s 766ms/step - loss: 0.1441 - accuracy: 0.9602 - val_loss: 1.4056 - val_accuracy: 0.6515\n",
            "Epoch 9/100\n",
            "16/16 [==============================] - 13s 775ms/step - loss: 0.2408 - accuracy: 0.9004 - val_loss: 0.3684 - val_accuracy: 0.8485\n",
            "Epoch 10/100\n",
            "16/16 [==============================] - 12s 744ms/step - loss: 0.3768 - accuracy: 0.8964 - val_loss: 0.4519 - val_accuracy: 0.8030\n",
            "Epoch 11/100\n",
            "16/16 [==============================] - 12s 758ms/step - loss: 0.1665 - accuracy: 0.9562 - val_loss: 1.2786 - val_accuracy: 0.6818\n",
            "Epoch 12/100\n",
            "16/16 [==============================] - 12s 746ms/step - loss: 0.1129 - accuracy: 0.9442 - val_loss: 0.5055 - val_accuracy: 0.8333\n",
            "Epoch 13/100\n",
            "16/16 [==============================] - 12s 736ms/step - loss: 0.1367 - accuracy: 0.9482 - val_loss: 0.9561 - val_accuracy: 0.6970\n",
            "Epoch 14/100\n",
            "16/16 [==============================] - 12s 764ms/step - loss: 0.1370 - accuracy: 0.9522 - val_loss: 0.4822 - val_accuracy: 0.8636\n",
            "Epoch 14: early stopping\n"
          ]
        }
      ],
      "source": [
        "history = model.fit(train_generator,\n",
        "                    epochs = 100,\n",
        "                    validation_data = test_generator,\n",
        "                    verbose = True,\n",
        "                   callbacks=callbacks)"
      ]
    },
    {
      "cell_type": "markdown",
      "metadata": {
        "id": "69o9jZOExrah"
      },
      "source": [
        "# Evaluation"
      ]
    },
    {
      "cell_type": "code",
      "execution_count": null,
      "metadata": {
        "execution": {
          "iopub.execute_input": "2022-11-20T23:59:24.262541Z",
          "iopub.status.busy": "2022-11-20T23:59:24.262176Z",
          "iopub.status.idle": "2022-11-20T23:59:24.267859Z",
          "shell.execute_reply": "2022-11-20T23:59:24.266851Z",
          "shell.execute_reply.started": "2022-11-20T23:59:24.262508Z"
        },
        "id": "A_evITN6xrah"
      },
      "outputs": [],
      "source": [
        "from tensorflow.keras.models import load_model"
      ]
    },
    {
      "cell_type": "code",
      "execution_count": null,
      "metadata": {
        "execution": {
          "iopub.execute_input": "2022-11-20T23:59:27.710338Z",
          "iopub.status.busy": "2022-11-20T23:59:27.709955Z",
          "iopub.status.idle": "2022-11-20T23:59:35.585231Z",
          "shell.execute_reply": "2022-11-20T23:59:35.584113Z",
          "shell.execute_reply.started": "2022-11-20T23:59:27.710313Z"
        },
        "id": "25608KkWB1K7"
      },
      "outputs": [],
      "source": [
        "import pandas as pd\n",
        "\n",
        "# convert the history.history dict to a pandas DataFrame:     \n",
        "hist_df = pd.DataFrame(history.history) \n",
        "\n",
        "# or save to csv: \n",
        "hist_csv_file = 'history.csv'\n",
        "with open(hist_csv_file, mode='w') as f:\n",
        "    hist_df.to_csv(f)"
      ]
    },
    {
      "cell_type": "markdown",
      "metadata": {
        "id": "4tNBBRMFxrah"
      },
      "source": [
        "### Loading best model"
      ]
    },
    {
      "cell_type": "code",
      "execution_count": null,
      "metadata": {
        "execution": {
          "iopub.execute_input": "2022-11-20T23:59:38.704173Z",
          "iopub.status.busy": "2022-11-20T23:59:38.703751Z",
          "iopub.status.idle": "2022-11-20T23:59:38.958685Z",
          "shell.execute_reply": "2022-11-20T23:59:38.957411Z",
          "shell.execute_reply.started": "2022-11-20T23:59:38.704141Z"
        },
        "id": "9uwIimXGxrah"
      },
      "outputs": [],
      "source": [
        "model = load_model('./model.hdf5')"
      ]
    },
    {
      "cell_type": "code",
      "execution_count": null,
      "metadata": {
        "execution": {
          "iopub.execute_input": "2022-11-20T23:59:41.582902Z",
          "iopub.status.busy": "2022-11-20T23:59:41.581604Z",
          "iopub.status.idle": "2022-11-20T23:59:41.590415Z",
          "shell.execute_reply": "2022-11-20T23:59:41.589334Z",
          "shell.execute_reply.started": "2022-11-20T23:59:41.582861Z"
        },
        "id": "zLzKB5KIxrai"
      },
      "outputs": [],
      "source": [
        "def learning_curve(model_fit, key='accuracy', ylim=(0, 1.01)):\n",
        "    plt.figure(figsize=(12,6))\n",
        "    plt.plot(model_fit.history[key])\n",
        "    plt.plot(model_fit.history['val_' + key])\n",
        "    plt.title('Learning Curve')\n",
        "    plt.ylabel(key.title())\n",
        "    plt.xlabel('Epoch')\n",
        "    plt.ylim(ylim)\n",
        "    plt.legend(['train', 'val'], loc='best')\n",
        "    plt.show()"
      ]
    },
    {
      "cell_type": "code",
      "execution_count": null,
      "metadata": {
        "colab": {
          "base_uri": "https://localhost:8080/",
          "height": 791
        },
        "execution": {
          "iopub.execute_input": "2022-11-21T00:00:33.947768Z",
          "iopub.status.busy": "2022-11-21T00:00:33.947405Z",
          "iopub.status.idle": "2022-11-21T00:00:34.276542Z",
          "shell.execute_reply": "2022-11-21T00:00:34.275131Z",
          "shell.execute_reply.started": "2022-11-21T00:00:33.947738Z"
        },
        "id": "Z0-SV05rxrai",
        "outputId": "1354b05b-aa1e-4aeb-ead7-3b4623938265"
      },
      "outputs": [
        {
          "data": {
            "image/png": "[encoded data removed]",
            "text/plain": [
              "<Figure size 1200x600 with 1 Axes>"
            ]
          },
          "metadata": {},
          "output_type": "display_data"
        },
        {
          "data": {
            "image/png": "[encoded data removed]",
            "text/plain": [
              "<Figure size 1200x600 with 1 Axes>"
            ]
          },
          "metadata": {},
          "output_type": "display_data"
        }
      ],
      "source": [
        "learning_curve(history,'loss', ylim=(0,100))\n",
        "learning_curve(history, 'accuracy', ylim=(0,1))"
      ]
    },
    {
      "cell_type": "code",
      "execution_count": null,
      "metadata": {
        "colab": {
          "base_uri": "https://localhost:8080/"
        },
        "execution": {
          "iopub.execute_input": "2022-11-21T00:00:48.521970Z",
          "iopub.status.busy": "2022-11-21T00:00:48.521544Z",
          "iopub.status.idle": "2022-11-21T00:01:06.182869Z",
          "shell.execute_reply": "2022-11-21T00:01:06.181578Z",
          "shell.execute_reply.started": "2022-11-21T00:00:48.521937Z"
        },
        "id": "DbETeiNVxrai",
        "outputId": "760d2c0a-ff11-467d-c2e7-f7852f85f8e8"
      },
      "outputs": [
        {
          "name": "stdout",
          "output_type": "stream",
          "text": [
            "5/5 [==============================] - 3s 313ms/step - loss: 0.3684 - accuracy: 0.8485\n",
            "Loss: 36.839\n",
            "Accuracy: 84.848\n"
          ]
        }
      ],
      "source": [
        "test_loss, test_acc = model.evaluate(test_generator, steps=len(test_generator), verbose=1)\n",
        "print('Loss: %.3f' % (test_loss * 100.0))\n",
        "print('Accuracy: %.3f' % (test_acc * 100.0)) "
      ]
    }
  ],
  "metadata": {
    "accelerator": "GPU",
    "colab": {
      "provenance": []
    },
    "gpuClass": "standard",
    "kernelspec": {
      "display_name": "Python 3 (ipykernel)",
      "language": "python",
      "name": "python3"
    },
    "language_info": {
      "codemirror_mode": {
        "name": "ipython",
        "version": 3
      },
      "file_extension": ".py",
      "mimetype": "text/x-python",
      "name": "python",
      "nbconvert_exporter": "python",
      "pygments_lexer": "ipython3",
      "version": "3.9.6"
    }
  },
  "nbformat": 4,
  "nbformat_minor": 0
}