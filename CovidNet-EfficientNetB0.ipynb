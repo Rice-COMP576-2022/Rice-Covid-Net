{
 "cells": [
  {
   "cell_type": "markdown",
   "metadata": {
    "id": "upPcfbxbxraY"
   },
   "source": [
    "# Installing Libraries"
   ]
  },
  {
   "cell_type": "code",
   "execution_count": 1,
   "metadata": {
    "execution": {
     "iopub.execute_input": "2022-11-19T21:13:58.950402Z",
     "iopub.status.busy": "2022-11-19T21:13:58.948547Z",
     "iopub.status.idle": "2022-11-19T21:14:05.013396Z",
     "shell.execute_reply": "2022-11-19T21:14:05.012568Z",
     "shell.execute_reply.started": "2022-11-19T21:13:58.950315Z"
    },
    "id": "ezs0rh7exraZ"
   },
   "outputs": [],
   "source": [
    "import pandas as pd\n",
    "import numpy as np\n",
    "import tensorflow as tf\n",
    "import matplotlib.pyplot as plt\n",
    "import matplotlib.image as mpimg\n",
    "import seaborn as sns\n",
    "import pathlib\n",
    "import random\n",
    "import os\n",
    "\n",
    "import tensorflow.keras as keras\n",
    "from tensorflow.keras.preprocessing import image_dataset_from_directory\n",
    "from tensorflow.keras.layers.experimental import preprocessing\n",
    "from tensorflow.keras.applications.vgg16 import VGG16\n",
    "from tensorflow.keras.applications.resnet50 import ResNet50\n",
    "from tensorflow.keras.applications.resnet import ResNet101\n",
    "from tensorflow.keras.applications.efficientnet import EfficientNetB0\n",
    "from tensorflow.keras.applications.efficientnet import EfficientNetB7\n",
    "from tensorflow.keras.applications.densenet import DenseNet121\n",
    "from tensorflow.keras.applications.inception_v3 import InceptionV3\n",
    "from tensorflow.keras.optimizers import Adam\n",
    "from tensorflow.keras.layers import Input\n",
    "from sklearn.metrics import accuracy_score, precision_score, recall_score, f1_score, cohen_kappa_score, roc_auc_score, confusion_matrix\n",
    "from sklearn.metrics import classification_report\n",
    "from keras.layers import Dense, Dropout, Activation, Flatten, BatchNormalization, Conv2D, MaxPool2D, MaxPooling2D\n",
    "from keras.applications import mobilenet\n",
    "from tensorflow.keras.callbacks import ReduceLROnPlateau, ModelCheckpoint, EarlyStopping\n",
    "from tensorflow.keras import Model\n",
    "from tensorflow.keras.layers import Dense, GlobalAveragePooling2D\n",
    "from tensorflow.keras import datasets, layers, models\n",
    "\n",
    "\n",
    "#Suppressing Warnings\n",
    "os.environ['TF_CPP_MIN_LOG_LEVEL'] = '3'"
   ]
  },
  {
   "cell_type": "code",
   "execution_count": 2,
   "metadata": {
    "execution": {
     "iopub.execute_input": "2022-11-19T21:14:05.017293Z",
     "iopub.status.busy": "2022-11-19T21:14:05.016475Z",
     "iopub.status.idle": "2022-11-19T21:14:05.039031Z",
     "shell.execute_reply": "2022-11-19T21:14:05.038245Z",
     "shell.execute_reply.started": "2022-11-19T21:14:05.017251Z"
    },
    "id": "pTIMSWToxrab"
   },
   "outputs": [],
   "source": [
    "tf.keras.backend.clear_session()"
   ]
  },
  {
   "cell_type": "markdown",
   "metadata": {
    "id": "K6ROmrXXxrab"
   },
   "source": [
    "# Preprocessing"
   ]
  },
  {
   "cell_type": "markdown",
   "metadata": {
    "id": "oC7iyZuHxrab"
   },
   "source": [
    "**Our Train and Test Path**"
   ]
  },
  {
   "cell_type": "code",
   "execution_count": 3,
   "metadata": {
    "execution": {
     "iopub.execute_input": "2022-11-19T21:14:05.040815Z",
     "iopub.status.busy": "2022-11-19T21:14:05.040351Z",
     "iopub.status.idle": "2022-11-19T21:14:05.044832Z",
     "shell.execute_reply": "2022-11-19T21:14:05.043969Z",
     "shell.execute_reply.started": "2022-11-19T21:14:05.040777Z"
    },
    "id": "OjG5W-7Nxrab"
   },
   "outputs": [],
   "source": [
    "train_path = './Covid19-dataset/train'\n",
    "test_path = './Covid19-dataset/test'"
   ]
  },
  {
   "cell_type": "markdown",
   "metadata": {
    "id": "f_vIuqifxrac"
   },
   "source": [
    "**Getting the labels of the data**"
   ]
  },
  {
   "cell_type": "markdown",
   "metadata": {
    "id": "LP4RBSnKxrad"
   },
   "source": [
    "**Our images are of varying sizes but all of them are greater than (512,512) so I have used 512,512 as the size for training our model**"
   ]
  },
  {
   "cell_type": "code",
   "execution_count": 4,
   "metadata": {
    "execution": {
     "iopub.execute_input": "2022-11-19T21:14:10.078754Z",
     "iopub.status.busy": "2022-11-19T21:14:10.078419Z",
     "iopub.status.idle": "2022-11-19T21:14:10.082678Z",
     "shell.execute_reply": "2022-11-19T21:14:10.082012Z",
     "shell.execute_reply.started": "2022-11-19T21:14:10.078720Z"
    },
    "id": "7A5QSHl_xrae"
   },
   "outputs": [],
   "source": [
    "img_size = 224\n",
    "batch = 16"
   ]
  },
  {
   "cell_type": "markdown",
   "metadata": {
    "id": "tIP6r3YPxrae"
   },
   "source": [
    "# Image Loader"
   ]
  },
  {
   "cell_type": "code",
   "execution_count": 5,
   "metadata": {
    "execution": {
     "iopub.execute_input": "2022-11-19T21:14:10.084560Z",
     "iopub.status.busy": "2022-11-19T21:14:10.083757Z",
     "iopub.status.idle": "2022-11-19T21:14:10.093006Z",
     "shell.execute_reply": "2022-11-19T21:14:10.092226Z",
     "shell.execute_reply.started": "2022-11-19T21:14:10.084522Z"
    },
    "id": "ru6jLhDKxrae"
   },
   "outputs": [],
   "source": [
    "from tensorflow.keras.preprocessing.image import ImageDataGenerator"
   ]
  },
  {
   "cell_type": "code",
   "execution_count": 6,
   "metadata": {
    "id": "ID6_CIp34mEg"
   },
   "outputs": [],
   "source": [
    "def generate_data(DIR):\n",
    "    datagen = ImageDataGenerator(rescale=1./255.)\n",
    "    \n",
    "    generator = datagen.flow_from_directory(\n",
    "        DIR,\n",
    "        batch_size=batch,\n",
    "        shuffle=True,\n",
    "        seed=42,\n",
    "        class_mode='categorical',\n",
    "        target_size=(img_size, img_size),\n",
    "        classes={'Normal': 0, 'Viral Pneumonia': 1,'Covid': 2}\n",
    "    )\n",
    "    return generator"
   ]
  },
  {
   "cell_type": "code",
   "execution_count": 7,
   "metadata": {
    "colab": {
     "base_uri": "https://localhost:8080/"
    },
    "execution": {
     "iopub.execute_input": "2022-11-19T21:14:10.094795Z",
     "iopub.status.busy": "2022-11-19T21:14:10.094494Z",
     "iopub.status.idle": "2022-11-19T21:14:10.102525Z",
     "shell.execute_reply": "2022-11-19T21:14:10.101692Z",
     "shell.execute_reply.started": "2022-11-19T21:14:10.094761Z"
    },
    "id": "j4QPh7Ogxrae",
    "outputId": "542cb9e1-1382-4e9a-a425-3f472b1c3235"
   },
   "outputs": [
    {
     "name": "stdout",
     "output_type": "stream",
     "text": [
      "Found 251 images belonging to 3 classes.\n",
      "Found 66 images belonging to 3 classes.\n"
     ]
    }
   ],
   "source": [
    "train_generator = generate_data(train_path)\n",
    "\n",
    "test_generator = generate_data(test_path)"
   ]
  },
  {
   "cell_type": "markdown",
   "metadata": {
    "id": "EO0BFF5oxraf"
   },
   "source": [
    "# Modelling"
   ]
  },
  {
   "cell_type": "code",
   "execution_count": 8,
   "metadata": {
    "colab": {
     "base_uri": "https://localhost:8080/"
    },
    "execution": {
     "iopub.execute_input": "2022-11-19T21:14:10.333089Z",
     "iopub.status.busy": "2022-11-19T21:14:10.332845Z",
     "iopub.status.idle": "2022-11-19T21:14:15.434630Z",
     "shell.execute_reply": "2022-11-19T21:14:15.433780Z",
     "shell.execute_reply.started": "2022-11-19T21:14:10.333057Z"
    },
    "id": "U_PBcB-xxraf",
    "outputId": "ea576563-eece-436b-dc71-a67587a8aa3e"
   },
   "outputs": [
    {
     "name": "stdout",
     "output_type": "stream",
     "text": [
      "Downloading data from https://storage.googleapis.com/keras-applications/efficientnetb0_notop.h5\n",
      "16705208/16705208 [==============================] - 1s 0us/step\n",
      "<keras.layers.pooling.global_average_pooling2d.GlobalAveragePooling2D object at 0x000002628F890FD0>\n",
      "<keras.layers.core.dense.Dense object at 0x00000262933F7B50>\n",
      "<keras.layers.core.dense.Dense object at 0x00000262931F1340>\n"
     ]
    }
   ],
   "source": [
    "base_model = EfficientNetB0(weights='imagenet', include_top=False,\n",
    "                            input_shape=(img_size, img_size,3))\n",
    "\n",
    "# freeze extraction layers\n",
    "base_model.trainable = False\n",
    "\n",
    "# add custom top layers\n",
    "x = base_model.output\n",
    "x = GlobalAveragePooling2D()(x)\n",
    "x = Dense(512 , activation='relu')(x)\n",
    "predictions = Dense(3, activation='softmax')(x)\n",
    "model = Model(inputs=base_model.input, outputs=predictions)\n",
    "\n",
    "# confirm unfrozen layers\n",
    "for layer in model.layers:\n",
    "    if layer.trainable==True:\n",
    "        print(layer)"
   ]
  },
  {
   "cell_type": "markdown",
   "metadata": {
    "id": "ekXubcUVxrag"
   },
   "source": [
    "### Overview of our entire model"
   ]
  },
  {
   "cell_type": "code",
   "execution_count": 9,
   "metadata": {
    "execution": {
     "iopub.execute_input": "2022-11-19T21:14:15.436002Z",
     "iopub.status.busy": "2022-11-19T21:14:15.435759Z",
     "iopub.status.idle": "2022-11-19T21:14:16.454915Z",
     "shell.execute_reply": "2022-11-19T21:14:16.454172Z",
     "shell.execute_reply.started": "2022-11-19T21:14:15.435969Z"
    },
    "id": "QhWdu_tBxrag"
   },
   "outputs": [],
   "source": [
    "# from tensorflow.keras.utils import plot_model\n",
    "# from IPython.display import Image\n",
    "# plot_model(model, to_file='convnet.png', show_shapes=True,show_layer_names=True)\n",
    "# Image(filename='convnet.png') "
   ]
  },
  {
   "cell_type": "markdown",
   "metadata": {
    "id": "BmVdvwBzxrag"
   },
   "source": [
    "## Callback to save our best model during training"
   ]
  },
  {
   "cell_type": "code",
   "execution_count": 10,
   "metadata": {
    "execution": {
     "iopub.execute_input": "2022-11-19T21:14:16.457408Z",
     "iopub.status.busy": "2022-11-19T21:14:16.456553Z",
     "iopub.status.idle": "2022-11-19T21:14:16.462389Z",
     "shell.execute_reply": "2022-11-19T21:14:16.461802Z",
     "shell.execute_reply.started": "2022-11-19T21:14:16.457361Z"
    },
    "id": "d3h5C6IIxrag"
   },
   "outputs": [],
   "source": [
    "callbacks = [EarlyStopping(monitor='val_loss', patience=5, verbose=1),\n",
    "                ModelCheckpoint('model.hdf5',\n",
    "                                 save_best_only=True)]"
   ]
  },
  {
   "cell_type": "code",
   "execution_count": 11,
   "metadata": {
    "execution": {
     "iopub.execute_input": "2022-11-19T21:14:16.465696Z",
     "iopub.status.busy": "2022-11-19T21:14:16.465182Z",
     "iopub.status.idle": "2022-11-19T21:14:16.498717Z",
     "shell.execute_reply": "2022-11-19T21:14:16.497551Z",
     "shell.execute_reply.started": "2022-11-19T21:14:16.465660Z"
    },
    "id": "XUZysSETxrag"
   },
   "outputs": [],
   "source": [
    "opt = Adam(learning_rate=0.001)\n",
    "model.compile(\n",
    "  loss='categorical_crossentropy',\n",
    "  optimizer=opt,\n",
    "  metrics=['accuracy']\n",
    ")"
   ]
  },
  {
   "cell_type": "markdown",
   "metadata": {
    "id": "EqBnFD56xrah"
   },
   "source": [
    "# Training the Model"
   ]
  },
  {
   "cell_type": "code",
   "execution_count": 12,
   "metadata": {
    "colab": {
     "base_uri": "https://localhost:8080/"
    },
    "execution": {
     "iopub.execute_input": "2022-11-19T21:14:16.506309Z",
     "iopub.status.busy": "2022-11-19T21:14:16.500538Z",
     "iopub.status.idle": "2022-11-19T21:21:46.638924Z",
     "shell.execute_reply": "2022-11-19T21:21:46.638140Z",
     "shell.execute_reply.started": "2022-11-19T21:14:16.506259Z"
    },
    "id": "WR13a2HDxrah",
    "outputId": "0edaf6e7-3e66-4af9-ee29-224207437b69"
   },
   "outputs": [
    {
     "name": "stdout",
     "output_type": "stream",
     "text": [
      "Epoch 1/100\n",
      "16/16 [==============================] - 16s 718ms/step - loss: 1.2239 - accuracy: 0.3825 - val_loss: 1.0972 - val_accuracy: 0.3939\n",
      "Epoch 2/100\n",
      "16/16 [==============================] - 10s 619ms/step - loss: 1.1041 - accuracy: 0.4143 - val_loss: 1.0935 - val_accuracy: 0.3939\n",
      "Epoch 3/100\n",
      "16/16 [==============================] - 10s 629ms/step - loss: 1.1051 - accuracy: 0.4183 - val_loss: 1.0918 - val_accuracy: 0.3939\n",
      "Epoch 4/100\n",
      "16/16 [==============================] - 10s 607ms/step - loss: 1.1077 - accuracy: 0.4223 - val_loss: 1.1897 - val_accuracy: 0.3030\n",
      "Epoch 5/100\n",
      "16/16 [==============================] - 10s 622ms/step - loss: 1.0905 - accuracy: 0.4422 - val_loss: 1.1387 - val_accuracy: 0.3030\n",
      "Epoch 6/100\n",
      "16/16 [==============================] - 10s 645ms/step - loss: 1.0938 - accuracy: 0.4064 - val_loss: 1.1733 - val_accuracy: 0.3939\n",
      "Epoch 7/100\n",
      "16/16 [==============================] - 10s 654ms/step - loss: 1.0980 - accuracy: 0.4183 - val_loss: 1.1510 - val_accuracy: 0.3939\n",
      "Epoch 8/100\n",
      "16/16 [==============================] - 11s 671ms/step - loss: 1.0906 - accuracy: 0.4422 - val_loss: 1.1046 - val_accuracy: 0.3030\n",
      "Epoch 8: early stopping\n"
     ]
    }
   ],
   "source": [
    "history = model.fit(train_generator,\n",
    "                    epochs = 100,\n",
    "                    validation_data = test_generator,\n",
    "                    verbose = True,\n",
    "                   callbacks=callbacks)"
   ]
  },
  {
   "cell_type": "markdown",
   "metadata": {
    "id": "69o9jZOExrah"
   },
   "source": [
    "# Evaluation"
   ]
  },
  {
   "cell_type": "code",
   "execution_count": 13,
   "metadata": {
    "execution": {
     "iopub.execute_input": "2022-11-19T21:21:46.640885Z",
     "iopub.status.busy": "2022-11-19T21:21:46.640578Z",
     "iopub.status.idle": "2022-11-19T21:21:46.647836Z",
     "shell.execute_reply": "2022-11-19T21:21:46.647035Z",
     "shell.execute_reply.started": "2022-11-19T21:21:46.640845Z"
    },
    "id": "A_evITN6xrah"
   },
   "outputs": [],
   "source": [
    "from tensorflow.keras.models import load_model"
   ]
  },
  {
   "cell_type": "code",
   "execution_count": 14,
   "metadata": {
    "id": "25608KkWB1K7"
   },
   "outputs": [],
   "source": [
    "import pandas as pd\n",
    "\n",
    "# convert the history.history dict to a pandas DataFrame:     \n",
    "hist_df = pd.DataFrame(history.history) \n",
    "\n",
    "# or save to csv: \n",
    "hist_csv_file = 'history.csv'\n",
    "with open(hist_csv_file, mode='w') as f:\n",
    "    hist_df.to_csv(f)"
   ]
  },
  {
   "cell_type": "markdown",
   "metadata": {
    "id": "4tNBBRMFxrah"
   },
   "source": [
    "### Loading our best model"
   ]
  },
  {
   "cell_type": "code",
   "execution_count": 15,
   "metadata": {
    "execution": {
     "iopub.execute_input": "2022-11-19T21:21:46.649424Z",
     "iopub.status.busy": "2022-11-19T21:21:46.649018Z",
     "iopub.status.idle": "2022-11-19T21:21:46.943167Z",
     "shell.execute_reply": "2022-11-19T21:21:46.942354Z",
     "shell.execute_reply.started": "2022-11-19T21:21:46.649384Z"
    },
    "id": "9uwIimXGxrah"
   },
   "outputs": [],
   "source": [
    "model = load_model('./model.hdf5')"
   ]
  },
  {
   "cell_type": "code",
   "execution_count": 16,
   "metadata": {
    "execution": {
     "iopub.execute_input": "2022-11-19T21:21:46.944762Z",
     "iopub.status.busy": "2022-11-19T21:21:46.944489Z",
     "iopub.status.idle": "2022-11-19T21:21:46.950906Z",
     "shell.execute_reply": "2022-11-19T21:21:46.950199Z",
     "shell.execute_reply.started": "2022-11-19T21:21:46.944720Z"
    },
    "id": "zLzKB5KIxrai"
   },
   "outputs": [],
   "source": [
    "def learning_curve(model_fit, key='accuracy', ylim=(0, 1.01)):\n",
    "    plt.figure(figsize=(12,6))\n",
    "    plt.plot(model_fit.history[key])\n",
    "    plt.plot(model_fit.history['val_' + key])\n",
    "    plt.title('Learning Curve')\n",
    "    plt.ylabel(key.title())\n",
    "    plt.xlabel('Epoch')\n",
    "    plt.ylim(ylim)\n",
    "    plt.legend(['train', 'val'], loc='best')\n",
    "    plt.show()"
   ]
  },
  {
   "cell_type": "code",
   "execution_count": 17,
   "metadata": {
    "colab": {
     "base_uri": "https://localhost:8080/",
     "height": 791
    },
    "execution": {
     "iopub.execute_input": "2022-11-19T21:21:46.952952Z",
     "iopub.status.busy": "2022-11-19T21:21:46.952427Z",
     "iopub.status.idle": "2022-11-19T21:21:47.387000Z",
     "shell.execute_reply": "2022-11-19T21:21:47.386303Z",
     "shell.execute_reply.started": "2022-11-19T21:21:46.952914Z"
    },
    "id": "Z0-SV05rxrai",
    "outputId": "1354b05b-aa1e-4aeb-ead7-3b4623938265"
   },
   "outputs": [
    {
     "data": {
      "image/png": "[encoded data removed]",
      "text/plain": [
       "<Figure size 1200x600 with 1 Axes>"
      ]
     },
     "metadata": {},
     "output_type": "display_data"
    },
    {
     "data": {
      "image/png": "[encoded data removed]",
      "text/plain": [
       "<Figure size 1200x600 with 1 Axes>"
      ]
     },
     "metadata": {},
     "output_type": "display_data"
    }
   ],
   "source": [
    "learning_curve(history,'loss', ylim=(0,1))\n",
    "learning_curve(history, 'accuracy', ylim=(0,1))"
   ]
  },
  {
   "cell_type": "code",
   "execution_count": 18,
   "metadata": {
    "colab": {
     "base_uri": "https://localhost:8080/"
    },
    "execution": {
     "iopub.execute_input": "2022-11-19T21:21:47.388774Z",
     "iopub.status.busy": "2022-11-19T21:21:47.388183Z",
     "iopub.status.idle": "2022-11-19T21:21:49.902781Z",
     "shell.execute_reply": "2022-11-19T21:21:49.902017Z",
     "shell.execute_reply.started": "2022-11-19T21:21:47.388732Z"
    },
    "id": "DbETeiNVxrai",
    "outputId": "760d2c0a-ff11-467d-c2e7-f7852f85f8e8"
   },
   "outputs": [
    {
     "name": "stdout",
     "output_type": "stream",
     "text": [
      "5/5 [==============================] - 3s 290ms/step - loss: 1.0918 - accuracy: 0.3939\n",
      "Loss: 109.182\n",
      "Accuracy: 39.394\n"
     ]
    }
   ],
   "source": [
    "test_loss, test_acc = model.evaluate(test_generator, steps=len(test_generator), verbose=1)\n",
    "print('Loss: %.3f' % (test_loss * 100.0))\n",
    "print('Accuracy: %.3f' % (test_acc * 100.0)) "
   ]
  },
  {
   "cell_type": "markdown",
   "metadata": {
    "id": "6G4wfP85xrai"
   },
   "source": [
    "**We got a good model with an accuracry of 95%**"
   ]
  },
  {
   "cell_type": "code",
   "execution_count": 19,
   "metadata": {
    "colab": {
     "base_uri": "https://localhost:8080/"
    },
    "execution": {
     "iopub.execute_input": "2022-11-19T21:21:49.904505Z",
     "iopub.status.busy": "2022-11-19T21:21:49.904147Z",
     "iopub.status.idle": "2022-11-19T21:21:51.719657Z",
     "shell.execute_reply": "2022-11-19T21:21:51.718937Z",
     "shell.execute_reply.started": "2022-11-19T21:21:49.904465Z"
    },
    "id": "atXhmOsZxrai",
    "outputId": "2a78d7ae-5e9c-48a1-fe0d-a9a6caa056a5"
   },
   "outputs": [
    {
     "name": "stdout",
     "output_type": "stream",
     "text": [
      "5/5 [==============================] - 3s 288ms/step\n"
     ]
    },
    {
     "data": {
      "text/plain": [
       "(array([2, 2, 2, 2, 2, 2, 2, 2, 2, 2, 2, 2, 2, 2, 2, 2, 2, 2, 2, 2, 2, 2,\n",
       "        2, 2, 2, 2, 2, 2, 2, 2, 2, 2, 2, 2, 2, 2, 2, 2, 2, 2, 2, 2, 2, 2,\n",
       "        2, 2, 2, 2, 2, 2, 2, 2, 2, 2, 2, 2, 2, 2, 2, 2, 2, 2, 2, 2, 2, 2],\n",
       "       dtype=int64),\n",
       " array([0, 0, 0, 0, 0, 0, 0, 0, 0, 0, 0, 0, 0, 0, 0, 0, 0, 0, 0, 0, 1, 1,\n",
       "        1, 1, 1, 1, 1, 1, 1, 1, 1, 1, 1, 1, 1, 1, 1, 1, 1, 1, 2, 2, 2, 2,\n",
       "        2, 2, 2, 2, 2, 2, 2, 2, 2, 2, 2, 2, 2, 2, 2, 2, 2, 2, 2, 2, 2, 2]))"
      ]
     },
     "execution_count": 19,
     "metadata": {},
     "output_type": "execute_result"
    }
   ],
   "source": [
    "predictions = np.argmax(model.predict(test_generator),axis=1)\n",
    "labels = test_generator.classes\n",
    "predictions , labels"
   ]
  },
  {
   "cell_type": "code",
   "execution_count": 20,
   "metadata": {
    "colab": {
     "base_uri": "https://localhost:8080/"
    },
    "execution": {
     "iopub.execute_input": "2022-11-19T21:21:51.721411Z",
     "iopub.status.busy": "2022-11-19T21:21:51.720994Z",
     "iopub.status.idle": "2022-11-19T21:21:51.728215Z",
     "shell.execute_reply": "2022-11-19T21:21:51.727467Z",
     "shell.execute_reply.started": "2022-11-19T21:21:51.721372Z"
    },
    "id": "6e2s9WG5xrai",
    "outputId": "9ce7d45b-86f1-4d8f-b096-43321774ac8e"
   },
   "outputs": [
    {
     "data": {
      "text/plain": [
       "['Covid', 'Normal', 'Viral Pneumonia']"
      ]
     },
     "execution_count": 20,
     "metadata": {},
     "output_type": "execute_result"
    }
   ],
   "source": [
    "classes = []\n",
    "for i in os.listdir(test_path):\n",
    "    classes+=[i]\n",
    "\n",
    "classes"
   ]
  },
  {
   "cell_type": "markdown",
   "metadata": {
    "id": "IIHft9UFxraj"
   },
   "source": [
    "### Function To Calculate F1-Score"
   ]
  },
  {
   "cell_type": "code",
   "execution_count": 21,
   "metadata": {
    "execution": {
     "iopub.execute_input": "2022-11-19T21:21:51.729892Z",
     "iopub.status.busy": "2022-11-19T21:21:51.729488Z",
     "iopub.status.idle": "2022-11-19T21:21:51.736884Z",
     "shell.execute_reply": "2022-11-19T21:21:51.736061Z",
     "shell.execute_reply.started": "2022-11-19T21:21:51.729858Z"
    },
    "id": "TDmQZICTxraj"
   },
   "outputs": [],
   "source": [
    "def fbeta(y_true, y_pred, threshold_shift=0):\n",
    "    beta_squared = 4\n",
    "\n",
    "    y_pred = K.clip(y_pred, 0, 1)\n",
    " \n",
    "    y_pred_bin = K.round(y_pred + threshold_shift)\n",
    " \n",
    "    tp = K.sum(K.round(y_true * y_pred_bin)) + K.epsilon()\n",
    "    fp = K.sum(K.round(K.clip(y_pred_bin - y_true, 0, 1)))\n",
    "    fn = K.sum(K.round(K.clip(y_true - y_pred, 0, 1)))\n",
    " \n",
    "    precision = tp / (tp + fp)\n",
    "    recall = tp / (tp + fn)\n",
    " \n",
    "    return (beta_squared + 1) * (precision * recall) / (beta_squared * precision + recall + K.epsilon())"
   ]
  },
  {
   "cell_type": "markdown",
   "metadata": {
    "id": "Pj8pAI1zxraj"
   },
   "source": [
    "### Function To Plot Confusion Matrix"
   ]
  },
  {
   "cell_type": "code",
   "execution_count": 22,
   "metadata": {
    "execution": {
     "iopub.execute_input": "2022-11-19T21:21:51.740758Z",
     "iopub.status.busy": "2022-11-19T21:21:51.740174Z",
     "iopub.status.idle": "2022-11-19T21:21:51.747217Z",
     "shell.execute_reply": "2022-11-19T21:21:51.746520Z",
     "shell.execute_reply.started": "2022-11-19T21:21:51.740722Z"
    },
    "id": "dyXYCMUrxraj"
   },
   "outputs": [],
   "source": [
    "def confusion_matrix_plot(matrix):\n",
    "    plt.figure(figsize=(12,10))\n",
    "    cmap = \"YlGnBu\"\n",
    "    ax= plt.subplot()\n",
    "    sns.heatmap(matrix, annot=True, fmt='g', ax=ax, cmap=cmap);  #annot=True to annotate cells, ftm='g' to disable scientific notation\n",
    "    plt.savefig('./img1.png')\n",
    "    # labels, title and ticks\n",
    "    ax.set_xlabel('Predicted labels');\n",
    "    ax.set_ylabel('True labels'); \n",
    "    ax.set_title('Confusion Matrix'); \n",
    "    ax.xaxis.set_ticklabels(classes); \n",
    "    ax.yaxis.set_ticklabels(classes[::-1]);\n",
    "    plt.show()"
   ]
  },
  {
   "cell_type": "markdown",
   "metadata": {
    "id": "geITsQMfxraj"
   },
   "source": [
    "### Function To Calculate Confusion Matrix"
   ]
  },
  {
   "cell_type": "code",
   "execution_count": 23,
   "metadata": {
    "execution": {
     "iopub.execute_input": "2022-11-19T21:21:51.750086Z",
     "iopub.status.busy": "2022-11-19T21:21:51.749885Z",
     "iopub.status.idle": "2022-11-19T21:21:51.757454Z",
     "shell.execute_reply": "2022-11-19T21:21:51.756808Z",
     "shell.execute_reply.started": "2022-11-19T21:21:51.750062Z"
    },
    "id": "S8AksiP8xraj"
   },
   "outputs": [],
   "source": [
    "def cal_score(model, key):\n",
    "    matrix = confusion_matrix(predictions, labels)\n",
    "    print(matrix)\n",
    "    print('\\n')\n",
    "\n",
    "    f1 = f1_score(predictions, labels, average='weighted')\n",
    "    print(f'F1 Score: {f1}')\n",
    "    print('\\n')\n",
    "    \n",
    "    print(classification_report(predictions, labels, target_names=classes))\n",
    "    \n",
    "    if key==1:\n",
    "        confusion_matrix_plot(matrix)"
   ]
  },
  {
   "cell_type": "code",
   "execution_count": 24,
   "metadata": {
    "colab": {
     "base_uri": "https://localhost:8080/"
    },
    "execution": {
     "iopub.execute_input": "2022-11-19T21:21:51.761730Z",
     "iopub.status.busy": "2022-11-19T21:21:51.759849Z",
     "iopub.status.idle": "2022-11-19T21:21:52.085988Z",
     "shell.execute_reply": "2022-11-19T21:21:52.085299Z",
     "shell.execute_reply.started": "2022-11-19T21:21:51.761701Z"
    },
    "id": "8-QO4H0exrak",
    "outputId": "bb125730-ee48-4f0f-ef24-5d3f90bc35aa"
   },
   "outputs": [
    {
     "name": "stdout",
     "output_type": "stream",
     "text": [
      "[[ 0  0  0]\n",
      " [ 0  0  0]\n",
      " [20 20 26]]\n",
      "\n",
      "\n",
      "F1 Score: 0.5652173913043478\n",
      "\n",
      "\n",
      "                 precision    recall  f1-score   support\n",
      "\n",
      "          Covid       0.00      0.00      0.00         0\n",
      "         Normal       0.00      0.00      0.00         0\n",
      "Viral Pneumonia       1.00      0.39      0.57        66\n",
      "\n",
      "       accuracy                           0.39        66\n",
      "      macro avg       0.33      0.13      0.19        66\n",
      "   weighted avg       1.00      0.39      0.57        66\n",
      "\n"
     ]
    },
    {
     "name": "stderr",
     "output_type": "stream",
     "text": [
      "C:\\Users\\65287\\anaconda3\\envs\\COMP576CovidNet\\lib\\site-packages\\sklearn\\metrics\\_classification.py:1334: UndefinedMetricWarning: Recall and F-score are ill-defined and being set to 0.0 in labels with no true samples. Use `zero_division` parameter to control this behavior.\n",
      "  _warn_prf(average, modifier, msg_start, len(result))\n",
      "C:\\Users\\65287\\anaconda3\\envs\\COMP576CovidNet\\lib\\site-packages\\sklearn\\metrics\\_classification.py:1334: UndefinedMetricWarning: Recall and F-score are ill-defined and being set to 0.0 in labels with no true samples. Use `zero_division` parameter to control this behavior.\n",
      "  _warn_prf(average, modifier, msg_start, len(result))\n",
      "C:\\Users\\65287\\anaconda3\\envs\\COMP576CovidNet\\lib\\site-packages\\sklearn\\metrics\\_classification.py:1334: UndefinedMetricWarning: Recall and F-score are ill-defined and being set to 0.0 in labels with no true samples. Use `zero_division` parameter to control this behavior.\n",
      "  _warn_prf(average, modifier, msg_start, len(result))\n"
     ]
    },
    {
     "data": {
      "image/png": "[encoded data removed]",
      "text/plain": [
       "<Figure size 1200x1000 with 2 Axes>"
      ]
     },
     "metadata": {},
     "output_type": "display_data"
    }
   ],
   "source": [
    "cal_score(model, 1)"
   ]
  }
 ],
 "metadata": {
  "accelerator": "GPU",
  "colab": {
   "provenance": []
  },
  "gpuClass": "standard",
  "kernelspec": {
   "display_name": "Python 3 (ipykernel)",
   "language": "python",
   "name": "python3"
  },
  "language_info": {
   "codemirror_mode": {
    "name": "ipython",
    "version": 3
   },
   "file_extension": ".py",
   "mimetype": "text/x-python",
   "name": "python",
   "nbconvert_exporter": "python",
   "pygments_lexer": "ipython3",
   "version": "3.9.15"
  }
 },
 "nbformat": 4,
 "nbformat_minor": 1
}
