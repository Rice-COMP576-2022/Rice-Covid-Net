{
 "cells": [
  {
   "cell_type": "markdown",
   "metadata": {
    "id": "upPcfbxbxraY"
   },
   "source": [
    "# Installing Libraries"
   ]
  },
  {
   "cell_type": "code",
   "execution_count": 36,
   "metadata": {
    "execution": {
     "iopub.execute_input": "2022-11-20T23:35:34.854770Z",
     "iopub.status.busy": "2022-11-20T23:35:34.854404Z",
     "iopub.status.idle": "2022-11-20T23:35:34.866725Z",
     "shell.execute_reply": "2022-11-20T23:35:34.865077Z",
     "shell.execute_reply.started": "2022-11-20T23:35:34.854745Z"
    },
    "id": "ezs0rh7exraZ"
   },
   "outputs": [],
   "source": [
    "import pandas as pd\n",
    "import numpy as np\n",
    "import tensorflow as tf\n",
    "import matplotlib.pyplot as plt\n",
    "import matplotlib.image as mpimg\n",
    "import seaborn as sns\n",
    "import pathlib\n",
    "import random\n",
    "import os\n",
    "\n",
    "import tensorflow.keras as keras\n",
    "from tensorflow.keras.preprocessing import image_dataset_from_directory\n",
    "from tensorflow.keras.layers.experimental import preprocessing\n",
    "from tensorflow.keras.applications.vgg16 import VGG16\n",
    "from tensorflow.keras.applications.resnet50 import ResNet50\n",
    "from tensorflow.keras.applications.resnet import ResNet101\n",
    "from tensorflow.keras.applications.efficientnet import EfficientNetB0\n",
    "from tensorflow.keras.applications.densenet import DenseNet121\n",
    "from tensorflow.keras.applications.inception_v3 import InceptionV3\n",
    "from tensorflow.keras.optimizers import Adam\n",
    "from tensorflow.keras.layers import Input\n",
    "from sklearn.metrics import accuracy_score, precision_score, recall_score, f1_score, cohen_kappa_score, roc_auc_score, confusion_matrix\n",
    "from sklearn.metrics import classification_report\n",
    "from keras.layers import Dense, Dropout, Activation, Flatten, BatchNormalization, Conv2D, MaxPool2D, MaxPooling2D\n",
    "from keras.applications import mobilenet\n",
    "from tensorflow.keras.callbacks import ReduceLROnPlateau, ModelCheckpoint, EarlyStopping\n",
    "from tensorflow.keras import Model\n",
    "from tensorflow.keras.layers import Dense, GlobalAveragePooling2D\n",
    "from tensorflow.keras import datasets, layers, models\n",
    "\n",
    "#Suppressing Warnings\n",
    "os.environ['TF_CPP_MIN_LOG_LEVEL'] = '3'"
   ]
  },
  {
   "cell_type": "code",
   "execution_count": 37,
   "metadata": {
    "execution": {
     "iopub.execute_input": "2022-11-20T23:28:00.662173Z",
     "iopub.status.busy": "2022-11-20T23:28:00.661769Z",
     "iopub.status.idle": "2022-11-20T23:28:00.670009Z",
     "shell.execute_reply": "2022-11-20T23:28:00.668990Z",
     "shell.execute_reply.started": "2022-11-20T23:28:00.662141Z"
    },
    "id": "pTIMSWToxrab"
   },
   "outputs": [],
   "source": [
    "tf.keras.backend.clear_session()"
   ]
  },
  {
   "cell_type": "markdown",
   "metadata": {
    "id": "K6ROmrXXxrab"
   },
   "source": [
    "# Preprocessing"
   ]
  },
  {
   "cell_type": "markdown",
   "metadata": {
    "id": "oC7iyZuHxrab"
   },
   "source": [
    "**Our Train and Test Path**"
   ]
  },
  {
   "cell_type": "code",
   "execution_count": 38,
   "metadata": {
    "execution": {
     "iopub.execute_input": "2022-11-20T23:28:22.590550Z",
     "iopub.status.busy": "2022-11-20T23:28:22.590186Z",
     "iopub.status.idle": "2022-11-20T23:28:22.595746Z",
     "shell.execute_reply": "2022-11-20T23:28:22.594671Z",
     "shell.execute_reply.started": "2022-11-20T23:28:22.590519Z"
    },
    "id": "OjG5W-7Nxrab"
   },
   "outputs": [],
   "source": [
    "train_path = './Covid19-dataset/train'\n",
    "test_path = './Covid19-dataset/test'"
   ]
  },
  {
   "cell_type": "markdown",
   "metadata": {
    "id": "f_vIuqifxrac"
   },
   "source": [
    "**Getting the labels of the data**"
   ]
  },
  {
   "cell_type": "markdown",
   "metadata": {
    "id": "LP4RBSnKxrad"
   },
   "source": [
    "**Our images are of varying sizes but all of them are greater than (512,512) so I have used 512,512 as the size for training our model**"
   ]
  },
  {
   "cell_type": "code",
   "execution_count": 39,
   "metadata": {
    "execution": {
     "iopub.execute_input": "2022-11-20T23:28:24.411630Z",
     "iopub.status.busy": "2022-11-20T23:28:24.410992Z",
     "iopub.status.idle": "2022-11-20T23:28:24.415949Z",
     "shell.execute_reply": "2022-11-20T23:28:24.414520Z",
     "shell.execute_reply.started": "2022-11-20T23:28:24.411602Z"
    },
    "id": "7A5QSHl_xrae"
   },
   "outputs": [],
   "source": [
    "img_size = 224\n",
    "batch = 16"
   ]
  },
  {
   "cell_type": "markdown",
   "metadata": {
    "id": "tIP6r3YPxrae"
   },
   "source": [
    "# Image Loader"
   ]
  },
  {
   "cell_type": "code",
   "execution_count": 40,
   "metadata": {
    "execution": {
     "iopub.execute_input": "2022-11-20T23:28:29.773296Z",
     "iopub.status.busy": "2022-11-20T23:28:29.772916Z",
     "iopub.status.idle": "2022-11-20T23:28:29.777605Z",
     "shell.execute_reply": "2022-11-20T23:28:29.776997Z",
     "shell.execute_reply.started": "2022-11-20T23:28:29.773271Z"
    },
    "id": "ru6jLhDKxrae"
   },
   "outputs": [],
   "source": [
    "from tensorflow.keras.preprocessing.image import ImageDataGenerator"
   ]
  },
  {
   "cell_type": "code",
   "execution_count": 41,
   "metadata": {
    "execution": {
     "iopub.execute_input": "2022-11-20T23:28:32.033358Z",
     "iopub.status.busy": "2022-11-20T23:28:32.032970Z",
     "iopub.status.idle": "2022-11-20T23:28:32.041315Z",
     "shell.execute_reply": "2022-11-20T23:28:32.039747Z",
     "shell.execute_reply.started": "2022-11-20T23:28:32.033329Z"
    },
    "id": "ID6_CIp34mEg"
   },
   "outputs": [],
   "source": [
    "def generate_data(DIR):\n",
    "    datagen = ImageDataGenerator(rescale=1./255.)\n",
    "    \n",
    "    generator = datagen.flow_from_directory(\n",
    "        DIR,\n",
    "        batch_size=batch,\n",
    "        shuffle=True,\n",
    "        seed=42,\n",
    "        class_mode='categorical',\n",
    "        target_size=(img_size, img_size),\n",
    "        classes={'Normal': 0, 'Viral Pneumonia': 1,'Covid': 2}\n",
    "    )\n",
    "    return generator"
   ]
  },
  {
   "cell_type": "code",
   "execution_count": 42,
   "metadata": {
    "colab": {
     "base_uri": "https://localhost:8080/"
    },
    "execution": {
     "iopub.execute_input": "2022-11-20T23:28:33.671375Z",
     "iopub.status.busy": "2022-11-20T23:28:33.670984Z",
     "iopub.status.idle": "2022-11-20T23:28:33.884934Z",
     "shell.execute_reply": "2022-11-20T23:28:33.883842Z",
     "shell.execute_reply.started": "2022-11-20T23:28:33.671346Z"
    },
    "id": "j4QPh7Ogxrae",
    "outputId": "542cb9e1-1382-4e9a-a425-3f472b1c3235"
   },
   "outputs": [
    {
     "name": "stdout",
     "output_type": "stream",
     "text": [
      "Found 251 images belonging to 3 classes.\n",
      "Found 66 images belonging to 3 classes.\n"
     ]
    }
   ],
   "source": [
    "train_generator = generate_data(train_path)\n",
    "\n",
    "test_generator = generate_data(test_path)"
   ]
  },
  {
   "cell_type": "markdown",
   "metadata": {
    "id": "EO0BFF5oxraf"
   },
   "source": [
    "# Modelling"
   ]
  },
  {
   "cell_type": "code",
   "execution_count": 44,
   "metadata": {
    "execution": {
     "iopub.execute_input": "2022-11-20T23:35:56.827704Z",
     "iopub.status.busy": "2022-11-20T23:35:56.827365Z",
     "iopub.status.idle": "2022-11-20T23:35:57.097174Z",
     "shell.execute_reply": "2022-11-20T23:35:57.096105Z",
     "shell.execute_reply.started": "2022-11-20T23:35:56.827680Z"
    }
   },
   "outputs": [
    {
     "name": "stdout",
     "output_type": "stream",
     "text": [
      "Downloading data from https://storage.googleapis.com/tensorflow/keras-applications/mobilenet/mobilenet_1_0_224_tf.h5\n",
      "17225924/17225924 [==============================] - 1s 0us/step\n"
     ]
    },
    {
     "ename": "ValueError",
     "evalue": "Input 0 of layer \"global_average_pooling2d_1\" is incompatible with the layer: expected ndim=4, found ndim=2. Full shape received: (None, 1000)",
     "output_type": "error",
     "traceback": [
      "\u001b[0;31m---------------------------------------------------------------------------\u001b[0m",
      "\u001b[0;31mValueError\u001b[0m                                Traceback (most recent call last)",
      "Cell \u001b[0;32mIn [44], line 14\u001b[0m\n\u001b[1;32m     12\u001b[0m \u001b[38;5;66;03m# add custom top layers\u001b[39;00m\n\u001b[1;32m     13\u001b[0m x \u001b[38;5;241m=\u001b[39m base_model\u001b[38;5;241m.\u001b[39moutput\n\u001b[0;32m---> 14\u001b[0m x \u001b[38;5;241m=\u001b[39m \u001b[43mGlobalAveragePooling2D\u001b[49m\u001b[43m(\u001b[49m\u001b[43m)\u001b[49m\u001b[43m(\u001b[49m\u001b[43mx\u001b[49m\u001b[43m)\u001b[49m\n\u001b[1;32m     15\u001b[0m x \u001b[38;5;241m=\u001b[39m Dense(\u001b[38;5;241m512\u001b[39m , activation\u001b[38;5;241m=\u001b[39m\u001b[38;5;124m'\u001b[39m\u001b[38;5;124mrelu\u001b[39m\u001b[38;5;124m'\u001b[39m)(x)\n\u001b[1;32m     16\u001b[0m predictions \u001b[38;5;241m=\u001b[39m Dense(\u001b[38;5;241m3\u001b[39m, activation\u001b[38;5;241m=\u001b[39m\u001b[38;5;124m'\u001b[39m\u001b[38;5;124msoftmax\u001b[39m\u001b[38;5;124m'\u001b[39m)(x)\n",
      "File \u001b[0;32m~/Library/Python/3.9/lib/python/site-packages/keras/utils/traceback_utils.py:70\u001b[0m, in \u001b[0;36mfilter_traceback.<locals>.error_handler\u001b[0;34m(*args, **kwargs)\u001b[0m\n\u001b[1;32m     67\u001b[0m     filtered_tb \u001b[38;5;241m=\u001b[39m _process_traceback_frames(e\u001b[38;5;241m.\u001b[39m__traceback__)\n\u001b[1;32m     68\u001b[0m     \u001b[38;5;66;03m# To get the full stack trace, call:\u001b[39;00m\n\u001b[1;32m     69\u001b[0m     \u001b[38;5;66;03m# `tf.debugging.disable_traceback_filtering()`\u001b[39;00m\n\u001b[0;32m---> 70\u001b[0m     \u001b[38;5;28;01mraise\u001b[39;00m e\u001b[38;5;241m.\u001b[39mwith_traceback(filtered_tb) \u001b[38;5;28;01mfrom\u001b[39;00m \u001b[38;5;28mNone\u001b[39m\n\u001b[1;32m     71\u001b[0m \u001b[38;5;28;01mfinally\u001b[39;00m:\n\u001b[1;32m     72\u001b[0m     \u001b[38;5;28;01mdel\u001b[39;00m filtered_tb\n",
      "File \u001b[0;32m~/Library/Python/3.9/lib/python/site-packages/keras/engine/input_spec.py:232\u001b[0m, in \u001b[0;36massert_input_compatibility\u001b[0;34m(input_spec, inputs, layer_name)\u001b[0m\n\u001b[1;32m    230\u001b[0m     ndim \u001b[38;5;241m=\u001b[39m shape\u001b[38;5;241m.\u001b[39mrank\n\u001b[1;32m    231\u001b[0m     \u001b[38;5;28;01mif\u001b[39;00m ndim \u001b[38;5;241m!=\u001b[39m spec\u001b[38;5;241m.\u001b[39mndim:\n\u001b[0;32m--> 232\u001b[0m         \u001b[38;5;28;01mraise\u001b[39;00m \u001b[38;5;167;01mValueError\u001b[39;00m(\n\u001b[1;32m    233\u001b[0m             \u001b[38;5;124mf\u001b[39m\u001b[38;5;124m'\u001b[39m\u001b[38;5;124mInput \u001b[39m\u001b[38;5;132;01m{\u001b[39;00minput_index\u001b[38;5;132;01m}\u001b[39;00m\u001b[38;5;124m of layer \u001b[39m\u001b[38;5;124m\"\u001b[39m\u001b[38;5;132;01m{\u001b[39;00mlayer_name\u001b[38;5;132;01m}\u001b[39;00m\u001b[38;5;124m\"\u001b[39m\u001b[38;5;124m \u001b[39m\u001b[38;5;124m'\u001b[39m\n\u001b[1;32m    234\u001b[0m             \u001b[38;5;124m\"\u001b[39m\u001b[38;5;124mis incompatible with the layer: \u001b[39m\u001b[38;5;124m\"\u001b[39m\n\u001b[1;32m    235\u001b[0m             \u001b[38;5;124mf\u001b[39m\u001b[38;5;124m\"\u001b[39m\u001b[38;5;124mexpected ndim=\u001b[39m\u001b[38;5;132;01m{\u001b[39;00mspec\u001b[38;5;241m.\u001b[39mndim\u001b[38;5;132;01m}\u001b[39;00m\u001b[38;5;124m, found ndim=\u001b[39m\u001b[38;5;132;01m{\u001b[39;00mndim\u001b[38;5;132;01m}\u001b[39;00m\u001b[38;5;124m. \u001b[39m\u001b[38;5;124m\"\u001b[39m\n\u001b[1;32m    236\u001b[0m             \u001b[38;5;124mf\u001b[39m\u001b[38;5;124m\"\u001b[39m\u001b[38;5;124mFull shape received: \u001b[39m\u001b[38;5;132;01m{\u001b[39;00m\u001b[38;5;28mtuple\u001b[39m(shape)\u001b[38;5;132;01m}\u001b[39;00m\u001b[38;5;124m\"\u001b[39m\n\u001b[1;32m    237\u001b[0m         )\n\u001b[1;32m    238\u001b[0m \u001b[38;5;28;01mif\u001b[39;00m spec\u001b[38;5;241m.\u001b[39mmax_ndim \u001b[38;5;129;01mis\u001b[39;00m \u001b[38;5;129;01mnot\u001b[39;00m \u001b[38;5;28;01mNone\u001b[39;00m:\n\u001b[1;32m    239\u001b[0m     ndim \u001b[38;5;241m=\u001b[39m x\u001b[38;5;241m.\u001b[39mshape\u001b[38;5;241m.\u001b[39mrank\n",
      "\u001b[0;31mValueError\u001b[0m: Input 0 of layer \"global_average_pooling2d_1\" is incompatible with the layer: expected ndim=4, found ndim=2. Full shape received: (None, 1000)"
     ]
    }
   ],
   "source": [
    "# def InceptionV3(input_shape=(32, 32, 3)):\n",
    "# #     vgg16\n",
    "#     model = models.Sequential()\n",
    "#     model.add()\n",
    "#     return model\n",
    "\n",
    "base_model = mobilenet.MobileNet(weights='imagenet')\n",
    "\n",
    "# freeze extraction layers\n",
    "base_model.trainable = False\n",
    "\n",
    "# add custom top layers\n",
    "x = base_model.output\n",
    "x = GlobalAveragePooling2D()(x)\n",
    "x = Dense(512 , activation='relu')(x)\n",
    "predictions = Dense(3, activation='softmax')(x)\n",
    "model = Model(inputs=base_model.input, outputs=predictions)\n",
    "\n",
    "# confirm unfrozen layers\n",
    "for layer in model.layers:\n",
    "    if layer.trainable==True:\n",
    "        print(layer)"
   ]
  },
  {
   "cell_type": "markdown",
   "metadata": {
    "id": "ekXubcUVxrag"
   },
   "source": [
    "### Overview of our entire model"
   ]
  },
  {
   "cell_type": "code",
   "execution_count": null,
   "metadata": {
    "execution": {
     "iopub.execute_input": "2022-11-19T21:14:15.436002Z",
     "iopub.status.busy": "2022-11-19T21:14:15.435759Z",
     "iopub.status.idle": "2022-11-19T21:14:16.454915Z",
     "shell.execute_reply": "2022-11-19T21:14:16.454172Z",
     "shell.execute_reply.started": "2022-11-19T21:14:15.435969Z"
    },
    "id": "QhWdu_tBxrag"
   },
   "outputs": [],
   "source": [
    "# from tensorflow.keras.utils import plot_model\n",
    "# from IPython.display import Image\n",
    "# plot_model(model, to_file='convnet.png', show_shapes=True,show_layer_names=True)\n",
    "# Image(filename='convnet.png') "
   ]
  },
  {
   "cell_type": "markdown",
   "metadata": {
    "id": "BmVdvwBzxrag"
   },
   "source": [
    "## Callback to save our best model during training"
   ]
  },
  {
   "cell_type": "code",
   "execution_count": null,
   "metadata": {
    "execution": {
     "iopub.execute_input": "2022-11-20T23:28:59.865752Z",
     "iopub.status.busy": "2022-11-20T23:28:59.865361Z",
     "iopub.status.idle": "2022-11-20T23:28:59.871532Z",
     "shell.execute_reply": "2022-11-20T23:28:59.870604Z",
     "shell.execute_reply.started": "2022-11-20T23:28:59.865719Z"
    },
    "id": "d3h5C6IIxrag"
   },
   "outputs": [],
   "source": [
    "callbacks = [EarlyStopping(monitor='val_loss', patience=5, verbose=1),\n",
    "                ModelCheckpoint('model.hdf5',\n",
    "                                 save_best_only=True)]"
   ]
  },
  {
   "cell_type": "code",
   "execution_count": null,
   "metadata": {
    "execution": {
     "iopub.execute_input": "2022-11-20T23:36:03.970439Z",
     "iopub.status.busy": "2022-11-20T23:36:03.970081Z",
     "iopub.status.idle": "2022-11-20T23:36:03.980970Z",
     "shell.execute_reply": "2022-11-20T23:36:03.979431Z",
     "shell.execute_reply.started": "2022-11-20T23:36:03.970413Z"
    },
    "id": "XUZysSETxrag"
   },
   "outputs": [],
   "source": [
    "# opt = Adam(learning_rate=0.001)\n",
    "model.compile(\n",
    "  loss='categorical_crossentropy',\n",
    "  optimizer='rmsprop',\n",
    "  metrics=['accuracy']\n",
    ")"
   ]
  },
  {
   "cell_type": "markdown",
   "metadata": {
    "id": "EqBnFD56xrah"
   },
   "source": [
    "# Training the Model"
   ]
  },
  {
   "cell_type": "code",
   "execution_count": 45,
   "metadata": {
    "colab": {
     "base_uri": "https://localhost:8080/"
    },
    "execution": {
     "iopub.execute_input": "2022-11-20T23:36:09.574518Z",
     "iopub.status.busy": "2022-11-20T23:36:09.574162Z",
     "iopub.status.idle": "2022-11-20T23:56:33.011870Z",
     "shell.execute_reply": "2022-11-20T23:56:33.011249Z",
     "shell.execute_reply.started": "2022-11-20T23:36:09.574488Z"
    },
    "id": "WR13a2HDxrah",
    "outputId": "0edaf6e7-3e66-4af9-ee29-224207437b69"
   },
   "outputs": [
    {
     "name": "stdout",
     "output_type": "stream",
     "text": [
      "Epoch 1/100\n",
      "16/16 [==============================] - 13s 726ms/step - loss: 0.3755 - accuracy: 0.8884 - val_loss: 0.8036 - val_accuracy: 0.7273\n",
      "Epoch 2/100\n",
      "16/16 [==============================] - 12s 749ms/step - loss: 0.0582 - accuracy: 0.9841 - val_loss: 0.4603 - val_accuracy: 0.8030\n",
      "Epoch 3/100\n",
      "16/16 [==============================] - 12s 743ms/step - loss: 0.5059 - accuracy: 0.8884 - val_loss: 0.4902 - val_accuracy: 0.8030\n",
      "Epoch 4/100\n",
      "16/16 [==============================] - 12s 750ms/step - loss: 0.1200 - accuracy: 0.9482 - val_loss: 0.4191 - val_accuracy: 0.8485\n",
      "Epoch 5/100\n",
      "16/16 [==============================] - 12s 768ms/step - loss: 0.0952 - accuracy: 0.9761 - val_loss: 1.5834 - val_accuracy: 0.6061\n",
      "Epoch 6/100\n",
      "16/16 [==============================] - 12s 750ms/step - loss: 0.2973 - accuracy: 0.9124 - val_loss: 0.5153 - val_accuracy: 0.8182\n",
      "Epoch 7/100\n",
      "16/16 [==============================] - 12s 765ms/step - loss: 0.0247 - accuracy: 0.9960 - val_loss: 0.4113 - val_accuracy: 0.8636\n",
      "Epoch 8/100\n",
      "16/16 [==============================] - 12s 754ms/step - loss: 0.0723 - accuracy: 0.9721 - val_loss: 1.9325 - val_accuracy: 0.6515\n",
      "Epoch 9/100\n",
      "16/16 [==============================] - 12s 765ms/step - loss: 0.0666 - accuracy: 0.9920 - val_loss: 0.4186 - val_accuracy: 0.8333\n",
      "Epoch 10/100\n",
      "16/16 [==============================] - 12s 769ms/step - loss: 0.1744 - accuracy: 0.9681 - val_loss: 0.6276 - val_accuracy: 0.8030\n",
      "Epoch 11/100\n",
      "16/16 [==============================] - 12s 754ms/step - loss: 0.1031 - accuracy: 0.9681 - val_loss: 0.5975 - val_accuracy: 0.7727\n",
      "Epoch 12/100\n",
      "16/16 [==============================] - 12s 749ms/step - loss: 0.0112 - accuracy: 1.0000 - val_loss: 0.4656 - val_accuracy: 0.8485\n",
      "Epoch 12: early stopping\n"
     ]
    }
   ],
   "source": [
    "history = model.fit(train_generator,\n",
    "                    epochs = 100,\n",
    "                    validation_data = test_generator,\n",
    "                    verbose = True,\n",
    "                   callbacks=callbacks)"
   ]
  },
  {
   "cell_type": "markdown",
   "metadata": {
    "id": "69o9jZOExrah"
   },
   "source": [
    "# Evaluation"
   ]
  },
  {
   "cell_type": "code",
   "execution_count": 46,
   "metadata": {
    "execution": {
     "iopub.execute_input": "2022-11-20T23:59:24.262541Z",
     "iopub.status.busy": "2022-11-20T23:59:24.262176Z",
     "iopub.status.idle": "2022-11-20T23:59:24.267859Z",
     "shell.execute_reply": "2022-11-20T23:59:24.266851Z",
     "shell.execute_reply.started": "2022-11-20T23:59:24.262508Z"
    },
    "id": "A_evITN6xrah"
   },
   "outputs": [],
   "source": [
    "from tensorflow.keras.models import load_model"
   ]
  },
  {
   "cell_type": "code",
   "execution_count": 47,
   "metadata": {
    "execution": {
     "iopub.execute_input": "2022-11-20T23:59:27.710338Z",
     "iopub.status.busy": "2022-11-20T23:59:27.709955Z",
     "iopub.status.idle": "2022-11-20T23:59:35.585231Z",
     "shell.execute_reply": "2022-11-20T23:59:35.584113Z",
     "shell.execute_reply.started": "2022-11-20T23:59:27.710313Z"
    },
    "id": "25608KkWB1K7"
   },
   "outputs": [],
   "source": [
    "import pandas as pd\n",
    "\n",
    "# convert the history.history dict to a pandas DataFrame:     \n",
    "hist_df = pd.DataFrame(history.history) \n",
    "\n",
    "# or save to csv: \n",
    "hist_csv_file = 'history.csv'\n",
    "with open(hist_csv_file, mode='w') as f:\n",
    "    hist_df.to_csv(f)"
   ]
  },
  {
   "cell_type": "markdown",
   "metadata": {
    "id": "4tNBBRMFxrah"
   },
   "source": [
    "### Loading our best model"
   ]
  },
  {
   "cell_type": "code",
   "execution_count": 48,
   "metadata": {
    "execution": {
     "iopub.execute_input": "2022-11-20T23:59:38.704173Z",
     "iopub.status.busy": "2022-11-20T23:59:38.703751Z",
     "iopub.status.idle": "2022-11-20T23:59:38.958685Z",
     "shell.execute_reply": "2022-11-20T23:59:38.957411Z",
     "shell.execute_reply.started": "2022-11-20T23:59:38.704141Z"
    },
    "id": "9uwIimXGxrah"
   },
   "outputs": [],
   "source": [
    "model = load_model('./model.hdf5')"
   ]
  },
  {
   "cell_type": "code",
   "execution_count": 49,
   "metadata": {
    "execution": {
     "iopub.execute_input": "2022-11-20T23:59:41.582902Z",
     "iopub.status.busy": "2022-11-20T23:59:41.581604Z",
     "iopub.status.idle": "2022-11-20T23:59:41.590415Z",
     "shell.execute_reply": "2022-11-20T23:59:41.589334Z",
     "shell.execute_reply.started": "2022-11-20T23:59:41.582861Z"
    },
    "id": "zLzKB5KIxrai"
   },
   "outputs": [],
   "source": [
    "def learning_curve(model_fit, key='accuracy', ylim=(0, 1.01)):\n",
    "    plt.figure(figsize=(12,6))\n",
    "    plt.plot(model_fit.history[key])\n",
    "    plt.plot(model_fit.history['val_' + key])\n",
    "    plt.title('Learning Curve')\n",
    "    plt.ylabel(key.title())\n",
    "    plt.xlabel('Epoch')\n",
    "    plt.ylim(ylim)\n",
    "    plt.legend(['train', 'val'], loc='best')\n",
    "    plt.show()"
   ]
  },
  {
   "cell_type": "code",
   "execution_count": 51,
   "metadata": {
    "colab": {
     "base_uri": "https://localhost:8080/",
     "height": 791
    },
    "execution": {
     "iopub.execute_input": "2022-11-21T00:00:33.947768Z",
     "iopub.status.busy": "2022-11-21T00:00:33.947405Z",
     "iopub.status.idle": "2022-11-21T00:00:34.276542Z",
     "shell.execute_reply": "2022-11-21T00:00:34.275131Z",
     "shell.execute_reply.started": "2022-11-21T00:00:33.947738Z"
    },
    "id": "Z0-SV05rxrai",
    "outputId": "1354b05b-aa1e-4aeb-ead7-3b4623938265"
   },
   "outputs": [
    {
     "data": {
      "image/png": "[encoded data removed]",
      "text/plain": [
       "<Figure size 1200x600 with 1 Axes>"
      ]
     },
     "metadata": {},
     "output_type": "display_data"
    },
    {
     "data": {
      "image/png": "[encoded data removed]",
      "text/plain": [
       "<Figure size 1200x600 with 1 Axes>"
      ]
     },
     "metadata": {},
     "output_type": "display_data"
    }
   ],
   "source": [
    "learning_curve(history,'loss', ylim=(0,100))\n",
    "learning_curve(history, 'accuracy', ylim=(0,1))"
   ]
  },
  {
   "cell_type": "code",
   "execution_count": 54,
   "metadata": {
    "colab": {
     "base_uri": "https://localhost:8080/"
    },
    "execution": {
     "iopub.execute_input": "2022-11-21T00:00:48.521970Z",
     "iopub.status.busy": "2022-11-21T00:00:48.521544Z",
     "iopub.status.idle": "2022-11-21T00:01:06.182869Z",
     "shell.execute_reply": "2022-11-21T00:01:06.181578Z",
     "shell.execute_reply.started": "2022-11-21T00:00:48.521937Z"
    },
    "id": "DbETeiNVxrai",
    "outputId": "760d2c0a-ff11-467d-c2e7-f7852f85f8e8"
   },
   "outputs": [
    {
     "name": "stdout",
     "output_type": "stream",
     "text": [
      "5/5 [==============================] - 2s 302ms/step - loss: 0.3684 - accuracy: 0.8485\n",
      "Loss: 36.839\n",
      "Accuracy: 84.848\n"
     ]
    }
   ],
   "source": [
    "test_loss, test_acc = model.evaluate(test_generator, steps=len(test_generator), verbose=1)\n",
    "print('Loss: %.3f' % (test_loss * 100.0))\n",
    "print('Accuracy: %.3f' % (test_acc * 100.0)) "
   ]
  },
  {
   "cell_type": "markdown",
   "metadata": {
    "id": "6G4wfP85xrai"
   },
   "source": [
    "**We got a good model with an accuracry of 95%**"
   ]
  },
  {
   "cell_type": "code",
   "execution_count": 55,
   "metadata": {
    "colab": {
     "base_uri": "https://localhost:8080/"
    },
    "execution": {
     "iopub.execute_input": "2022-11-21T00:03:01.200711Z",
     "iopub.status.busy": "2022-11-21T00:03:01.200319Z",
     "iopub.status.idle": "2022-11-21T00:03:18.396464Z",
     "shell.execute_reply": "2022-11-21T00:03:18.395476Z",
     "shell.execute_reply.started": "2022-11-21T00:03:01.200679Z"
    },
    "id": "atXhmOsZxrai",
    "outputId": "2a78d7ae-5e9c-48a1-fe0d-a9a6caa056a5"
   },
   "outputs": [
    {
     "name": "stdout",
     "output_type": "stream",
     "text": [
      "5/5 [==============================] - 3s 311ms/step\n"
     ]
    },
    {
     "data": {
      "text/plain": [
       "(array([0, 0, 2, 0, 2, 2, 2, 2, 1, 2, 1, 0, 2, 1, 0, 0, 0, 2, 1, 1, 2, 1,\n",
       "        0, 2, 1, 2, 2, 0, 2, 1, 1, 0, 2, 2, 0, 0, 2, 1, 2, 2, 2, 0, 1, 1,\n",
       "        1, 0, 1, 0, 0, 0, 0, 0, 1, 1, 0, 0, 2, 2, 1, 2, 1, 0, 1, 0, 1, 2]),\n",
       " array([0, 0, 0, 0, 0, 0, 0, 0, 0, 0, 0, 0, 0, 0, 0, 0, 0, 0, 0, 0, 1, 1,\n",
       "        1, 1, 1, 1, 1, 1, 1, 1, 1, 1, 1, 1, 1, 1, 1, 1, 1, 1, 2, 2, 2, 2,\n",
       "        2, 2, 2, 2, 2, 2, 2, 2, 2, 2, 2, 2, 2, 2, 2, 2, 2, 2, 2, 2, 2, 2],\n",
       "       dtype=int32))"
      ]
     },
     "execution_count": 55,
     "metadata": {},
     "output_type": "execute_result"
    }
   ],
   "source": [
    "predictions = np.argmax(model.predict(test_generator),axis=1)\n",
    "labels = test_generator.classes\n",
    "predictions , labels"
   ]
  },
  {
   "cell_type": "code",
   "execution_count": 56,
   "metadata": {
    "colab": {
     "base_uri": "https://localhost:8080/"
    },
    "execution": {
     "iopub.execute_input": "2022-11-21T00:03:34.943861Z",
     "iopub.status.busy": "2022-11-21T00:03:34.943426Z",
     "iopub.status.idle": "2022-11-21T00:03:34.956137Z",
     "shell.execute_reply": "2022-11-21T00:03:34.955180Z",
     "shell.execute_reply.started": "2022-11-21T00:03:34.943824Z"
    },
    "id": "6e2s9WG5xrai",
    "outputId": "9ce7d45b-86f1-4d8f-b096-43321774ac8e"
   },
   "outputs": [
    {
     "data": {
      "text/plain": [
       "['Viral Pneumonia', 'Normal', 'Covid']"
      ]
     },
     "execution_count": 56,
     "metadata": {},
     "output_type": "execute_result"
    }
   ],
   "source": [
    "classes = []\n",
    "for i in os.listdir(test_path):\n",
    "    classes+=[i]\n",
    "\n",
    "classes"
   ]
  },
  {
   "cell_type": "markdown",
   "metadata": {
    "id": "IIHft9UFxraj"
   },
   "source": [
    "### Function To Calculate F1-Score"
   ]
  },
  {
   "cell_type": "code",
   "execution_count": 57,
   "metadata": {
    "execution": {
     "iopub.execute_input": "2022-11-21T00:03:38.797203Z",
     "iopub.status.busy": "2022-11-21T00:03:38.796758Z",
     "iopub.status.idle": "2022-11-21T00:03:38.805734Z",
     "shell.execute_reply": "2022-11-21T00:03:38.804008Z",
     "shell.execute_reply.started": "2022-11-21T00:03:38.797169Z"
    },
    "id": "TDmQZICTxraj"
   },
   "outputs": [],
   "source": [
    "def fbeta(y_true, y_pred, threshold_shift=0):\n",
    "    beta_squared = 4\n",
    "\n",
    "    y_pred = K.clip(y_pred, 0, 1)\n",
    " \n",
    "    y_pred_bin = K.round(y_pred + threshold_shift)\n",
    " \n",
    "    tp = K.sum(K.round(y_true * y_pred_bin)) + K.epsilon()\n",
    "    fp = K.sum(K.round(K.clip(y_pred_bin - y_true, 0, 1)))\n",
    "    fn = K.sum(K.round(K.clip(y_true - y_pred, 0, 1)))\n",
    " \n",
    "    precision = tp / (tp + fp)\n",
    "    recall = tp / (tp + fn)\n",
    " \n",
    "    return (beta_squared + 1) * (precision * recall) / (beta_squared * precision + recall + K.epsilon())"
   ]
  },
  {
   "cell_type": "markdown",
   "metadata": {
    "id": "Pj8pAI1zxraj"
   },
   "source": [
    "### Function To Plot Confusion Matrix"
   ]
  },
  {
   "cell_type": "code",
   "execution_count": 58,
   "metadata": {
    "execution": {
     "iopub.execute_input": "2022-11-21T00:03:40.763268Z",
     "iopub.status.busy": "2022-11-21T00:03:40.762857Z",
     "iopub.status.idle": "2022-11-21T00:03:40.771316Z",
     "shell.execute_reply": "2022-11-21T00:03:40.769799Z",
     "shell.execute_reply.started": "2022-11-21T00:03:40.763235Z"
    },
    "id": "dyXYCMUrxraj"
   },
   "outputs": [],
   "source": [
    "def confusion_matrix_plot(matrix):\n",
    "    plt.figure(figsize=(12,10))\n",
    "    cmap = \"YlGnBu\"\n",
    "    ax= plt.subplot()\n",
    "    sns.heatmap(matrix, annot=True, fmt='g', ax=ax, cmap=cmap);  #annot=True to annotate cells, ftm='g' to disable scientific notation\n",
    "    plt.savefig('./img1.png')\n",
    "    # labels, title and ticks\n",
    "    ax.set_xlabel('Predicted labels');\n",
    "    ax.set_ylabel('True labels'); \n",
    "    ax.set_title('Confusion Matrix'); \n",
    "    ax.xaxis.set_ticklabels(classes); \n",
    "    ax.yaxis.set_ticklabels(classes[::-1]);\n",
    "    plt.show()"
   ]
  },
  {
   "cell_type": "markdown",
   "metadata": {
    "id": "geITsQMfxraj"
   },
   "source": [
    "### Function To Calculate Confusion Matrix"
   ]
  },
  {
   "cell_type": "code",
   "execution_count": 59,
   "metadata": {
    "execution": {
     "iopub.execute_input": "2022-11-21T00:03:46.988011Z",
     "iopub.status.busy": "2022-11-21T00:03:46.987087Z",
     "iopub.status.idle": "2022-11-21T00:03:46.993989Z",
     "shell.execute_reply": "2022-11-21T00:03:46.992886Z",
     "shell.execute_reply.started": "2022-11-21T00:03:46.987977Z"
    },
    "id": "S8AksiP8xraj"
   },
   "outputs": [],
   "source": [
    "def cal_score(model, key):\n",
    "    matrix = confusion_matrix(predictions, labels)\n",
    "    print(matrix)\n",
    "    print('\\n')\n",
    "\n",
    "    f1 = f1_score(predictions, labels, average='weighted')\n",
    "    print(f'F1 Score: {f1}')\n",
    "    print('\\n')\n",
    "    \n",
    "    print(classification_report(predictions, labels, target_names=classes))\n",
    "    \n",
    "    if key==1:\n",
    "        confusion_matrix_plot(matrix)"
   ]
  },
  {
   "cell_type": "code",
   "execution_count": 26,
   "metadata": {
    "colab": {
     "base_uri": "https://localhost:8080/"
    },
    "execution": {
     "iopub.execute_input": "2022-11-21T00:03:49.595507Z",
     "iopub.status.busy": "2022-11-21T00:03:49.595130Z",
     "iopub.status.idle": "2022-11-21T00:03:50.161179Z",
     "shell.execute_reply": "2022-11-21T00:03:50.160025Z",
     "shell.execute_reply.started": "2022-11-21T00:03:49.595477Z"
    },
    "id": "8-QO4H0exrak",
    "outputId": "bb125730-ee48-4f0f-ef24-5d3f90bc35aa"
   },
   "outputs": [
    {
     "name": "stdout",
     "output_type": "stream",
     "text": [
      "[[7 7 9]\n",
      " [4 8 8]\n",
      " [9 5 9]]\n",
      "\n",
      "\n",
      "F1 Score: 0.3626871467403029\n",
      "\n",
      "\n",
      "                 precision    recall  f1-score   support\n",
      "\n",
      "Viral Pneumonia       0.35      0.30      0.33        23\n",
      "         Normal       0.40      0.40      0.40        20\n",
      "          Covid       0.35      0.39      0.37        23\n",
      "\n",
      "       accuracy                           0.36        66\n",
      "      macro avg       0.37      0.37      0.36        66\n",
      "   weighted avg       0.36      0.36      0.36        66\n",
      "\n"
     ]
    },
    {
     "data": {
      "image/png": "[encoded data removed]",
      "text/plain": [
       "<Figure size 1200x1000 with 2 Axes>"
      ]
     },
     "metadata": {},
     "output_type": "display_data"
    }
   ],
   "source": [
    "cal_score(model, 1)"
   ]
  }
 ],
 "metadata": {
  "accelerator": "GPU",
  "colab": {
   "provenance": []
  },
  "gpuClass": "standard",
  "kernelspec": {
   "display_name": "Python 3 (ipykernel)",
   "language": "python",
   "name": "python3"
  },
  "language_info": {
   "codemirror_mode": {
    "name": "ipython",
    "version": 3
   },
   "file_extension": ".py",
   "mimetype": "text/x-python",
   "name": "python",
   "nbconvert_exporter": "python",
   "pygments_lexer": "ipython3",
   "version": "3.9.6"
  }
 },
 "nbformat": 4,
 "nbformat_minor": 4
}
