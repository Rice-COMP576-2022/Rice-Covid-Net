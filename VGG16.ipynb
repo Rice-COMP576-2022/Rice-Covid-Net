{
  "metadata": {
    "kernelspec": {
      "language": "python",
      "display_name": "Python 3",
      "name": "python3"
    },
    "language_info": {
      "name": "python",
      "version": "3.7.12",
      "mimetype": "text/x-python",
      "codemirror_mode": {
        "name": "ipython",
        "version": 3
      },
      "pygments_lexer": "ipython3",
      "nbconvert_exporter": "python",
      "file_extension": ".py"
    },
    "colab": {
      "provenance": []
    },
    "accelerator": "GPU",
    "gpuClass": "standard"
  },
  "nbformat_minor": 0,
  "nbformat": 4,
  "cells": [
    {
      "cell_type": "markdown",
      "source": [
        "# Installing Libraries"
      ],
      "metadata": {
        "id": "upPcfbxbxraY"
      }
    },
    {
      "cell_type": "code",
      "source": [
        "!unzip /content/archive.zip"
      ],
      "metadata": {
        "colab": {
          "base_uri": "https://localhost:8080/"
        },
        "id": "bo5_RxuPAePe",
        "outputId": "421b6202-a1d5-4b39-a600-ff55770a44bb"
      },
      "execution_count": 1,
      "outputs": [
        {
          "output_type": "stream",
          "name": "stdout",
          "text": [
            "Archive:  /content/archive.zip\n",
            "  inflating: Covid19-dataset/test/Covid/0100.jpeg  \n",
            "  inflating: Covid19-dataset/test/Covid/0102.jpeg  \n",
            "  inflating: Covid19-dataset/test/Covid/0105.png  \n",
            "  inflating: Covid19-dataset/test/Covid/0106.jpeg  \n",
            "  inflating: Covid19-dataset/test/Covid/0108.jpeg  \n",
            "  inflating: Covid19-dataset/test/Covid/0111.jpg  \n",
            "  inflating: Covid19-dataset/test/Covid/0112.jpg  \n",
            "  inflating: Covid19-dataset/test/Covid/0113.jpg  \n",
            "  inflating: Covid19-dataset/test/Covid/0115.jpeg  \n",
            "  inflating: Covid19-dataset/test/Covid/0118.jpeg  \n",
            "  inflating: Covid19-dataset/test/Covid/0119.jpeg  \n",
            "  inflating: Covid19-dataset/test/Covid/0120.jpg  \n",
            "  inflating: Covid19-dataset/test/Covid/094.png  \n",
            "  inflating: Covid19-dataset/test/Covid/096.png  \n",
            "  inflating: Covid19-dataset/test/Covid/098.jpeg  \n",
            "  inflating: Covid19-dataset/test/Covid/COVID-00003b.jpg  \n",
            "  inflating: Covid19-dataset/test/Covid/COVID-00012.jpg  \n",
            "  inflating: Covid19-dataset/test/Covid/COVID-00022.jpg  \n",
            "  inflating: Covid19-dataset/test/Covid/COVID-00033.jpg  \n",
            "  inflating: Covid19-dataset/test/Covid/COVID-00037.jpg  \n",
            "  inflating: Covid19-dataset/test/Covid/auntminnie-2020_01_31_20_24_2322_2020_01_31_x-ray_coronavirus_US.jpg  \n",
            "  inflating: Covid19-dataset/test/Covid/auntminnie-a-2020_01_28_23_51_6665_2020_01_28_Vietnam_coronavirus.jpeg  \n",
            "  inflating: Covid19-dataset/test/Covid/auntminnie-b-2020_01_28_23_51_6665_2020_01_28_Vietnam_coronavirus.jpeg  \n",
            "  inflating: Covid19-dataset/test/Covid/auntminnie-c-2020_01_28_23_51_6665_2020_01_28_Vietnam_coronavirus.jpeg  \n",
            "  inflating: Covid19-dataset/test/Covid/auntminnie-d-2020_01_28_23_51_6665_2020_01_28_Vietnam_coronavirus.jpeg  \n",
            "  inflating: Covid19-dataset/test/Covid/radiopaedia-2019-novel-coronavirus-infected-pneumonia.jpg  \n",
            "  inflating: Covid19-dataset/test/Normal/0101.jpeg  \n",
            "  inflating: Covid19-dataset/test/Normal/0102.jpeg  \n",
            "  inflating: Covid19-dataset/test/Normal/0103.jpeg  \n",
            "  inflating: Covid19-dataset/test/Normal/0105.jpeg  \n",
            "  inflating: Covid19-dataset/test/Normal/0106.jpeg  \n",
            "  inflating: Covid19-dataset/test/Normal/0107.jpeg  \n",
            "  inflating: Covid19-dataset/test/Normal/0108.jpeg  \n",
            "  inflating: Covid19-dataset/test/Normal/0109.jpeg  \n",
            "  inflating: Covid19-dataset/test/Normal/0110.jpeg  \n",
            "  inflating: Covid19-dataset/test/Normal/0111.jpeg  \n",
            "  inflating: Covid19-dataset/test/Normal/0112.jpeg  \n",
            "  inflating: Covid19-dataset/test/Normal/0114.jpeg  \n",
            "  inflating: Covid19-dataset/test/Normal/0115.jpeg  \n",
            "  inflating: Covid19-dataset/test/Normal/0116.jpeg  \n",
            "  inflating: Covid19-dataset/test/Normal/0117.jpeg  \n",
            "  inflating: Covid19-dataset/test/Normal/0118.jpeg  \n",
            "  inflating: Covid19-dataset/test/Normal/0119.jpeg  \n",
            "  inflating: Covid19-dataset/test/Normal/0120.jpeg  \n",
            "  inflating: Covid19-dataset/test/Normal/0121.jpeg  \n",
            "  inflating: Covid19-dataset/test/Normal/0122.jpeg  \n",
            "  inflating: Covid19-dataset/test/Viral Pneumonia/0101.jpeg  \n",
            "  inflating: Covid19-dataset/test/Viral Pneumonia/0102.jpeg  \n",
            "  inflating: Covid19-dataset/test/Viral Pneumonia/0103.jpeg  \n",
            "  inflating: Covid19-dataset/test/Viral Pneumonia/0104.jpeg  \n",
            "  inflating: Covid19-dataset/test/Viral Pneumonia/0105.jpeg  \n",
            "  inflating: Covid19-dataset/test/Viral Pneumonia/0106.jpeg  \n",
            "  inflating: Covid19-dataset/test/Viral Pneumonia/0107.jpeg  \n",
            "  inflating: Covid19-dataset/test/Viral Pneumonia/0108.jpeg  \n",
            "  inflating: Covid19-dataset/test/Viral Pneumonia/0109.jpeg  \n",
            "  inflating: Covid19-dataset/test/Viral Pneumonia/0110.jpeg  \n",
            "  inflating: Covid19-dataset/test/Viral Pneumonia/0111.jpeg  \n",
            "  inflating: Covid19-dataset/test/Viral Pneumonia/0112.jpeg  \n",
            "  inflating: Covid19-dataset/test/Viral Pneumonia/0113.jpeg  \n",
            "  inflating: Covid19-dataset/test/Viral Pneumonia/0114.jpeg  \n",
            "  inflating: Covid19-dataset/test/Viral Pneumonia/0115.jpeg  \n",
            "  inflating: Covid19-dataset/test/Viral Pneumonia/0116.jpeg  \n",
            "  inflating: Covid19-dataset/test/Viral Pneumonia/0117.jpeg  \n",
            "  inflating: Covid19-dataset/test/Viral Pneumonia/0118.jpeg  \n",
            "  inflating: Covid19-dataset/test/Viral Pneumonia/0119.jpeg  \n",
            "  inflating: Covid19-dataset/test/Viral Pneumonia/0120.jpeg  \n",
            "  inflating: Covid19-dataset/train/Covid/01.jpeg  \n",
            "  inflating: Covid19-dataset/train/Covid/010.png  \n",
            "  inflating: Covid19-dataset/train/Covid/012.jpeg  \n",
            "  inflating: Covid19-dataset/train/Covid/015.jpg  \n",
            "  inflating: Covid19-dataset/train/Covid/019.png  \n",
            "  inflating: Covid19-dataset/train/Covid/02.jpeg  \n",
            "  inflating: Covid19-dataset/train/Covid/020.jpg  \n",
            "  inflating: Covid19-dataset/train/Covid/021.jpeg  \n",
            "  inflating: Covid19-dataset/train/Covid/022.jpeg  \n",
            "  inflating: Covid19-dataset/train/Covid/024.jpeg  \n",
            "  inflating: Covid19-dataset/train/Covid/025.jpeg  \n",
            "  inflating: Covid19-dataset/train/Covid/026.jpeg  \n",
            "  inflating: Covid19-dataset/train/Covid/027.jpeg  \n",
            "  inflating: Covid19-dataset/train/Covid/03.jpeg  \n",
            "  inflating: Covid19-dataset/train/Covid/031.jpeg  \n",
            "  inflating: Covid19-dataset/train/Covid/032.jpeg  \n",
            "  inflating: Covid19-dataset/train/Covid/033.png  \n",
            "  inflating: Covid19-dataset/train/Covid/039.jpeg  \n",
            "  inflating: Covid19-dataset/train/Covid/04.png  \n",
            "  inflating: Covid19-dataset/train/Covid/040.jpeg  \n",
            "  inflating: Covid19-dataset/train/Covid/041.jpeg  \n",
            "  inflating: Covid19-dataset/train/Covid/042.jpeg  \n",
            "  inflating: Covid19-dataset/train/Covid/043.jpeg  \n",
            "  inflating: Covid19-dataset/train/Covid/044.jpeg  \n",
            "  inflating: Covid19-dataset/train/Covid/045.jpeg  \n",
            "  inflating: Covid19-dataset/train/Covid/046.jpeg  \n",
            "  inflating: Covid19-dataset/train/Covid/047.jpeg  \n",
            "  inflating: Covid19-dataset/train/Covid/048.jpeg  \n",
            "  inflating: Covid19-dataset/train/Covid/049.jpeg  \n",
            "  inflating: Covid19-dataset/train/Covid/050.jpeg  \n",
            "  inflating: Covid19-dataset/train/Covid/051.jpeg  \n",
            "  inflating: Covid19-dataset/train/Covid/052.jpeg  \n",
            "  inflating: Covid19-dataset/train/Covid/053.jpeg  \n",
            "  inflating: Covid19-dataset/train/Covid/054.jpeg  \n",
            "  inflating: Covid19-dataset/train/Covid/055.jpeg  \n",
            "  inflating: Covid19-dataset/train/Covid/056.jpg  \n",
            "  inflating: Covid19-dataset/train/Covid/057.jpeg  \n",
            "  inflating: Covid19-dataset/train/Covid/058.jpeg  \n",
            "  inflating: Covid19-dataset/train/Covid/059.jpeg  \n",
            "  inflating: Covid19-dataset/train/Covid/06.jpeg  \n",
            "  inflating: Covid19-dataset/train/Covid/060.jpeg  \n",
            "  inflating: Covid19-dataset/train/Covid/061.jpg  \n",
            "  inflating: Covid19-dataset/train/Covid/062.jpeg  \n",
            "  inflating: Covid19-dataset/train/Covid/064.jpg  \n",
            "  inflating: Covid19-dataset/train/Covid/065.jpeg  \n",
            "  inflating: Covid19-dataset/train/Covid/067.jpg  \n",
            "  inflating: Covid19-dataset/train/Covid/068.jpg  \n",
            "  inflating: Covid19-dataset/train/Covid/069.jpg  \n",
            "  inflating: Covid19-dataset/train/Covid/07.jpg  \n",
            "  inflating: Covid19-dataset/train/Covid/071.jpg  \n",
            "  inflating: Covid19-dataset/train/Covid/072.jpeg  \n",
            "  inflating: Covid19-dataset/train/Covid/073.jpg  \n",
            "  inflating: Covid19-dataset/train/Covid/074.jpg  \n",
            "  inflating: Covid19-dataset/train/Covid/076.jpg  \n",
            "  inflating: Covid19-dataset/train/Covid/078.jpeg  \n",
            "  inflating: Covid19-dataset/train/Covid/079.jpeg  \n",
            "  inflating: Covid19-dataset/train/Covid/08.jpeg  \n",
            "  inflating: Covid19-dataset/train/Covid/080.jpg  \n",
            "  inflating: Covid19-dataset/train/Covid/081.jpeg  \n",
            "  inflating: Covid19-dataset/train/Covid/082.jpg  \n",
            "  inflating: Covid19-dataset/train/Covid/083.jpeg  \n",
            "  inflating: Covid19-dataset/train/Covid/084.jpeg  \n",
            "  inflating: Covid19-dataset/train/Covid/085.jpeg  \n",
            "  inflating: Covid19-dataset/train/Covid/086.jpg  \n",
            "  inflating: Covid19-dataset/train/Covid/088.jpeg  \n",
            "  inflating: Covid19-dataset/train/Covid/089.jpg  \n",
            "  inflating: Covid19-dataset/train/Covid/09.png  \n",
            "  inflating: Covid19-dataset/train/Covid/090.jpeg  \n",
            "  inflating: Covid19-dataset/train/Covid/091.jpg  \n",
            "  inflating: Covid19-dataset/train/Covid/092.png  \n",
            "  inflating: Covid19-dataset/train/Covid/COVID-00001.jpg  \n",
            "  inflating: Covid19-dataset/train/Covid/COVID-00002.jpg  \n",
            "  inflating: Covid19-dataset/train/Covid/COVID-00003a.jpg  \n",
            "  inflating: Covid19-dataset/train/Covid/COVID-00003b.jpg  \n",
            "  inflating: Covid19-dataset/train/Covid/COVID-00004.jpg  \n",
            "  inflating: Covid19-dataset/train/Covid/COVID-00005.jpg  \n",
            "  inflating: Covid19-dataset/train/Covid/COVID-00006.jpg  \n",
            "  inflating: Covid19-dataset/train/Covid/COVID-00007.jpg  \n",
            "  inflating: Covid19-dataset/train/Covid/COVID-00008.jpg  \n",
            "  inflating: Covid19-dataset/train/Covid/COVID-00009.jpg  \n",
            "  inflating: Covid19-dataset/train/Covid/COVID-00010.jpg  \n",
            "  inflating: Covid19-dataset/train/Covid/COVID-00011.jpg  \n",
            "  inflating: Covid19-dataset/train/Covid/COVID-00012.jpg  \n",
            "  inflating: Covid19-dataset/train/Covid/COVID-00013a.jpg  \n",
            "  inflating: Covid19-dataset/train/Covid/COVID-00013b.jpg  \n",
            "  inflating: Covid19-dataset/train/Covid/COVID-00014.jpg  \n",
            "  inflating: Covid19-dataset/train/Covid/COVID-00015a.png  \n",
            "  inflating: Covid19-dataset/train/Covid/COVID-00015b.png  \n",
            "  inflating: Covid19-dataset/train/Covid/COVID-00016.jpg  \n",
            "  inflating: Covid19-dataset/train/Covid/COVID-00017.jpg  \n",
            "  inflating: Covid19-dataset/train/Covid/COVID-00018.jpg  \n",
            "  inflating: Covid19-dataset/train/Covid/COVID-00019.jpg  \n",
            "  inflating: Covid19-dataset/train/Covid/COVID-00020.jpg  \n",
            "  inflating: Covid19-dataset/train/Covid/COVID-00021.jpg  \n",
            "  inflating: Covid19-dataset/train/Covid/COVID-00022.jpg  \n",
            "  inflating: Covid19-dataset/train/Covid/COVID-00023.jpg  \n",
            "  inflating: Covid19-dataset/train/Covid/COVID-00024.jpg  \n",
            "  inflating: Covid19-dataset/train/Covid/COVID-00025.jpg  \n",
            "  inflating: Covid19-dataset/train/Covid/COVID-00026.jpg  \n",
            "  inflating: Covid19-dataset/train/Covid/COVID-00027.jpg  \n",
            "  inflating: Covid19-dataset/train/Covid/COVID-00028.jpg  \n",
            "  inflating: Covid19-dataset/train/Covid/COVID-00029.jpg  \n",
            "  inflating: Covid19-dataset/train/Covid/COVID-00030.jpg  \n",
            "  inflating: Covid19-dataset/train/Covid/COVID-00031.jpg  \n",
            "  inflating: Covid19-dataset/train/Covid/COVID-00032.jpg  \n",
            "  inflating: Covid19-dataset/train/Covid/COVID-00033.jpg  \n",
            "  inflating: Covid19-dataset/train/Covid/COVID-00034.jpg  \n",
            "  inflating: Covid19-dataset/train/Covid/COVID-00035.jpg  \n",
            "  inflating: Covid19-dataset/train/Covid/COVID-00036.jpg  \n",
            "  inflating: Covid19-dataset/train/Covid/COVID-00037.jpg  \n",
            "  inflating: Covid19-dataset/train/Covid/COVID-00038.jpg  \n",
            "  inflating: Covid19-dataset/train/Normal/01.jpeg  \n",
            "  inflating: Covid19-dataset/train/Normal/010.jpeg  \n",
            "  inflating: Covid19-dataset/train/Normal/011.jpeg  \n",
            "  inflating: Covid19-dataset/train/Normal/012.jpeg  \n",
            "  inflating: Covid19-dataset/train/Normal/013.jpeg  \n",
            "  inflating: Covid19-dataset/train/Normal/014.jpeg  \n",
            "  inflating: Covid19-dataset/train/Normal/015.jpeg  \n",
            "  inflating: Covid19-dataset/train/Normal/016.jpeg  \n",
            "  inflating: Covid19-dataset/train/Normal/017.jpeg  \n",
            "  inflating: Covid19-dataset/train/Normal/018.jpeg  \n",
            "  inflating: Covid19-dataset/train/Normal/019.jpeg  \n",
            "  inflating: Covid19-dataset/train/Normal/02.jpeg  \n",
            "  inflating: Covid19-dataset/train/Normal/020.jpeg  \n",
            "  inflating: Covid19-dataset/train/Normal/021.jpeg  \n",
            "  inflating: Covid19-dataset/train/Normal/022.jpeg  \n",
            "  inflating: Covid19-dataset/train/Normal/023.jpeg  \n",
            "  inflating: Covid19-dataset/train/Normal/024.jpeg  \n",
            "  inflating: Covid19-dataset/train/Normal/025.jpeg  \n",
            "  inflating: Covid19-dataset/train/Normal/03.jpeg  \n",
            "  inflating: Covid19-dataset/train/Normal/04.jpeg  \n",
            "  inflating: Covid19-dataset/train/Normal/05.jpeg  \n",
            "  inflating: Covid19-dataset/train/Normal/050.jpeg  \n",
            "  inflating: Covid19-dataset/train/Normal/051.jpeg  \n",
            "  inflating: Covid19-dataset/train/Normal/052.jpeg  \n",
            "  inflating: Covid19-dataset/train/Normal/053.jpeg  \n",
            "  inflating: Covid19-dataset/train/Normal/054.jpeg  \n",
            "  inflating: Covid19-dataset/train/Normal/055.jpeg  \n",
            "  inflating: Covid19-dataset/train/Normal/056.jpeg  \n",
            "  inflating: Covid19-dataset/train/Normal/057.jpeg  \n",
            "  inflating: Covid19-dataset/train/Normal/058.jpeg  \n",
            "  inflating: Covid19-dataset/train/Normal/059.jpeg  \n",
            "  inflating: Covid19-dataset/train/Normal/06.jpeg  \n",
            "  inflating: Covid19-dataset/train/Normal/060.jpeg  \n",
            "  inflating: Covid19-dataset/train/Normal/061.jpeg  \n",
            "  inflating: Covid19-dataset/train/Normal/062.jpeg  \n",
            "  inflating: Covid19-dataset/train/Normal/063.jpeg  \n",
            "  inflating: Covid19-dataset/train/Normal/064.jpeg  \n",
            "  inflating: Covid19-dataset/train/Normal/065.jpeg  \n",
            "  inflating: Covid19-dataset/train/Normal/066.jpeg  \n",
            "  inflating: Covid19-dataset/train/Normal/067.jpeg  \n",
            "  inflating: Covid19-dataset/train/Normal/068.jpeg  \n",
            "  inflating: Covid19-dataset/train/Normal/069.jpeg  \n",
            "  inflating: Covid19-dataset/train/Normal/07.jpeg  \n",
            "  inflating: Covid19-dataset/train/Normal/070.jpeg  \n",
            "  inflating: Covid19-dataset/train/Normal/071.jpeg  \n",
            "  inflating: Covid19-dataset/train/Normal/072.jpeg  \n",
            "  inflating: Covid19-dataset/train/Normal/073.jpeg  \n",
            "  inflating: Covid19-dataset/train/Normal/074.jpeg  \n",
            "  inflating: Covid19-dataset/train/Normal/075.jpeg  \n",
            "  inflating: Covid19-dataset/train/Normal/076.jpeg  \n",
            "  inflating: Covid19-dataset/train/Normal/077.jpeg  \n",
            "  inflating: Covid19-dataset/train/Normal/079.jpeg  \n",
            "  inflating: Covid19-dataset/train/Normal/08.jpeg  \n",
            "  inflating: Covid19-dataset/train/Normal/080.jpeg  \n",
            "  inflating: Covid19-dataset/train/Normal/081.jpeg  \n",
            "  inflating: Covid19-dataset/train/Normal/082.jpeg  \n",
            "  inflating: Covid19-dataset/train/Normal/083.jpeg  \n",
            "  inflating: Covid19-dataset/train/Normal/084.jpeg  \n",
            "  inflating: Covid19-dataset/train/Normal/085.jpeg  \n",
            "  inflating: Covid19-dataset/train/Normal/086.jpeg  \n",
            "  inflating: Covid19-dataset/train/Normal/087.jpeg  \n",
            "  inflating: Covid19-dataset/train/Normal/088.jpeg  \n",
            "  inflating: Covid19-dataset/train/Normal/09.jpeg  \n",
            "  inflating: Covid19-dataset/train/Normal/091.jpeg  \n",
            "  inflating: Covid19-dataset/train/Normal/092.jpeg  \n",
            "  inflating: Covid19-dataset/train/Normal/093.jpeg  \n",
            "  inflating: Covid19-dataset/train/Normal/094.jpeg  \n",
            "  inflating: Covid19-dataset/train/Normal/095.jpeg  \n",
            "  inflating: Covid19-dataset/train/Normal/096.jpeg  \n",
            "  inflating: Covid19-dataset/train/Normal/097.jpeg  \n",
            "  inflating: Covid19-dataset/train/Viral Pneumonia/01.jpeg  \n",
            "  inflating: Covid19-dataset/train/Viral Pneumonia/010.jpeg  \n",
            "  inflating: Covid19-dataset/train/Viral Pneumonia/011.jpeg  \n",
            "  inflating: Covid19-dataset/train/Viral Pneumonia/012.jpeg  \n",
            "  inflating: Covid19-dataset/train/Viral Pneumonia/013.jpeg  \n",
            "  inflating: Covid19-dataset/train/Viral Pneumonia/016.jpeg  \n",
            "  inflating: Covid19-dataset/train/Viral Pneumonia/018.jpeg  \n",
            "  inflating: Covid19-dataset/train/Viral Pneumonia/019.jpeg  \n",
            "  inflating: Covid19-dataset/train/Viral Pneumonia/02.jpeg  \n",
            "  inflating: Covid19-dataset/train/Viral Pneumonia/020.jpeg  \n",
            "  inflating: Covid19-dataset/train/Viral Pneumonia/021.jpeg  \n",
            "  inflating: Covid19-dataset/train/Viral Pneumonia/022.jpeg  \n",
            "  inflating: Covid19-dataset/train/Viral Pneumonia/023.jpeg  \n",
            "  inflating: Covid19-dataset/train/Viral Pneumonia/024.jpeg  \n",
            "  inflating: Covid19-dataset/train/Viral Pneumonia/025.jpeg  \n",
            "  inflating: Covid19-dataset/train/Viral Pneumonia/027.jpeg  \n",
            "  inflating: Covid19-dataset/train/Viral Pneumonia/03.jpeg  \n",
            "  inflating: Covid19-dataset/train/Viral Pneumonia/031.jpeg  \n",
            "  inflating: Covid19-dataset/train/Viral Pneumonia/032.jpeg  \n",
            "  inflating: Covid19-dataset/train/Viral Pneumonia/033.jpeg  \n",
            "  inflating: Covid19-dataset/train/Viral Pneumonia/034.jpeg  \n",
            "  inflating: Covid19-dataset/train/Viral Pneumonia/035.jpeg  \n",
            "  inflating: Covid19-dataset/train/Viral Pneumonia/036.jpeg  \n",
            "  inflating: Covid19-dataset/train/Viral Pneumonia/037.jpeg  \n",
            "  inflating: Covid19-dataset/train/Viral Pneumonia/038.jpeg  \n",
            "  inflating: Covid19-dataset/train/Viral Pneumonia/04.jpeg  \n",
            "  inflating: Covid19-dataset/train/Viral Pneumonia/041.jpeg  \n",
            "  inflating: Covid19-dataset/train/Viral Pneumonia/042.jpeg  \n",
            "  inflating: Covid19-dataset/train/Viral Pneumonia/043.jpeg  \n",
            "  inflating: Covid19-dataset/train/Viral Pneumonia/044.jpeg  \n",
            "  inflating: Covid19-dataset/train/Viral Pneumonia/045.jpeg  \n",
            "  inflating: Covid19-dataset/train/Viral Pneumonia/046.jpeg  \n",
            "  inflating: Covid19-dataset/train/Viral Pneumonia/047.jpeg  \n",
            "  inflating: Covid19-dataset/train/Viral Pneumonia/048.jpeg  \n",
            "  inflating: Covid19-dataset/train/Viral Pneumonia/05.jpeg  \n",
            "  inflating: Covid19-dataset/train/Viral Pneumonia/051.jpeg  \n",
            "  inflating: Covid19-dataset/train/Viral Pneumonia/052.jpeg  \n",
            "  inflating: Covid19-dataset/train/Viral Pneumonia/053.jpeg  \n",
            "  inflating: Covid19-dataset/train/Viral Pneumonia/054.jpeg  \n",
            "  inflating: Covid19-dataset/train/Viral Pneumonia/055.jpeg  \n",
            "  inflating: Covid19-dataset/train/Viral Pneumonia/056.jpeg  \n",
            "  inflating: Covid19-dataset/train/Viral Pneumonia/057.jpeg  \n",
            "  inflating: Covid19-dataset/train/Viral Pneumonia/058.jpeg  \n",
            "  inflating: Covid19-dataset/train/Viral Pneumonia/06.jpeg  \n",
            "  inflating: Covid19-dataset/train/Viral Pneumonia/061.jpeg  \n",
            "  inflating: Covid19-dataset/train/Viral Pneumonia/062.jpeg  \n",
            "  inflating: Covid19-dataset/train/Viral Pneumonia/063.jpeg  \n",
            "  inflating: Covid19-dataset/train/Viral Pneumonia/064.jpeg  \n",
            "  inflating: Covid19-dataset/train/Viral Pneumonia/065.jpeg  \n",
            "  inflating: Covid19-dataset/train/Viral Pneumonia/066.jpeg  \n",
            "  inflating: Covid19-dataset/train/Viral Pneumonia/067.jpeg  \n",
            "  inflating: Covid19-dataset/train/Viral Pneumonia/068.jpeg  \n",
            "  inflating: Covid19-dataset/train/Viral Pneumonia/07.jpeg  \n",
            "  inflating: Covid19-dataset/train/Viral Pneumonia/071.jpeg  \n",
            "  inflating: Covid19-dataset/train/Viral Pneumonia/072.jpeg  \n",
            "  inflating: Covid19-dataset/train/Viral Pneumonia/073.jpeg  \n",
            "  inflating: Covid19-dataset/train/Viral Pneumonia/074.jpeg  \n",
            "  inflating: Covid19-dataset/train/Viral Pneumonia/075.jpeg  \n",
            "  inflating: Covid19-dataset/train/Viral Pneumonia/076.jpeg  \n",
            "  inflating: Covid19-dataset/train/Viral Pneumonia/077.jpeg  \n",
            "  inflating: Covid19-dataset/train/Viral Pneumonia/078.jpeg  \n",
            "  inflating: Covid19-dataset/train/Viral Pneumonia/08.jpeg  \n",
            "  inflating: Covid19-dataset/train/Viral Pneumonia/081.jpeg  \n",
            "  inflating: Covid19-dataset/train/Viral Pneumonia/082.jpeg  \n",
            "  inflating: Covid19-dataset/train/Viral Pneumonia/083.jpeg  \n",
            "  inflating: Covid19-dataset/train/Viral Pneumonia/084.jpeg  \n",
            "  inflating: Covid19-dataset/train/Viral Pneumonia/09.jpeg  \n",
            "  inflating: Covid19-dataset/train/Viral Pneumonia/094.jpeg  \n",
            "  inflating: Covid19-dataset/train/Viral Pneumonia/095.jpeg  \n",
            "  inflating: Covid19-dataset/train/Viral Pneumonia/096.jpeg  \n"
          ]
        }
      ]
    },
    {
      "cell_type": "code",
      "source": [
        "import pandas as pd\n",
        "import numpy as np\n",
        "import tensorflow as tf\n",
        "import matplotlib.pyplot as plt\n",
        "import matplotlib.image as mpimg\n",
        "import seaborn as sns\n",
        "import pathlib\n",
        "import random\n",
        "import os\n",
        "\n",
        "from tensorflow.keras.preprocessing import image_dataset_from_directory\n",
        "from tensorflow.keras.layers.experimental import preprocessing\n",
        "from tensorflow.keras.applications.vgg16 import VGG16\n",
        "from tensorflow.keras.applications.resnet50 import ResNet50\n",
        "from tensorflow.keras.optimizers import Adam\n",
        "from sklearn.metrics import accuracy_score, precision_score, recall_score, f1_score, cohen_kappa_score, roc_auc_score, confusion_matrix\n",
        "from sklearn.metrics import classification_report\n",
        "from keras.layers import Dense, Dropout, Activation, Flatten, BatchNormalization, Conv2D, MaxPool2D, MaxPooling2D\n",
        "from tensorflow.keras.callbacks import ReduceLROnPlateau, ModelCheckpoint, EarlyStopping\n",
        "from tensorflow.keras import Model\n",
        "from tensorflow.keras.layers import Dense, GlobalAveragePooling2D\n",
        "\n",
        "#Suppressing Warnings\n",
        "os.environ['TF_CPP_MIN_LOG_LEVEL'] = '3'"
      ],
      "metadata": {
        "execution": {
          "iopub.status.busy": "2022-11-19T21:13:58.948547Z",
          "iopub.execute_input": "2022-11-19T21:13:58.950402Z",
          "iopub.status.idle": "2022-11-19T21:14:05.013396Z",
          "shell.execute_reply.started": "2022-11-19T21:13:58.950315Z",
          "shell.execute_reply": "2022-11-19T21:14:05.012568Z"
        },
        "trusted": true,
        "id": "ezs0rh7exraZ"
      },
      "execution_count": 2,
      "outputs": []
    },
    {
      "cell_type": "code",
      "source": [
        "tf.keras.backend.clear_session()"
      ],
      "metadata": {
        "execution": {
          "iopub.status.busy": "2022-11-19T21:14:05.016475Z",
          "iopub.execute_input": "2022-11-19T21:14:05.017293Z",
          "iopub.status.idle": "2022-11-19T21:14:05.039031Z",
          "shell.execute_reply.started": "2022-11-19T21:14:05.017251Z",
          "shell.execute_reply": "2022-11-19T21:14:05.038245Z"
        },
        "trusted": true,
        "id": "pTIMSWToxrab"
      },
      "execution_count": 3,
      "outputs": []
    },
    {
      "cell_type": "markdown",
      "source": [
        "# Preprocessing"
      ],
      "metadata": {
        "id": "K6ROmrXXxrab"
      }
    },
    {
      "cell_type": "markdown",
      "source": [
        "**Our Train and Test Path**"
      ],
      "metadata": {
        "id": "oC7iyZuHxrab"
      }
    },
    {
      "cell_type": "code",
      "source": [
        "train_path = '/content/Covid19-dataset/train'\n",
        "test_path = '/content/Covid19-dataset/test'"
      ],
      "metadata": {
        "execution": {
          "iopub.status.busy": "2022-11-19T21:14:05.040351Z",
          "iopub.execute_input": "2022-11-19T21:14:05.040815Z",
          "iopub.status.idle": "2022-11-19T21:14:05.044832Z",
          "shell.execute_reply.started": "2022-11-19T21:14:05.040777Z",
          "shell.execute_reply": "2022-11-19T21:14:05.043969Z"
        },
        "trusted": true,
        "id": "OjG5W-7Nxrab"
      },
      "execution_count": 4,
      "outputs": []
    },
    {
      "cell_type": "markdown",
      "source": [
        "**Getting the labels of the data**"
      ],
      "metadata": {
        "id": "f_vIuqifxrac"
      }
    },
    {
      "cell_type": "markdown",
      "source": [
        "**Our images are of varying sizes but all of them are greater than (512,512) so I have used 512,512 as the size for training our model**"
      ],
      "metadata": {
        "id": "LP4RBSnKxrad"
      }
    },
    {
      "cell_type": "code",
      "source": [
        "img_size = 224\n",
        "batch = 16"
      ],
      "metadata": {
        "execution": {
          "iopub.status.busy": "2022-11-19T21:14:10.078419Z",
          "iopub.execute_input": "2022-11-19T21:14:10.078754Z",
          "iopub.status.idle": "2022-11-19T21:14:10.082678Z",
          "shell.execute_reply.started": "2022-11-19T21:14:10.078720Z",
          "shell.execute_reply": "2022-11-19T21:14:10.082012Z"
        },
        "trusted": true,
        "id": "7A5QSHl_xrae"
      },
      "execution_count": 5,
      "outputs": []
    },
    {
      "cell_type": "markdown",
      "source": [
        "# Image Loader"
      ],
      "metadata": {
        "id": "tIP6r3YPxrae"
      }
    },
    {
      "cell_type": "code",
      "source": [
        "from tensorflow.keras.preprocessing.image import ImageDataGenerator"
      ],
      "metadata": {
        "execution": {
          "iopub.status.busy": "2022-11-19T21:14:10.083757Z",
          "iopub.execute_input": "2022-11-19T21:14:10.084560Z",
          "iopub.status.idle": "2022-11-19T21:14:10.093006Z",
          "shell.execute_reply.started": "2022-11-19T21:14:10.084522Z",
          "shell.execute_reply": "2022-11-19T21:14:10.092226Z"
        },
        "trusted": true,
        "id": "ru6jLhDKxrae"
      },
      "execution_count": 6,
      "outputs": []
    },
    {
      "cell_type": "code",
      "source": [
        "def generate_data(DIR):\n",
        "    datagen = ImageDataGenerator(rescale=1./255.)\n",
        "    \n",
        "    generator = datagen.flow_from_directory(\n",
        "        DIR,\n",
        "        batch_size=batch,\n",
        "        shuffle=True,\n",
        "        seed=42,\n",
        "        class_mode='categorical',\n",
        "        target_size=(img_size, img_size),\n",
        "        classes={'Normal': 0, 'Viral Pneumonia': 1,'Covid': 2}\n",
        "    )\n",
        "    return generator"
      ],
      "metadata": {
        "id": "ID6_CIp34mEg"
      },
      "execution_count": 7,
      "outputs": []
    },
    {
      "cell_type": "code",
      "source": [
        "train_generator = generate_data(train_path)\n",
        "\n",
        "test_generator = generate_data(test_path)"
      ],
      "metadata": {
        "execution": {
          "iopub.status.busy": "2022-11-19T21:14:10.094494Z",
          "iopub.execute_input": "2022-11-19T21:14:10.094795Z",
          "iopub.status.idle": "2022-11-19T21:14:10.102525Z",
          "shell.execute_reply.started": "2022-11-19T21:14:10.094761Z",
          "shell.execute_reply": "2022-11-19T21:14:10.101692Z"
        },
        "trusted": true,
        "id": "j4QPh7Ogxrae",
        "colab": {
          "base_uri": "https://localhost:8080/"
        },
        "outputId": "bc97efa2-3f46-4921-8968-677d3d1c5080"
      },
      "execution_count": 8,
      "outputs": [
        {
          "output_type": "stream",
          "name": "stdout",
          "text": [
            "Found 251 images belonging to 3 classes.\n",
            "Found 66 images belonging to 3 classes.\n"
          ]
        }
      ]
    },
    {
      "cell_type": "markdown",
      "source": [
        "# Modelling"
      ],
      "metadata": {
        "id": "EO0BFF5oxraf"
      }
    },
    {
      "cell_type": "code",
      "source": [
        "base_model = VGG16(weights='imagenet', include_top=False,\n",
        "                            input_shape=(img_size, img_size,3))\n",
        "\n",
        "# freeze extraction layers\n",
        "base_model.trainable = False\n",
        "\n",
        "# add custom top layers\n",
        "x = base_model.output\n",
        "x = GlobalAveragePooling2D()(x)\n",
        "x = Dense(512 , activation='relu')(x)\n",
        "predictions = Dense(3, activation='softmax')(x)\n",
        "model = Model(inputs=base_model.input, outputs=predictions)\n",
        "\n",
        "# confirm unfrozen layers\n",
        "for layer in model.layers:\n",
        "    if layer.trainable==True:\n",
        "        print(layer)"
      ],
      "metadata": {
        "execution": {
          "iopub.status.busy": "2022-11-19T21:14:10.332845Z",
          "iopub.execute_input": "2022-11-19T21:14:10.333089Z",
          "iopub.status.idle": "2022-11-19T21:14:15.434630Z",
          "shell.execute_reply.started": "2022-11-19T21:14:10.333057Z",
          "shell.execute_reply": "2022-11-19T21:14:15.433780Z"
        },
        "trusted": true,
        "id": "U_PBcB-xxraf",
        "colab": {
          "base_uri": "https://localhost:8080/"
        },
        "outputId": "7d6d4387-fe7c-4a0d-f6da-f788a81186cd"
      },
      "execution_count": 9,
      "outputs": [
        {
          "output_type": "stream",
          "name": "stdout",
          "text": [
            "Downloading data from https://storage.googleapis.com/tensorflow/keras-applications/vgg16/vgg16_weights_tf_dim_ordering_tf_kernels_notop.h5\n",
            "58889256/58889256 [==============================] - 3s 0us/step\n",
            "<keras.layers.pooling.global_average_pooling2d.GlobalAveragePooling2D object at 0x7f7770747e90>\n",
            "<keras.layers.core.dense.Dense object at 0x7f7770752910>\n",
            "<keras.layers.core.dense.Dense object at 0x7f7770797cd0>\n"
          ]
        }
      ]
    },
    {
      "cell_type": "markdown",
      "source": [
        "### Overview of our entire model"
      ],
      "metadata": {
        "id": "ekXubcUVxrag"
      }
    },
    {
      "cell_type": "code",
      "source": [
        "# from tensorflow.keras.utils import plot_model\n",
        "# from IPython.display import Image\n",
        "# plot_model(model, to_file='convnet.png', show_shapes=True,show_layer_names=True)\n",
        "# Image(filename='convnet.png') "
      ],
      "metadata": {
        "execution": {
          "iopub.status.busy": "2022-11-19T21:14:15.435759Z",
          "iopub.execute_input": "2022-11-19T21:14:15.436002Z",
          "iopub.status.idle": "2022-11-19T21:14:16.454915Z",
          "shell.execute_reply.started": "2022-11-19T21:14:15.435969Z",
          "shell.execute_reply": "2022-11-19T21:14:16.454172Z"
        },
        "trusted": true,
        "id": "QhWdu_tBxrag"
      },
      "execution_count": 10,
      "outputs": []
    },
    {
      "cell_type": "markdown",
      "source": [
        "## Callback to save our best model during training"
      ],
      "metadata": {
        "id": "BmVdvwBzxrag"
      }
    },
    {
      "cell_type": "code",
      "source": [
        "callbacks = [EarlyStopping(monitor='val_loss', patience=5, verbose=1),\n",
        "                ModelCheckpoint('model.hdf5',\n",
        "                                 save_best_only=True)]"
      ],
      "metadata": {
        "execution": {
          "iopub.status.busy": "2022-11-19T21:14:16.456553Z",
          "iopub.execute_input": "2022-11-19T21:14:16.457408Z",
          "iopub.status.idle": "2022-11-19T21:14:16.462389Z",
          "shell.execute_reply.started": "2022-11-19T21:14:16.457361Z",
          "shell.execute_reply": "2022-11-19T21:14:16.461802Z"
        },
        "trusted": true,
        "id": "d3h5C6IIxrag"
      },
      "execution_count": 11,
      "outputs": []
    },
    {
      "cell_type": "code",
      "source": [
        "opt = Adam(learning_rate=0.001)\n",
        "model.compile(\n",
        "  loss='categorical_crossentropy',\n",
        "  optimizer=opt,\n",
        "  metrics=['accuracy']\n",
        ")"
      ],
      "metadata": {
        "execution": {
          "iopub.status.busy": "2022-11-19T21:14:16.465182Z",
          "iopub.execute_input": "2022-11-19T21:14:16.465696Z",
          "iopub.status.idle": "2022-11-19T21:14:16.498717Z",
          "shell.execute_reply.started": "2022-11-19T21:14:16.465660Z",
          "shell.execute_reply": "2022-11-19T21:14:16.497551Z"
        },
        "trusted": true,
        "id": "XUZysSETxrag"
      },
      "execution_count": 12,
      "outputs": []
    },
    {
      "cell_type": "markdown",
      "source": [
        "# Training the Model"
      ],
      "metadata": {
        "id": "EqBnFD56xrah"
      }
    },
    {
      "cell_type": "code",
      "source": [
        "history = model.fit(train_generator,\n",
        "                    epochs = 100,\n",
        "                    validation_data = test_generator,\n",
        "                    verbose = True,\n",
        "                   callbacks=callbacks)"
      ],
      "metadata": {
        "execution": {
          "iopub.status.busy": "2022-11-19T21:14:16.500538Z",
          "iopub.execute_input": "2022-11-19T21:14:16.506309Z",
          "iopub.status.idle": "2022-11-19T21:21:46.638924Z",
          "shell.execute_reply.started": "2022-11-19T21:14:16.506259Z",
          "shell.execute_reply": "2022-11-19T21:21:46.638140Z"
        },
        "trusted": true,
        "id": "WR13a2HDxrah",
        "colab": {
          "base_uri": "https://localhost:8080/"
        },
        "outputId": "f5a7a62c-80c3-400d-d91b-4475b7691d19"
      },
      "execution_count": 13,
      "outputs": [
        {
          "output_type": "stream",
          "name": "stdout",
          "text": [
            "Epoch 1/100\n",
            "16/16 [==============================] - 23s 838ms/step - loss: 0.9517 - accuracy: 0.5498 - val_loss: 0.7683 - val_accuracy: 0.6970\n",
            "Epoch 2/100\n",
            "16/16 [==============================] - 12s 720ms/step - loss: 0.6776 - accuracy: 0.6534 - val_loss: 0.6259 - val_accuracy: 0.8030\n",
            "Epoch 3/100\n",
            "16/16 [==============================] - 12s 735ms/step - loss: 0.5492 - accuracy: 0.8287 - val_loss: 0.4926 - val_accuracy: 0.8939\n",
            "Epoch 4/100\n",
            "16/16 [==============================] - 11s 729ms/step - loss: 0.4507 - accuracy: 0.8725 - val_loss: 0.4456 - val_accuracy: 0.8333\n",
            "Epoch 5/100\n",
            "16/16 [==============================] - 12s 753ms/step - loss: 0.3937 - accuracy: 0.8765 - val_loss: 0.4083 - val_accuracy: 0.8182\n",
            "Epoch 6/100\n",
            "16/16 [==============================] - 11s 714ms/step - loss: 0.3375 - accuracy: 0.8924 - val_loss: 0.3595 - val_accuracy: 0.8333\n",
            "Epoch 7/100\n",
            "16/16 [==============================] - 11s 718ms/step - loss: 0.2937 - accuracy: 0.9163 - val_loss: 0.3214 - val_accuracy: 0.8939\n",
            "Epoch 8/100\n",
            "16/16 [==============================] - 11s 718ms/step - loss: 0.2550 - accuracy: 0.9283 - val_loss: 0.3006 - val_accuracy: 0.8939\n",
            "Epoch 9/100\n",
            "16/16 [==============================] - 11s 695ms/step - loss: 0.2426 - accuracy: 0.9442 - val_loss: 0.3100 - val_accuracy: 0.8485\n",
            "Epoch 10/100\n",
            "16/16 [==============================] - 12s 760ms/step - loss: 0.2360 - accuracy: 0.9243 - val_loss: 0.2846 - val_accuracy: 0.8485\n",
            "Epoch 11/100\n",
            "16/16 [==============================] - 11s 709ms/step - loss: 0.1959 - accuracy: 0.9402 - val_loss: 0.2582 - val_accuracy: 0.8788\n",
            "Epoch 12/100\n",
            "16/16 [==============================] - 12s 749ms/step - loss: 0.1771 - accuracy: 0.9522 - val_loss: 0.2284 - val_accuracy: 0.9394\n",
            "Epoch 13/100\n",
            "16/16 [==============================] - 12s 710ms/step - loss: 0.1596 - accuracy: 0.9522 - val_loss: 0.2282 - val_accuracy: 0.8939\n",
            "Epoch 14/100\n",
            "16/16 [==============================] - 12s 754ms/step - loss: 0.1655 - accuracy: 0.9522 - val_loss: 0.2214 - val_accuracy: 0.8939\n",
            "Epoch 15/100\n",
            "16/16 [==============================] - 11s 713ms/step - loss: 0.1434 - accuracy: 0.9641 - val_loss: 0.2183 - val_accuracy: 0.8939\n",
            "Epoch 16/100\n",
            "16/16 [==============================] - 11s 699ms/step - loss: 0.1259 - accuracy: 0.9641 - val_loss: 0.1973 - val_accuracy: 0.9394\n",
            "Epoch 17/100\n",
            "16/16 [==============================] - 12s 770ms/step - loss: 0.1213 - accuracy: 0.9681 - val_loss: 0.2228 - val_accuracy: 0.8788\n",
            "Epoch 18/100\n",
            "16/16 [==============================] - 12s 763ms/step - loss: 0.1291 - accuracy: 0.9641 - val_loss: 0.4411 - val_accuracy: 0.7879\n",
            "Epoch 19/100\n",
            "16/16 [==============================] - 11s 690ms/step - loss: 0.1444 - accuracy: 0.9482 - val_loss: 0.3119 - val_accuracy: 0.8333\n",
            "Epoch 20/100\n",
            "16/16 [==============================] - 11s 705ms/step - loss: 0.1228 - accuracy: 0.9641 - val_loss: 0.2072 - val_accuracy: 0.8939\n",
            "Epoch 21/100\n",
            "16/16 [==============================] - 11s 666ms/step - loss: 0.1229 - accuracy: 0.9562 - val_loss: 0.1798 - val_accuracy: 0.9091\n",
            "Epoch 22/100\n",
            "16/16 [==============================] - 11s 715ms/step - loss: 0.1248 - accuracy: 0.9641 - val_loss: 0.1672 - val_accuracy: 0.9242\n",
            "Epoch 23/100\n",
            "16/16 [==============================] - 12s 763ms/step - loss: 0.1136 - accuracy: 0.9721 - val_loss: 0.1666 - val_accuracy: 0.9394\n",
            "Epoch 24/100\n",
            "16/16 [==============================] - 11s 692ms/step - loss: 0.0955 - accuracy: 0.9562 - val_loss: 0.3587 - val_accuracy: 0.8333\n",
            "Epoch 25/100\n",
            "16/16 [==============================] - 11s 684ms/step - loss: 0.1080 - accuracy: 0.9681 - val_loss: 0.2203 - val_accuracy: 0.8636\n",
            "Epoch 26/100\n",
            "16/16 [==============================] - 11s 707ms/step - loss: 0.1014 - accuracy: 0.9602 - val_loss: 0.1612 - val_accuracy: 0.9242\n",
            "Epoch 27/100\n",
            "16/16 [==============================] - 12s 750ms/step - loss: 0.0931 - accuracy: 0.9801 - val_loss: 0.1745 - val_accuracy: 0.9091\n",
            "Epoch 28/100\n",
            "16/16 [==============================] - 11s 699ms/step - loss: 0.0882 - accuracy: 0.9681 - val_loss: 0.1367 - val_accuracy: 0.9848\n",
            "Epoch 29/100\n",
            "16/16 [==============================] - 11s 680ms/step - loss: 0.0651 - accuracy: 0.9841 - val_loss: 0.1960 - val_accuracy: 0.9091\n",
            "Epoch 30/100\n",
            "16/16 [==============================] - 11s 678ms/step - loss: 0.0586 - accuracy: 0.9801 - val_loss: 0.1292 - val_accuracy: 0.9697\n",
            "Epoch 31/100\n",
            "16/16 [==============================] - 12s 728ms/step - loss: 0.0694 - accuracy: 0.9841 - val_loss: 0.1333 - val_accuracy: 0.9545\n",
            "Epoch 32/100\n",
            "16/16 [==============================] - 12s 760ms/step - loss: 0.0614 - accuracy: 0.9841 - val_loss: 0.1243 - val_accuracy: 0.9697\n",
            "Epoch 33/100\n",
            "16/16 [==============================] - 11s 691ms/step - loss: 0.0541 - accuracy: 0.9841 - val_loss: 0.2517 - val_accuracy: 0.8636\n",
            "Epoch 34/100\n",
            "16/16 [==============================] - 11s 684ms/step - loss: 0.0629 - accuracy: 0.9801 - val_loss: 0.1517 - val_accuracy: 0.9394\n",
            "Epoch 35/100\n",
            "16/16 [==============================] - 12s 754ms/step - loss: 0.0507 - accuracy: 0.9880 - val_loss: 0.1212 - val_accuracy: 0.9697\n",
            "Epoch 36/100\n",
            "16/16 [==============================] - 11s 734ms/step - loss: 0.0453 - accuracy: 0.9880 - val_loss: 0.2016 - val_accuracy: 0.8939\n",
            "Epoch 37/100\n",
            "16/16 [==============================] - 11s 687ms/step - loss: 0.0470 - accuracy: 0.9880 - val_loss: 0.1587 - val_accuracy: 0.9394\n",
            "Epoch 38/100\n",
            "16/16 [==============================] - 11s 706ms/step - loss: 0.0509 - accuracy: 0.9841 - val_loss: 0.1203 - val_accuracy: 0.9697\n",
            "Epoch 39/100\n",
            "16/16 [==============================] - 11s 670ms/step - loss: 0.0394 - accuracy: 0.9880 - val_loss: 0.1689 - val_accuracy: 0.9242\n",
            "Epoch 40/100\n",
            "16/16 [==============================] - 12s 739ms/step - loss: 0.0384 - accuracy: 0.9920 - val_loss: 0.1192 - val_accuracy: 0.9545\n",
            "Epoch 41/100\n",
            "16/16 [==============================] - 11s 705ms/step - loss: 0.0523 - accuracy: 0.9841 - val_loss: 0.1151 - val_accuracy: 0.9545\n",
            "Epoch 42/100\n",
            "16/16 [==============================] - 11s 687ms/step - loss: 0.0548 - accuracy: 0.9920 - val_loss: 0.1880 - val_accuracy: 0.9091\n",
            "Epoch 43/100\n",
            "16/16 [==============================] - 11s 700ms/step - loss: 0.0344 - accuracy: 0.9920 - val_loss: 0.1576 - val_accuracy: 0.9394\n",
            "Epoch 44/100\n",
            "16/16 [==============================] - 11s 699ms/step - loss: 0.0317 - accuracy: 0.9960 - val_loss: 0.1177 - val_accuracy: 0.9697\n",
            "Epoch 45/100\n",
            "16/16 [==============================] - 12s 731ms/step - loss: 0.0336 - accuracy: 0.9920 - val_loss: 0.1362 - val_accuracy: 0.9545\n",
            "Epoch 46/100\n",
            "16/16 [==============================] - 11s 701ms/step - loss: 0.0339 - accuracy: 0.9960 - val_loss: 0.1098 - val_accuracy: 0.9697\n",
            "Epoch 47/100\n",
            "16/16 [==============================] - 11s 685ms/step - loss: 0.0347 - accuracy: 0.9880 - val_loss: 0.1638 - val_accuracy: 0.9394\n",
            "Epoch 48/100\n",
            "16/16 [==============================] - 11s 709ms/step - loss: 0.0260 - accuracy: 1.0000 - val_loss: 0.1144 - val_accuracy: 0.9848\n",
            "Epoch 49/100\n",
            "16/16 [==============================] - 13s 780ms/step - loss: 0.0312 - accuracy: 0.9920 - val_loss: 0.1111 - val_accuracy: 0.9697\n",
            "Epoch 50/100\n",
            "16/16 [==============================] - 11s 699ms/step - loss: 0.0282 - accuracy: 0.9880 - val_loss: 0.1671 - val_accuracy: 0.9242\n",
            "Epoch 51/100\n",
            "16/16 [==============================] - 11s 672ms/step - loss: 0.0289 - accuracy: 0.9920 - val_loss: 0.1236 - val_accuracy: 0.9697\n",
            "Epoch 51: early stopping\n"
          ]
        }
      ]
    },
    {
      "cell_type": "markdown",
      "source": [
        "# Evaluation"
      ],
      "metadata": {
        "id": "69o9jZOExrah"
      }
    },
    {
      "cell_type": "code",
      "source": [
        "from tensorflow.keras.models import load_model"
      ],
      "metadata": {
        "execution": {
          "iopub.status.busy": "2022-11-19T21:21:46.640578Z",
          "iopub.execute_input": "2022-11-19T21:21:46.640885Z",
          "iopub.status.idle": "2022-11-19T21:21:46.647836Z",
          "shell.execute_reply.started": "2022-11-19T21:21:46.640845Z",
          "shell.execute_reply": "2022-11-19T21:21:46.647035Z"
        },
        "trusted": true,
        "id": "A_evITN6xrah"
      },
      "execution_count": 14,
      "outputs": []
    },
    {
      "cell_type": "code",
      "source": [
        "import pandas as pd\n",
        "\n",
        "# convert the history.history dict to a pandas DataFrame:     \n",
        "hist_df = pd.DataFrame(history.history) \n",
        "\n",
        "# or save to csv: \n",
        "hist_csv_file = 'history.csv'\n",
        "with open(hist_csv_file, mode='w') as f:\n",
        "    hist_df.to_csv(f)"
      ],
      "metadata": {
        "id": "25608KkWB1K7"
      },
      "execution_count": 15,
      "outputs": []
    },
    {
      "cell_type": "markdown",
      "source": [
        "### Loading our best model"
      ],
      "metadata": {
        "id": "4tNBBRMFxrah"
      }
    },
    {
      "cell_type": "code",
      "source": [
        "model = load_model('./model.hdf5')"
      ],
      "metadata": {
        "execution": {
          "iopub.status.busy": "2022-11-19T21:21:46.649018Z",
          "iopub.execute_input": "2022-11-19T21:21:46.649424Z",
          "iopub.status.idle": "2022-11-19T21:21:46.943167Z",
          "shell.execute_reply.started": "2022-11-19T21:21:46.649384Z",
          "shell.execute_reply": "2022-11-19T21:21:46.942354Z"
        },
        "trusted": true,
        "id": "9uwIimXGxrah"
      },
      "execution_count": 16,
      "outputs": []
    },
    {
      "cell_type": "code",
      "source": [
        "def learning_curve(model_fit, key='accuracy', ylim=(0, 1.01)):\n",
        "    plt.figure(figsize=(12,6))\n",
        "    plt.plot(model_fit.history[key])\n",
        "    plt.plot(model_fit.history['val_' + key])\n",
        "    plt.title('Learning Curve')\n",
        "    plt.ylabel(key.title())\n",
        "    plt.xlabel('Epoch')\n",
        "    plt.ylim(ylim)\n",
        "    plt.legend(['train', 'val'], loc='best')\n",
        "    plt.show()"
      ],
      "metadata": {
        "execution": {
          "iopub.status.busy": "2022-11-19T21:21:46.944489Z",
          "iopub.execute_input": "2022-11-19T21:21:46.944762Z",
          "iopub.status.idle": "2022-11-19T21:21:46.950906Z",
          "shell.execute_reply.started": "2022-11-19T21:21:46.944720Z",
          "shell.execute_reply": "2022-11-19T21:21:46.950199Z"
        },
        "trusted": true,
        "id": "zLzKB5KIxrai"
      },
      "execution_count": 17,
      "outputs": []
    },
    {
      "cell_type": "code",
      "source": [
        "learning_curve(history,'loss', ylim=(0,1))\n",
        "learning_curve(history, 'accuracy', ylim=(0,1))"
      ],
      "metadata": {
        "execution": {
          "iopub.status.busy": "2022-11-19T21:21:46.952427Z",
          "iopub.execute_input": "2022-11-19T21:21:46.952952Z",
          "iopub.status.idle": "2022-11-19T21:21:47.387000Z",
          "shell.execute_reply.started": "2022-11-19T21:21:46.952914Z",
          "shell.execute_reply": "2022-11-19T21:21:47.386303Z"
        },
        "trusted": true,
        "id": "Z0-SV05rxrai",
        "colab": {
          "base_uri": "https://localhost:8080/",
          "height": 791
        },
        "outputId": "f6e19d01-2b9a-4e4f-eddf-83ddd3b6c086"
      },
      "execution_count": 18,
      "outputs": [
        {
          "output_type": "display_data",
          "data": {
            "text/plain": [
              "<Figure size 864x432 with 1 Axes>"
            ],
            "image/png": "[encoded data removed]"
          },
          "metadata": {
            "needs_background": "light"
          }
        },
        {
          "output_type": "display_data",
          "data": {
            "text/plain": [
              "<Figure size 864x432 with 1 Axes>"
            ],
            "image/png": "[encoded data removed]"
          },
          "metadata": {
            "needs_background": "light"
          }
        }
      ]
    },
    {
      "cell_type": "code",
      "source": [
        "test_loss, test_acc = model.evaluate(test_generator, steps=len(test_generator), verbose=1)\n",
        "print('Loss: %.3f' % (test_loss * 100.0))\n",
        "print('Accuracy: %.3f' % (test_acc * 100.0)) "
      ],
      "metadata": {
        "execution": {
          "iopub.status.busy": "2022-11-19T21:21:47.388183Z",
          "iopub.execute_input": "2022-11-19T21:21:47.388774Z",
          "iopub.status.idle": "2022-11-19T21:21:49.902781Z",
          "shell.execute_reply.started": "2022-11-19T21:21:47.388732Z",
          "shell.execute_reply": "2022-11-19T21:21:49.902017Z"
        },
        "trusted": true,
        "id": "DbETeiNVxrai",
        "colab": {
          "base_uri": "https://localhost:8080/"
        },
        "outputId": "9b9d993c-f835-4a07-959b-0ee9b2eaad07"
      },
      "execution_count": 19,
      "outputs": [
        {
          "output_type": "stream",
          "name": "stdout",
          "text": [
            "5/5 [==============================] - 2s 267ms/step - loss: 0.1098 - accuracy: 0.9697\n",
            "Loss: 10.980\n",
            "Accuracy: 96.970\n"
          ]
        }
      ]
    },
    {
      "cell_type": "markdown",
      "source": [
        "**We got a good model with an accuracry of 95%**"
      ],
      "metadata": {
        "id": "6G4wfP85xrai"
      }
    },
    {
      "cell_type": "code",
      "source": [
        "predictions = np.argmax(model.predict(test_generator),axis=1)\n",
        "labels = test_generator.classes\n",
        "predictions , labels"
      ],
      "metadata": {
        "execution": {
          "iopub.status.busy": "2022-11-19T21:21:49.904147Z",
          "iopub.execute_input": "2022-11-19T21:21:49.904505Z",
          "iopub.status.idle": "2022-11-19T21:21:51.719657Z",
          "shell.execute_reply.started": "2022-11-19T21:21:49.904465Z",
          "shell.execute_reply": "2022-11-19T21:21:51.718937Z"
        },
        "trusted": true,
        "id": "atXhmOsZxrai",
        "colab": {
          "base_uri": "https://localhost:8080/"
        },
        "outputId": "d3aeac71-6566-4dbf-f529-a41c24e363e5"
      },
      "execution_count": 20,
      "outputs": [
        {
          "output_type": "stream",
          "name": "stdout",
          "text": [
            "5/5 [==============================] - 2s 271ms/step\n"
          ]
        },
        {
          "output_type": "execute_result",
          "data": {
            "text/plain": [
              "(array([0, 2, 0, 0, 0, 0, 2, 2, 0, 1, 1, 0, 0, 2, 1, 2, 0, 0, 0, 2, 2, 2,\n",
              "        0, 1, 1, 1, 1, 0, 0, 2, 1, 0, 1, 2, 2, 1, 0, 1, 2, 2, 2, 0, 1, 1,\n",
              "        2, 0, 1, 2, 1, 2, 2, 2, 2, 2, 2, 2, 1, 1, 2, 1, 0, 2, 2, 0, 1, 1]),\n",
              " array([0, 0, 0, 0, 0, 0, 0, 0, 0, 0, 0, 0, 0, 0, 0, 0, 0, 0, 0, 0, 1, 1,\n",
              "        1, 1, 1, 1, 1, 1, 1, 1, 1, 1, 1, 1, 1, 1, 1, 1, 1, 1, 2, 2, 2, 2,\n",
              "        2, 2, 2, 2, 2, 2, 2, 2, 2, 2, 2, 2, 2, 2, 2, 2, 2, 2, 2, 2, 2, 2],\n",
              "       dtype=int32))"
            ]
          },
          "metadata": {},
          "execution_count": 20
        }
      ]
    },
    {
      "cell_type": "code",
      "source": [
        "classes = []\n",
        "for i in os.listdir(test_path):\n",
        "    classes+=[i]\n",
        "\n",
        "classes"
      ],
      "metadata": {
        "execution": {
          "iopub.status.busy": "2022-11-19T21:21:51.720994Z",
          "iopub.execute_input": "2022-11-19T21:21:51.721411Z",
          "iopub.status.idle": "2022-11-19T21:21:51.728215Z",
          "shell.execute_reply.started": "2022-11-19T21:21:51.721372Z",
          "shell.execute_reply": "2022-11-19T21:21:51.727467Z"
        },
        "trusted": true,
        "id": "6e2s9WG5xrai",
        "colab": {
          "base_uri": "https://localhost:8080/"
        },
        "outputId": "4cc56399-adfd-4380-f70a-90a359971f8e"
      },
      "execution_count": 21,
      "outputs": [
        {
          "output_type": "execute_result",
          "data": {
            "text/plain": [
              "['Covid', 'Viral Pneumonia', 'Normal']"
            ]
          },
          "metadata": {},
          "execution_count": 21
        }
      ]
    },
    {
      "cell_type": "markdown",
      "source": [
        "### Function To Calculate F1-Score"
      ],
      "metadata": {
        "id": "IIHft9UFxraj"
      }
    },
    {
      "cell_type": "code",
      "source": [
        "def fbeta(y_true, y_pred, threshold_shift=0):\n",
        "    beta_squared = 4\n",
        "\n",
        "    y_pred = K.clip(y_pred, 0, 1)\n",
        " \n",
        "    y_pred_bin = K.round(y_pred + threshold_shift)\n",
        " \n",
        "    tp = K.sum(K.round(y_true * y_pred_bin)) + K.epsilon()\n",
        "    fp = K.sum(K.round(K.clip(y_pred_bin - y_true, 0, 1)))\n",
        "    fn = K.sum(K.round(K.clip(y_true - y_pred, 0, 1)))\n",
        " \n",
        "    precision = tp / (tp + fp)\n",
        "    recall = tp / (tp + fn)\n",
        " \n",
        "    return (beta_squared + 1) * (precision * recall) / (beta_squared * precision + recall + K.epsilon())"
      ],
      "metadata": {
        "execution": {
          "iopub.status.busy": "2022-11-19T21:21:51.729488Z",
          "iopub.execute_input": "2022-11-19T21:21:51.729892Z",
          "iopub.status.idle": "2022-11-19T21:21:51.736884Z",
          "shell.execute_reply.started": "2022-11-19T21:21:51.729858Z",
          "shell.execute_reply": "2022-11-19T21:21:51.736061Z"
        },
        "trusted": true,
        "id": "TDmQZICTxraj"
      },
      "execution_count": 22,
      "outputs": []
    },
    {
      "cell_type": "markdown",
      "source": [
        "### Function To Plot Confusion Matrix"
      ],
      "metadata": {
        "id": "Pj8pAI1zxraj"
      }
    },
    {
      "cell_type": "code",
      "source": [
        "def confusion_matrix_plot(matrix):\n",
        "    plt.figure(figsize=(12,10))\n",
        "    cmap = \"YlGnBu\"\n",
        "    ax= plt.subplot()\n",
        "    sns.heatmap(matrix, annot=True, fmt='g', ax=ax, cmap=cmap);  #annot=True to annotate cells, ftm='g' to disable scientific notation\n",
        "    plt.savefig('./img1.png')\n",
        "    # labels, title and ticks\n",
        "    ax.set_xlabel('Predicted labels');\n",
        "    ax.set_ylabel('True labels'); \n",
        "    ax.set_title('Confusion Matrix'); \n",
        "    ax.xaxis.set_ticklabels(classes); \n",
        "    ax.yaxis.set_ticklabels(classes[::-1]);\n",
        "    plt.show()"
      ],
      "metadata": {
        "execution": {
          "iopub.status.busy": "2022-11-19T21:21:51.740174Z",
          "iopub.execute_input": "2022-11-19T21:21:51.740758Z",
          "iopub.status.idle": "2022-11-19T21:21:51.747217Z",
          "shell.execute_reply.started": "2022-11-19T21:21:51.740722Z",
          "shell.execute_reply": "2022-11-19T21:21:51.746520Z"
        },
        "trusted": true,
        "id": "dyXYCMUrxraj"
      },
      "execution_count": 23,
      "outputs": []
    },
    {
      "cell_type": "markdown",
      "source": [
        "### Function To Calculate Confusion Matrix"
      ],
      "metadata": {
        "id": "geITsQMfxraj"
      }
    },
    {
      "cell_type": "code",
      "source": [
        "def cal_score(model, key):\n",
        "    matrix = confusion_matrix(predictions, labels)\n",
        "    print(matrix)\n",
        "    print('\\n')\n",
        "\n",
        "    f1 = f1_score(predictions, labels, average='weighted')\n",
        "    print(f'F1 Score: {f1}')\n",
        "    print('\\n')\n",
        "    \n",
        "    print(classification_report(predictions, labels, target_names=classes))\n",
        "    \n",
        "    if key==1:\n",
        "        confusion_matrix_plot(matrix)"
      ],
      "metadata": {
        "execution": {
          "iopub.status.busy": "2022-11-19T21:21:51.749885Z",
          "iopub.execute_input": "2022-11-19T21:21:51.750086Z",
          "iopub.status.idle": "2022-11-19T21:21:51.757454Z",
          "shell.execute_reply.started": "2022-11-19T21:21:51.750062Z",
          "shell.execute_reply": "2022-11-19T21:21:51.756808Z"
        },
        "trusted": true,
        "id": "S8AksiP8xraj"
      },
      "execution_count": 24,
      "outputs": []
    },
    {
      "cell_type": "code",
      "source": [
        "cal_score(model, 1)"
      ],
      "metadata": {
        "execution": {
          "iopub.status.busy": "2022-11-19T21:21:51.759849Z",
          "iopub.execute_input": "2022-11-19T21:21:51.761730Z",
          "iopub.status.idle": "2022-11-19T21:21:52.085988Z",
          "shell.execute_reply.started": "2022-11-19T21:21:51.761701Z",
          "shell.execute_reply": "2022-11-19T21:21:52.085299Z"
        },
        "trusted": true,
        "id": "8-QO4H0exrak",
        "colab": {
          "base_uri": "https://localhost:8080/",
          "height": 942
        },
        "outputId": "567137fb-df65-4d99-cf9f-411a3af4e39a"
      },
      "execution_count": 25,
      "outputs": [
        {
          "output_type": "stream",
          "name": "stdout",
          "text": [
            "[[11  5  4]\n",
            " [ 3  8  9]\n",
            " [ 6  7 13]]\n",
            "\n",
            "\n",
            "F1 Score: 0.48484848484848486\n",
            "\n",
            "\n",
            "                 precision    recall  f1-score   support\n",
            "\n",
            "          Covid       0.55      0.55      0.55        20\n",
            "Viral Pneumonia       0.40      0.40      0.40        20\n",
            "         Normal       0.50      0.50      0.50        26\n",
            "\n",
            "       accuracy                           0.48        66\n",
            "      macro avg       0.48      0.48      0.48        66\n",
            "   weighted avg       0.48      0.48      0.48        66\n",
            "\n"
          ]
        },
        {
          "output_type": "display_data",
          "data": {
            "text/plain": [
              "<Figure size 864x720 with 2 Axes>"
            ],
            "image/png": "[encoded data removed]"
          },
          "metadata": {
            "needs_background": "light"
          }
        }
      ]
    }
  ]
}