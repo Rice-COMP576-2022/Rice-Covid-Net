{
  "metadata": {
    "kernelspec": {
      "language": "python",
      "display_name": "Python 3",
      "name": "python3"
    },
    "language_info": {
      "name": "python",
      "version": "3.7.12",
      "mimetype": "text/x-python",
      "codemirror_mode": {
        "name": "ipython",
        "version": 3
      },
      "pygments_lexer": "ipython3",
      "nbconvert_exporter": "python",
      "file_extension": ".py"
    },
    "colab": {
      "provenance": []
    },
    "accelerator": "GPU",
    "gpuClass": "standard"
  },
  "nbformat_minor": 0,
  "nbformat": 4,
  "cells": [
    {
      "cell_type": "markdown",
      "source": [
        "# Installing Libraries"
      ],
      "metadata": {
        "id": "upPcfbxbxraY"
      }
    },
    {
      "cell_type": "code",
      "source": [
        "import pandas as pd\n",
        "import numpy as np\n",
        "import tensorflow as tf\n",
        "import matplotlib.pyplot as plt\n",
        "import matplotlib.image as mpimg\n",
        "import seaborn as sns\n",
        "import pathlib\n",
        "import random\n",
        "import os\n",
        "\n",
        "from tensorflow.keras.preprocessing import image_dataset_from_directory\n",
        "from tensorflow.keras.layers.experimental import preprocessing\n",
        "from tensorflow.keras.applications.vgg16 import VGG16\n",
        "from tensorflow.keras.applications.resnet50 import ResNet50\n",
        "from tensorflow.keras.optimizers import Adam\n",
        "from sklearn.metrics import accuracy_score, precision_score, recall_score, f1_score, cohen_kappa_score, roc_auc_score, confusion_matrix\n",
        "from sklearn.metrics import classification_report\n",
        "from keras.layers import Dense, Dropout, Activation, Flatten, BatchNormalization, Conv2D, MaxPool2D, MaxPooling2D\n",
        "from tensorflow.keras.callbacks import ReduceLROnPlateau, ModelCheckpoint, EarlyStopping\n",
        "from tensorflow.keras import Model\n",
        "from tensorflow.keras.layers import Dense, GlobalAveragePooling2D\n",
        "\n",
        "#Suppressing Warnings\n",
        "os.environ['TF_CPP_MIN_LOG_LEVEL'] = '3'"
      ],
      "metadata": {
        "execution": {
          "iopub.status.busy": "2022-11-19T21:13:58.948547Z",
          "iopub.execute_input": "2022-11-19T21:13:58.950402Z",
          "iopub.status.idle": "2022-11-19T21:14:05.013396Z",
          "shell.execute_reply.started": "2022-11-19T21:13:58.950315Z",
          "shell.execute_reply": "2022-11-19T21:14:05.012568Z"
        },
        "trusted": true,
        "id": "ezs0rh7exraZ"
      },
      "execution_count": null,
      "outputs": []
    },
    {
      "cell_type": "code",
      "source": [
        "tf.keras.backend.clear_session()"
      ],
      "metadata": {
        "execution": {
          "iopub.status.busy": "2022-11-19T21:14:05.016475Z",
          "iopub.execute_input": "2022-11-19T21:14:05.017293Z",
          "iopub.status.idle": "2022-11-19T21:14:05.039031Z",
          "shell.execute_reply.started": "2022-11-19T21:14:05.017251Z",
          "shell.execute_reply": "2022-11-19T21:14:05.038245Z"
        },
        "trusted": true,
        "id": "pTIMSWToxrab"
      },
      "execution_count": null,
      "outputs": []
    },
    {
      "cell_type": "markdown",
      "source": [
        "# Preprocessing"
      ],
      "metadata": {
        "id": "K6ROmrXXxrab"
      }
    },
    {
      "cell_type": "code",
      "source": [
        "train_path = '/content/Covid19-dataset/train'\n",
        "test_path = '/content/Covid19-dataset/test'"
      ],
      "metadata": {
        "execution": {
          "iopub.status.busy": "2022-11-19T21:14:05.040351Z",
          "iopub.execute_input": "2022-11-19T21:14:05.040815Z",
          "iopub.status.idle": "2022-11-19T21:14:05.044832Z",
          "shell.execute_reply.started": "2022-11-19T21:14:05.040777Z",
          "shell.execute_reply": "2022-11-19T21:14:05.043969Z"
        },
        "trusted": true,
        "id": "OjG5W-7Nxrab"
      },
      "execution_count": null,
      "outputs": []
    },
    {
      "cell_type": "code",
      "source": [
        "img_size = 224\n",
        "batch = 16"
      ],
      "metadata": {
        "execution": {
          "iopub.status.busy": "2022-11-19T21:14:10.078419Z",
          "iopub.execute_input": "2022-11-19T21:14:10.078754Z",
          "iopub.status.idle": "2022-11-19T21:14:10.082678Z",
          "shell.execute_reply.started": "2022-11-19T21:14:10.078720Z",
          "shell.execute_reply": "2022-11-19T21:14:10.082012Z"
        },
        "trusted": true,
        "id": "7A5QSHl_xrae"
      },
      "execution_count": null,
      "outputs": []
    },
    {
      "cell_type": "markdown",
      "source": [
        "# Image Loader"
      ],
      "metadata": {
        "id": "tIP6r3YPxrae"
      }
    },
    {
      "cell_type": "code",
      "source": [
        "from tensorflow.keras.preprocessing.image import ImageDataGenerator"
      ],
      "metadata": {
        "execution": {
          "iopub.status.busy": "2022-11-19T21:14:10.083757Z",
          "iopub.execute_input": "2022-11-19T21:14:10.084560Z",
          "iopub.status.idle": "2022-11-19T21:14:10.093006Z",
          "shell.execute_reply.started": "2022-11-19T21:14:10.084522Z",
          "shell.execute_reply": "2022-11-19T21:14:10.092226Z"
        },
        "trusted": true,
        "id": "ru6jLhDKxrae"
      },
      "execution_count": null,
      "outputs": []
    },
    {
      "cell_type": "code",
      "source": [
        "def generate_data(DIR):\n",
        "    datagen = ImageDataGenerator(rescale=1./255.)\n",
        "    \n",
        "    generator = datagen.flow_from_directory(\n",
        "        DIR,\n",
        "        batch_size=batch,\n",
        "        shuffle=True,\n",
        "        seed=42,\n",
        "        class_mode='categorical',\n",
        "        target_size=(img_size, img_size),\n",
        "        classes={'Normal': 0, 'Viral Pneumonia': 1,'Covid': 2}\n",
        "    )\n",
        "    return generator"
      ],
      "metadata": {
        "id": "ID6_CIp34mEg"
      },
      "execution_count": null,
      "outputs": []
    },
    {
      "cell_type": "code",
      "source": [
        "train_generator = generate_data(train_path)\n",
        "\n",
        "test_generator = generate_data(test_path)"
      ],
      "metadata": {
        "execution": {
          "iopub.status.busy": "2022-11-19T21:14:10.094494Z",
          "iopub.execute_input": "2022-11-19T21:14:10.094795Z",
          "iopub.status.idle": "2022-11-19T21:14:10.102525Z",
          "shell.execute_reply.started": "2022-11-19T21:14:10.094761Z",
          "shell.execute_reply": "2022-11-19T21:14:10.101692Z"
        },
        "trusted": true,
        "id": "j4QPh7Ogxrae",
        "colab": {
          "base_uri": "https://localhost:8080/"
        },
        "outputId": "bc97efa2-3f46-4921-8968-677d3d1c5080"
      },
      "execution_count": null,
      "outputs": [
        {
          "output_type": "stream",
          "name": "stdout",
          "text": [
            "Found 251 images belonging to 3 classes.\n",
            "Found 66 images belonging to 3 classes.\n"
          ]
        }
      ]
    },
    {
      "cell_type": "markdown",
      "source": [
        "# Modelling"
      ],
      "metadata": {
        "id": "EO0BFF5oxraf"
      }
    },
    {
      "cell_type": "code",
      "source": [
        "base_model = VGG16(weights='imagenet', include_top=False,\n",
        "                            input_shape=(img_size, img_size,3))\n",
        "\n",
        "# freeze extraction layers\n",
        "base_model.trainable = False\n",
        "\n",
        "# add custom top layers\n",
        "x = base_model.output\n",
        "x = GlobalAveragePooling2D()(x)\n",
        "x = Dense(512 , activation='relu')(x)\n",
        "predictions = Dense(3, activation='softmax')(x)\n",
        "model = Model(inputs=base_model.input, outputs=predictions)\n",
        "\n",
        "# confirm unfrozen layers\n",
        "for layer in model.layers:\n",
        "    if layer.trainable==True:\n",
        "        print(layer)"
      ],
      "metadata": {
        "execution": {
          "iopub.status.busy": "2022-11-19T21:14:10.332845Z",
          "iopub.execute_input": "2022-11-19T21:14:10.333089Z",
          "iopub.status.idle": "2022-11-19T21:14:15.434630Z",
          "shell.execute_reply.started": "2022-11-19T21:14:10.333057Z",
          "shell.execute_reply": "2022-11-19T21:14:15.433780Z"
        },
        "trusted": true,
        "id": "U_PBcB-xxraf",
        "colab": {
          "base_uri": "https://localhost:8080/"
        },
        "outputId": "7d6d4387-fe7c-4a0d-f6da-f788a81186cd"
      },
      "execution_count": null,
      "outputs": [
        {
          "output_type": "stream",
          "name": "stdout",
          "text": [
            "Downloading data from https://storage.googleapis.com/tensorflow/keras-applications/vgg16/vgg16_weights_tf_dim_ordering_tf_kernels_notop.h5\n",
            "58889256/58889256 [==============================] - 3s 0us/step\n",
            "<keras.layers.pooling.global_average_pooling2d.GlobalAveragePooling2D object at 0x7f7770747e90>\n",
            "<keras.layers.core.dense.Dense object at 0x7f7770752910>\n",
            "<keras.layers.core.dense.Dense object at 0x7f7770797cd0>\n"
          ]
        }
      ]
    },
    {
      "cell_type": "markdown",
      "source": [
        "## Save best model during training"
      ],
      "metadata": {
        "id": "BmVdvwBzxrag"
      }
    },
    {
      "cell_type": "code",
      "source": [
        "callbacks = [EarlyStopping(monitor='val_loss', patience=5, verbose=1),\n",
        "                ModelCheckpoint('model.hdf5',\n",
        "                                 save_best_only=True)]"
      ],
      "metadata": {
        "execution": {
          "iopub.status.busy": "2022-11-19T21:14:16.456553Z",
          "iopub.execute_input": "2022-11-19T21:14:16.457408Z",
          "iopub.status.idle": "2022-11-19T21:14:16.462389Z",
          "shell.execute_reply.started": "2022-11-19T21:14:16.457361Z",
          "shell.execute_reply": "2022-11-19T21:14:16.461802Z"
        },
        "trusted": true,
        "id": "d3h5C6IIxrag"
      },
      "execution_count": null,
      "outputs": []
    },
    {
      "cell_type": "code",
      "source": [
        "opt = Adam(learning_rate=0.001)\n",
        "model.compile(\n",
        "  loss='categorical_crossentropy',\n",
        "  optimizer=opt,\n",
        "  metrics=['accuracy']\n",
        ")"
      ],
      "metadata": {
        "execution": {
          "iopub.status.busy": "2022-11-19T21:14:16.465182Z",
          "iopub.execute_input": "2022-11-19T21:14:16.465696Z",
          "iopub.status.idle": "2022-11-19T21:14:16.498717Z",
          "shell.execute_reply.started": "2022-11-19T21:14:16.465660Z",
          "shell.execute_reply": "2022-11-19T21:14:16.497551Z"
        },
        "trusted": true,
        "id": "XUZysSETxrag"
      },
      "execution_count": null,
      "outputs": []
    },
    {
      "cell_type": "markdown",
      "source": [
        "# Training the Model"
      ],
      "metadata": {
        "id": "EqBnFD56xrah"
      }
    },
    {
      "cell_type": "code",
      "source": [
        "history = model.fit(train_generator,\n",
        "                    epochs = 100,\n",
        "                    validation_data = test_generator,\n",
        "                    verbose = True,\n",
        "                   callbacks=callbacks)"
      ],
      "metadata": {
        "execution": {
          "iopub.status.busy": "2022-11-19T21:14:16.500538Z",
          "iopub.execute_input": "2022-11-19T21:14:16.506309Z",
          "iopub.status.idle": "2022-11-19T21:21:46.638924Z",
          "shell.execute_reply.started": "2022-11-19T21:14:16.506259Z",
          "shell.execute_reply": "2022-11-19T21:21:46.638140Z"
        },
        "trusted": true,
        "id": "WR13a2HDxrah",
        "colab": {
          "base_uri": "https://localhost:8080/"
        },
        "outputId": "f5a7a62c-80c3-400d-d91b-4475b7691d19"
      },
      "execution_count": null,
      "outputs": [
        {
          "output_type": "stream",
          "name": "stdout",
          "text": [
            "Epoch 1/100\n",
            "16/16 [==============================] - 23s 838ms/step - loss: 0.9517 - accuracy: 0.5498 - val_loss: 0.7683 - val_accuracy: 0.6970\n",
            "Epoch 2/100\n",
            "16/16 [==============================] - 12s 720ms/step - loss: 0.6776 - accuracy: 0.6534 - val_loss: 0.6259 - val_accuracy: 0.8030\n",
            "Epoch 3/100\n",
            "16/16 [==============================] - 12s 735ms/step - loss: 0.5492 - accuracy: 0.8287 - val_loss: 0.4926 - val_accuracy: 0.8939\n",
            "Epoch 4/100\n",
            "16/16 [==============================] - 11s 729ms/step - loss: 0.4507 - accuracy: 0.8725 - val_loss: 0.4456 - val_accuracy: 0.8333\n",
            "Epoch 5/100\n",
            "16/16 [==============================] - 12s 753ms/step - loss: 0.3937 - accuracy: 0.8765 - val_loss: 0.4083 - val_accuracy: 0.8182\n",
            "Epoch 6/100\n",
            "16/16 [==============================] - 11s 714ms/step - loss: 0.3375 - accuracy: 0.8924 - val_loss: 0.3595 - val_accuracy: 0.8333\n",
            "Epoch 7/100\n",
            "16/16 [==============================] - 11s 718ms/step - loss: 0.2937 - accuracy: 0.9163 - val_loss: 0.3214 - val_accuracy: 0.8939\n",
            "Epoch 8/100\n",
            "16/16 [==============================] - 11s 718ms/step - loss: 0.2550 - accuracy: 0.9283 - val_loss: 0.3006 - val_accuracy: 0.8939\n",
            "Epoch 9/100\n",
            "16/16 [==============================] - 11s 695ms/step - loss: 0.2426 - accuracy: 0.9442 - val_loss: 0.3100 - val_accuracy: 0.8485\n",
            "Epoch 10/100\n",
            "16/16 [==============================] - 12s 760ms/step - loss: 0.2360 - accuracy: 0.9243 - val_loss: 0.2846 - val_accuracy: 0.8485\n",
            "Epoch 11/100\n",
            "16/16 [==============================] - 11s 709ms/step - loss: 0.1959 - accuracy: 0.9402 - val_loss: 0.2582 - val_accuracy: 0.8788\n",
            "Epoch 12/100\n",
            "16/16 [==============================] - 12s 749ms/step - loss: 0.1771 - accuracy: 0.9522 - val_loss: 0.2284 - val_accuracy: 0.9394\n",
            "Epoch 13/100\n",
            "16/16 [==============================] - 12s 710ms/step - loss: 0.1596 - accuracy: 0.9522 - val_loss: 0.2282 - val_accuracy: 0.8939\n",
            "Epoch 14/100\n",
            "16/16 [==============================] - 12s 754ms/step - loss: 0.1655 - accuracy: 0.9522 - val_loss: 0.2214 - val_accuracy: 0.8939\n",
            "Epoch 15/100\n",
            "16/16 [==============================] - 11s 713ms/step - loss: 0.1434 - accuracy: 0.9641 - val_loss: 0.2183 - val_accuracy: 0.8939\n",
            "Epoch 16/100\n",
            "16/16 [==============================] - 11s 699ms/step - loss: 0.1259 - accuracy: 0.9641 - val_loss: 0.1973 - val_accuracy: 0.9394\n",
            "Epoch 17/100\n",
            "16/16 [==============================] - 12s 770ms/step - loss: 0.1213 - accuracy: 0.9681 - val_loss: 0.2228 - val_accuracy: 0.8788\n",
            "Epoch 18/100\n",
            "16/16 [==============================] - 12s 763ms/step - loss: 0.1291 - accuracy: 0.9641 - val_loss: 0.4411 - val_accuracy: 0.7879\n",
            "Epoch 19/100\n",
            "16/16 [==============================] - 11s 690ms/step - loss: 0.1444 - accuracy: 0.9482 - val_loss: 0.3119 - val_accuracy: 0.8333\n",
            "Epoch 20/100\n",
            "16/16 [==============================] - 11s 705ms/step - loss: 0.1228 - accuracy: 0.9641 - val_loss: 0.2072 - val_accuracy: 0.8939\n",
            "Epoch 21/100\n",
            "16/16 [==============================] - 11s 666ms/step - loss: 0.1229 - accuracy: 0.9562 - val_loss: 0.1798 - val_accuracy: 0.9091\n",
            "Epoch 22/100\n",
            "16/16 [==============================] - 11s 715ms/step - loss: 0.1248 - accuracy: 0.9641 - val_loss: 0.1672 - val_accuracy: 0.9242\n",
            "Epoch 23/100\n",
            "16/16 [==============================] - 12s 763ms/step - loss: 0.1136 - accuracy: 0.9721 - val_loss: 0.1666 - val_accuracy: 0.9394\n",
            "Epoch 24/100\n",
            "16/16 [==============================] - 11s 692ms/step - loss: 0.0955 - accuracy: 0.9562 - val_loss: 0.3587 - val_accuracy: 0.8333\n",
            "Epoch 25/100\n",
            "16/16 [==============================] - 11s 684ms/step - loss: 0.1080 - accuracy: 0.9681 - val_loss: 0.2203 - val_accuracy: 0.8636\n",
            "Epoch 26/100\n",
            "16/16 [==============================] - 11s 707ms/step - loss: 0.1014 - accuracy: 0.9602 - val_loss: 0.1612 - val_accuracy: 0.9242\n",
            "Epoch 27/100\n",
            "16/16 [==============================] - 12s 750ms/step - loss: 0.0931 - accuracy: 0.9801 - val_loss: 0.1745 - val_accuracy: 0.9091\n",
            "Epoch 28/100\n",
            "16/16 [==============================] - 11s 699ms/step - loss: 0.0882 - accuracy: 0.9681 - val_loss: 0.1367 - val_accuracy: 0.9848\n",
            "Epoch 29/100\n",
            "16/16 [==============================] - 11s 680ms/step - loss: 0.0651 - accuracy: 0.9841 - val_loss: 0.1960 - val_accuracy: 0.9091\n",
            "Epoch 30/100\n",
            "16/16 [==============================] - 11s 678ms/step - loss: 0.0586 - accuracy: 0.9801 - val_loss: 0.1292 - val_accuracy: 0.9697\n",
            "Epoch 31/100\n",
            "16/16 [==============================] - 12s 728ms/step - loss: 0.0694 - accuracy: 0.9841 - val_loss: 0.1333 - val_accuracy: 0.9545\n",
            "Epoch 32/100\n",
            "16/16 [==============================] - 12s 760ms/step - loss: 0.0614 - accuracy: 0.9841 - val_loss: 0.1243 - val_accuracy: 0.9697\n",
            "Epoch 33/100\n",
            "16/16 [==============================] - 11s 691ms/step - loss: 0.0541 - accuracy: 0.9841 - val_loss: 0.2517 - val_accuracy: 0.8636\n",
            "Epoch 34/100\n",
            "16/16 [==============================] - 11s 684ms/step - loss: 0.0629 - accuracy: 0.9801 - val_loss: 0.1517 - val_accuracy: 0.9394\n",
            "Epoch 35/100\n",
            "16/16 [==============================] - 12s 754ms/step - loss: 0.0507 - accuracy: 0.9880 - val_loss: 0.1212 - val_accuracy: 0.9697\n",
            "Epoch 36/100\n",
            "16/16 [==============================] - 11s 734ms/step - loss: 0.0453 - accuracy: 0.9880 - val_loss: 0.2016 - val_accuracy: 0.8939\n",
            "Epoch 37/100\n",
            "16/16 [==============================] - 11s 687ms/step - loss: 0.0470 - accuracy: 0.9880 - val_loss: 0.1587 - val_accuracy: 0.9394\n",
            "Epoch 38/100\n",
            "16/16 [==============================] - 11s 706ms/step - loss: 0.0509 - accuracy: 0.9841 - val_loss: 0.1203 - val_accuracy: 0.9697\n",
            "Epoch 39/100\n",
            "16/16 [==============================] - 11s 670ms/step - loss: 0.0394 - accuracy: 0.9880 - val_loss: 0.1689 - val_accuracy: 0.9242\n",
            "Epoch 40/100\n",
            "16/16 [==============================] - 12s 739ms/step - loss: 0.0384 - accuracy: 0.9920 - val_loss: 0.1192 - val_accuracy: 0.9545\n",
            "Epoch 41/100\n",
            "16/16 [==============================] - 11s 705ms/step - loss: 0.0523 - accuracy: 0.9841 - val_loss: 0.1151 - val_accuracy: 0.9545\n",
            "Epoch 42/100\n",
            "16/16 [==============================] - 11s 687ms/step - loss: 0.0548 - accuracy: 0.9920 - val_loss: 0.1880 - val_accuracy: 0.9091\n",
            "Epoch 43/100\n",
            "16/16 [==============================] - 11s 700ms/step - loss: 0.0344 - accuracy: 0.9920 - val_loss: 0.1576 - val_accuracy: 0.9394\n",
            "Epoch 44/100\n",
            "16/16 [==============================] - 11s 699ms/step - loss: 0.0317 - accuracy: 0.9960 - val_loss: 0.1177 - val_accuracy: 0.9697\n",
            "Epoch 45/100\n",
            "16/16 [==============================] - 12s 731ms/step - loss: 0.0336 - accuracy: 0.9920 - val_loss: 0.1362 - val_accuracy: 0.9545\n",
            "Epoch 46/100\n",
            "16/16 [==============================] - 11s 701ms/step - loss: 0.0339 - accuracy: 0.9960 - val_loss: 0.1098 - val_accuracy: 0.9697\n",
            "Epoch 47/100\n",
            "16/16 [==============================] - 11s 685ms/step - loss: 0.0347 - accuracy: 0.9880 - val_loss: 0.1638 - val_accuracy: 0.9394\n",
            "Epoch 48/100\n",
            "16/16 [==============================] - 11s 709ms/step - loss: 0.0260 - accuracy: 1.0000 - val_loss: 0.1144 - val_accuracy: 0.9848\n",
            "Epoch 49/100\n",
            "16/16 [==============================] - 13s 780ms/step - loss: 0.0312 - accuracy: 0.9920 - val_loss: 0.1111 - val_accuracy: 0.9697\n",
            "Epoch 50/100\n",
            "16/16 [==============================] - 11s 699ms/step - loss: 0.0282 - accuracy: 0.9880 - val_loss: 0.1671 - val_accuracy: 0.9242\n",
            "Epoch 51/100\n",
            "16/16 [==============================] - 11s 672ms/step - loss: 0.0289 - accuracy: 0.9920 - val_loss: 0.1236 - val_accuracy: 0.9697\n",
            "Epoch 51: early stopping\n"
          ]
        }
      ]
    },
    {
      "cell_type": "markdown",
      "source": [
        "# Evaluation"
      ],
      "metadata": {
        "id": "69o9jZOExrah"
      }
    },
    {
      "cell_type": "code",
      "source": [
        "from tensorflow.keras.models import load_model"
      ],
      "metadata": {
        "execution": {
          "iopub.status.busy": "2022-11-19T21:21:46.640578Z",
          "iopub.execute_input": "2022-11-19T21:21:46.640885Z",
          "iopub.status.idle": "2022-11-19T21:21:46.647836Z",
          "shell.execute_reply.started": "2022-11-19T21:21:46.640845Z",
          "shell.execute_reply": "2022-11-19T21:21:46.647035Z"
        },
        "trusted": true,
        "id": "A_evITN6xrah"
      },
      "execution_count": null,
      "outputs": []
    },
    {
      "cell_type": "code",
      "source": [
        "import pandas as pd\n",
        "\n",
        "# convert the history.history dict to a pandas DataFrame:     \n",
        "hist_df = pd.DataFrame(history.history) \n",
        "\n",
        "# or save to csv: \n",
        "hist_csv_file = 'history.csv'\n",
        "with open(hist_csv_file, mode='w') as f:\n",
        "    hist_df.to_csv(f)"
      ],
      "metadata": {
        "id": "25608KkWB1K7"
      },
      "execution_count": null,
      "outputs": []
    },
    {
      "cell_type": "markdown",
      "source": [
        "### Loading best model"
      ],
      "metadata": {
        "id": "4tNBBRMFxrah"
      }
    },
    {
      "cell_type": "code",
      "source": [
        "model = load_model('./model.hdf5')"
      ],
      "metadata": {
        "execution": {
          "iopub.status.busy": "2022-11-19T21:21:46.649018Z",
          "iopub.execute_input": "2022-11-19T21:21:46.649424Z",
          "iopub.status.idle": "2022-11-19T21:21:46.943167Z",
          "shell.execute_reply.started": "2022-11-19T21:21:46.649384Z",
          "shell.execute_reply": "2022-11-19T21:21:46.942354Z"
        },
        "trusted": true,
        "id": "9uwIimXGxrah"
      },
      "execution_count": null,
      "outputs": []
    },
    {
      "cell_type": "code",
      "source": [
        "def learning_curve(model_fit, key='accuracy', ylim=(0, 1.01)):\n",
        "    plt.figure(figsize=(12,6))\n",
        "    plt.plot(model_fit.history[key])\n",
        "    plt.plot(model_fit.history['val_' + key])\n",
        "    plt.title('Learning Curve')\n",
        "    plt.ylabel(key.title())\n",
        "    plt.xlabel('Epoch')\n",
        "    plt.ylim(ylim)\n",
        "    plt.legend(['train', 'val'], loc='best')\n",
        "    plt.show()"
      ],
      "metadata": {
        "execution": {
          "iopub.status.busy": "2022-11-19T21:21:46.944489Z",
          "iopub.execute_input": "2022-11-19T21:21:46.944762Z",
          "iopub.status.idle": "2022-11-19T21:21:46.950906Z",
          "shell.execute_reply.started": "2022-11-19T21:21:46.944720Z",
          "shell.execute_reply": "2022-11-19T21:21:46.950199Z"
        },
        "trusted": true,
        "id": "zLzKB5KIxrai"
      },
      "execution_count": null,
      "outputs": []
    },
    {
      "cell_type": "code",
      "source": [
        "learning_curve(history,'loss', ylim=(0,1))\n",
        "learning_curve(history, 'accuracy', ylim=(0,1))"
      ],
      "metadata": {
        "execution": {
          "iopub.status.busy": "2022-11-19T21:21:46.952427Z",
          "iopub.execute_input": "2022-11-19T21:21:46.952952Z",
          "iopub.status.idle": "2022-11-19T21:21:47.387000Z",
          "shell.execute_reply.started": "2022-11-19T21:21:46.952914Z",
          "shell.execute_reply": "2022-11-19T21:21:47.386303Z"
        },
        "trusted": true,
        "id": "Z0-SV05rxrai",
        "colab": {
          "base_uri": "https://localhost:8080/",
          "height": 791
        },
        "outputId": "f6e19d01-2b9a-4e4f-eddf-83ddd3b6c086"
      },
      "execution_count": null,
      "outputs": [
        {
          "output_type": "display_data",
          "data": {
            "text/plain": [
              "<Figure size 864x432 with 1 Axes>"
            ],
            "image/png": "[encoded data removed]"
          },
          "metadata": {
            "needs_background": "light"
          }
        },
        {
          "output_type": "display_data",
          "data": {
            "text/plain": [
              "<Figure size 864x432 with 1 Axes>"
            ],
            "image/png": "[encoded data removed]"
          },
          "metadata": {
            "needs_background": "light"
          }
        }
      ]
    },
    {
      "cell_type": "code",
      "source": [
        "test_loss, test_acc = model.evaluate(test_generator, steps=len(test_generator), verbose=1)\n",
        "print('Loss: %.3f' % (test_loss * 100.0))\n",
        "print('Accuracy: %.3f' % (test_acc * 100.0)) "
      ],
      "metadata": {
        "execution": {
          "iopub.status.busy": "2022-11-19T21:21:47.388183Z",
          "iopub.execute_input": "2022-11-19T21:21:47.388774Z",
          "iopub.status.idle": "2022-11-19T21:21:49.902781Z",
          "shell.execute_reply.started": "2022-11-19T21:21:47.388732Z",
          "shell.execute_reply": "2022-11-19T21:21:49.902017Z"
        },
        "trusted": true,
        "id": "DbETeiNVxrai",
        "colab": {
          "base_uri": "https://localhost:8080/"
        },
        "outputId": "9b9d993c-f835-4a07-959b-0ee9b2eaad07"
      },
      "execution_count": null,
      "outputs": [
        {
          "output_type": "stream",
          "name": "stdout",
          "text": [
            "5/5 [==============================] - 2s 267ms/step - loss: 0.1098 - accuracy: 0.9697\n",
            "Loss: 10.980\n",
            "Accuracy: 96.970\n"
          ]
        }
      ]
    }
  ]
}
