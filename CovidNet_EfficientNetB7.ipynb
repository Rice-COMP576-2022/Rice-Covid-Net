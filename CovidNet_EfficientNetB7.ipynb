{
  "cells": [
    {
      "cell_type": "code",
      "execution_count": null,
      "metadata": {
        "execution": {
          "iopub.execute_input": "2022-11-19T21:13:58.950402Z",
          "iopub.status.busy": "2022-11-19T21:13:58.948547Z",
          "iopub.status.idle": "2022-11-19T21:14:05.013396Z",
          "shell.execute_reply": "2022-11-19T21:14:05.012568Z",
          "shell.execute_reply.started": "2022-11-19T21:13:58.950315Z"
        },
        "id": "ezs0rh7exraZ"
      },
      "outputs": [],
      "source": [
        "import pandas as pd\n",
        "import numpy as np\n",
        "import tensorflow as tf\n",
        "import matplotlib.pyplot as plt\n",
        "import matplotlib.image as mpimg\n",
        "import seaborn as sns\n",
        "import pathlib\n",
        "import random\n",
        "import os\n",
        "\n",
        "import tensorflow.keras as keras\n",
        "from tensorflow.keras.preprocessing import image_dataset_from_directory\n",
        "from tensorflow.keras.layers.experimental import preprocessing\n",
        "from tensorflow.keras.applications.vgg16 import VGG16\n",
        "from tensorflow.keras.applications.resnet50 import ResNet50\n",
        "from tensorflow.keras.applications.resnet import ResNet101\n",
        "from tensorflow.keras.applications.efficientnet import EfficientNetB0\n",
        "from tensorflow.keras.applications.efficientnet import EfficientNetB7\n",
        "from tensorflow.keras.applications.densenet import DenseNet121\n",
        "from tensorflow.keras.applications.inception_v3 import InceptionV3\n",
        "from tensorflow.keras.optimizers import Adam\n",
        "from tensorflow.keras.layers import Input\n",
        "from sklearn.metrics import accuracy_score, precision_score, recall_score, f1_score, cohen_kappa_score, roc_auc_score, confusion_matrix\n",
        "from sklearn.metrics import classification_report\n",
        "from keras.layers import Dense, Dropout, Activation, Flatten, BatchNormalization, Conv2D, MaxPool2D, MaxPooling2D\n",
        "from keras.applications import mobilenet\n",
        "from tensorflow.keras.callbacks import ReduceLROnPlateau, ModelCheckpoint, EarlyStopping\n",
        "from tensorflow.keras import Model\n",
        "from tensorflow.keras.layers import Dense, GlobalAveragePooling2D\n",
        "from tensorflow.keras import datasets, layers, models\n",
        "\n",
        "\n",
        "#Suppressing Warnings\n",
        "os.environ['TF_CPP_MIN_LOG_LEVEL'] = '3'"
      ]
    },
    {
      "cell_type": "code",
      "execution_count": null,
      "metadata": {
        "execution": {
          "iopub.execute_input": "2022-11-19T21:14:05.017293Z",
          "iopub.status.busy": "2022-11-19T21:14:05.016475Z",
          "iopub.status.idle": "2022-11-19T21:14:05.039031Z",
          "shell.execute_reply": "2022-11-19T21:14:05.038245Z",
          "shell.execute_reply.started": "2022-11-19T21:14:05.017251Z"
        },
        "id": "pTIMSWToxrab"
      },
      "outputs": [],
      "source": [
        "tf.keras.backend.clear_session()"
      ]
    },
    {
      "cell_type": "markdown",
      "metadata": {
        "id": "K6ROmrXXxrab"
      },
      "source": [
        "# Preprocessing"
      ]
    },
    {
      "cell_type": "code",
      "execution_count": null,
      "metadata": {
        "execution": {
          "iopub.execute_input": "2022-11-19T21:14:05.040815Z",
          "iopub.status.busy": "2022-11-19T21:14:05.040351Z",
          "iopub.status.idle": "2022-11-19T21:14:05.044832Z",
          "shell.execute_reply": "2022-11-19T21:14:05.043969Z",
          "shell.execute_reply.started": "2022-11-19T21:14:05.040777Z"
        },
        "id": "OjG5W-7Nxrab"
      },
      "outputs": [],
      "source": [
        "train_path = './Covid19-dataset/train'\n",
        "test_path = './Covid19-dataset/test'"
      ]
    },
    {
      "cell_type": "code",
      "execution_count": null,
      "metadata": {
        "execution": {
          "iopub.execute_input": "2022-11-19T21:14:10.078754Z",
          "iopub.status.busy": "2022-11-19T21:14:10.078419Z",
          "iopub.status.idle": "2022-11-19T21:14:10.082678Z",
          "shell.execute_reply": "2022-11-19T21:14:10.082012Z",
          "shell.execute_reply.started": "2022-11-19T21:14:10.078720Z"
        },
        "id": "7A5QSHl_xrae"
      },
      "outputs": [],
      "source": [
        "img_size = 224\n",
        "batch = 16"
      ]
    },
    {
      "cell_type": "markdown",
      "metadata": {
        "id": "tIP6r3YPxrae"
      },
      "source": [
        "# Image Loader"
      ]
    },
    {
      "cell_type": "code",
      "execution_count": null,
      "metadata": {
        "execution": {
          "iopub.execute_input": "2022-11-19T21:14:10.084560Z",
          "iopub.status.busy": "2022-11-19T21:14:10.083757Z",
          "iopub.status.idle": "2022-11-19T21:14:10.093006Z",
          "shell.execute_reply": "2022-11-19T21:14:10.092226Z",
          "shell.execute_reply.started": "2022-11-19T21:14:10.084522Z"
        },
        "id": "ru6jLhDKxrae"
      },
      "outputs": [],
      "source": [
        "from tensorflow.keras.preprocessing.image import ImageDataGenerator"
      ]
    },
    {
      "cell_type": "code",
      "execution_count": null,
      "metadata": {
        "id": "ID6_CIp34mEg"
      },
      "outputs": [],
      "source": [
        "def generate_data(DIR):\n",
        "    datagen = ImageDataGenerator(rescale=1./255.)\n",
        "    \n",
        "    generator = datagen.flow_from_directory(\n",
        "        DIR,\n",
        "        batch_size=batch,\n",
        "        shuffle=True,\n",
        "        seed=42,\n",
        "        class_mode='categorical',\n",
        "        target_size=(img_size, img_size),\n",
        "        classes={'Normal': 0, 'Viral Pneumonia': 1,'Covid': 2}\n",
        "    )\n",
        "    return generator"
      ]
    },
    {
      "cell_type": "code",
      "execution_count": null,
      "metadata": {
        "colab": {
          "base_uri": "https://localhost:8080/"
        },
        "execution": {
          "iopub.execute_input": "2022-11-19T21:14:10.094795Z",
          "iopub.status.busy": "2022-11-19T21:14:10.094494Z",
          "iopub.status.idle": "2022-11-19T21:14:10.102525Z",
          "shell.execute_reply": "2022-11-19T21:14:10.101692Z",
          "shell.execute_reply.started": "2022-11-19T21:14:10.094761Z"
        },
        "id": "j4QPh7Ogxrae",
        "outputId": "542cb9e1-1382-4e9a-a425-3f472b1c3235"
      },
      "outputs": [
        {
          "name": "stdout",
          "output_type": "stream",
          "text": [
            "Found 251 images belonging to 3 classes.\n",
            "Found 66 images belonging to 3 classes.\n"
          ]
        }
      ],
      "source": [
        "train_generator = generate_data(train_path)\n",
        "\n",
        "test_generator = generate_data(test_path)"
      ]
    },
    {
      "cell_type": "markdown",
      "metadata": {
        "id": "EO0BFF5oxraf"
      },
      "source": [
        "# Modelling"
      ]
    },
    {
      "cell_type": "code",
      "execution_count": null,
      "metadata": {
        "colab": {
          "base_uri": "https://localhost:8080/"
        },
        "execution": {
          "iopub.execute_input": "2022-11-19T21:14:10.333089Z",
          "iopub.status.busy": "2022-11-19T21:14:10.332845Z",
          "iopub.status.idle": "2022-11-19T21:14:15.434630Z",
          "shell.execute_reply": "2022-11-19T21:14:15.433780Z",
          "shell.execute_reply.started": "2022-11-19T21:14:10.333057Z"
        },
        "id": "U_PBcB-xxraf",
        "outputId": "ea576563-eece-436b-dc71-a67587a8aa3e"
      },
      "outputs": [
        {
          "name": "stdout",
          "output_type": "stream",
          "text": [
            "Downloading data from https://storage.googleapis.com/keras-applications/efficientnetb7_notop.h5\n",
            "258076736/258076736 [==============================] - 12s 0us/step\n",
            "<keras.layers.pooling.global_average_pooling2d.GlobalAveragePooling2D object at 0x000001D8EB350FA0>\n",
            "<keras.layers.core.dense.Dense object at 0x000001D8F09CACD0>\n",
            "<keras.layers.core.dense.Dense object at 0x000001D8FB44CFD0>\n"
          ]
        }
      ],
      "source": [
        "base_model = EfficientNetB7(weights='imagenet', include_top=False,\n",
        "                            input_shape=(img_size, img_size,3))\n",
        "\n",
        "# freeze extraction layers\n",
        "base_model.trainable = False\n",
        "\n",
        "# add custom top layers\n",
        "x = base_model.output\n",
        "x = GlobalAveragePooling2D()(x)\n",
        "x = Dense(512 , activation='relu')(x)\n",
        "predictions = Dense(3, activation='softmax')(x)\n",
        "model = Model(inputs=base_model.input, outputs=predictions)\n",
        "\n",
        "# confirm unfrozen layers\n",
        "for layer in model.layers:\n",
        "    if layer.trainable==True:\n",
        "        print(layer)"
      ]
    },
    {
      "cell_type": "markdown",
      "metadata": {
        "id": "BmVdvwBzxrag"
      },
      "source": [
        "## Save our best model during training"
      ]
    },
    {
      "cell_type": "code",
      "execution_count": null,
      "metadata": {
        "execution": {
          "iopub.execute_input": "2022-11-19T21:14:16.457408Z",
          "iopub.status.busy": "2022-11-19T21:14:16.456553Z",
          "iopub.status.idle": "2022-11-19T21:14:16.462389Z",
          "shell.execute_reply": "2022-11-19T21:14:16.461802Z",
          "shell.execute_reply.started": "2022-11-19T21:14:16.457361Z"
        },
        "id": "d3h5C6IIxrag"
      },
      "outputs": [],
      "source": [
        "callbacks = [EarlyStopping(monitor='val_loss', patience=5, verbose=1),\n",
        "                ModelCheckpoint('model.hdf5',\n",
        "                                 save_best_only=True)]"
      ]
    },
    {
      "cell_type": "code",
      "execution_count": null,
      "metadata": {
        "execution": {
          "iopub.execute_input": "2022-11-19T21:14:16.465696Z",
          "iopub.status.busy": "2022-11-19T21:14:16.465182Z",
          "iopub.status.idle": "2022-11-19T21:14:16.498717Z",
          "shell.execute_reply": "2022-11-19T21:14:16.497551Z",
          "shell.execute_reply.started": "2022-11-19T21:14:16.465660Z"
        },
        "id": "XUZysSETxrag"
      },
      "outputs": [],
      "source": [
        "opt = Adam(learning_rate=0.001)\n",
        "model.compile(\n",
        "  loss='categorical_crossentropy',\n",
        "  optimizer=opt,\n",
        "  metrics=['accuracy']\n",
        ")"
      ]
    },
    {
      "cell_type": "markdown",
      "metadata": {
        "id": "EqBnFD56xrah"
      },
      "source": [
        "# Training the Model"
      ]
    },
    {
      "cell_type": "code",
      "execution_count": null,
      "metadata": {
        "colab": {
          "base_uri": "https://localhost:8080/"
        },
        "execution": {
          "iopub.execute_input": "2022-11-19T21:14:16.506309Z",
          "iopub.status.busy": "2022-11-19T21:14:16.500538Z",
          "iopub.status.idle": "2022-11-19T21:21:46.638924Z",
          "shell.execute_reply": "2022-11-19T21:21:46.638140Z",
          "shell.execute_reply.started": "2022-11-19T21:14:16.506259Z"
        },
        "id": "WR13a2HDxrah",
        "outputId": "0edaf6e7-3e66-4af9-ee29-224207437b69"
      },
      "outputs": [
        {
          "name": "stdout",
          "output_type": "stream",
          "text": [
            "Epoch 1/100\n",
            "16/16 [==============================] - 48s 2s/step - loss: 1.3164 - accuracy: 0.3546 - val_loss: 1.1608 - val_accuracy: 0.3939\n",
            "Epoch 2/100\n",
            "16/16 [==============================] - 26s 2s/step - loss: 1.1148 - accuracy: 0.3825 - val_loss: 1.0911 - val_accuracy: 0.4242\n",
            "Epoch 3/100\n",
            "16/16 [==============================] - 25s 2s/step - loss: 1.1121 - accuracy: 0.4263 - val_loss: 1.1195 - val_accuracy: 0.3030\n",
            "Epoch 4/100\n",
            "16/16 [==============================] - 25s 2s/step - loss: 1.1026 - accuracy: 0.4064 - val_loss: 1.1648 - val_accuracy: 0.3939\n",
            "Epoch 5/100\n",
            "16/16 [==============================] - 25s 2s/step - loss: 1.1156 - accuracy: 0.4223 - val_loss: 1.1755 - val_accuracy: 0.3939\n",
            "Epoch 6/100\n",
            "16/16 [==============================] - 26s 2s/step - loss: 1.1185 - accuracy: 0.4183 - val_loss: 1.0769 - val_accuracy: 0.3939\n",
            "Epoch 7/100\n",
            "16/16 [==============================] - 25s 2s/step - loss: 1.1024 - accuracy: 0.3984 - val_loss: 1.1083 - val_accuracy: 0.6818\n",
            "Epoch 8/100\n",
            "16/16 [==============================] - 25s 2s/step - loss: 1.0895 - accuracy: 0.3785 - val_loss: 1.1007 - val_accuracy: 0.4242\n",
            "Epoch 9/100\n",
            "16/16 [==============================] - 25s 2s/step - loss: 1.0773 - accuracy: 0.4462 - val_loss: 1.0865 - val_accuracy: 0.3939\n",
            "Epoch 10/100\n",
            "16/16 [==============================] - 26s 2s/step - loss: 1.0797 - accuracy: 0.4382 - val_loss: 1.0765 - val_accuracy: 0.3939\n",
            "Epoch 11/100\n",
            "16/16 [==============================] - 26s 2s/step - loss: 1.0598 - accuracy: 0.4422 - val_loss: 1.0688 - val_accuracy: 0.3939\n",
            "Epoch 12/100\n",
            "16/16 [==============================] - 25s 2s/step - loss: 1.0608 - accuracy: 0.4582 - val_loss: 1.0728 - val_accuracy: 0.4697\n",
            "Epoch 13/100\n",
            "16/16 [==============================] - 25s 2s/step - loss: 1.0697 - accuracy: 0.4582 - val_loss: 1.1009 - val_accuracy: 0.3939\n",
            "Epoch 14/100\n",
            "16/16 [==============================] - 25s 2s/step - loss: 1.0732 - accuracy: 0.4303 - val_loss: 1.0880 - val_accuracy: 0.3939\n",
            "Epoch 15/100\n",
            "16/16 [==============================] - 25s 2s/step - loss: 1.0902 - accuracy: 0.4462 - val_loss: 1.0855 - val_accuracy: 0.3333\n",
            "Epoch 16/100\n",
            "16/16 [==============================] - 25s 2s/step - loss: 1.0559 - accuracy: 0.4303 - val_loss: 1.0815 - val_accuracy: 0.3939\n",
            "Epoch 16: early stopping\n"
          ]
        }
      ],
      "source": [
        "history = model.fit(train_generator,\n",
        "                    epochs = 100,\n",
        "                    validation_data = test_generator,\n",
        "                    verbose = True,\n",
        "                   callbacks=callbacks)"
      ]
    },
    {
      "cell_type": "markdown",
      "metadata": {
        "id": "69o9jZOExrah"
      },
      "source": [
        "# Evaluation"
      ]
    },
    {
      "cell_type": "code",
      "execution_count": null,
      "metadata": {
        "execution": {
          "iopub.execute_input": "2022-11-19T21:21:46.640885Z",
          "iopub.status.busy": "2022-11-19T21:21:46.640578Z",
          "iopub.status.idle": "2022-11-19T21:21:46.647836Z",
          "shell.execute_reply": "2022-11-19T21:21:46.647035Z",
          "shell.execute_reply.started": "2022-11-19T21:21:46.640845Z"
        },
        "id": "A_evITN6xrah"
      },
      "outputs": [],
      "source": [
        "from tensorflow.keras.models import load_model"
      ]
    },
    {
      "cell_type": "code",
      "execution_count": null,
      "metadata": {
        "id": "25608KkWB1K7"
      },
      "outputs": [],
      "source": [
        "import pandas as pd\n",
        "\n",
        "# convert the history.history dict to a pandas DataFrame:     \n",
        "hist_df = pd.DataFrame(history.history) \n",
        "\n",
        "# or save to csv: \n",
        "hist_csv_file = 'history.csv'\n",
        "with open(hist_csv_file, mode='w') as f:\n",
        "    hist_df.to_csv(f)"
      ]
    },
    {
      "cell_type": "markdown",
      "metadata": {
        "id": "4tNBBRMFxrah"
      },
      "source": [
        "### Loading best model"
      ]
    },
    {
      "cell_type": "code",
      "execution_count": null,
      "metadata": {
        "execution": {
          "iopub.execute_input": "2022-11-19T21:21:46.649424Z",
          "iopub.status.busy": "2022-11-19T21:21:46.649018Z",
          "iopub.status.idle": "2022-11-19T21:21:46.943167Z",
          "shell.execute_reply": "2022-11-19T21:21:46.942354Z",
          "shell.execute_reply.started": "2022-11-19T21:21:46.649384Z"
        },
        "id": "9uwIimXGxrah"
      },
      "outputs": [],
      "source": [
        "model = load_model('./model.hdf5')"
      ]
    },
    {
      "cell_type": "code",
      "execution_count": null,
      "metadata": {
        "execution": {
          "iopub.execute_input": "2022-11-19T21:21:46.944762Z",
          "iopub.status.busy": "2022-11-19T21:21:46.944489Z",
          "iopub.status.idle": "2022-11-19T21:21:46.950906Z",
          "shell.execute_reply": "2022-11-19T21:21:46.950199Z",
          "shell.execute_reply.started": "2022-11-19T21:21:46.944720Z"
        },
        "id": "zLzKB5KIxrai"
      },
      "outputs": [],
      "source": [
        "def learning_curve(model_fit, key='accuracy', ylim=(0, 1.01)):\n",
        "    plt.figure(figsize=(12,6))\n",
        "    plt.plot(model_fit.history[key])\n",
        "    plt.plot(model_fit.history['val_' + key])\n",
        "    plt.title('Learning Curve')\n",
        "    plt.ylabel(key.title())\n",
        "    plt.xlabel('Epoch')\n",
        "    plt.ylim(ylim)\n",
        "    plt.legend(['train', 'val'], loc='best')\n",
        "    plt.show()"
      ]
    },
    {
      "cell_type": "code",
      "execution_count": null,
      "metadata": {
        "colab": {
          "base_uri": "https://localhost:8080/",
          "height": 791
        },
        "execution": {
          "iopub.execute_input": "2022-11-19T21:21:46.952952Z",
          "iopub.status.busy": "2022-11-19T21:21:46.952427Z",
          "iopub.status.idle": "2022-11-19T21:21:47.387000Z",
          "shell.execute_reply": "2022-11-19T21:21:47.386303Z",
          "shell.execute_reply.started": "2022-11-19T21:21:46.952914Z"
        },
        "id": "Z0-SV05rxrai",
        "outputId": "1354b05b-aa1e-4aeb-ead7-3b4623938265"
      },
      "outputs": [
        {
          "data": {
            "image/png": "[encoded data removed]",
            "text/plain": [
              "<Figure size 1200x600 with 1 Axes>"
            ]
          },
          "metadata": {},
          "output_type": "display_data"
        },
        {
          "data": {
            "image/png": "[encoded data removed]",
            "text/plain": [
              "<Figure size 1200x600 with 1 Axes>"
            ]
          },
          "metadata": {},
          "output_type": "display_data"
        }
      ],
      "source": [
        "learning_curve(history,'loss', ylim=(0,1))\n",
        "learning_curve(history, 'accuracy', ylim=(0,1))"
      ]
    },
    {
      "cell_type": "code",
      "execution_count": null,
      "metadata": {
        "colab": {
          "base_uri": "https://localhost:8080/"
        },
        "execution": {
          "iopub.execute_input": "2022-11-19T21:21:47.388774Z",
          "iopub.status.busy": "2022-11-19T21:21:47.388183Z",
          "iopub.status.idle": "2022-11-19T21:21:49.902781Z",
          "shell.execute_reply": "2022-11-19T21:21:49.902017Z",
          "shell.execute_reply.started": "2022-11-19T21:21:47.388732Z"
        },
        "id": "DbETeiNVxrai",
        "outputId": "760d2c0a-ff11-467d-c2e7-f7852f85f8e8"
      },
      "outputs": [
        {
          "name": "stdout",
          "output_type": "stream",
          "text": [
            "5/5 [==============================] - 9s 873ms/step - loss: 1.0688 - accuracy: 0.3939\n",
            "Loss: 106.876\n",
            "Accuracy: 39.394\n"
          ]
        }
      ],
      "source": [
        "test_loss, test_acc = model.evaluate(test_generator, steps=len(test_generator), verbose=1)\n",
        "print('Loss: %.3f' % (test_loss * 100.0))\n",
        "print('Accuracy: %.3f' % (test_acc * 100.0)) "
      ]
    }
  ],
  "metadata": {
    "accelerator": "GPU",
    "colab": {
      "provenance": []
    },
    "gpuClass": "standard",
    "kernelspec": {
      "display_name": "Python 3 (ipykernel)",
      "language": "python",
      "name": "python3"
    },
    "language_info": {
      "codemirror_mode": {
        "name": "ipython",
        "version": 3
      },
      "file_extension": ".py",
      "mimetype": "text/x-python",
      "name": "python",
      "nbconvert_exporter": "python",
      "pygments_lexer": "ipython3",
      "version": "3.9.15"
    }
  },
  "nbformat": 4,
  "nbformat_minor": 0
}