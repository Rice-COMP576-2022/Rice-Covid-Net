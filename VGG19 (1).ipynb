{
  "metadata": {
    "kernelspec": {
      "language": "python",
      "display_name": "Python 3",
      "name": "python3"
    },
    "language_info": {
      "name": "python",
      "version": "3.7.12",
      "mimetype": "text/x-python",
      "codemirror_mode": {
        "name": "ipython",
        "version": 3
      },
      "pygments_lexer": "ipython3",
      "nbconvert_exporter": "python",
      "file_extension": ".py"
    },
    "colab": {
      "provenance": []
    },
    "accelerator": "GPU",
    "gpuClass": "standard"
  },
  "nbformat_minor": 0,
  "nbformat": 4,
  "cells": [
    {
      "cell_type": "code",
      "source": [
        "import pandas as pd\n",
        "import numpy as np\n",
        "import tensorflow as tf\n",
        "import matplotlib.pyplot as plt\n",
        "import matplotlib.image as mpimg\n",
        "import seaborn as sns\n",
        "import pathlib\n",
        "import random\n",
        "import os\n",
        "\n",
        "from tensorflow.keras.preprocessing import image_dataset_from_directory\n",
        "from tensorflow.keras.layers.experimental import preprocessing\n",
        "from tensorflow.keras.applications.vgg16 import VGG16\n",
        "from tensorflow.keras.applications.resnet50 import ResNet50\n",
        "from tensorflow.keras.applications.vgg19 import VGG19\n",
        "from tensorflow.keras.optimizers import Adam\n",
        "from sklearn.metrics import accuracy_score, precision_score, recall_score, f1_score, cohen_kappa_score, roc_auc_score, confusion_matrix\n",
        "from sklearn.metrics import classification_report\n",
        "from keras.layers import Dense, Dropout, Activation, Flatten, BatchNormalization, Conv2D, MaxPool2D, MaxPooling2D\n",
        "from tensorflow.keras.callbacks import ReduceLROnPlateau, ModelCheckpoint, EarlyStopping\n",
        "from tensorflow.keras import Model\n",
        "from tensorflow.keras.layers import Dense, GlobalAveragePooling2D\n",
        "\n",
        "#Suppressing Warnings\n",
        "os.environ['TF_CPP_MIN_LOG_LEVEL'] = '3'"
      ],
      "metadata": {
        "execution": {
          "iopub.status.busy": "2022-11-19T21:13:58.948547Z",
          "iopub.execute_input": "2022-11-19T21:13:58.950402Z",
          "iopub.status.idle": "2022-11-19T21:14:05.013396Z",
          "shell.execute_reply.started": "2022-11-19T21:13:58.950315Z",
          "shell.execute_reply": "2022-11-19T21:14:05.012568Z"
        },
        "trusted": true,
        "id": "ezs0rh7exraZ"
      },
      "execution_count": null,
      "outputs": []
    },
    {
      "cell_type": "code",
      "source": [
        "tf.keras.backend.clear_session()"
      ],
      "metadata": {
        "execution": {
          "iopub.status.busy": "2022-11-19T21:14:05.016475Z",
          "iopub.execute_input": "2022-11-19T21:14:05.017293Z",
          "iopub.status.idle": "2022-11-19T21:14:05.039031Z",
          "shell.execute_reply.started": "2022-11-19T21:14:05.017251Z",
          "shell.execute_reply": "2022-11-19T21:14:05.038245Z"
        },
        "trusted": true,
        "id": "pTIMSWToxrab"
      },
      "execution_count": null,
      "outputs": []
    },
    {
      "cell_type": "markdown",
      "source": [
        "# Preprocessing"
      ],
      "metadata": {
        "id": "K6ROmrXXxrab"
      }
    },
    {
      "cell_type": "code",
      "source": [
        "train_path = '/content/Covid19-dataset/train'\n",
        "test_path = '/content/Covid19-dataset/test'"
      ],
      "metadata": {
        "execution": {
          "iopub.status.busy": "2022-11-19T21:14:05.040351Z",
          "iopub.execute_input": "2022-11-19T21:14:05.040815Z",
          "iopub.status.idle": "2022-11-19T21:14:05.044832Z",
          "shell.execute_reply.started": "2022-11-19T21:14:05.040777Z",
          "shell.execute_reply": "2022-11-19T21:14:05.043969Z"
        },
        "trusted": true,
        "id": "OjG5W-7Nxrab"
      },
      "execution_count": null,
      "outputs": []
    },
    {
      "cell_type": "code",
      "source": [
        "img_size = 224\n",
        "batch = 16"
      ],
      "metadata": {
        "execution": {
          "iopub.status.busy": "2022-11-19T21:14:10.078419Z",
          "iopub.execute_input": "2022-11-19T21:14:10.078754Z",
          "iopub.status.idle": "2022-11-19T21:14:10.082678Z",
          "shell.execute_reply.started": "2022-11-19T21:14:10.078720Z",
          "shell.execute_reply": "2022-11-19T21:14:10.082012Z"
        },
        "trusted": true,
        "id": "7A5QSHl_xrae"
      },
      "execution_count": null,
      "outputs": []
    },
    {
      "cell_type": "markdown",
      "source": [
        "# Image Loader"
      ],
      "metadata": {
        "id": "tIP6r3YPxrae"
      }
    },
    {
      "cell_type": "code",
      "source": [
        "from tensorflow.keras.preprocessing.image import ImageDataGenerator"
      ],
      "metadata": {
        "execution": {
          "iopub.status.busy": "2022-11-19T21:14:10.083757Z",
          "iopub.execute_input": "2022-11-19T21:14:10.084560Z",
          "iopub.status.idle": "2022-11-19T21:14:10.093006Z",
          "shell.execute_reply.started": "2022-11-19T21:14:10.084522Z",
          "shell.execute_reply": "2022-11-19T21:14:10.092226Z"
        },
        "trusted": true,
        "id": "ru6jLhDKxrae"
      },
      "execution_count": null,
      "outputs": []
    },
    {
      "cell_type": "code",
      "source": [
        "def generate_data(DIR):\n",
        "    datagen = ImageDataGenerator(rescale=1./255.)\n",
        "    \n",
        "    generator = datagen.flow_from_directory(\n",
        "        DIR,\n",
        "        batch_size=batch,\n",
        "        shuffle=True,\n",
        "        seed=42,\n",
        "        class_mode='categorical',\n",
        "        target_size=(img_size, img_size),\n",
        "        classes={'Normal': 0, 'Viral Pneumonia': 1,'Covid': 2}\n",
        "    )\n",
        "    return generator"
      ],
      "metadata": {
        "id": "ID6_CIp34mEg"
      },
      "execution_count": null,
      "outputs": []
    },
    {
      "cell_type": "code",
      "source": [
        "train_generator = generate_data(train_path)\n",
        "\n",
        "test_generator = generate_data(test_path)"
      ],
      "metadata": {
        "execution": {
          "iopub.status.busy": "2022-11-19T21:14:10.094494Z",
          "iopub.execute_input": "2022-11-19T21:14:10.094795Z",
          "iopub.status.idle": "2022-11-19T21:14:10.102525Z",
          "shell.execute_reply.started": "2022-11-19T21:14:10.094761Z",
          "shell.execute_reply": "2022-11-19T21:14:10.101692Z"
        },
        "trusted": true,
        "id": "j4QPh7Ogxrae",
        "colab": {
          "base_uri": "https://localhost:8080/"
        },
        "outputId": "5bf1849b-6def-47b5-fb46-cf66f5db7173"
      },
      "execution_count": null,
      "outputs": [
        {
          "output_type": "stream",
          "name": "stdout",
          "text": [
            "Found 251 images belonging to 3 classes.\n",
            "Found 66 images belonging to 3 classes.\n"
          ]
        }
      ]
    },
    {
      "cell_type": "markdown",
      "source": [
        "# Modelling"
      ],
      "metadata": {
        "id": "EO0BFF5oxraf"
      }
    },
    {
      "cell_type": "code",
      "source": [
        "base_model = VGG19(weights='imagenet', include_top=False,\n",
        "                            input_shape=(img_size, img_size,3))\n",
        "\n",
        "# freeze extraction layers\n",
        "base_model.trainable = False\n",
        "\n",
        "# add custom top layers\n",
        "x = base_model.output\n",
        "x = GlobalAveragePooling2D()(x)\n",
        "x = Dense(512 , activation='relu')(x)\n",
        "predictions = Dense(3, activation='softmax')(x)\n",
        "model = Model(inputs=base_model.input, outputs=predictions)\n",
        "\n",
        "# confirm unfrozen layers\n",
        "for layer in model.layers:\n",
        "    if layer.trainable==True:\n",
        "        print(layer)"
      ],
      "metadata": {
        "execution": {
          "iopub.status.busy": "2022-11-19T21:14:10.332845Z",
          "iopub.execute_input": "2022-11-19T21:14:10.333089Z",
          "iopub.status.idle": "2022-11-19T21:14:15.434630Z",
          "shell.execute_reply.started": "2022-11-19T21:14:10.333057Z",
          "shell.execute_reply": "2022-11-19T21:14:15.433780Z"
        },
        "trusted": true,
        "id": "U_PBcB-xxraf",
        "colab": {
          "base_uri": "https://localhost:8080/"
        },
        "outputId": "7730c8c0-def2-499e-902f-4c0793227c1c"
      },
      "execution_count": null,
      "outputs": [
        {
          "output_type": "stream",
          "name": "stdout",
          "text": [
            "Downloading data from https://storage.googleapis.com/tensorflow/keras-applications/vgg19/vgg19_weights_tf_dim_ordering_tf_kernels_notop.h5\n",
            "80134624/80134624 [==============================] - 4s 0us/step\n",
            "<keras.layers.pooling.global_average_pooling2d.GlobalAveragePooling2D object at 0x7f7704fe71d0>\n",
            "<keras.layers.core.dense.Dense object at 0x7f7704fc02d0>\n",
            "<keras.layers.core.dense.Dense object at 0x7f7704fcef50>\n"
          ]
        }
      ]
    },
    {
      "cell_type": "markdown",
      "source": [
        "##  Save best model during training"
      ],
      "metadata": {
        "id": "BmVdvwBzxrag"
      }
    },
    {
      "cell_type": "code",
      "source": [
        "callbacks = [EarlyStopping(monitor='val_loss', patience=5, verbose=1),\n",
        "                ModelCheckpoint('model.hdf5',\n",
        "                                 save_best_only=True)]"
      ],
      "metadata": {
        "execution": {
          "iopub.status.busy": "2022-11-19T21:14:16.456553Z",
          "iopub.execute_input": "2022-11-19T21:14:16.457408Z",
          "iopub.status.idle": "2022-11-19T21:14:16.462389Z",
          "shell.execute_reply.started": "2022-11-19T21:14:16.457361Z",
          "shell.execute_reply": "2022-11-19T21:14:16.461802Z"
        },
        "trusted": true,
        "id": "d3h5C6IIxrag"
      },
      "execution_count": null,
      "outputs": []
    },
    {
      "cell_type": "code",
      "source": [
        "opt = Adam(learning_rate=0.001)\n",
        "model.compile(\n",
        "  loss='categorical_crossentropy',\n",
        "  optimizer=opt,\n",
        "  metrics=['accuracy']\n",
        ")"
      ],
      "metadata": {
        "execution": {
          "iopub.status.busy": "2022-11-19T21:14:16.465182Z",
          "iopub.execute_input": "2022-11-19T21:14:16.465696Z",
          "iopub.status.idle": "2022-11-19T21:14:16.498717Z",
          "shell.execute_reply.started": "2022-11-19T21:14:16.465660Z",
          "shell.execute_reply": "2022-11-19T21:14:16.497551Z"
        },
        "trusted": true,
        "id": "XUZysSETxrag"
      },
      "execution_count": null,
      "outputs": []
    },
    {
      "cell_type": "markdown",
      "source": [
        "# Training the Model"
      ],
      "metadata": {
        "id": "EqBnFD56xrah"
      }
    },
    {
      "cell_type": "code",
      "source": [
        "history = model.fit(train_generator,\n",
        "                    epochs = 100,\n",
        "                    validation_data = test_generator,\n",
        "                    verbose = True,\n",
        "                   callbacks=callbacks)"
      ],
      "metadata": {
        "execution": {
          "iopub.status.busy": "2022-11-19T21:14:16.500538Z",
          "iopub.execute_input": "2022-11-19T21:14:16.506309Z",
          "iopub.status.idle": "2022-11-19T21:21:46.638924Z",
          "shell.execute_reply.started": "2022-11-19T21:14:16.506259Z",
          "shell.execute_reply": "2022-11-19T21:21:46.638140Z"
        },
        "trusted": true,
        "id": "WR13a2HDxrah",
        "colab": {
          "base_uri": "https://localhost:8080/"
        },
        "outputId": "88df173a-a588-4de8-e410-3c03ce1f6e4d"
      },
      "execution_count": null,
      "outputs": [
        {
          "output_type": "stream",
          "name": "stdout",
          "text": [
            "Epoch 1/100\n",
            "16/16 [==============================] - 13s 806ms/step - loss: 1.0224 - accuracy: 0.5339 - val_loss: 0.8199 - val_accuracy: 0.6970\n",
            "Epoch 2/100\n",
            "16/16 [==============================] - 11s 694ms/step - loss: 0.7359 - accuracy: 0.6614 - val_loss: 0.5804 - val_accuracy: 0.7879\n",
            "Epoch 3/100\n",
            "16/16 [==============================] - 11s 696ms/step - loss: 0.5337 - accuracy: 0.8367 - val_loss: 0.4749 - val_accuracy: 0.8030\n",
            "Epoch 4/100\n",
            "16/16 [==============================] - 11s 701ms/step - loss: 0.4403 - accuracy: 0.8406 - val_loss: 0.4734 - val_accuracy: 0.7727\n",
            "Epoch 5/100\n",
            "16/16 [==============================] - 11s 683ms/step - loss: 0.4042 - accuracy: 0.8406 - val_loss: 0.5876 - val_accuracy: 0.7273\n",
            "Epoch 6/100\n",
            "16/16 [==============================] - 13s 827ms/step - loss: 0.3786 - accuracy: 0.8486 - val_loss: 0.4833 - val_accuracy: 0.7727\n",
            "Epoch 7/100\n",
            "16/16 [==============================] - 11s 702ms/step - loss: 0.3035 - accuracy: 0.8964 - val_loss: 0.3650 - val_accuracy: 0.8333\n",
            "Epoch 8/100\n",
            "16/16 [==============================] - 11s 694ms/step - loss: 0.2711 - accuracy: 0.9084 - val_loss: 0.3396 - val_accuracy: 0.8636\n",
            "Epoch 9/100\n",
            "16/16 [==============================] - 11s 708ms/step - loss: 0.2455 - accuracy: 0.9004 - val_loss: 0.2799 - val_accuracy: 0.8939\n",
            "Epoch 10/100\n",
            "16/16 [==============================] - 12s 745ms/step - loss: 0.2226 - accuracy: 0.9283 - val_loss: 0.2474 - val_accuracy: 0.8939\n",
            "Epoch 11/100\n",
            "16/16 [==============================] - 11s 699ms/step - loss: 0.2141 - accuracy: 0.9243 - val_loss: 0.2475 - val_accuracy: 0.9242\n",
            "Epoch 12/100\n",
            "16/16 [==============================] - 11s 672ms/step - loss: 0.1919 - accuracy: 0.9482 - val_loss: 0.2659 - val_accuracy: 0.9242\n",
            "Epoch 13/100\n",
            "16/16 [==============================] - 11s 722ms/step - loss: 0.1989 - accuracy: 0.9363 - val_loss: 0.2096 - val_accuracy: 0.8939\n",
            "Epoch 14/100\n",
            "16/16 [==============================] - 12s 752ms/step - loss: 0.1897 - accuracy: 0.9323 - val_loss: 0.2038 - val_accuracy: 0.9394\n",
            "Epoch 15/100\n",
            "16/16 [==============================] - 12s 731ms/step - loss: 0.1568 - accuracy: 0.9562 - val_loss: 0.1928 - val_accuracy: 0.9091\n",
            "Epoch 16/100\n",
            "16/16 [==============================] - 11s 682ms/step - loss: 0.1762 - accuracy: 0.9363 - val_loss: 0.2329 - val_accuracy: 0.9242\n",
            "Epoch 17/100\n",
            "16/16 [==============================] - 11s 689ms/step - loss: 0.1547 - accuracy: 0.9482 - val_loss: 0.2196 - val_accuracy: 0.9242\n",
            "Epoch 18/100\n",
            "16/16 [==============================] - 12s 722ms/step - loss: 0.1339 - accuracy: 0.9641 - val_loss: 0.2730 - val_accuracy: 0.8939\n",
            "Epoch 19/100\n",
            "16/16 [==============================] - 12s 759ms/step - loss: 0.1601 - accuracy: 0.9402 - val_loss: 0.2606 - val_accuracy: 0.9091\n",
            "Epoch 20/100\n",
            "16/16 [==============================] - 11s 712ms/step - loss: 0.1274 - accuracy: 0.9562 - val_loss: 0.1694 - val_accuracy: 0.9394\n",
            "Epoch 21/100\n",
            "16/16 [==============================] - 11s 692ms/step - loss: 0.1093 - accuracy: 0.9761 - val_loss: 0.1674 - val_accuracy: 0.9242\n",
            "Epoch 22/100\n",
            "16/16 [==============================] - 11s 668ms/step - loss: 0.1079 - accuracy: 0.9681 - val_loss: 0.1801 - val_accuracy: 0.9394\n",
            "Epoch 23/100\n",
            "16/16 [==============================] - 12s 742ms/step - loss: 0.1139 - accuracy: 0.9641 - val_loss: 0.2312 - val_accuracy: 0.9091\n",
            "Epoch 24/100\n",
            "16/16 [==============================] - 11s 684ms/step - loss: 0.1097 - accuracy: 0.9641 - val_loss: 0.2276 - val_accuracy: 0.9091\n",
            "Epoch 25/100\n",
            "16/16 [==============================] - 11s 684ms/step - loss: 0.0907 - accuracy: 0.9641 - val_loss: 0.1715 - val_accuracy: 0.9394\n",
            "Epoch 26/100\n",
            "16/16 [==============================] - 11s 702ms/step - loss: 0.0827 - accuracy: 0.9721 - val_loss: 0.1482 - val_accuracy: 0.9394\n",
            "Epoch 27/100\n",
            "16/16 [==============================] - 11s 706ms/step - loss: 0.0839 - accuracy: 0.9641 - val_loss: 0.1324 - val_accuracy: 0.9545\n",
            "Epoch 28/100\n",
            "16/16 [==============================] - 12s 747ms/step - loss: 0.0964 - accuracy: 0.9641 - val_loss: 0.1821 - val_accuracy: 0.9394\n",
            "Epoch 29/100\n",
            "16/16 [==============================] - 11s 694ms/step - loss: 0.0927 - accuracy: 0.9641 - val_loss: 0.1232 - val_accuracy: 0.9545\n",
            "Epoch 30/100\n",
            "16/16 [==============================] - 11s 687ms/step - loss: 0.0683 - accuracy: 0.9761 - val_loss: 0.1330 - val_accuracy: 0.9545\n",
            "Epoch 31/100\n",
            "16/16 [==============================] - 11s 663ms/step - loss: 0.0650 - accuracy: 0.9801 - val_loss: 0.1543 - val_accuracy: 0.9394\n",
            "Epoch 32/100\n",
            "16/16 [==============================] - 11s 709ms/step - loss: 0.0670 - accuracy: 0.9761 - val_loss: 0.2982 - val_accuracy: 0.8636\n",
            "Epoch 33/100\n",
            "16/16 [==============================] - 11s 683ms/step - loss: 0.0744 - accuracy: 0.9721 - val_loss: 0.2722 - val_accuracy: 0.8788\n",
            "Epoch 34/100\n",
            "16/16 [==============================] - 11s 672ms/step - loss: 0.0691 - accuracy: 0.9841 - val_loss: 0.1310 - val_accuracy: 0.9545\n",
            "Epoch 34: early stopping\n"
          ]
        }
      ]
    },
    {
      "cell_type": "markdown",
      "source": [
        "# Evaluation"
      ],
      "metadata": {
        "id": "69o9jZOExrah"
      }
    },
    {
      "cell_type": "code",
      "source": [
        "from tensorflow.keras.models import load_model"
      ],
      "metadata": {
        "execution": {
          "iopub.status.busy": "2022-11-19T21:21:46.640578Z",
          "iopub.execute_input": "2022-11-19T21:21:46.640885Z",
          "iopub.status.idle": "2022-11-19T21:21:46.647836Z",
          "shell.execute_reply.started": "2022-11-19T21:21:46.640845Z",
          "shell.execute_reply": "2022-11-19T21:21:46.647035Z"
        },
        "trusted": true,
        "id": "A_evITN6xrah"
      },
      "execution_count": null,
      "outputs": []
    },
    {
      "cell_type": "code",
      "source": [
        "import pandas as pd\n",
        "\n",
        "# convert the history.history dict to a pandas DataFrame:     \n",
        "hist_df = pd.DataFrame(history.history) \n",
        "\n",
        "# or save to csv: \n",
        "hist_csv_file = 'history.csv'\n",
        "with open(hist_csv_file, mode='w') as f:\n",
        "    hist_df.to_csv(f)"
      ],
      "metadata": {
        "id": "25608KkWB1K7"
      },
      "execution_count": null,
      "outputs": []
    },
    {
      "cell_type": "markdown",
      "source": [
        "### Loading best model"
      ],
      "metadata": {
        "id": "4tNBBRMFxrah"
      }
    },
    {
      "cell_type": "code",
      "source": [
        "model = load_model('./model.hdf5')"
      ],
      "metadata": {
        "execution": {
          "iopub.status.busy": "2022-11-19T21:21:46.649018Z",
          "iopub.execute_input": "2022-11-19T21:21:46.649424Z",
          "iopub.status.idle": "2022-11-19T21:21:46.943167Z",
          "shell.execute_reply.started": "2022-11-19T21:21:46.649384Z",
          "shell.execute_reply": "2022-11-19T21:21:46.942354Z"
        },
        "trusted": true,
        "id": "9uwIimXGxrah"
      },
      "execution_count": null,
      "outputs": []
    },
    {
      "cell_type": "code",
      "source": [
        "def learning_curve(model_fit, key='accuracy', ylim=(0, 1.01)):\n",
        "    plt.figure(figsize=(12,6))\n",
        "    plt.plot(model_fit.history[key])\n",
        "    plt.plot(model_fit.history['val_' + key])\n",
        "    plt.title('Learning Curve')\n",
        "    plt.ylabel(key.title())\n",
        "    plt.xlabel('Epoch')\n",
        "    plt.ylim(ylim)\n",
        "    plt.legend(['train', 'val'], loc='best')\n",
        "    plt.show()"
      ],
      "metadata": {
        "execution": {
          "iopub.status.busy": "2022-11-19T21:21:46.944489Z",
          "iopub.execute_input": "2022-11-19T21:21:46.944762Z",
          "iopub.status.idle": "2022-11-19T21:21:46.950906Z",
          "shell.execute_reply.started": "2022-11-19T21:21:46.944720Z",
          "shell.execute_reply": "2022-11-19T21:21:46.950199Z"
        },
        "trusted": true,
        "id": "zLzKB5KIxrai"
      },
      "execution_count": null,
      "outputs": []
    },
    {
      "cell_type": "code",
      "source": [
        "learning_curve(history,'loss', ylim=(0,1))\n",
        "learning_curve(history, 'accuracy', ylim=(0,1))"
      ],
      "metadata": {
        "execution": {
          "iopub.status.busy": "2022-11-19T21:21:46.952427Z",
          "iopub.execute_input": "2022-11-19T21:21:46.952952Z",
          "iopub.status.idle": "2022-11-19T21:21:47.387000Z",
          "shell.execute_reply.started": "2022-11-19T21:21:46.952914Z",
          "shell.execute_reply": "2022-11-19T21:21:47.386303Z"
        },
        "trusted": true,
        "id": "Z0-SV05rxrai",
        "colab": {
          "base_uri": "https://localhost:8080/",
          "height": 791
        },
        "outputId": "594c24df-b45c-4775-f9d0-4a7e5207faef"
      },
      "execution_count": null,
      "outputs": [
        {
          "output_type": "display_data",
          "data": {
            "text/plain": [
              "<Figure size 864x432 with 1 Axes>"
            ],
            "image/png": "[encoded data removed]"
          },
          "metadata": {
            "needs_background": "light"
          }
        },
        {
          "output_type": "display_data",
          "data": {
            "text/plain": [
              "<Figure size 864x432 with 1 Axes>"
            ],
            "image/png": "[encoded data removed]"
          },
          "metadata": {
            "needs_background": "light"
          }
        }
      ]
    },
    {
      "cell_type": "code",
      "source": [
        "test_loss, test_acc = model.evaluate(test_generator, steps=len(test_generator), verbose=1)\n",
        "print('Loss: %.3f' % (test_loss * 100.0))\n",
        "print('Accuracy: %.3f' % (test_acc * 100.0)) "
      ],
      "metadata": {
        "execution": {
          "iopub.status.busy": "2022-11-19T21:21:47.388183Z",
          "iopub.execute_input": "2022-11-19T21:21:47.388774Z",
          "iopub.status.idle": "2022-11-19T21:21:49.902781Z",
          "shell.execute_reply.started": "2022-11-19T21:21:47.388732Z",
          "shell.execute_reply": "2022-11-19T21:21:49.902017Z"
        },
        "trusted": true,
        "id": "DbETeiNVxrai",
        "colab": {
          "base_uri": "https://localhost:8080/"
        },
        "outputId": "79999b18-918f-4afe-bc3d-04e6687af6bb"
      },
      "execution_count": null,
      "outputs": [
        {
          "output_type": "stream",
          "name": "stdout",
          "text": [
            "5/5 [==============================] - 2s 304ms/step - loss: 0.1232 - accuracy: 0.9545\n",
            "Loss: 12.324\n",
            "Accuracy: 95.455\n"
          ]
        }
      ]
    }
  ]
}