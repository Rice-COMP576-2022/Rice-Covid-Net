{
  "metadata": {
    "kernelspec": {
      "language": "python",
      "display_name": "Python 3",
      "name": "python3"
    },
    "language_info": {
      "name": "python",
      "version": "3.7.12",
      "mimetype": "text/x-python",
      "codemirror_mode": {
        "name": "ipython",
        "version": 3
      },
      "pygments_lexer": "ipython3",
      "nbconvert_exporter": "python",
      "file_extension": ".py"
    },
    "colab": {
      "provenance": []
    },
    "accelerator": "GPU",
    "gpuClass": "standard"
  },
  "nbformat_minor": 0,
  "nbformat": 4,
  "cells": [
    {
      "cell_type": "code",
      "source": [
        "import pandas as pd\n",
        "import numpy as np\n",
        "import tensorflow as tf\n",
        "import matplotlib.pyplot as plt\n",
        "import matplotlib.image as mpimg\n",
        "import seaborn as sns\n",
        "import pathlib\n",
        "import random\n",
        "import os\n",
        "\n",
        "from tensorflow.keras.preprocessing import image_dataset_from_directory\n",
        "from tensorflow.keras.layers.experimental import preprocessing\n",
        "from tensorflow.keras.applications.vgg16 import VGG16\n",
        "from tensorflow.keras.applications.resnet50 import ResNet50\n",
        "from tensorflow.keras.applications.vgg19 import VGG19\n",
        "from tensorflow.keras.applications.nasnet import NASNetMobile\n",
        "from tensorflow.keras.optimizers import Adam\n",
        "from sklearn.metrics import accuracy_score, precision_score, recall_score, f1_score, cohen_kappa_score, roc_auc_score, confusion_matrix\n",
        "from sklearn.metrics import classification_report\n",
        "from keras.layers import Dense, Dropout, Activation, Flatten, BatchNormalization, Conv2D, MaxPool2D, MaxPooling2D\n",
        "from tensorflow.keras.callbacks import ReduceLROnPlateau, ModelCheckpoint, EarlyStopping\n",
        "from tensorflow.keras import Model\n",
        "from tensorflow.keras.layers import Dense, GlobalAveragePooling2D\n",
        "\n",
        "#Suppressing Warnings\n",
        "os.environ['TF_CPP_MIN_LOG_LEVEL'] = '3'"
      ],
      "metadata": {
        "execution": {
          "iopub.status.busy": "2022-11-19T21:13:58.948547Z",
          "iopub.execute_input": "2022-11-19T21:13:58.950402Z",
          "iopub.status.idle": "2022-11-19T21:14:05.013396Z",
          "shell.execute_reply.started": "2022-11-19T21:13:58.950315Z",
          "shell.execute_reply": "2022-11-19T21:14:05.012568Z"
        },
        "trusted": true,
        "id": "ezs0rh7exraZ"
      },
      "execution_count": null,
      "outputs": []
    },
    {
      "cell_type": "code",
      "source": [
        "tf.keras.backend.clear_session()"
      ],
      "metadata": {
        "execution": {
          "iopub.status.busy": "2022-11-19T21:14:05.016475Z",
          "iopub.execute_input": "2022-11-19T21:14:05.017293Z",
          "iopub.status.idle": "2022-11-19T21:14:05.039031Z",
          "shell.execute_reply.started": "2022-11-19T21:14:05.017251Z",
          "shell.execute_reply": "2022-11-19T21:14:05.038245Z"
        },
        "trusted": true,
        "id": "pTIMSWToxrab"
      },
      "execution_count": null,
      "outputs": []
    },
    {
      "cell_type": "markdown",
      "source": [
        "# Preprocessing"
      ],
      "metadata": {
        "id": "K6ROmrXXxrab"
      }
    },
    {
      "cell_type": "code",
      "source": [
        "train_path = '/content/Covid19-dataset/train'\n",
        "test_path = '/content/Covid19-dataset/test'"
      ],
      "metadata": {
        "execution": {
          "iopub.status.busy": "2022-11-19T21:14:05.040351Z",
          "iopub.execute_input": "2022-11-19T21:14:05.040815Z",
          "iopub.status.idle": "2022-11-19T21:14:05.044832Z",
          "shell.execute_reply.started": "2022-11-19T21:14:05.040777Z",
          "shell.execute_reply": "2022-11-19T21:14:05.043969Z"
        },
        "trusted": true,
        "id": "OjG5W-7Nxrab"
      },
      "execution_count": null,
      "outputs": []
    },
    {
      "cell_type": "code",
      "source": [
        "img_size = 224\n",
        "batch = 16"
      ],
      "metadata": {
        "execution": {
          "iopub.status.busy": "2022-11-19T21:14:10.078419Z",
          "iopub.execute_input": "2022-11-19T21:14:10.078754Z",
          "iopub.status.idle": "2022-11-19T21:14:10.082678Z",
          "shell.execute_reply.started": "2022-11-19T21:14:10.078720Z",
          "shell.execute_reply": "2022-11-19T21:14:10.082012Z"
        },
        "trusted": true,
        "id": "7A5QSHl_xrae"
      },
      "execution_count": null,
      "outputs": []
    },
    {
      "cell_type": "markdown",
      "source": [
        "# Image Loader"
      ],
      "metadata": {
        "id": "tIP6r3YPxrae"
      }
    },
    {
      "cell_type": "code",
      "source": [
        "from tensorflow.keras.preprocessing.image import ImageDataGenerator"
      ],
      "metadata": {
        "execution": {
          "iopub.status.busy": "2022-11-19T21:14:10.083757Z",
          "iopub.execute_input": "2022-11-19T21:14:10.084560Z",
          "iopub.status.idle": "2022-11-19T21:14:10.093006Z",
          "shell.execute_reply.started": "2022-11-19T21:14:10.084522Z",
          "shell.execute_reply": "2022-11-19T21:14:10.092226Z"
        },
        "trusted": true,
        "id": "ru6jLhDKxrae"
      },
      "execution_count": null,
      "outputs": []
    },
    {
      "cell_type": "code",
      "source": [
        "def generate_data(DIR):\n",
        "    datagen = ImageDataGenerator(rescale=1./255.)\n",
        "    \n",
        "    generator = datagen.flow_from_directory(\n",
        "        DIR,\n",
        "        batch_size=batch,\n",
        "        shuffle=True,\n",
        "        seed=42,\n",
        "        class_mode='categorical',\n",
        "        target_size=(img_size, img_size),\n",
        "        classes={'Normal': 0, 'Viral Pneumonia': 1,'Covid': 2}\n",
        "    )\n",
        "    return generator"
      ],
      "metadata": {
        "id": "ID6_CIp34mEg"
      },
      "execution_count": null,
      "outputs": []
    },
    {
      "cell_type": "code",
      "source": [
        "train_generator = generate_data(train_path)\n",
        "\n",
        "test_generator = generate_data(test_path)"
      ],
      "metadata": {
        "execution": {
          "iopub.status.busy": "2022-11-19T21:14:10.094494Z",
          "iopub.execute_input": "2022-11-19T21:14:10.094795Z",
          "iopub.status.idle": "2022-11-19T21:14:10.102525Z",
          "shell.execute_reply.started": "2022-11-19T21:14:10.094761Z",
          "shell.execute_reply": "2022-11-19T21:14:10.101692Z"
        },
        "trusted": true,
        "id": "j4QPh7Ogxrae",
        "colab": {
          "base_uri": "https://localhost:8080/"
        },
        "outputId": "8b58c95e-8f71-40f4-c35d-5b2181b30caa"
      },
      "execution_count": null,
      "outputs": [
        {
          "output_type": "stream",
          "name": "stdout",
          "text": [
            "Found 251 images belonging to 3 classes.\n",
            "Found 66 images belonging to 3 classes.\n"
          ]
        }
      ]
    },
    {
      "cell_type": "markdown",
      "source": [
        "# Modelling"
      ],
      "metadata": {
        "id": "EO0BFF5oxraf"
      }
    },
    {
      "cell_type": "code",
      "source": [
        "base_model = NASNetMobile(weights='imagenet', include_top=False,\n",
        "                            input_shape=(img_size, img_size,3))\n",
        "\n",
        "# freeze extraction layers\n",
        "base_model.trainable = False\n",
        "\n",
        "# add custom top layers\n",
        "x = base_model.output\n",
        "x = GlobalAveragePooling2D()(x)\n",
        "x = Dense(512 , activation='relu')(x)\n",
        "predictions = Dense(3, activation='softmax')(x)\n",
        "model = Model(inputs=base_model.input, outputs=predictions)\n",
        "\n",
        "# confirm unfrozen layers\n",
        "for layer in model.layers:\n",
        "    if layer.trainable==True:\n",
        "        print(layer)"
      ],
      "metadata": {
        "execution": {
          "iopub.status.busy": "2022-11-19T21:14:10.332845Z",
          "iopub.execute_input": "2022-11-19T21:14:10.333089Z",
          "iopub.status.idle": "2022-11-19T21:14:15.434630Z",
          "shell.execute_reply.started": "2022-11-19T21:14:10.333057Z",
          "shell.execute_reply": "2022-11-19T21:14:15.433780Z"
        },
        "trusted": true,
        "id": "U_PBcB-xxraf",
        "colab": {
          "base_uri": "https://localhost:8080/"
        },
        "outputId": "0ac8dc65-7828-4e5a-a3d9-cd17b8333f81"
      },
      "execution_count": null,
      "outputs": [
        {
          "output_type": "stream",
          "name": "stdout",
          "text": [
            "Downloading data from https://storage.googleapis.com/tensorflow/keras-applications/nasnet/NASNet-mobile-no-top.h5\n",
            "19993432/19993432 [==============================] - 2s 0us/step\n",
            "<keras.layers.pooling.global_average_pooling2d.GlobalAveragePooling2D object at 0x7f77044ce310>\n",
            "<keras.layers.core.dense.Dense object at 0x7f77700f5cd0>\n",
            "<keras.layers.core.dense.Dense object at 0x7f771a083690>\n"
          ]
        }
      ]
    },
    {
      "cell_type": "markdown",
      "source": [
        "## Save best model during training"
      ],
      "metadata": {
        "id": "BmVdvwBzxrag"
      }
    },
    {
      "cell_type": "code",
      "source": [
        "callbacks = [EarlyStopping(monitor='val_loss', patience=5, verbose=1),\n",
        "                ModelCheckpoint('model.hdf5',\n",
        "                                 save_best_only=True)]"
      ],
      "metadata": {
        "execution": {
          "iopub.status.busy": "2022-11-19T21:14:16.456553Z",
          "iopub.execute_input": "2022-11-19T21:14:16.457408Z",
          "iopub.status.idle": "2022-11-19T21:14:16.462389Z",
          "shell.execute_reply.started": "2022-11-19T21:14:16.457361Z",
          "shell.execute_reply": "2022-11-19T21:14:16.461802Z"
        },
        "trusted": true,
        "id": "d3h5C6IIxrag"
      },
      "execution_count": null,
      "outputs": []
    },
    {
      "cell_type": "code",
      "source": [
        "opt = Adam(learning_rate=0.001)\n",
        "model.compile(\n",
        "  loss='categorical_crossentropy',\n",
        "  optimizer=opt,\n",
        "  metrics=['accuracy']\n",
        ")"
      ],
      "metadata": {
        "execution": {
          "iopub.status.busy": "2022-11-19T21:14:16.465182Z",
          "iopub.execute_input": "2022-11-19T21:14:16.465696Z",
          "iopub.status.idle": "2022-11-19T21:14:16.498717Z",
          "shell.execute_reply.started": "2022-11-19T21:14:16.465660Z",
          "shell.execute_reply": "2022-11-19T21:14:16.497551Z"
        },
        "trusted": true,
        "id": "XUZysSETxrag"
      },
      "execution_count": null,
      "outputs": []
    },
    {
      "cell_type": "markdown",
      "source": [
        "# Training the Model"
      ],
      "metadata": {
        "id": "EqBnFD56xrah"
      }
    },
    {
      "cell_type": "code",
      "source": [
        "history = model.fit(train_generator,\n",
        "                    epochs = 100,\n",
        "                    validation_data = test_generator,\n",
        "                    verbose = True,\n",
        "                   callbacks=callbacks)"
      ],
      "metadata": {
        "execution": {
          "iopub.status.busy": "2022-11-19T21:14:16.500538Z",
          "iopub.execute_input": "2022-11-19T21:14:16.506309Z",
          "iopub.status.idle": "2022-11-19T21:21:46.638924Z",
          "shell.execute_reply.started": "2022-11-19T21:14:16.506259Z",
          "shell.execute_reply": "2022-11-19T21:21:46.638140Z"
        },
        "trusted": true,
        "id": "WR13a2HDxrah",
        "colab": {
          "base_uri": "https://localhost:8080/"
        },
        "outputId": "03a50747-b578-42d1-c7a4-29fe1134b595"
      },
      "execution_count": null,
      "outputs": [
        {
          "output_type": "stream",
          "name": "stdout",
          "text": [
            "Epoch 1/100\n",
            "16/16 [==============================] - 28s 1s/step - loss: 0.8217 - accuracy: 0.6733 - val_loss: 0.7612 - val_accuracy: 0.6364\n",
            "Epoch 2/100\n",
            "16/16 [==============================] - 12s 721ms/step - loss: 0.2973 - accuracy: 0.8924 - val_loss: 0.7835 - val_accuracy: 0.6364\n",
            "Epoch 3/100\n",
            "16/16 [==============================] - 12s 737ms/step - loss: 0.2376 - accuracy: 0.9203 - val_loss: 0.4274 - val_accuracy: 0.8030\n",
            "Epoch 4/100\n",
            "16/16 [==============================] - 12s 772ms/step - loss: 0.1380 - accuracy: 0.9522 - val_loss: 0.3975 - val_accuracy: 0.8485\n",
            "Epoch 5/100\n",
            "16/16 [==============================] - 12s 771ms/step - loss: 0.0940 - accuracy: 0.9801 - val_loss: 0.3618 - val_accuracy: 0.8788\n",
            "Epoch 6/100\n",
            "16/16 [==============================] - 12s 735ms/step - loss: 0.0693 - accuracy: 0.9880 - val_loss: 0.3701 - val_accuracy: 0.8636\n",
            "Epoch 7/100\n",
            "16/16 [==============================] - 11s 683ms/step - loss: 0.0569 - accuracy: 0.9880 - val_loss: 0.3925 - val_accuracy: 0.8030\n",
            "Epoch 8/100\n",
            "16/16 [==============================] - 12s 729ms/step - loss: 0.0568 - accuracy: 0.9801 - val_loss: 0.3665 - val_accuracy: 0.8788\n",
            "Epoch 9/100\n",
            "16/16 [==============================] - 12s 781ms/step - loss: 0.0494 - accuracy: 0.9960 - val_loss: 0.3582 - val_accuracy: 0.8788\n",
            "Epoch 10/100\n",
            "16/16 [==============================] - 13s 799ms/step - loss: 0.0458 - accuracy: 0.9841 - val_loss: 0.3301 - val_accuracy: 0.8939\n",
            "Epoch 11/100\n",
            "16/16 [==============================] - 11s 689ms/step - loss: 0.0208 - accuracy: 0.9960 - val_loss: 0.3717 - val_accuracy: 0.8182\n",
            "Epoch 12/100\n",
            "16/16 [==============================] - 11s 693ms/step - loss: 0.0148 - accuracy: 1.0000 - val_loss: 0.3534 - val_accuracy: 0.8182\n",
            "Epoch 13/100\n",
            "16/16 [==============================] - 12s 755ms/step - loss: 0.0111 - accuracy: 1.0000 - val_loss: 0.3220 - val_accuracy: 0.8788\n",
            "Epoch 14/100\n",
            "16/16 [==============================] - 12s 740ms/step - loss: 0.0095 - accuracy: 1.0000 - val_loss: 0.3510 - val_accuracy: 0.8182\n",
            "Epoch 15/100\n",
            "16/16 [==============================] - 11s 684ms/step - loss: 0.0080 - accuracy: 1.0000 - val_loss: 0.3457 - val_accuracy: 0.8485\n",
            "Epoch 16/100\n",
            "16/16 [==============================] - 11s 681ms/step - loss: 0.0074 - accuracy: 1.0000 - val_loss: 0.3399 - val_accuracy: 0.8485\n",
            "Epoch 17/100\n",
            "16/16 [==============================] - 11s 678ms/step - loss: 0.0064 - accuracy: 1.0000 - val_loss: 0.3414 - val_accuracy: 0.8788\n",
            "Epoch 18/100\n",
            "16/16 [==============================] - 11s 683ms/step - loss: 0.0057 - accuracy: 1.0000 - val_loss: 0.4073 - val_accuracy: 0.8333\n",
            "Epoch 18: early stopping\n"
          ]
        }
      ]
    },
    {
      "cell_type": "markdown",
      "source": [
        "# Evaluation"
      ],
      "metadata": {
        "id": "69o9jZOExrah"
      }
    },
    {
      "cell_type": "code",
      "source": [
        "from tensorflow.keras.models import load_model"
      ],
      "metadata": {
        "execution": {
          "iopub.status.busy": "2022-11-19T21:21:46.640578Z",
          "iopub.execute_input": "2022-11-19T21:21:46.640885Z",
          "iopub.status.idle": "2022-11-19T21:21:46.647836Z",
          "shell.execute_reply.started": "2022-11-19T21:21:46.640845Z",
          "shell.execute_reply": "2022-11-19T21:21:46.647035Z"
        },
        "trusted": true,
        "id": "A_evITN6xrah"
      },
      "execution_count": null,
      "outputs": []
    },
    {
      "cell_type": "code",
      "source": [
        "import pandas as pd\n",
        "\n",
        "# convert the history.history dict to a pandas DataFrame:     \n",
        "hist_df = pd.DataFrame(history.history) \n",
        "\n",
        "# or save to csv: \n",
        "hist_csv_file = 'history.csv'\n",
        "with open(hist_csv_file, mode='w') as f:\n",
        "    hist_df.to_csv(f)"
      ],
      "metadata": {
        "id": "25608KkWB1K7"
      },
      "execution_count": null,
      "outputs": []
    },
    {
      "cell_type": "markdown",
      "source": [
        "### Loading our best model"
      ],
      "metadata": {
        "id": "4tNBBRMFxrah"
      }
    },
    {
      "cell_type": "code",
      "source": [
        "model = load_model('./model.hdf5')"
      ],
      "metadata": {
        "execution": {
          "iopub.status.busy": "2022-11-19T21:21:46.649018Z",
          "iopub.execute_input": "2022-11-19T21:21:46.649424Z",
          "iopub.status.idle": "2022-11-19T21:21:46.943167Z",
          "shell.execute_reply.started": "2022-11-19T21:21:46.649384Z",
          "shell.execute_reply": "2022-11-19T21:21:46.942354Z"
        },
        "trusted": true,
        "id": "9uwIimXGxrah"
      },
      "execution_count": null,
      "outputs": []
    },
    {
      "cell_type": "code",
      "source": [
        "def learning_curve(model_fit, key='accuracy', ylim=(0, 1.01)):\n",
        "    plt.figure(figsize=(12,6))\n",
        "    plt.plot(model_fit.history[key])\n",
        "    plt.plot(model_fit.history['val_' + key])\n",
        "    plt.title('Learning Curve')\n",
        "    plt.ylabel(key.title())\n",
        "    plt.xlabel('Epoch')\n",
        "    plt.ylim(ylim)\n",
        "    plt.legend(['train', 'val'], loc='best')\n",
        "    plt.show()"
      ],
      "metadata": {
        "execution": {
          "iopub.status.busy": "2022-11-19T21:21:46.944489Z",
          "iopub.execute_input": "2022-11-19T21:21:46.944762Z",
          "iopub.status.idle": "2022-11-19T21:21:46.950906Z",
          "shell.execute_reply.started": "2022-11-19T21:21:46.944720Z",
          "shell.execute_reply": "2022-11-19T21:21:46.950199Z"
        },
        "trusted": true,
        "id": "zLzKB5KIxrai"
      },
      "execution_count": null,
      "outputs": []
    },
    {
      "cell_type": "code",
      "source": [
        "learning_curve(history,'loss', ylim=(0,1))\n",
        "learning_curve(history, 'accuracy', ylim=(0,1))"
      ],
      "metadata": {
        "execution": {
          "iopub.status.busy": "2022-11-19T21:21:46.952427Z",
          "iopub.execute_input": "2022-11-19T21:21:46.952952Z",
          "iopub.status.idle": "2022-11-19T21:21:47.387000Z",
          "shell.execute_reply.started": "2022-11-19T21:21:46.952914Z",
          "shell.execute_reply": "2022-11-19T21:21:47.386303Z"
        },
        "trusted": true,
        "id": "Z0-SV05rxrai",
        "colab": {
          "base_uri": "https://localhost:8080/",
          "height": 791
        },
        "outputId": "7b8bb8f2-2236-4837-8cb1-3b1d6383dd31"
      },
      "execution_count": null,
      "outputs": [
        {
          "output_type": "display_data",
          "data": {
            "text/plain": [
              "<Figure size 864x432 with 1 Axes>"
            ],
            "image/png": "[encoded data removed]"
          },
          "metadata": {
            "needs_background": "light"
          }
        },
        {
          "output_type": "display_data",
          "data": {
            "text/plain": [
              "<Figure size 864x432 with 1 Axes>"
            ],
            "image/png": "[encoded data removed]"
          },
          "metadata": {
            "needs_background": "light"
          }
        }
      ]
    },
    {
      "cell_type": "code",
      "source": [
        "test_loss, test_acc = model.evaluate(test_generator, steps=len(test_generator), verbose=1)\n",
        "print('Loss: %.3f' % (test_loss * 100.0))\n",
        "print('Accuracy: %.3f' % (test_acc * 100.0)) "
      ],
      "metadata": {
        "execution": {
          "iopub.status.busy": "2022-11-19T21:21:47.388183Z",
          "iopub.execute_input": "2022-11-19T21:21:47.388774Z",
          "iopub.status.idle": "2022-11-19T21:21:49.902781Z",
          "shell.execute_reply.started": "2022-11-19T21:21:47.388732Z",
          "shell.execute_reply": "2022-11-19T21:21:49.902017Z"
        },
        "trusted": true,
        "id": "DbETeiNVxrai",
        "colab": {
          "base_uri": "https://localhost:8080/"
        },
        "outputId": "77a5f897-161a-4a7e-91ba-4813194cc1e5"
      },
      "execution_count": null,
      "outputs": [
        {
          "output_type": "stream",
          "name": "stdout",
          "text": [
            "5/5 [==============================] - 5s 244ms/step - loss: 0.3220 - accuracy: 0.8788\n",
            "Loss: 32.203\n",
            "Accuracy: 87.879\n"
          ]
        }
      ]
    }
  ]
}